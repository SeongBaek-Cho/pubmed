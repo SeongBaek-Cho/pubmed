{
  "nbformat": 4,
  "nbformat_minor": 0,
  "metadata": {
    "colab": {
      "name": "lstm_train.ipynb",
      "provenance": [],
      "collapsed_sections": [],
      "include_colab_link": true
    },
    "kernelspec": {
      "name": "python3",
      "display_name": "Python 3"
    },
    "language_info": {
      "name": "python"
    },
    "accelerator": "GPU"
  },
  "cells": [
    {
      "cell_type": "markdown",
      "metadata": {
        "id": "view-in-github",
        "colab_type": "text"
      },
      "source": [
        "<a href=\"https://colab.research.google.com/github/SeongBaek-Cho/pubmed/blob/main/lstm_train.ipynb\" target=\"_parent\"><img src=\"https://colab.research.google.com/assets/colab-badge.svg\" alt=\"Open In Colab\"/></a>"
      ]
    },
    {
      "cell_type": "code",
      "metadata": {
        "id": "NFVNsV0WPA3O"
      },
      "source": [
        "import pandas as pd\n",
        "from google.colab import drive\n",
        "import numpy as np\n",
        "# from keras.datasets import imdb\n",
        "from keras.models import Sequential\n",
        "from keras.layers import Dense, LSTM, Dropout, Conv1D, MaxPooling1D, Bidirectional, SpatialDropout1D, GRU, Dropout, Activation\n",
        "from keras.callbacks import EarlyStopping, ModelCheckpoint, TensorBoard\n",
        "from keras.layers.embeddings import Embedding\n",
        "from keras.utils import plot_model\n",
        "from keras.preprocessing import sequence\n",
        "from keras.preprocessing.sequence import pad_sequences\n",
        "from keras.preprocessing.text import Tokenizer\n",
        "from keras.models import load_model\n",
        "import tensorflow as tf\n",
        "from sklearn.model_selection import train_test_split\n",
        "import re\n",
        "import nltk\n",
        "from nltk.tokenize import word_tokenize\n",
        "from nltk.corpus import stopwords\n",
        "from nltk import regexp_tokenize\n",
        "from nltk.stem import WordNetLemmatizer\n",
        "from nltk.corpus import gutenberg\n",
        "from collections import Counter\n",
        "import matplotlib.pyplot as plt\n",
        "import json\n",
        "from time import time\n",
        "import warnings\n",
        "warnings.filterwarnings(action='ignore')"
      ],
      "execution_count": null,
      "outputs": []
    },
    {
      "cell_type": "code",
      "metadata": {
        "colab": {
          "base_uri": "https://localhost:8080/"
        },
        "id": "XWo9QsirlR6P",
        "outputId": "0f48ca7f-9a6a-41d5-9ff8-76b6bd886f2d"
      },
      "source": [
        "!nvidia-smi"
      ],
      "execution_count": null,
      "outputs": [
        {
          "output_type": "stream",
          "text": [
            "Wed May 12 08:05:30 2021       \n",
            "+-----------------------------------------------------------------------------+\n",
            "| NVIDIA-SMI 465.19.01    Driver Version: 460.32.03    CUDA Version: 11.2     |\n",
            "|-------------------------------+----------------------+----------------------+\n",
            "| GPU  Name        Persistence-M| Bus-Id        Disp.A | Volatile Uncorr. ECC |\n",
            "| Fan  Temp  Perf  Pwr:Usage/Cap|         Memory-Usage | GPU-Util  Compute M. |\n",
            "|                               |                      |               MIG M. |\n",
            "|===============================+======================+======================|\n",
            "|   0  Tesla K80           Off  | 00000000:00:04.0 Off |                    0 |\n",
            "| N/A   56C    P0    60W / 149W |    234MiB / 11441MiB |      0%      Default |\n",
            "|                               |                      |                  N/A |\n",
            "+-------------------------------+----------------------+----------------------+\n",
            "                                                                               \n",
            "+-----------------------------------------------------------------------------+\n",
            "| Processes:                                                                  |\n",
            "|  GPU   GI   CI        PID   Type   Process name                  GPU Memory |\n",
            "|        ID   ID                                                   Usage      |\n",
            "|=============================================================================|\n",
            "+-----------------------------------------------------------------------------+\n"
          ],
          "name": "stdout"
        }
      ]
    },
    {
      "cell_type": "code",
      "metadata": {
        "colab": {
          "base_uri": "https://localhost:8080/"
        },
        "id": "7zpouAcePDdt",
        "outputId": "f52c011a-041c-4dcc-cb2b-432fb4974a5e"
      },
      "source": [
        "drive.mount('/content/drive/', force_remount=True)"
      ],
      "execution_count": null,
      "outputs": [
        {
          "output_type": "stream",
          "text": [
            "Mounted at /content/drive/\n"
          ],
          "name": "stdout"
        }
      ]
    },
    {
      "cell_type": "code",
      "metadata": {
        "id": "X4fj0_g70b16"
      },
      "source": [
        "raw_access = []\n",
        "f = open('/content/drive/Shareddrives/pool/data/train_access.txt', 'r', encoding='utf8')\n",
        "for x in f.readlines():\n",
        "    title, full_text = x.split('\\t')\n",
        "    raw_access.append([title, full_text.replace('\\n', '')])\n",
        "f.close()\n",
        "\n",
        "f = open('/content/drive/Shareddrives/pool/data/train_not_access.txt', 'r', encoding='utf8')\n",
        "none_raw_access = []\n",
        "for x in f.readlines():\n",
        "    title, full_text = x.split('\\t')\n",
        "    none_raw_access.append([title, full_text.replace('\\n', '')])\n",
        "\n",
        "validation_df = pd.read_excel('/content/drive/Shareddrives/pool/data/train_validationSet.xlsx', engine='openpyxl')\n",
        "for abs in validation_df['Abstract'][0:150]:\n",
        "    raw_access.append([None, abs])\n",
        "\n",
        "validation_none_df = pd.read_excel('/content/drive/Shareddrives/pool/data/train_not_validationSet.xlsx', engine='openpyxl')\n",
        "for abs in validation_none_df['Abstract'][0:70]:\n",
        "    none_raw_access.append([None, abs])\n",
        "\n",
        "raw = pd.DataFrame(raw_access, columns=['Title', 'Full text'])\n",
        "none_raw = pd.DataFrame(none_raw_access, columns=['Title', 'Full text'])"
      ],
      "execution_count": null,
      "outputs": []
    },
    {
      "cell_type": "code",
      "metadata": {
        "id": "ysaQ_9rzvh_S"
      },
      "source": [
        "# raw = pd.read_excel('/content/drive/Shareddrives/pool/data/kw_data.xlsx', engine='openpyxl') # 연구논문\n",
        "# none_raw = pd.read_excel('/content/drive/Shareddrives/pool/data/none_kw_data.xlsx', engine='openpyxl') # 비연구 논문"
      ],
      "execution_count": null,
      "outputs": []
    },
    {
      "cell_type": "code",
      "metadata": {
        "colab": {
          "base_uri": "https://localhost:8080/",
          "height": 80
        },
        "id": "c1taBuQYYR9P",
        "outputId": "d0fe28b8-c684-44ed-b3c9-1b19b10c4068"
      },
      "source": [
        "raw['label'] = 1\n",
        "raw.head(1)"
      ],
      "execution_count": null,
      "outputs": [
        {
          "output_type": "execute_result",
          "data": {
            "text/html": [
              "<div>\n",
              "<style scoped>\n",
              "    .dataframe tbody tr th:only-of-type {\n",
              "        vertical-align: middle;\n",
              "    }\n",
              "\n",
              "    .dataframe tbody tr th {\n",
              "        vertical-align: top;\n",
              "    }\n",
              "\n",
              "    .dataframe thead th {\n",
              "        text-align: right;\n",
              "    }\n",
              "</style>\n",
              "<table border=\"1\" class=\"dataframe\">\n",
              "  <thead>\n",
              "    <tr style=\"text-align: right;\">\n",
              "      <th></th>\n",
              "      <th>Title</th>\n",
              "      <th>Full text</th>\n",
              "      <th>label</th>\n",
              "    </tr>\n",
              "  </thead>\n",
              "  <tbody>\n",
              "    <tr>\n",
              "      <th>0</th>\n",
              "      <td>31752295</td>\n",
              "      <td>The study explores antibacterial, antiinflamma...</td>\n",
              "      <td>1</td>\n",
              "    </tr>\n",
              "  </tbody>\n",
              "</table>\n",
              "</div>"
            ],
            "text/plain": [
              "      Title                                          Full text  label\n",
              "0  31752295  The study explores antibacterial, antiinflamma...      1"
            ]
          },
          "metadata": {
            "tags": []
          },
          "execution_count": 9
        }
      ]
    },
    {
      "cell_type": "code",
      "metadata": {
        "colab": {
          "base_uri": "https://localhost:8080/",
          "height": 80
        },
        "id": "EIFWuV0SYT7C",
        "outputId": "f727fc83-cb9b-4539-f14a-3d76617c2d7d"
      },
      "source": [
        "none_raw['label'] = 0\n",
        "none_raw.head(1)"
      ],
      "execution_count": null,
      "outputs": [
        {
          "output_type": "execute_result",
          "data": {
            "text/html": [
              "<div>\n",
              "<style scoped>\n",
              "    .dataframe tbody tr th:only-of-type {\n",
              "        vertical-align: middle;\n",
              "    }\n",
              "\n",
              "    .dataframe tbody tr th {\n",
              "        vertical-align: top;\n",
              "    }\n",
              "\n",
              "    .dataframe thead th {\n",
              "        text-align: right;\n",
              "    }\n",
              "</style>\n",
              "<table border=\"1\" class=\"dataframe\">\n",
              "  <thead>\n",
              "    <tr style=\"text-align: right;\">\n",
              "      <th></th>\n",
              "      <th>Title</th>\n",
              "      <th>Full text</th>\n",
              "      <th>label</th>\n",
              "    </tr>\n",
              "  </thead>\n",
              "  <tbody>\n",
              "    <tr>\n",
              "      <th>0</th>\n",
              "      <td>32675189</td>\n",
              "      <td>Blochmannia endosymbionts, belonging to Gammap...</td>\n",
              "      <td>0</td>\n",
              "    </tr>\n",
              "  </tbody>\n",
              "</table>\n",
              "</div>"
            ],
            "text/plain": [
              "      Title                                          Full text  label\n",
              "0  32675189  Blochmannia endosymbionts, belonging to Gammap...      0"
            ]
          },
          "metadata": {
            "tags": []
          },
          "execution_count": 10
        }
      ]
    },
    {
      "cell_type": "code",
      "metadata": {
        "id": "-phGuEI5YZ1e"
      },
      "source": [
        "raw = raw.iloc[:, [1, 2]]\n",
        "none_raw = none_raw.iloc[:, [1, 2]]"
      ],
      "execution_count": null,
      "outputs": []
    },
    {
      "cell_type": "code",
      "metadata": {
        "id": "p0J4YgNBYrx-"
      },
      "source": [
        "df = pd.concat([raw, none_raw])\n",
        "del raw, none_raw"
      ],
      "execution_count": null,
      "outputs": []
    },
    {
      "cell_type": "code",
      "metadata": {
        "colab": {
          "base_uri": "https://localhost:8080/",
          "height": 204
        },
        "id": "wRuQRjs3ZHUg",
        "outputId": "c63b826a-c246-4723-e07f-c4d4f323edad"
      },
      "source": [
        "df = df.dropna(axis=0)\n",
        "df.head()"
      ],
      "execution_count": null,
      "outputs": [
        {
          "output_type": "execute_result",
          "data": {
            "text/html": [
              "<div>\n",
              "<style scoped>\n",
              "    .dataframe tbody tr th:only-of-type {\n",
              "        vertical-align: middle;\n",
              "    }\n",
              "\n",
              "    .dataframe tbody tr th {\n",
              "        vertical-align: top;\n",
              "    }\n",
              "\n",
              "    .dataframe thead th {\n",
              "        text-align: right;\n",
              "    }\n",
              "</style>\n",
              "<table border=\"1\" class=\"dataframe\">\n",
              "  <thead>\n",
              "    <tr style=\"text-align: right;\">\n",
              "      <th></th>\n",
              "      <th>Full text</th>\n",
              "      <th>label</th>\n",
              "    </tr>\n",
              "  </thead>\n",
              "  <tbody>\n",
              "    <tr>\n",
              "      <th>0</th>\n",
              "      <td>The study explores antibacterial, antiinflamma...</td>\n",
              "      <td>1</td>\n",
              "    </tr>\n",
              "    <tr>\n",
              "      <th>1</th>\n",
              "      <td>Ecklonia cava, an edible marine brown alga (La...</td>\n",
              "      <td>1</td>\n",
              "    </tr>\n",
              "    <tr>\n",
              "      <th>2</th>\n",
              "      <td>Periodontal diseases are caused by bacterial i...</td>\n",
              "      <td>1</td>\n",
              "    </tr>\n",
              "    <tr>\n",
              "      <th>3</th>\n",
              "      <td>Poor oral health and related diseases, includi...</td>\n",
              "      <td>1</td>\n",
              "    </tr>\n",
              "    <tr>\n",
              "      <th>4</th>\n",
              "      <td>BACKGROUND: The fruit of the Terminalia chebul...</td>\n",
              "      <td>1</td>\n",
              "    </tr>\n",
              "  </tbody>\n",
              "</table>\n",
              "</div>"
            ],
            "text/plain": [
              "                                           Full text  label\n",
              "0  The study explores antibacterial, antiinflamma...      1\n",
              "1  Ecklonia cava, an edible marine brown alga (La...      1\n",
              "2  Periodontal diseases are caused by bacterial i...      1\n",
              "3  Poor oral health and related diseases, includi...      1\n",
              "4  BACKGROUND: The fruit of the Terminalia chebul...      1"
            ]
          },
          "metadata": {
            "tags": []
          },
          "execution_count": 13
        }
      ]
    },
    {
      "cell_type": "code",
      "metadata": {
        "colab": {
          "base_uri": "https://localhost:8080/"
        },
        "id": "XaRfE_b0R2cA",
        "outputId": "e0b43f1f-493f-489a-b11b-9ef9a1dc53aa"
      },
      "source": [
        "# Compound 수 확인\n",
        "df.groupby('label').size()"
      ],
      "execution_count": null,
      "outputs": [
        {
          "output_type": "execute_result",
          "data": {
            "text/plain": [
              "label\n",
              "0    718\n",
              "1    563\n",
              "dtype: int64"
            ]
          },
          "metadata": {
            "tags": []
          },
          "execution_count": 14
        }
      ]
    },
    {
      "cell_type": "code",
      "metadata": {
        "colab": {
          "base_uri": "https://localhost:8080/",
          "height": 280
        },
        "id": "sWwjPr0uT-1U",
        "outputId": "197f72af-cb28-438c-aa89-d6745ac2837f"
      },
      "source": [
        "df['label'].value_counts().plot(kind='bar')"
      ],
      "execution_count": null,
      "outputs": [
        {
          "output_type": "execute_result",
          "data": {
            "text/plain": [
              "<matplotlib.axes._subplots.AxesSubplot at 0x7fb844e8ed90>"
            ]
          },
          "metadata": {
            "tags": []
          },
          "execution_count": 15
        },
        {
          "output_type": "display_data",
          "data": {
            "image/png": "[encoded data removed]",
            "text/plain": [
              "<Figure size 432x288 with 1 Axes>"
            ]
          },
          "metadata": {
            "tags": [],
            "needs_background": "light"
          }
        }
      ]
    },
    {
      "cell_type": "code",
      "metadata": {
        "colab": {
          "base_uri": "https://localhost:8080/"
        },
        "id": "gpC1kTjuPKnT",
        "outputId": "a0c55aef-14ca-41b6-ef8d-7a9bbac2fafc"
      },
      "source": [
        "X, y = list(df['Full text']), list(df['label'])\n",
        "df.shape"
      ],
      "execution_count": null,
      "outputs": [
        {
          "output_type": "execute_result",
          "data": {
            "text/plain": [
              "(1281, 2)"
            ]
          },
          "metadata": {
            "tags": []
          },
          "execution_count": 16
        }
      ]
    },
    {
      "cell_type": "code",
      "metadata": {
        "colab": {
          "base_uri": "https://localhost:8080/"
        },
        "id": "3YWJ3mEpPLju",
        "outputId": "bd702727-4114-436b-d1da-351c44a05f75"
      },
      "source": [
        "X[0], len(X)"
      ],
      "execution_count": null,
      "outputs": [
        {
          "output_type": "execute_result",
          "data": {
            "text/plain": [
              "('The study explores antibacterial, antiinflammatory and cytoprotective capacity of Pelargonium sidoides DC root extract (PSRE) and proanthocyanidin fraction from PSRE (PACN) under conditions characteristic for periodontal disease. Following previous finding that PACN exerts stronger suppression of Porphyromonas gingivalis compared to the effect on commensal Streptococcus salivarius, the current work continues antibacterial investigation on Staphylococcus aureus, Staphylococcus epidermidis, Aggregatibacter actinomycetemcomitans and Escherichia coli. PSRE and PACN are also studied for their ability to prevent gingival fibroblast cell death in the presence of bacteria or bacterial lipopolysaccharide (LPS), to block LPS- or LPS + IFNgamma-induced release of inflammatory mediators, gene expression and surface antigen presentation. Both PSRE and PACN were more efficient in suppressing Staphylococcus and Aggregatibacter compared to Escherichia, prevented A. actinomycetemcomitans- and LPS-induced death of fibroblasts, decreased LPS-induced release of interleukin-8 and prostaglandin E2 from fibroblasts and IL-6 from leukocytes, blocked expression of IL-1beta, iNOS, and surface presentation of CD80 and CD86 in LPS + IFNgamma-treated macrophages, and IL-1beta and COX-2 expression in LPS-treated leukocytes. None of the investigated substances affected either the level of secretion or expression of TNFalpha. In conclusion, PSRE, and especially PACN, possess strong antibacterial, antiinflammatory and gingival tissue protecting properties under periodontitis-mimicking conditions and are suggestable candidates for treatment of the disease.',\n",
              " 1281)"
            ]
          },
          "metadata": {
            "tags": []
          },
          "execution_count": 17
        }
      ]
    },
    {
      "cell_type": "code",
      "metadata": {
        "colab": {
          "base_uri": "https://localhost:8080/"
        },
        "id": "VUCCk9usPL0V",
        "outputId": "f50f7232-841c-44d3-fdcf-97bdfb4a47b5"
      },
      "source": [
        "y[0], len(y)"
      ],
      "execution_count": null,
      "outputs": [
        {
          "output_type": "execute_result",
          "data": {
            "text/plain": [
              "(1, 1281)"
            ]
          },
          "metadata": {
            "tags": []
          },
          "execution_count": 18
        }
      ]
    },
    {
      "cell_type": "code",
      "metadata": {
        "id": "uGDMCb90Rckl",
        "colab": {
          "base_uri": "https://localhost:8080/"
        },
        "outputId": "cb9d4449-c14a-4602-a73c-746c389d461b"
      },
      "source": [
        "nltk.download('stopwords')\n",
        "nltk.download('punkt')\n",
        "nltk.download('wordnet')\n",
        "\n",
        "result = []\n",
        "stop_words = set(stopwords.words(\"english\"))\n",
        "\n",
        "def lemmat(txt):\n",
        "    lemm = WordNetLemmatizer()\n",
        "    poss = ['a','v','n','r']\n",
        "    for pos in poss:\n",
        "        txt = lemm.lemmatize(txt.lower(), pos)\n",
        "    return txt\n",
        "\n",
        "for line in X:\n",
        "    arr = []\n",
        "    tokens = word_tokenize(line)\n",
        "    for token in tokens:\n",
        "        # token = token.lower()\n",
        "        if token not in stop_words:\n",
        "            res = re.sub(\"[-=+,#/?:^$.@;*\\\"※~&%ㆍ!』\\\\‘|()[]<>`'…》]\", \"\", token)\n",
        "            if len(res) > 2:\n",
        "                arr.append(lemmat(res))\n",
        "    result.append(arr)\n",
        "X = result"
      ],
      "execution_count": null,
      "outputs": [
        {
          "output_type": "stream",
          "text": [
            "[nltk_data] Downloading package stopwords to /root/nltk_data...\n",
            "[nltk_data]   Unzipping corpora/stopwords.zip.\n",
            "[nltk_data] Downloading package punkt to /root/nltk_data...\n",
            "[nltk_data]   Unzipping tokenizers/punkt.zip.\n",
            "[nltk_data] Downloading package wordnet to /root/nltk_data...\n",
            "[nltk_data]   Unzipping corpora/wordnet.zip.\n"
          ],
          "name": "stdout"
        }
      ]
    },
    {
      "cell_type": "code",
      "metadata": {
        "colab": {
          "base_uri": "https://localhost:8080/"
        },
        "id": "w3u-uBa2UqOy",
        "outputId": "e3336eff-f877-4912-a53f-9c9b92721aaf"
      },
      "source": [
        "nc = Counter(X[0])\n",
        "print('surface 단어의 카운트 : {}'.format(nc['surface']))"
      ],
      "execution_count": null,
      "outputs": [
        {
          "output_type": "stream",
          "text": [
            "surface 단어의 카운트 : 2\n"
          ],
          "name": "stdout"
        }
      ]
    },
    {
      "cell_type": "code",
      "metadata": {
        "colab": {
          "base_uri": "https://localhost:8080/"
        },
        "id": "W7zjSrrBUYvo",
        "outputId": "4f89912a-251a-4cf3-9873-aec8131822dd"
      },
      "source": [
        "X_train, X_test, y_train, y_test = train_test_split(X, y, test_size=0.2, shuffle=True, stratify=y)\n",
        "\n",
        "len(X_train), len(X_test), len(y_train), len(y_test)"
      ],
      "execution_count": null,
      "outputs": [
        {
          "output_type": "execute_result",
          "data": {
            "text/plain": [
              "(1024, 257, 1024, 257)"
            ]
          },
          "metadata": {
            "tags": []
          },
          "execution_count": 21
        }
      ]
    },
    {
      "cell_type": "code",
      "metadata": {
        "colab": {
          "base_uri": "https://localhost:8080/"
        },
        "id": "7OyiCx-e5bb6",
        "outputId": "779c0cbe-de75-4891-baa1-8d0238c4e230"
      },
      "source": [
        "X_train[0:5], y_train[0:5]"
      ],
      "execution_count": null,
      "outputs": [
        {
          "output_type": "execute_result",
          "data": {
            "text/plain": [
              "([['the',\n",
              "   'current',\n",
              "   'natural',\n",
              "   'history',\n",
              "   'specimen',\n",
              "   'databasing',\n",
              "   'paradigm',\n",
              "   'focus',\n",
              "   'standardize',\n",
              "   'occurrence',\n",
              "   'data',\n",
              "   'specimen',\n",
              "   'collect',\n",
              "   'order',\n",
              "   'gather',\n",
              "   'information',\n",
              "   'particular',\n",
              "   'specie',\n",
              "   'researcher',\n",
              "   'also',\n",
              "   'must',\n",
              "   'know',\n",
              "   'encounter',\n",
              "   'possibly',\n",
              "   'collect',\n",
              "   'specie',\n",
              "   'for',\n",
              "   'entomological',\n",
              "   'specimen',\n",
              "   'collection',\n",
              "   'method',\n",
              "   'terminology',\n",
              "   'write',\n",
              "   'label',\n",
              "   'standardize',\n",
              "   'perhaps',\n",
              "   'however',\n",
              "   'use',\n",
              "   'broad-scale',\n",
              "   'collection',\n",
              "   'method',\n",
              "   'framework',\n",
              "   'may',\n",
              "   'aid',\n",
              "   'communication',\n",
              "   'among',\n",
              "   'researcher',\n",
              "   'especially',\n",
              "   'within',\n",
              "   'context',\n",
              "   'public',\n",
              "   'database',\n",
              "   'three',\n",
              "   'main',\n",
              "   'category',\n",
              "   'collection',\n",
              "   'method',\n",
              "   'propose',\n",
              "   'active',\n",
              "   'human',\n",
              "   'collect',\n",
              "   'active',\n",
              "   'specimen',\n",
              "   'orientation',\n",
              "   'passive',\n",
              "   'specimen',\n",
              "   'collection',\n",
              "   'and/or',\n",
              "   'concentration',\n",
              "   'general',\n",
              "   'category',\n",
              "   'contain',\n",
              "   'specific',\n",
              "   'sub-categories',\n",
              "   'bibliography',\n",
              "   'useful',\n",
              "   'work',\n",
              "   'describe',\n",
              "   'entomological',\n",
              "   'collection',\n",
              "   'curation',\n",
              "   'method',\n",
              "   'e.g.',\n",
              "   'how',\n",
              "   'make',\n",
              "   'insect',\n",
              "   'collection',\n",
              "   'provide'],\n",
              "  ['there',\n",
              "   'long',\n",
              "   'tradition',\n",
              "   'ecology',\n",
              "   'study',\n",
              "   'model',\n",
              "   'biodiversity',\n",
              "   'equilibrium',\n",
              "   'these',\n",
              "   'model',\n",
              "   'include',\n",
              "   'influential',\n",
              "   'neutral',\n",
              "   'theory',\n",
              "   'biodiversity',\n",
              "   'successful',\n",
              "   'predict',\n",
              "   'major',\n",
              "   'macroecological',\n",
              "   'pattern',\n",
              "   'specie',\n",
              "   'abundance',\n",
              "   'distribution',\n",
              "   'but',\n",
              "   'fail',\n",
              "   'predict',\n",
              "   'macroevolutionary',\n",
              "   'pattern',\n",
              "   'capture',\n",
              "   'phylogenetic',\n",
              "   'tree',\n",
              "   'here',\n",
              "   'develop',\n",
              "   'model',\n",
              "   'biodiversity',\n",
              "   'individual',\n",
              "   'identical',\n",
              "   'demographic',\n",
              "   'rat',\n",
              "   'metacommunity',\n",
              "   'size',\n",
              "   'allow',\n",
              "   'vary',\n",
              "   'stochastically',\n",
              "   'accord',\n",
              "   'population',\n",
              "   'dynamic',\n",
              "   'speciation',\n",
              "   'arise',\n",
              "   'naturally',\n",
              "   'accumulation',\n",
              "   'point',\n",
              "   'mutation',\n",
              "   'show',\n",
              "   'model',\n",
              "   'generate',\n",
              "   'phylogeny',\n",
              "   'match',\n",
              "   'observe',\n",
              "   'nature',\n",
              "   'metacommunity',\n",
              "   'equilibrium',\n",
              "   'develop',\n",
              "   'likelihood',\n",
              "   'inference',\n",
              "   'framework',\n",
              "   'allow',\n",
              "   'fit',\n",
              "   'model',\n",
              "   'empirical',\n",
              "   'phylogeny',\n",
              "   'apply',\n",
              "   'framework',\n",
              "   'various',\n",
              "   'mammalian',\n",
              "   'family',\n",
              "   'our',\n",
              "   'result',\n",
              "   'corroborate',\n",
              "   'hypothesis',\n",
              "   'biodiversity',\n",
              "   'dynamic',\n",
              "   'equilibrium'],\n",
              "  ['obesity',\n",
              "   'characterize',\n",
              "   'increase',\n",
              "   'infiltration',\n",
              "   'monocyte',\n",
              "   'adipose',\n",
              "   'tissue',\n",
              "   'cause',\n",
              "   'inflammatory',\n",
              "   'condition',\n",
              "   'associate',\n",
              "   'example',\n",
              "   'development',\n",
              "   'insulin',\n",
              "   'resistance',\n",
              "   'thus',\n",
              "   'anti-inflammatory-based',\n",
              "   'treatment',\n",
              "   'could',\n",
              "   'emerge',\n",
              "   'novel',\n",
              "   'interest',\n",
              "   'approach',\n",
              "   'report',\n",
              "   'chilean',\n",
              "   'native',\n",
              "   'fruit',\n",
              "   'maqui',\n",
              "   'aristotelia',\n",
              "   'chilensis',\n",
              "   'calafate',\n",
              "   'berberis',\n",
              "   'microphylla',\n",
              "   'present',\n",
              "   'high',\n",
              "   'content',\n",
              "   'polyphenols',\n",
              "   'know',\n",
              "   'antioxidant',\n",
              "   'anti-inflammatory',\n",
              "   'property',\n",
              "   'the',\n",
              "   'aim',\n",
              "   'study',\n",
              "   'evaluate',\n",
              "   'ability',\n",
              "   'extract',\n",
              "   'fruit',\n",
              "   'block',\n",
              "   'pathogenic',\n",
              "   'interaction',\n",
              "   'adipocytes',\n",
              "   'macrophage',\n",
              "   'vitro',\n",
              "   'compare',\n",
              "   'effect',\n",
              "   'blueberry',\n",
              "   'vaccinium',\n",
              "   'corymbosum',\n",
              "   'extract',\n",
              "   'treatment',\n",
              "   'already',\n",
              "   'describe',\n",
              "   'posse',\n",
              "   'several',\n",
              "   'biomedical',\n",
              "   'benefit',\n",
              "   'raw264.7',\n",
              "   'macrophage',\n",
              "   'treat',\n",
              "   'mug/ml',\n",
              "   'lipopolysaccharides',\n",
              "   'lp',\n",
              "   'condition',\n",
              "   'medium',\n",
              "   'fully',\n",
              "   'differentiate',\n",
              "   '3t3-l1',\n",
              "   'adipocytes',\n",
              "   'coculture',\n",
              "   '3t3-l1',\n",
              "   'adipocytes',\n",
              "   'presence',\n",
              "   'absence',\n",
              "   '100',\n",
              "   'mum',\n",
              "   'total',\n",
              "   'polyphenolic',\n",
              "   'content',\n",
              "   'extract',\n",
              "   'the',\n",
              "   'gene',\n",
              "   'expression',\n",
              "   'secretion',\n",
              "   'profile',\n",
              "   'several',\n",
              "   'inflammatory',\n",
              "   'marker',\n",
              "   'evaluate',\n",
              "   'nitric',\n",
              "   'oxide',\n",
              "   'secretion',\n",
              "   'induce',\n",
              "   'lp',\n",
              "   'reduce',\n",
              "   'presence',\n",
              "   'maqui',\n",
              "   '-12.2',\n",
              "   '-45.6',\n",
              "   '-14.7',\n",
              "   'respectively',\n",
              "   'calafate',\n",
              "   '-27.6',\n",
              "   '-43.9',\n",
              "   '-11.8',\n",
              "   'respectively',\n",
              "   'extract',\n",
              "   'gene',\n",
              "   'expression',\n",
              "   'inducible',\n",
              "   'nitric',\n",
              "   'oxide',\n",
              "   'synthase',\n",
              "   'tnf-alpha',\n",
              "   'inhibit',\n",
              "   'il-10',\n",
              "   'induce',\n",
              "   'maqui',\n",
              "   'calafate',\n",
              "   'extract',\n",
              "   'incubation',\n",
              "   'conclusion',\n",
              "   'extract',\n",
              "   'fruit',\n",
              "   'present',\n",
              "   'important',\n",
              "   'inhibitory-like',\n",
              "   'feature',\n",
              "   'inflammatory',\n",
              "   'response',\n",
              "   'interaction',\n",
              "   'adipocytes',\n",
              "   'macrophage',\n",
              "   'comprise',\n",
              "   'potential',\n",
              "   'therapeutic',\n",
              "   'tool',\n",
              "   'comorbidities',\n",
              "   'associate',\n",
              "   'obesity',\n",
              "   'development'],\n",
              "  ['simple',\n",
              "   'sequence',\n",
              "   'repeat',\n",
              "   'ssrs',\n",
              "   'widespread',\n",
              "   'unit',\n",
              "   'genome',\n",
              "   'sequence',\n",
              "   'play',\n",
              "   'many',\n",
              "   'important',\n",
              "   'role',\n",
              "   'plant',\n",
              "   'order',\n",
              "   'reveal',\n",
              "   'evolution',\n",
              "   'plant',\n",
              "   'genome',\n",
              "   'investigate',\n",
              "   'evolutionary',\n",
              "   'regularity',\n",
              "   'ssrs',\n",
              "   'evolution',\n",
              "   'plant',\n",
              "   'specie',\n",
              "   'plant',\n",
              "   'kingdom',\n",
              "   'analysis',\n",
              "   'twelve',\n",
              "   'sequence',\n",
              "   'plant',\n",
              "   'genome',\n",
              "   'sequence',\n",
              "   'first',\n",
              "   'twelve',\n",
              "   'study',\n",
              "   'plant',\n",
              "   'genome',\n",
              "   'main',\n",
              "   'ssrs',\n",
              "   'contain',\n",
              "   'repeat',\n",
              "   '1-3',\n",
              "   'nucleotide',\n",
              "   'combination',\n",
              "   'second',\n",
              "   'mononucleotide',\n",
              "   'ssrs',\n",
              "   'a/t',\n",
              "   'percentage',\n",
              "   'gradually',\n",
              "   'increase',\n",
              "   'along',\n",
              "   'evolution',\n",
              "   'plant',\n",
              "   'except',\n",
              "   'patens',\n",
              "   'with',\n",
              "   'increase',\n",
              "   'ssrs',\n",
              "   'repeat',\n",
              "   'number',\n",
              "   'percentage',\n",
              "   'a/t',\n",
              "   'reinhardtii',\n",
              "   'significant',\n",
              "   'change',\n",
              "   'percentage',\n",
              "   'a/t',\n",
              "   'terrestrial',\n",
              "   'plant',\n",
              "   'specie',\n",
              "   'gradually',\n",
              "   'decline',\n",
              "   'third',\n",
              "   'dinucleotide',\n",
              "   'ssrs',\n",
              "   'percentage',\n",
              "   'at/ta',\n",
              "   'increase',\n",
              "   'along',\n",
              "   'evolution',\n",
              "   'plant',\n",
              "   'kingdom',\n",
              "   'repeat',\n",
              "   'number',\n",
              "   'increase',\n",
              "   'terrestrial',\n",
              "   'plant',\n",
              "   'specie',\n",
              "   'this',\n",
              "   'trend',\n",
              "   'obvious',\n",
              "   'dicotyledon',\n",
              "   'monocotyledon',\n",
              "   'the',\n",
              "   'percentage',\n",
              "   'cg/gc',\n",
              "   'show',\n",
              "   'opposite',\n",
              "   'pattern',\n",
              "   'at/ta',\n",
              "   'forth',\n",
              "   'trinucleotide',\n",
              "   'ssrs',\n",
              "   'percentage',\n",
              "   'combination',\n",
              "   'include',\n",
              "   'two',\n",
              "   'three',\n",
              "   'a/t',\n",
              "   'rise',\n",
              "   'trend',\n",
              "   'along',\n",
              "   'evolution',\n",
              "   'plant',\n",
              "   'kingdom',\n",
              "   'meanwhile',\n",
              "   'increase',\n",
              "   'ssrs',\n",
              "   'repeat',\n",
              "   'number',\n",
              "   'plant',\n",
              "   'specie',\n",
              "   'different',\n",
              "   'specie',\n",
              "   'choose',\n",
              "   'different',\n",
              "   'combination',\n",
              "   'dominant',\n",
              "   'ssrs',\n",
              "   'ssrs',\n",
              "   'reinhardtii',\n",
              "   'patens',\n",
              "   'may',\n",
              "   'thaliana',\n",
              "   'show',\n",
              "   'specific',\n",
              "   'pattern',\n",
              "   'relate',\n",
              "   'evolutionary',\n",
              "   'position',\n",
              "   'specific',\n",
              "   'change',\n",
              "   'genome',\n",
              "   'sequence',\n",
              "   'the',\n",
              "   'result',\n",
              "   'show',\n",
              "   'ssrs',\n",
              "   'general',\n",
              "   'pattern',\n",
              "   'evolution',\n",
              "   'plant',\n",
              "   'kingdom',\n",
              "   'also',\n",
              "   'associate',\n",
              "   'evolution',\n",
              "   'specific',\n",
              "   'genome',\n",
              "   'sequence',\n",
              "   'the',\n",
              "   'study',\n",
              "   'evolutionary',\n",
              "   'regularity',\n",
              "   'ssrs',\n",
              "   'provide',\n",
              "   'new',\n",
              "   'insight',\n",
              "   'analysis',\n",
              "   'plant',\n",
              "   'genome',\n",
              "   'evolution'],\n",
              "  ['background',\n",
              "   'chronic',\n",
              "   'stress',\n",
              "   'contribute',\n",
              "   'development',\n",
              "   'brain',\n",
              "   'disorder',\n",
              "   'neurodegenerative',\n",
              "   'psychiatric',\n",
              "   'disease',\n",
              "   'oxidative',\n",
              "   'damage',\n",
              "   'well',\n",
              "   'know',\n",
              "   'causative',\n",
              "   'factor',\n",
              "   'pathogenic',\n",
              "   'process',\n",
              "   'brain',\n",
              "   'tissue',\n",
              "   'the',\n",
              "   'aim',\n",
              "   'study',\n",
              "   'evaluate',\n",
              "   'neuroprotective',\n",
              "   'effect',\n",
              "   'ethanol',\n",
              "   'extract',\n",
              "   'aquilariae',\n",
              "   'lignum',\n",
              "   'ale',\n",
              "   'repeat',\n",
              "   'stress-induced',\n",
              "   'hippocampal',\n",
              "   'oxidative',\n",
              "   'injury',\n",
              "   'method',\n",
              "   'fifty',\n",
              "   'balb/c',\n",
              "   'male',\n",
              "   'mouse',\n",
              "   'week',\n",
              "   'old',\n",
              "   'randomly',\n",
              "   'divide',\n",
              "   'five',\n",
              "   'group',\n",
              "   'for',\n",
              "   'consecutive',\n",
              "   'day',\n",
              "   'group',\n",
              "   'orally',\n",
              "   'administer',\n",
              "   'distil',\n",
              "   'water',\n",
              "   'ale',\n",
              "   'mg/kg',\n",
              "   'n-acetylcysteine',\n",
              "   'nac',\n",
              "   '100',\n",
              "   'mg/kg',\n",
              "   'mouse',\n",
              "   'except',\n",
              "   'unstressed',\n",
              "   'group',\n",
              "   'subject',\n",
              "   'restraint',\n",
              "   'stress',\n",
              "   'final',\n",
              "   'day',\n",
              "   'brain',\n",
              "   'tissue',\n",
              "   'serum',\n",
              "   'isolate',\n",
              "   'stress',\n",
              "   'hormone',\n",
              "   'hippocampal',\n",
              "   'oxidative',\n",
              "   'alteration',\n",
              "   'examine',\n",
              "   'also',\n",
              "   'treat',\n",
              "   'lipopolysaccharide',\n",
              "   'lp',\n",
              "   'mug/ml',\n",
              "   '-stimulated',\n",
              "   'bv2',\n",
              "   'microglial',\n",
              "   'cell',\n",
              "   'ale',\n",
              "   'mug/ml',\n",
              "   'nac',\n",
              "   'mum',\n",
              "   'investigate',\n",
              "   'pharmacological',\n",
              "   'mechanism',\n",
              "   'result',\n",
              "   'restraint',\n",
              "   'stress',\n",
              "   'considerably',\n",
              "   'increase',\n",
              "   'serum',\n",
              "   'level',\n",
              "   'corticosterone',\n",
              "   'adrenaline',\n",
              "   'hippocampal',\n",
              "   'level',\n",
              "   'reactive',\n",
              "   'oxygen',\n",
              "   'specie',\n",
              "   'ro',\n",
              "   'nitric',\n",
              "   'oxide',\n",
              "   'malondialdehyde',\n",
              "   'mda',\n",
              "   'ale',\n",
              "   'administration',\n",
              "   'significantly',\n",
              "   'attenuate',\n",
              "   'abnormality',\n",
              "   'ale',\n",
              "   'also',\n",
              "   'significantly',\n",
              "   'normalize',\n",
              "   'stress-induced',\n",
              "   'activation',\n",
              "   'astrocyte',\n",
              "   'microglial',\n",
              "   'cell',\n",
              "   'hippocampus',\n",
              "   'well',\n",
              "   'elevation',\n",
              "   'pro-inflammatory',\n",
              "   'cytokine',\n",
              "   'tumor',\n",
              "   'necrosis',\n",
              "   'factor-alpha',\n",
              "   'tnf-alpha',\n",
              "   'interleukin-1',\n",
              "   'beta',\n",
              "   'il-1beta',\n",
              "   'the',\n",
              "   'vitro',\n",
              "   'assay',\n",
              "   'outcome',\n",
              "   'supplement',\n",
              "   'ale',\n",
              "   'could',\n",
              "   'dramatically',\n",
              "   'block',\n",
              "   'nf-kappab',\n",
              "   'activation',\n",
              "   'microglia',\n",
              "   'the',\n",
              "   'anti-oxidative',\n",
              "   'stress',\n",
              "   'effect',\n",
              "   'ale',\n",
              "   'support',\n",
              "   'result',\n",
              "   'antioxidant',\n",
              "   'component',\n",
              "   '4-hydroxynonenal',\n",
              "   '4-hne',\n",
              "   'nadph',\n",
              "   'oxidase',\n",
              "   'nox2',\n",
              "   'inducible',\n",
              "   'nitric',\n",
              "   'oxide',\n",
              "   'synthase',\n",
              "   'inos',\n",
              "   'nfe2l2',\n",
              "   'nrf2',\n",
              "   'hippocampal',\n",
              "   'tissue',\n",
              "   'conclusion',\n",
              "   'firstly',\n",
              "   'demonstrate',\n",
              "   'neuroprotective',\n",
              "   'potential',\n",
              "   'lignum',\n",
              "   'hippocampal',\n",
              "   'oxidative',\n",
              "   'injury',\n",
              "   'repeat',\n",
              "   'restraint',\n",
              "   'stress',\n",
              "   'the',\n",
              "   'correspond',\n",
              "   'mechanism',\n",
              "   'might',\n",
              "   'involve',\n",
              "   'modulation',\n",
              "   'release',\n",
              "   'ro',\n",
              "   'pro-inflammatory',\n",
              "   'cytokine',\n",
              "   'stress',\n",
              "   'hormone']],\n",
              " [0, 0, 1, 0, 1])"
            ]
          },
          "metadata": {
            "tags": []
          },
          "execution_count": 22
        }
      ]
    },
    {
      "cell_type": "code",
      "metadata": {
        "id": "Y2QHqZQpaAo2"
      },
      "source": [
        "tokenizer = Tokenizer()\n",
        "tokenizer.fit_on_texts(X_train)"
      ],
      "execution_count": null,
      "outputs": []
    },
    {
      "cell_type": "code",
      "metadata": {
        "colab": {
          "base_uri": "https://localhost:8080/"
        },
        "id": "6ORWel2zdJfE",
        "outputId": "f2a515c6-b10b-4cc1-f361-5756abd21be4"
      },
      "source": [
        "threshold = 2\n",
        "total_cnt = len(tokenizer.word_index) # 단어의 수\n",
        "rare_cnt = 0 # 등장 빈도수가 threshold보다 작은 단어의 개수를 카운트\n",
        "total_freq = 0 # 훈련 데이터의 전체 단어 빈도수 총 합\n",
        "rare_freq = 0 # 등장 빈도수가 threshold보다 작은 단어의 등장 빈도수의 총 합\n",
        "\n",
        "# 단어와 빈도수의 쌍(pair)을 key와 value로 받는다.\n",
        "for key, value in tokenizer.word_counts.items():\n",
        "    total_freq = total_freq + value\n",
        "\n",
        "    # 단어의 등장 빈도수가 threshold보다 작으면\n",
        "    if(value < threshold):\n",
        "        rare_cnt = rare_cnt + 1\n",
        "        rare_freq = rare_freq + value\n",
        "\n",
        "print('단어 집합(vocabulary)의 크기 :',total_cnt)\n",
        "print('등장 빈도가 %s번 이하인 희귀 단어의 수: %s'%(threshold - 1, rare_cnt))\n",
        "print(\"단어 집합에서 희귀 단어의 비율:\", (rare_cnt / total_cnt)*100)\n",
        "print(\"전체 등장 빈도에서 희귀 단어 등장 빈도 비율:\", (rare_freq / total_freq)*100)"
      ],
      "execution_count": null,
      "outputs": [
        {
          "output_type": "stream",
          "text": [
            "단어 집합(vocabulary)의 크기 : 15961\n",
            "등장 빈도가 1번 이하인 희귀 단어의 수: 7858\n",
            "단어 집합에서 희귀 단어의 비율: 49.23250422905833\n",
            "전체 등장 빈도에서 희귀 단어 등장 빈도 비율: 5.627569216666428\n"
          ],
          "name": "stdout"
        }
      ]
    },
    {
      "cell_type": "code",
      "metadata": {
        "colab": {
          "base_uri": "https://localhost:8080/"
        },
        "id": "JtRWdGjzdM_c",
        "outputId": "a9d8f22e-1290-48df-a357-def1fa2c8e14"
      },
      "source": [
        "vocab_size = total_cnt - rare_cnt + 2\n",
        "print('단어 집합의 제한 크기 :', vocab_size)"
      ],
      "execution_count": null,
      "outputs": [
        {
          "output_type": "stream",
          "text": [
            "단어 집합의 제한 크기 : 8105\n"
          ],
          "name": "stdout"
        }
      ]
    },
    {
      "cell_type": "code",
      "metadata": {
        "id": "1Y0SHFG7ZXr0"
      },
      "source": [
        "with open('/content/drive/Shareddrives/pool/model/best_model_vocab_size.txt', 'w', encoding='utf8') as f:\n",
        "    f.write(str(vocab_size))\n",
        "    f.close()"
      ],
      "execution_count": null,
      "outputs": []
    },
    {
      "cell_type": "code",
      "metadata": {
        "id": "OyuIGmcFdgZB"
      },
      "source": [
        "tokenizer = Tokenizer(vocab_size, oov_token = 'OOV') \n",
        "tokenizer.fit_on_texts(X_train)\n",
        "X_train = tokenizer.texts_to_sequences(X_train)\n",
        "X_test = tokenizer.texts_to_sequences(X_test)"
      ],
      "execution_count": null,
      "outputs": []
    },
    {
      "cell_type": "code",
      "metadata": {
        "colab": {
          "base_uri": "https://localhost:8080/"
        },
        "id": "RdIt8JNZdi_m",
        "outputId": "c7b322ba-d570-4def-8059-0ea46aa3e195"
      },
      "source": [
        "print(X_train[:1])"
      ],
      "execution_count": null,
      "outputs": [
        {
          "output_type": "stream",
          "text": [
            "[[2, 269, 345, 263, 873, 2319, 2858, 369, 1598, 898, 13, 873, 451, 346, 3253, 86, 482, 14, 510, 21, 1060, 167, 2859, 1160, 451, 14, 478, 5732, 873, 414, 18, 5733, 2320, 4559, 1598, 1792, 66, 3, 5734, 414, 18, 490, 57, 2321, 2105, 126, 510, 483, 145, 604, 629, 7, 160, 442, 1018, 414, 18, 210, 286, 87, 451, 286, 873, 4560, 5735, 873, 414, 874, 161, 511, 1018, 138, 364, 1, 5736, 379, 443, 183, 5732, 414, 2537, 18, 925, 2538, 215, 1061, 414, 59]]\n"
          ],
          "name": "stdout"
        }
      ]
    },
    {
      "cell_type": "code",
      "metadata": {
        "colab": {
          "base_uri": "https://localhost:8080/",
          "height": 315
        },
        "id": "DjNPr7cmdoCf",
        "outputId": "83c6e88e-f80f-4283-f552-039d5a9e3243"
      },
      "source": [
        "max_len = max(len(l) for l in X_train)\n",
        "mean_len = sum(map(len, X_train))/len(X_train)\n",
        "print('문서의 최대 길이 :',max_len)\n",
        "print('문서의 평균 길이 :',mean_len)\n",
        "plt.hist([len(s) for s in X_train], bins=50)\n",
        "plt.xlabel('length of samples')\n",
        "plt.ylabel('number of samples')\n",
        "plt.show()"
      ],
      "execution_count": null,
      "outputs": [
        {
          "output_type": "stream",
          "text": [
            "문서의 최대 길이 : 452\n",
            "문서의 평균 길이 : 136.361328125\n"
          ],
          "name": "stdout"
        },
        {
          "output_type": "display_data",
          "data": {
            "image/png": "[encoded data removed]",
            "text/plain": [
              "<Figure size 432x288 with 1 Axes>"
            ]
          },
          "metadata": {
            "tags": [],
            "needs_background": "light"
          }
        }
      ]
    },
    {
      "cell_type": "code",
      "metadata": {
        "colab": {
          "base_uri": "https://localhost:8080/"
        },
        "id": "OPf9agemdqwU",
        "outputId": "048c3f4e-4f56-4898-c370-ce71e139130d"
      },
      "source": [
        "def below_threshold_len(max_len, nested_list):\n",
        "  cnt = 0\n",
        "  for s in nested_list:\n",
        "    if(len(s) <= max_len):\n",
        "        cnt = cnt + 1\n",
        "  print('전체 샘플 중 길이가 %s 이하인 샘플의 비율: %s'%(max_len, (cnt / len(nested_list))*100))\n",
        "\n",
        "below_threshold_len(max_len, X_train)"
      ],
      "execution_count": null,
      "outputs": [
        {
          "output_type": "stream",
          "text": [
            "전체 샘플 중 길이가 452 이하인 샘플의 비율: 100.0\n"
          ],
          "name": "stdout"
        }
      ]
    },
    {
      "cell_type": "code",
      "metadata": {
        "colab": {
          "base_uri": "https://localhost:8080/"
        },
        "id": "I7Kv_MxGd3pE",
        "outputId": "586e03ca-ce50-4dfc-da85-8f86e6c8d89d"
      },
      "source": [
        "print('전체 Train 셋 : {}, 연구 : {}, 비연구 : {}'.format(len(X_train), y_train.count(1), y_train.count(0)))\n",
        "print('전체 Valid 셋 : {}, 연구 : {}, 비연구 : {}'.format(len(X_test), y_test.count(1), y_test.count(0)))"
      ],
      "execution_count": null,
      "outputs": [
        {
          "output_type": "stream",
          "text": [
            "전체 Train 셋 : 1024, 연구 : 450, 비연구 : 574\n",
            "전체 Valid 셋 : 257, 연구 : 113, 비연구 : 144\n"
          ],
          "name": "stdout"
        }
      ]
    },
    {
      "cell_type": "code",
      "metadata": {
        "id": "cq9H7tejfFuM"
      },
      "source": [
        "y_train = np.array(y_train)\n",
        "y_test = np.array(y_test)"
      ],
      "execution_count": null,
      "outputs": []
    },
    {
      "cell_type": "code",
      "metadata": {
        "id": "EcnkhqdGd5tf"
      },
      "source": [
        "X_train = pad_sequences(X_train, maxlen = max_len)\n",
        "X_test = pad_sequences(X_test, maxlen = max_len)"
      ],
      "execution_count": null,
      "outputs": []
    },
    {
      "cell_type": "code",
      "metadata": {
        "id": "do4Jd3Zad-Is",
        "colab": {
          "base_uri": "https://localhost:8080/"
        },
        "outputId": "1afa6fe2-d6ff-47f5-a214-ba47408de0e4"
      },
      "source": [
        "DROP_OUT = 0.2\n",
        "BATCH_SIZE=32\n",
        "VALIDATION_SPLIT=0.2\n",
        "EPOCHS=15\n",
        "EMBEDDING_DIM = 50\n",
        "MAX_SEQUENCE_LENGTH = max_len\n",
        "KERNEL_SIZE = 2\n",
        "FILTERS = 32\n",
        "POOL_SIZE = 2\n",
        "GRU_NODE = 32\n",
        "with tf.device('/gpu:0'):\n",
        "    model = Sequential()\n",
        "    model.add(Embedding(vocab_size, EMBEDDING_DIM, input_length=MAX_SEQUENCE_LENGTH, trainable=True))\n",
        "    # model.add(Dropout(DROP_OUT))\n",
        "    model.add(GRU(32, recurrent_dropout=DROP_OUT))\n",
        "    model.add(Dense(256, activation='relu'))\n",
        "    # model.add(SpatialDropout1D(DROP_OUT))\n",
        "    # model.add(Bidirectional(LSTM(100, dropout=DROP_OUT)))\n",
        "    model.add(Dense(1, activation='sigmoid'))\n",
        "    # model.add(Dropout(DROP_OUT + 0.05))\n",
        "    # model.add(Conv1D(FILTERS, KERNEL_SIZE, activation='relu'))\n",
        "    # model.add(MaxPooling1D(pool_size=POOL_SIZE))\n",
        "    # model.add(Conv1D(FILTERS, KERNEL_SIZE, activation='relu'))\n",
        "    # model.add(MaxPooling1D(pool_size=POOL_SIZE))\n",
        "    # model.add(LSTM(GRU_NODE, return_sequences=True, recurrent_dropout=DROP_OUT))\n",
        "    # model.add(LSTM(GRU_NODE, recurrent_dropout=DROP_OUT))\n",
        "    # model.add(Dense(32,activation='relu'))\n",
        "    # model.add(Dense(1))\n",
        "    # model.add(Activation('softmax'))\n",
        "\n",
        "model.summary()"
      ],
      "execution_count": null,
      "outputs": [
        {
          "output_type": "stream",
          "text": [
            "WARNING:tensorflow:Layer gru will not use cuDNN kernel since it doesn't meet the cuDNN kernel criteria. It will use generic GPU kernel as fallback when running on GPU\n",
            "Model: \"sequential\"\n",
            "_________________________________________________________________\n",
            "Layer (type)                 Output Shape              Param #   \n",
            "=================================================================\n",
            "embedding (Embedding)        (None, 452, 50)           405250    \n",
            "_________________________________________________________________\n",
            "gru (GRU)                    (None, 32)                8064      \n",
            "_________________________________________________________________\n",
            "dense (Dense)                (None, 256)               8448      \n",
            "_________________________________________________________________\n",
            "dense_1 (Dense)              (None, 1)                 257       \n",
            "=================================================================\n",
            "Total params: 422,019\n",
            "Trainable params: 422,019\n",
            "Non-trainable params: 0\n",
            "_________________________________________________________________\n"
          ],
          "name": "stdout"
        }
      ]
    },
    {
      "cell_type": "code",
      "metadata": {
        "id": "NUmnbw8Repas"
      },
      "source": [
        "es = EarlyStopping(monitor='val_loss', mode='min', verbose=1, patience=3)\n",
        "mc = ModelCheckpoint('/content/drive/Shareddrives/pool/model/best_model.h5', monitor='val_acc', mode='max', verbose=1, save_best_only=True)\n",
        "tensorboard = TensorBoard(log_dir='/content/drive/Shareddrives/pool/model/best_model_{}'.format(time()))"
      ],
      "execution_count": null,
      "outputs": []
    },
    {
      "cell_type": "code",
      "metadata": {
        "colab": {
          "base_uri": "https://localhost:8080/"
        },
        "id": "8hmtqF17eqah",
        "outputId": "60abf404-9eab-42b4-f87d-5eb59115209c"
      },
      "source": [
        "model.compile(optimizer='adam', loss='binary_crossentropy', metrics=['acc'])\n",
        "history = model.fit(X_train, y_train, epochs=EPOCHS, callbacks=[es, mc, tensorboard], batch_size=BATCH_SIZE, validation_split=VALIDATION_SPLIT)"
      ],
      "execution_count": null,
      "outputs": [
        {
          "output_type": "stream",
          "text": [
            "Epoch 1/15\n",
            "26/26 [==============================] - 56s 2s/step - loss: 0.6834 - acc: 0.5781 - val_loss: 0.6344 - val_acc: 0.5756\n",
            "\n",
            "Epoch 00001: val_acc improved from -inf to 0.57561, saving model to /content/drive/Shareddrives/pool/model/best_model.h5\n",
            "Epoch 2/15\n",
            "26/26 [==============================] - 41s 2s/step - loss: 0.4834 - acc: 0.7880 - val_loss: 0.1618 - val_acc: 0.9756\n",
            "\n",
            "Epoch 00002: val_acc improved from 0.57561 to 0.97561, saving model to /content/drive/Shareddrives/pool/model/best_model.h5\n",
            "Epoch 3/15\n",
            "26/26 [==============================] - 41s 2s/step - loss: 0.0428 - acc: 0.9922 - val_loss: 0.0345 - val_acc: 0.9902\n",
            "\n",
            "Epoch 00003: val_acc improved from 0.97561 to 0.99024, saving model to /content/drive/Shareddrives/pool/model/best_model.h5\n",
            "Epoch 4/15\n",
            "26/26 [==============================] - 41s 2s/step - loss: 0.0146 - acc: 0.9975 - val_loss: 0.0398 - val_acc: 0.9854\n",
            "\n",
            "Epoch 00004: val_acc did not improve from 0.99024\n",
            "Epoch 5/15\n",
            "26/26 [==============================] - 41s 2s/step - loss: 0.0037 - acc: 0.9998 - val_loss: 0.0466 - val_acc: 0.9805\n",
            "\n",
            "Epoch 00005: val_acc did not improve from 0.99024\n",
            "Epoch 6/15\n",
            "26/26 [==============================] - 41s 2s/step - loss: 0.0018 - acc: 1.0000 - val_loss: 0.0396 - val_acc: 0.9854\n",
            "\n",
            "Epoch 00006: val_acc did not improve from 0.99024\n",
            "Epoch 00006: early stopping\n"
          ],
          "name": "stdout"
        }
      ]
    },
    {
      "cell_type": "code",
      "metadata": {
        "colab": {
          "base_uri": "https://localhost:8080/",
          "height": 545
        },
        "id": "L93sfVYZsUUt",
        "outputId": "a18c361c-3954-45cb-f29a-eb1e0e3e017c"
      },
      "source": [
        "plt.figure(1)\n",
        "plt.title('loss')\n",
        "plt.plot(history.history['loss'], label='train')\n",
        "plt.plot(history.history['val_loss'], label='test')\n",
        "plt.legend()\n",
        "\n",
        "plt.figure(2)\n",
        "plt.title('Accuracy')\n",
        "plt.plot(history.history['acc'], label='train')\n",
        "plt.plot(history.history['val_acc'], label='test')\n",
        "plt.legend()\n",
        "\n",
        "plt.show()"
      ],
      "execution_count": null,
      "outputs": [
        {
          "output_type": "display_data",
          "data": {
            "image/png": "[encoded data removed]",
            "text/plain": [
              "<Figure size 432x288 with 1 Axes>"
            ]
          },
          "metadata": {
            "tags": [],
            "needs_background": "light"
          }
        },
        {
          "output_type": "display_data",
          "data": {
            "image/png": "[encoded data removed]",
            "text/plain": [
              "<Figure size 432x288 with 1 Axes>"
            ]
          },
          "metadata": {
            "tags": [],
            "needs_background": "light"
          }
        }
      ]
    },
    {
      "cell_type": "code",
      "metadata": {
        "id": "zhdP4dyXr8iR"
      },
      "source": [
        "model.save('/content/drive/Shareddrives/pool/model/best_model_last.h5')"
      ],
      "execution_count": null,
      "outputs": []
    },
    {
      "cell_type": "code",
      "metadata": {
        "colab": {
          "base_uri": "https://localhost:8080/"
        },
        "id": "GyYK7wrzjX-s",
        "outputId": "6f1d294d-10bf-4b9e-add3-65cf41ada4d5"
      },
      "source": [
        "loaded_model = load_model('/content/drive/Shareddrives/pool/model/best_model.h5')\n",
        "print(\"테스트 정확도: %.4f\" % (loaded_model.evaluate(X_test, y_test, batch_size=BATCH_SIZE)[1]))"
      ],
      "execution_count": null,
      "outputs": [
        {
          "output_type": "stream",
          "text": [
            "WARNING:tensorflow:Layer gru will not use cuDNN kernel since it doesn't meet the cuDNN kernel criteria. It will use generic GPU kernel as fallback when running on GPU\n",
            "9/9 [==============================] - 2s 127ms/step - loss: 0.0722 - acc: 0.9805\n",
            "테스트 정확도: 0.9805\n"
          ],
          "name": "stdout"
        }
      ]
    },
    {
      "cell_type": "code",
      "metadata": {
        "id": "4polNPNRD1KK"
      },
      "source": [
        "f_json = json.dumps(tokenizer.word_index)\n",
        "f = open('/content/drive/Shareddrives/pool/model/best_model_tokenizer.json', 'w')\n",
        "f.write(f_json)\n",
        "f.flush()\n",
        "f.close()"
      ],
      "execution_count": null,
      "outputs": []
    },
    {
      "cell_type": "code",
      "metadata": {
        "id": "STv5tqtwIFVx"
      },
      "source": [
        "np.save('/content/drive/Shareddrives/pool/model/best_model_history.npy', history.history)"
      ],
      "execution_count": null,
      "outputs": []
    },
    {
      "cell_type": "code",
      "metadata": {
        "colab": {
          "base_uri": "https://localhost:8080/",
          "height": 533
        },
        "id": "ekNt6ZQCbZ-c",
        "outputId": "c8e45045-b4e8-40c4-fdb2-49ee203d862a"
      },
      "source": [
        "plot_model(model, to_file='/content/drive/Shareddrives/pool/model/best_model_plot.png', show_shapes=True)"
      ],
      "execution_count": null,
      "outputs": [
        {
          "output_type": "execute_result",
          "data": {
            "image/png": "[encoded data removed]",
            "text/plain": [
              "<IPython.core.display.Image object>"
            ]
          },
          "metadata": {
            "tags": []
          },
          "execution_count": 42
        }
      ]
    },
    {
      "cell_type": "code",
      "metadata": {
        "id": "euqt9l8I3KB-"
      },
      "source": [
        "config = {\n",
        "    'max_len':max_len,\n",
        "    'mean_len':mean_len,\n",
        "    'batch_size': BATCH_SIZE,\n",
        "    'DROP_OUT':DROP_OUT,\n",
        "    'VALIDATION_SPLIT':VALIDATION_SPLIT,\n",
        "    'EPOCHS':EPOCHS,\n",
        "}\n",
        "\n",
        "f = open('/content/drive/Shareddrives/pool/model/best_model_config.json', 'w', encoding='utf8')\n",
        "f.write(json.dumps(config))\n",
        "f.flush()\n",
        "f.close()"
      ],
      "execution_count": null,
      "outputs": []
    },
    {
      "cell_type": "code",
      "metadata": {
        "id": "fcBgMoJi8sDY"
      },
      "source": [
        "def sentiment_predict(new_sentence):\n",
        "    new_sentence = re.sub(r\"[-=+,#/?:^$.@;*\\\"※~&%ㆍ!』\\\\‘|()[]<>`'…》]\",'', new_sentence)\n",
        "    arr = []\n",
        "    tokens = word_tokenize(new_sentence) # tokenizer\n",
        "    for token in tokens:\n",
        "        if token not in stop_words: # 불용어 처리\n",
        "            if len(token) > 2:\n",
        "                arr.append(lemmat(token))\n",
        "    encoded = tokenizer.texts_to_sequences([arr]) # int encoding\n",
        "    pad_new = pad_sequences(encoded, maxlen = max_len) # padding\n",
        "    print('training vocab count {} {}'.format(len(Counter(arr)), Counter(arr)))\n",
        "    try: \n",
        "        score = float(loaded_model.predict(pad_new)) # prediction\n",
        "        classes = loaded_model.predict_classes(pad_new)[0]\n",
        "        return score, classes\n",
        "    except Exception as d:\n",
        "        print(d)\n",
        "    \n",
        "def pred_message(pred_score, classes):\n",
        "    docType = ''\n",
        "    if classes:\n",
        "        print('{:.2f}% 확률로 {} 논문입니다.'.format(pred_score*100, '연구'))\n",
        "    else:\n",
        "        print('{:.2f}% 확률로 {} 논문입니다.'.format((1 - pred_score)*100, '비연구'))\n",
        "\n",
        "def prediction(txt, type='print'):\n",
        "    pred_score, classes = sentiment_predict(txt)\n",
        "    if type in 'print':\n",
        "        pred_message(pred_score, classes)\n",
        "    else:\n",
        "        return pred_score, classes"
      ],
      "execution_count": null,
      "outputs": []
    },
    {
      "cell_type": "code",
      "metadata": {
        "id": "VYEXO9nlSaKK"
      },
      "source": [
        "def custom_prediction(txt):\n",
        "    score, classes = prediction(txt, 'score')\n",
        "    pred_message(score, classes)\n",
        "    return classes"
      ],
      "execution_count": null,
      "outputs": []
    },
    {
      "cell_type": "code",
      "metadata": {
        "colab": {
          "base_uri": "https://localhost:8080/"
        },
        "id": "GQ3-xhj5TBDI",
        "outputId": "d8c0ac93-e567-49ce-b6b7-feec0d736c08"
      },
      "source": [
        "# val_dict = {\n",
        "#     '비연구1':'BACKGROUND: Toll-like receptors (TLRs) play pivotal roles in host immune responses and have been suggested to be involved in the development of many infectious diseases. In this study, the mRNA expression levels of TLR2, TLR4, and TLR9 and their relationship with periodontopathic bacteria in periodontal tissue are examined. Furthermore, the mechanism of TLR induction by Porphyromonas gingivalis is investigated in human gingival fibroblasts (HGFs). METHODS: Gingival tissue and subgingival plaque samples were collected from 19 patients with chronic periodontitis (CP) and 16 control individuals without periodontitis. Gene expression levels in the tissues and in HGFs were analyzed by reverse transcription-polymerase chain reaction (RT-PCR). The numbers of periodontopathic bacteria were determined by quantitative real-time PCR. RESULTS: The expression levels of TLR2 and TLR9 were significantly higher in the tissues of patients with CP compared to the tissues of control individuals. The mRNA levels of TLR2 and TLR9, but not TLR4, were positively correlated with the number of P. gingivalis in subgingival plaque. P. gingivalis sonicated extract, P. gingivalis lipopolysaccharide, P. gingivalis DNA, and tumor necrosis factor-alpha(TNF-alpha) could significantly upregulate the mRNA expression of TLR2 in HGFs. Furthermore, P. gingivalis-mediated TLR2 expression was suppressed by TNF-alpha antibody. CONCLUSIONS: This study suggests that P. gingivalis infection induces TLR2 and TLR9 upregulation in patients with CP. P. gingivalis-induced TLR2 expression in HGFs is partially dependent on TNF-alpha and may lead to sensitization of HGFs to bacterial components encountered in the periodontal microenvironment.',\n",
        "#     '비연구2':'Drug incompatibilities can lead to loss of effectiveness of drugs or to increased risk for undesirable effects that can even be life-threatening. Especially children are at high risk. Databases are an important source of information in routine care to avoid incompatibilities. However, they were supposedly developed considering drugs for use in adults. Thus, we analysed to what extent databases are appropriate for the identification of incompatibilities in intravenous (i.v.) drug therapy in paediatric intensive care. We analysed the information provided by two databases (Database A and B) on all pairs of two drugs prescribed to be administered via the same i.v. access line in a university paediatric intensive care unit during the study period of 50 days. A total of 50 different i.v. drugs was prescribed in 318 different combinations (drug pairs). We found information on (in)compatibilities in 23.0 % (73/318) in Database A and in 31.1 % (99/318) in Database B. Only in 11.0 % (35/318) of the drug pairs, both databases provided information. Considering those drug pairs, in 17.1 % (6/35) Database B indicated compatibility whereas Database A indicated incompatibility. Compatibility information delivered by databases on drugs used in paediatric intensive care is incomplete, heterogeneous, and partly contradictory. Thus, an increased awareness on the strengths and limitations of different databases is necessary to avoid patient harm.',\n",
        "#     '비연구3':'The contribution that the Chemical Abstracts structural database (CAST-3D) and the Maybridge database (MAY) would make to diversifying the structural information and property space spanned by our corporate database (CBI) is assessed. A subset of the CAST-3D database has been selected to augment the structural diversity of various electronic databases used in computer-assisted drug design projects. The analysis of the MAY database directly offers the potential to expand the CBI compound library, but also provides a source for structural diversity in a format suitable for computer-assisted database searching and molecular design. The analysis performed is twofold. First, a nonhierarchical clustering technique available in the Daylight clustering package is applied to evaluate the structural differences between databases. The comparison is then extended to analyze various structure-derived property spaces calculated from molecular descriptors such as the logarithm of the octanol-water partition coefficient (CLOGP), the molar refractivity (CMR) and the electronic dipole moment (CDM). The diversity contribution of each database to these property spaces is quantified in relation to our corporate database.',\n",
        "#     '비연구4':'A protein class (ProClass) database is developed as a \"value-added\" \"second-generation\" database organized according to family relationships. The database collects non-redundant protein sequence entries from SwissProt and PIR databases, and classifies them in families defined collectively by the ProSite protein groups and PIR superfamilies. The major objectives of the database are to maximize family information retrieval, to provide speedy family identification, and to help organizing existing protein sequence databases. The database has two sub-databases: PCFam (ProClass Family) to define protein families and provide links to ProSite patterns and PIR superfamilies, and PCSeq (ProClass Sequence) to describe sequence entries and provide links to PCFam, SwissProt, PIR, and ProSite databases. The current ProClass release has a total of 85,165 sequence entries, about half of which are classified in 3072 ProClass families; it also contains 10,431 newly established SwissProt-PIR links. The database can help reveal domain structures of related families, define new ProSite and PIR families, and provide family assignments for unclassified sequence entries. New ProSite and PIR family members are readily identified via database cross-reference, including 9437 SwissProt entries and 8522 PIR entries. False negative family members missed by both ProSite and PIR are detected using a neural network family identification system. The newly identified superfamily memberships are being incorporated into the current PIR database releases in a collaborative effort with the PIR. The ProClass database is accessible through anonymous FTP and on-line search on the World Wide Web.',\n",
        "#     '비연구5':'Background: Breast cancer is the most commonly diagnosed noncutaneous malignancy and remains the second leading cause of cancer deaths in women. The Savi Scout (Cianna Medical, Merit Medical Systems, Inc. South Jordan, UT) is a wireless, nonradioactive, wave reflection implant system that enables surgeons to remove targeted breast lesions. Our study aims to be the largest comparison of wire and Savi Scout localization techniques for positive margin, complication, and reoperation rates. Methods: Single-institution retrospective review of 512 patients that had Savi Scout Surgical Guidance System breast lesion biopsy or wire localized breast biopsy from May 2017 to December 2018. A RedCaps database was created and reviewed for outcomes. Results: For 320 Savi scout patients, margins were positive or less than 1 mm in 18 cases (5.6%). 17 (5.3%) patients required reoperation. Surgical site occurrence was found in 7 (2.1%) patients, and 2 patients required intervention (0.6%). For 175 wire localization patients, margins were positive or less than 1 mm in 24 patients, and all required reoperation (13.7%). A surgical site occurrence was found in 13 (7.4%) patients and 5 patients required intervention (2.8%). Discussion: In our series, the Savi Scout localization system resulted in a lower rate of positive margins, reoperation, and surgical site occurrence. These data suggest that Savi Scout localization is a reasonable replacement to wire localization for breast lesions and might produce superior results.',\n",
        "#     '연구1':'Retinal endothelial cells (RECs) are involved in many ocular diseases such as age-related macular degeneration (AMD) and diabetic retinopathy. Salicin is the major ingredient of willow bark extract, and it has been shown to be a potent anti-inflammatory agent. We aim to explore whether salicin has a vascular protective effect in RECs. Our data indicate that the presence of salicin in RECs culture media ameliorates interleukin-1β (IL-1β)-induced cellular reactive oxygen species (ROS) production and NADPH oxidase 4 (NOX-4) expression. At the cellular level, salicin attenuates IL-1β-induced mitochondrial injury as revealed by its preservation on mitochondrial membrane potential (MMP). Furthermore, salicin inhibits IL-1β-induced production of pro-inflammatory cytokines such as tumor necrosis factor-α (TNF-α), interleukin-6 (IL-6), and monocyte chemoattractant protein-1 (MCP-1), vascular adhesion molecules such as intercellular cell adhesion molecule-1 (iCAM-1) and vascular cell adhesion molecule 1 (VCAM-1), and high-mobility group protein 1 (HMGB-1). On the other hand, salicin recovers IL-1β-induced reduction of endothelial nitric oxide synthase (eNOS) and nitric oxide (NO) release. The presence of salicin significantly reduces the IL-1β-induced release of lactate dehydrogenase (LDH), indicating that it mitigates cytokine caused cytotoxicity. Mechanistically, we show that salicin suppresses IL-1β-induced activation of the nuclear factor-kappa B (NF-κB) signaling as revealed by its suppression on nuclear p65 protein and transfected NF-κB promoter. Collectively, our study demonstrates by multiple facets of its mechanisms that salicin is a protective agent in retinal endothelial cells. These results imply its potential use in therapeutic usage of retinal disease.',\n",
        "#     '연구2':'Some studies have demonstrated that ascorbic acid, similarly to ketamine, exhibits antidepressant-like effects mediated, at least in part, by modulation of the glutamatergic system. Despite the involvement of glutamatergic system in the pathophysiology of anxiety disorders, the ability of ascorbic acid and ketamine to elicit anxiolytic effects in animal models remains to be established. Therefore, this study investigated the effects of a single administration of ascorbic acid, ketamine or diazepam (positive control) in different animal models of anxiety. Mice were treated with ascorbic acid (1, 3 and 10 mg∕kg, p.o.), ketamine (1 and 10 mg∕kg, i.p.) or diazepam (2 mg∕kg, p.o) and their behavioral responses were assessed in the elevated plus maze, open field test (OFT), ligh∕dark preference test and marble burying test. Ascorbic acid increased total time spent in the open arms of elevated plus maze, increased total time in the center of the OFT, decreased rearing responses, increased the latency to grooming, decreased the rostral grooming, but did not affect body grooming. Furthermore, ascorbic acid increased the latency time and total time in light area in the ligh∕dark preference test, but did not affect the performance of mice in the marble burying test. Ketamine demonstrated an anxiolytic-like effect in elevated plus maze, OFT, and ligh∕dark preference test. Diazepam exhibited an anxiolytic-like effect in all the behavioral tests. Altogether, the results indicate the potential anxiolytic effect of ascorbic acid and ketamine, providing a possible new avenue for the management of anxiety-related disorders.',\n",
        "# }\n",
        "# for key, value in zip(val_dict.keys(), val_dict.values()):\n",
        "#     custom_prediction(value)\n",
        "\n",
        "suc_cnt, no_cnt = 0, 0\n",
        "for abstract in validation_df['Abstract'][150:]:\n",
        "    classes = custom_prediction(abstract)\n",
        "    if classes == [1]:\n",
        "        suc_cnt += 1\n",
        "    else:\n",
        "        no_cnt += 1"
      ],
      "execution_count": null,
      "outputs": [
        {
          "output_type": "stream",
          "text": [
            "training vocab count 93 Counter({'surface': 7, 'implant': 6, 'vivo': 5, 'quercitrin': 5, 'vitro': 4, 'expression': 4, 'cell': 3, 'relate': 3, 'bone': 3, 'effect': 2, 'osteoclast': 2, 'activity': 2, 'titanium': 2, 'coat': 2, 'evaluate': 2, 'osteoclastogenesis': 2, 'rankl': 2, 'phosphatase': 2, 'trap': 2, 'day': 2, 'culture': 2, 'mrna': 2, 'level': 2, 'marker': 2, 'resorption': 2, 'use': 2, 'wind': 2, 'fluid': 2, 'moreover': 2, 'decrease': 2, 'ctsk': 2, 'h⁺atpase': 2, 'mmp9': 2, 'study': 1, 'covalently': 1, 'flavonoid': 1, 'the': 1, 'first': 1, 'test': 1, 'raw264.7': 1, 'supplement': 1, 'receptor': 1, 'activator': 1, 'nuclear': 1, 'factor': 1, 'kappa-b': 1, 'ligand': 1, 'generate': 1, 'osteoclast-like': 1, 'tartrate-resistant': 1, 'acid': 1, 'inmunostaining': 1, 'five': 1, 'analysis': 1, 'seven': 1, 'rabbit': 1, 'tibial': 1, 'model': 1, 'biological': 1, 'response': 1, 'eight': 1, 'week': 1, 'heal': 1, 'analyze': 1, 'lactate': 1, 'dehydrogenase': 1, 'ldh': 1, 'alkaline': 1, 'alp': 1, 'present': 1, 'interface': 1, 'peri-implant': 1, 'several': 1, 'inflammation': 1, 'osteoblast-osteoclast': 1, 'interaction': 1, 'difference': 1, 'group': 1, 'control': 1, 'find': 1, 'analyse': 1, 'significantly': 1, 'gene': 1, 'calcr': 1, 'well': 1, 'cytotoxic': 1, 'thus': 1, 'biocompatible': 1, 'this': 1, 'could': 1, 'improve': 1, 'performance': 1, 'dental': 1})\n",
            "99.02% 확률로 연구 논문입니다.\n",
            "training vocab count 121 Counter({'quercitrin': 11, 'effect': 4, 'platelet': 4, 'use': 4, 'thrombus': 4, 'formation': 4, 'the': 3, 'disease': 3, 'activation': 3, 'result': 3, 'flavonoid': 2, 'reduce': 2, 'cardiovascular': 2, 'risk': 2, 'antioxidant': 2, 'thrombogenesis': 2, 'whether': 2, 'study': 2, 'antiplatelet': 2, 'aggregation': 2, 'granule': 2, 'secretion': 2, 'calcium': 2, 'mobilization': 2, 'integrin': 2, 'mouse': 2, 'arterial': 2, 'vivo': 2, 'collagen-coated': 2, 'surface': 2, 'arteriolar': 2, 'shear': 2, 'vitro': 2, 'bleed': 2, 'time': 2, 'inhibit': 2, 'significantly': 2, 'signal': 2, 'stroke': 2, 'treatment': 2, 'background': 1, 'ingestion': 1, 'report': 1, 'associate': 1, 'common': 1, 'nature': 1, 'exhibit': 1, 'property': 1, 'although': 1, 'process': 1, 'intimately': 1, 'relate': 1, 'unclear': 1, 'play': 1, 'role': 1, 'purpose': 1, 'aim': 1, 'examine': 1, 'method': 1, 'ass': 1, 'activity': 1, 'antithrombotic': 1, 'determine': 1, 'ferric': 1, 'chloride': 1, 'fecl3': 1, '-induced': 1, 'transection': 1, 'tail': 1, 'evaluate': 1, 'primary': 1, 'hemostasis': 1, 'impair': 1, 'collagen-related': 1, 'peptide-induced': 1, 'reactive': 1, 'oxygen': 1, 'specie': 1, 'generation': 1, 'intracellular': 1, 'outside-in': 1, 'αiibβ3': 1, 'concentration-dependent': 1, 'manner': 1, 'inhibitory': 1, 'inhibition': 1, 'glycoprotein': 1, 'vi-mediated': 1, 'transduction': 1, 'cell': 1, 'far': 1, 'derive': 1, 'decrease': 1, 'phosphorylation': 1, 'component': 1, 'tnf': 1, 'receptor-associated': 1, 'factor': 1, '4/p47phox/hic5': 1, 'axis': 1, 'signalosome': 1, 'oral': 1, 'administration': 1, 'efficiently': 1, 'block': 1, 'fecl3-induced': 1, 'without': 1, 'prolong': 1, 'model': 1, 'ischemia/reperfusion-induced': 1, 'indicate': 1, 'infarct': 1, 'volume': 1, 'conclusion': 1, 'our': 1, 'demonstrate': 1, 'could': 1, 'effective': 1, 'therapeutic': 1, 'agent': 1, 'thrombotic': 1})\n",
            "99.84% 확률로 연구 논문입니다.\n",
            "training vocab count 100 Counter({'quercitrin': 7, 'ccl4': 3, 'activity': 3, 'present': 2, 'induce': 2, 'brain': 2, 'mouse': 2, 'show': 2, 'suppress': 2, 'one': 1, 'primary': 1, 'flavonoid': 1, 'compound': 1, 'vegetable': 1, 'fruit': 1, 'the': 1, 'aim': 1, 'study': 1, 'evaluate': 1, 'effect': 1, 'carbon': 1, 'tetrachloride': 1, 'injury': 1, 'elucidate': 1, 'probable': 1, 'mechanism': 1, 'icr': 1, 'receive': 1, 'intraperitoneally': 1, 'without': 1, 'co-administration': 1, 'week': 1, 'our': 1, 'data': 1, 'significantly': 1, 'elevation': 1, 'reactive': 1, 'oxygen': 1, 'specie': 1, 'ro': 1, 'production': 1, 'malondialdehyde': 1, 'mda': 1, 'content': 1, 'reduce': 1, 'tissue': 1, 'plasminogen': 1, 'activator': 1, 't-pa': 1, 'enhance': 1, 'antioxidant': 1, 'enzyme': 1, 'abrogate': 1, 'cytochrome': 1, 'p450': 1, '2e1': 1, 'cyp2e1': 1, 'induction': 1, 'also': 1, 'prevent': 1, 'cerebral': 1, 'function': 1, 'disorder': 1, 'associate': 1, 'ability': 1, 'inhibit': 1, 'monoamine': 1, 'oxidase': 1, 'mao': 1, 'acetylcholine': 1, 'esterase': 1, 'ache': 1, 'n-methyl-d-aspartate': 1, 'receptor': 1, 'subunit': 1, 'nr2b': 1, 'addition': 1, 'western': 1, 'blot': 1, 'analysis': 1, 'release': 1, 'pro-inflammatory': 1, 'cytokine': 1, 'tumor': 1, 'necrosis': 1, 'factor': 1, 'alpha': 1, 'tnf-α': 1, 'interleukin-6': 1, 'il-6': 1, 'take': 1, 'together': 1, 'find': 1, 'suggest': 1, 'may': 1, 'potential': 1, 'candidate': 1, 'develop': 1, 'neuroprotective': 1, 'agent': 1})\n",
            "99.76% 확률로 연구 논문입니다.\n",
            "training vocab count 103 Counter({'fraction': 8, 'cordata': 8, 'the': 6, 'mhv': 6, 'activity': 4, 'flavonoid': 4, 'virus': 4, 'antiviral': 4, 'denv-2': 4, 'inhibit': 4, 'quercetin': 3, 'quercitrin': 3, 'test': 3, 'mouse': 3, 'acute': 3, 'toxicity': 3, 'cytotoxicity': 3, 'vitro': 2, 'rutin': 2, 'coronavirus': 2, 'dengue': 2, 'denv': 2, 'concentration': 2, 'cinanserin': 2, 'hydrochloride': 2, 'viral': 2, 'inhibitory': 2, 'μg/ml': 2, 'could': 2, 'efficacy': 2, 'objective': 1, 'evaluate': 1, 'ethyl': 1, 'acetate': 1, 'houttuynia': 1, 'thunb': 1, 'saururaceae': 1, 'three': 1, 'constituent': 1, 'murine': 1, 'method': 1, 'various': 1, 'ass': 1, 'use': 1, 'neutralization': 1, 'hepatitis': 1, 'type': 1, 'also': 1, 'oral': 1, 'c57bl/6': 1, 'result': 1, 'infectivity': 1, 'able': 1, 'ic50': 1, 'add': 1, 'adsorption': 1, 'stage': 1, '0.98': 1, '7.50': 1, 'absence': 1, 'feed': 1, '2000': 1, 'mg/kg': 1, 'induce': 1, 'sign': 1, 'normal': 1, 'histological': 1, 'feature': 1, 'major': 1, 'organ': 1, 'certain': 1, 'exhibit': 1, 'comparatively': 1, 'weak': 1, 'notably': 1, 'this': 1, 'follow': 1, 'whereas': 1, 'exert': 1, 'effect': 1, 'either': 1, 'when': 1, 'combine': 1, 'enhancement': 1, 'anti-denv-2': 1, 'reduce': 1, 'observe': 1, 'however': 1, 'synergistic': 1, 'combination': 1, 'still': 1, 'le': 1, 'conclusion': 1, 'compound': 1, 'contribute': 1, 'superior': 1, 'lack': 1, 'vivo': 1, 'much': 1, 'potential': 1, 'development': 1, 'agent': 1, 'infection': 1})\n",
            "99.39% 확률로 연구 논문입니다.\n",
            "training vocab count 106 Counter({'mesenteric': 6, 'colitis': 5, 'quercitrin': 4, 'vascular': 4, 'experimental': 3, 'bed': 3, 'early': 3, 'rat': 3, 'inos': 3, 'study': 2, 'model': 2, 'the': 2, 'reactivity': 2, 'vasoconstrictor': 2, 'agent': 2, 'alter': 2, 'stag': 2, 'alteration': 2, 'noradrenaline': 2, 'reduce': 2, 'revert': 2, 'non-selective': 2, 'inhibition': 2, 'tnfα': 2, 'il1β': 2, 'expression': 2, 'artery': 2, 'quercetin': 1, '3-rhamnoside': 1, 'bioflavonoid': 1, 'anti-inflammatory': 1, 'activity': 1, 'several': 1, 'suggest': 1, 'injury': 1, 'might': 1, 'primary': 1, 'process': 1, 'crohn': 1, 'disease': 1, 'information': 1, 'function': 1, 'aim': 1, 'analyse': 1, 'whether': 1, 'animal': 1, 'induce': 1, 'administration': 1, 'trinitrobenzenesulfonic': 1, 'acid': 1, 'tnbs': 1, 'pathology': 1, 'determine': 1, 'effect': 1, 'contraction': 1, 'produce': 1, 'kcl': 1, 'tnbs-induced': 1, 'this': 1, 'partially': 1, 'nitric': 1, 'oxide': 1, 'synthase': 1, 'no': 1, 'n-nitro-l-arginine': 1, 'methylester': 1, 'enhance': 1, 'cyclooxygenase': 1, 'cox': 1, 'indomethacin': 1, 'however': 1, 'endothelium-dependent': 1, 'relaxant': 1, 'response': 1, 'acetylcholine': 1, 'significantly': 1, 'cox-2': 1, 'nox-1': 1, 'tumor': 1, 'necrosis': 1, 'factor': 1, 'interleukin': 1, 'high': 1, 'tnbs-treated': 1, 'without': 1, 'change': 1, 'enos': 1, 'enos-ser1177': 1, 'phosphorylation': 1, 'vivo': 1, 'pre-treatment': 1, 'kg-1': 1, 'flavonoid': 1, 'hyporesponse': 1, 'up-regulation': 1, 'cox2': 1, 'nox1': 1, 'colitic': 1, 'conclusion': 1, 'improve': 1, 'impair': 1, 'acute': 1, 'phase': 1, 'least': 1, 'part': 1, 'overproduction': 1})\n",
            "96.53% 확률로 연구 논문입니다.\n",
            "training vocab count 86 Counter({'quercitrin': 10, 'hair': 6, 'growth': 6, 'increase': 5, 'stimulate': 4, 'culture': 4, 'cell': 4, 'the': 3, 'hdpcs': 3, 'present': 2, 'study': 2, 'hottuynia': 2, 'cordata': 2, 'extract': 2, 'activity': 2, 'human': 2, 'enhance': 2, 'cellular': 2, 'energy': 2, 'metabolism': 2, 'production': 2, 'expression': 2, 'marker': 2, 'follicle': 2, 'effect': 2, 'aim': 1, 'investigate': 1, 'molecular': 1, 'mechanism': 1, 'major': 1, 'constituent': 1, 'dermal': 1, 'papilla': 1, 'viability': 1, 'nad': 1, 'mitochondrial': 1, 'membrane': 1, 'potential': 1, 'bcl2': 1, 'essential': 1, 'anagen': 1, 'survival': 1, 'treatment': 1, 'also': 1, 'proliferation': 1, 'ki67': 1, 'factors-such': 1, 'bfgf': 1, 'kgf': 1, 'pdgf-aa': 1, 'vegf-were': 1, 'mrna': 1, 'protein': 1, 'level': 1, 'addition': 1, 'find': 1, 'phosphorylation': 1, 'akt': 1, 'erk': 1, 'creb': 1, 'inhibitor': 1, 'mapks': 1, 'reverse': 1, 'finally': 1, 'shaft': 1, 'our': 1, 'data': 1, 'obtain': 1, 'line': 1, 'previously': 1, 'report': 1, 'demonstrate': 1, 'one': 1, 'active': 1, 'compound': 1, 'show': 1, 'promote': 1, 'strongly': 1, 'suggest': 1, 'exert': 1, 'factor': 1, 'via': 1, 'activation': 1, 'mapk/creb': 1, 'signal': 1, 'pathway': 1})\n",
            "99.57% 확률로 연구 논문입니다.\n",
            "training vocab count 103 Counter({'quer': 8, 'mouse': 6, 'ovx': 5, 'postmenopausal': 4, 'woman': 4, 'lipid': 4, 'steatosis': 4, 'reduce': 4, 'liver': 3, 'nafld': 3, 'hepatic': 3, 'diet': 3, 'disease': 2, 'estrogen': 2, 'deficiency': 2, 'effect': 2, 'study': 2, 'improve': 2, 'dysregulated': 2, 'metabolism': 2, 'sham': 2, 'mg/kg': 2, 'level': 2, 'cholesterol': 2, 'nonalcoholic': 1, 'fatty': 1, 'associate': 1, 'progressive': 1, 'metabolic': 1, 'increase': 1, 'risk': 1, 'among': 1, 'thus': 1, 'effective': 1, 'agent': 1, 'prevent': 1, 'treat': 1, 'require': 1, 'quercitrin': 1, 'natural': 1, 'glycosylated': 1, 'flavonoid': 1, 'antimicrobial': 1, 'anti-inflammatory': 1, 'hypolipidemic': 1, 'this': 1, 'investigate': 1, 'whether': 1, 'suppress': 1, 'ovariectomized': 1, 'experimental': 1, 'model': 1, 'mimic': 1, 'assign': 1, 'follow': 1, 'four': 1, 'group': 1, 'β-estradiol': 1, '0.4': 1, '500': 1, 'administer': 1, 'without': 1, 'three': 1, 'month': 1, 'display': 1, 'significantly': 1, 'high': 1, 'body': 1, 'mass': 1, 'epidermal': 1, 'fat': 1, 'weight': 1, 'however': 1, 'quer-treated': 1, 'treatment': 1, 'serum': 1, 'metabolite': 1, 'include': 1, 'triglyceride': 1, 'total': 1, 'low-density': 1, 'lipoprotein': 1, 'furthermore': 1, 'inhibit': 1, 'expression': 1, 'proinflammatory': 1, 'cytokine': 1, 'tumor': 1, 'necrosis': 1, 'factor-α': 1, 'il-6': 1, 'il-1β': 1, 'the': 1, 'result': 1, 'present': 1, 'indicate': 1, 'inflammation': 1, 'compensate': 1, 'suggest': 1, 'may': 1, 'potentially': 1, 'exert': 1, 'protective': 1})\n",
            "99.29% 확률로 연구 논문입니다.\n",
            "training vocab count 77 Counter({'epithelial': 5, 'oral': 4, 'xpp': 3, 'expression': 3, 'mucosa': 2, 'graft': 2, 'epithelium': 2, 'use': 2, 'quality': 2, 'regeneration': 2, 'change': 2, 'gag': 2, 'marker': 2, 'substrate': 2, 'akt/mtor': 2, 'signal': 2, 'increase': 2, 'thickness': 2, 'identify': 1, 'substandard': 1, 'tissue-engineered': 1, 'poor': 1, 'clinical': 1, 'critical': 1, 'ensure': 1, 'assurance/control': 1, 'regenerative': 1, 'medicine': 1, 'lead': 1, 'success': 1, 'this': 1, 'study': 1, 'investigate': 1, 'effect': 1, 'one': 1, 'c-xylopyranoside': 1, 'derivative': 1, 'β-d-xylopyranoside-n-propane-2-one': 1, 'three-dimensional': 1, 'model': 1, 'analyze': 1, 'structure': 1, 'glycosaminoglycan': 1, 'synthesis': 1, 'level': 1, 'basement': 1, 'membrane': 1, 'zone': 1, 'compare': 1, 'control': 1, 'treatment': 1, 'mean': 1, 'minimal': 1, 'reduce': 1, 'variation': 1, 'also': 1, 'stimulate': 1, 'decorin': 1, 'syndecan-1': 1, 'amount': 1, 'and/or': 1, 'composition': 1, 'enhance': 1, 'integrin': 1, 'cd44': 1, 'these': 1, 'find': 1, 'suggest': 1, 'supplementation': 1, 'contribute': 1, 'consistent': 1, 'moreover': 1, 'upregulation': 1, 'may': 1, 'play': 1, 'role': 1, 'mucosal': 1})\n",
            "95.61% 확률로 연구 논문입니다.\n",
            "training vocab count 92 Counter({'arx': 6, 'the': 4, 'effect': 3, 'elegans': 3, 'life': 2, 'span': 2, 'suggest': 2, 'age': 2, 'novel': 2, 'phytomolecule': 2, 'dose': 2, 'study': 2, 'worm': 2, 'this': 2, 'advancement': 1, 'field': 1, 'gerontology': 1, 'unravel': 1, 'signal': 1, 'pathway': 1, 'regulate': 1, 'might': 1, 'feasible': 1, 'modulate': 1, 'end': 1, 'isolate': 1, 'acacetin': 1, '7-o-α-l-rhamnopyranosyl': 1, '1-2': 1, 'β-d-xylopyranoside': 1, 'premna': 1, 'integrifolia': 1, 'evaluate': 1, 'antiaging': 1, 'caenorhabditis': 1, 'spectral': 1, 'data': 1, 'analysis': 1, 'reveal': 1, 'occurrence': 1, 'new': 1, 'compound': 1, 'out': 1, 'three': 1, 'test': 1, 'pharmacological': 1, 'viz': 1, '25-µm': 1, 'able': 1, 'extend': 1, 'present': 1, 'affect': 1, 'bacterial': 1, 'metabolism': 1, 'turn': 1, 'lead': 1, 'dietary': 1, 'restriction': 1, '-like': 1, 'mutation': 1, 'mev-1': 1, 'eat-2': 1, 'sir-2.1': 1, 'skn-1': 1, 'daf-16': 1, 'hsf-1': 1, 'indicate': 1, 'arx-mediated': 1, 'life-span': 1, 'extension': 1, 'involve': 1, 'mechanism': 1, 'associate': 1, 'maintenance': 1, 'cellular': 1, 'redox': 1, 'homeostasis': 1, 'first': 1, 'time': 1, 'report': 1, 'longevity-promoting': 1, 'activity': 1, 'mediate': 1, 'stress': 1, 'dr-regulating': 1, 'gene': 1, 'contribute': 1, 'design': 1, 'therapeutic': 1, 'manage': 1, 'age-related': 1, 'disease': 1})\n",
            "82.88% 확률로 연구 논문입니다.\n",
            "training vocab count 95 Counter({'acid': 6, 'effect': 4, 'also': 3, 'caffeic': 2, 'natural': 2, 'moiety': 2, 'antioxidant': 2, 'display': 2, 'antiinflammatory': 2, 'conjugate': 2, 'brain': 2, 'anti-ad': 2, 'therapeutic': 2, 'potential': 2, 'common': 2, 'background': 1, 'relate': 1, 'phenylpropanoic': 1, 'ubiquitous': 1, 'product': 1, 'shikimic': 1, 'pathway': 1, 'origin': 1, 'due': 1, 'presence': 1, 'diorthohydroxyl': 1, 'aromatic': 1, 'catecholic': 1, 'one': 1, 'potent': 1, 'phenyl': 1, 'propanoids': 1, 'numerous': 1, 'pharmacological': 1, 'range': 1, 'anticancer': 1, 'objective': 1, 'recent': 1, 'study': 1, 'demonstrate': 1, 'free': 1, 'form': 1, 'group': 1, 'quinic': 1, 'sugar': 1, 'profound': 1, 'include': 1, 'protection': 1, 'toxicity': 1, 'induce': 1, 'variety': 1, 'agent': 1, 'and/or': 1, 'experimental': 1, 'model': 1, 'alzheimer': 1, 'disease': 1, 'communication': 1, 'two': 1, 'bioactive': 1, 'derivative': 1, 'chlorogenic': 1, 'cga': 1, 'phenethyl': 1, 'ester': 1, 'cape': 1, 'scrutinise': 1, 'review': 1, 'literature': 1, 'past': 1, 'ten': 1, 'year': 1, 'besides': 1, 'global': 1, 'specific': 1, 'mechanism': 1, 'along': 1, 'various': 1, 'process': 1, 'β-amyloid': 1, 'formation': 1, 'aggregation': 1, 'neurotoxicity': 1, 'target': 1, 'discus': 1, 'conclusion': 1, 'the': 1, 'mini-review': 1, 'provide': 1, 'insight': 1, 'enhance': 1, 'exist': 1, 'drug': 1, 'incorporate': 1, 'structural': 1})\n",
            "74.20% 확률로 연구 논문입니다.\n",
            "training vocab count 74 Counter({'acid': 6, 'antioxidant': 5, 'potential': 5, 'caffeic': 3, 'phenolic': 2, 'future': 2, 'research': 2, 'abundantly': 2, 'find': 2, 'oil': 2, 'food': 2, 'the': 1, 'purpose': 1, 'article': 1, 'summarize': 1, 'report': 1, 'activity': 1, 'naturally': 1, 'abundant': 1, 'bioactive': 1, '3,4-dihydroxycinnamic': 1, 'new': 1, 'avenue': 1, 'involve': 1, 'explore': 1, 'coffee': 1, 'fruit': 1, 'vegetable': 1, 'tea': 1, 'among': 1, 'nature': 1, 'hydroxycinnamic': 1, 'behavior': 1, 'reactive': 1, 'oxygen': 1, 'specie': 1, 'produce': 1, 'result': 1, 'endogenous': 1, 'process': 1, 'lead': 1, 'pathophysiological': 1, 'disturbance': 1, 'human': 1, 'body': 1, 'contain': 1, 'substance': 1, 'source': 1, 'free': 1, 'radical': 1, 'scavenge': 1, 'chemical': 1, 'know': 1, 'this': 1, 'review': 1, 'focus': 1, 'structure': 1, 'availability': 1, 'along': 1, 'mode': 1, 'action': 1, 'brief': 1, 'overview': 1, 'literature': 1, 'publish': 1, 'prooxidant': 1, 'well': 1, 'perspective': 1, 'describe': 1, 'effectively': 1, 'employ': 1, 'natural': 1, 'various': 1, 'product': 1})\n",
            "98.45% 확률로 연구 논문입니다.\n",
            "training vocab count 96 Counter({'caffeic': 9, 'acid': 9, 'chelate': 6, 'virus': 5, 'antiviral': 3, 'fe3+': 3, 'target': 3, 'property': 2, 'hsv': 2, 'pair': 2, 'the': 2, 'activity': 2, 'cellular': 2, 'toxicity': 2, 'test': 2, 'process': 2, 'organic': 1, 'compound': 1, 'caffeoyl': 1, 'moiety': 1, 'e.g': 1, 'rosmarinic': 1, 'chicoric': 1, 'etc': 1, 'towards': 1, 'herpes': 1, 'simplex': 1, 'influenza': 1, 'immunodeficiency': 1, 'hiv': 1, 'this': 1, 'study': 1, 'evaluate': 1, 'variety': 1, 'metal': 1, 'inorganic': 1, 'ion': 1, 'result': 1, 'demonstrate': 1, 'increase': 1, 'upwards': 1, '100-fold': 1, 'addition': 1, 'cation': 1, 'anionic': 1, 'molecule': 1, 'molybdate': 1, 'phosphate': 1, 'show': 1, 'low': 1, 'selectivity': 1, 'index': 1, 'td50/ec50': 1, 'moo42-': 1, 'po43-': 1, '1700': 1, '540': 1, 'respectively': 1, 'eight': 1, 'strain': 1, 'include': 1, 'different': 1, 'family': 1, 'mostly': 1, 'effective': 1, 'hsv1': 1, 'hsv2': 1, 'also': 1, 'moderate': 1, 'vaccinia': 1, 'vsv-ebola': 1, 'pseudotyped': 1, 'all': 1, 'strongly': 1, 'impact': 1, 'require': 1, 'heparan': 1, 'sulfate': 1, 'proteoglycans': 1, 'attachment': 1, 'likely': 1, 'interfere': 1, 'mechanism': 1, 'since': 1, 'extra-cellular': 1, 'might': 1, 'able': 1, 'combine': 1, 'exist': 1, 'medication': 1, 'acyclovir': 1, 'intracellular': 1, 'achieve': 1, 'great': 1, 'viral': 1, 'control': 1})\n",
            "75.85% 확률로 연구 논문입니다.\n",
            "training vocab count 88 Counter({'acid': 11, 'ester': 6, 'caffeic': 4, 'derivative': 4, 'methyl': 3, 'production': 3, 'compound': 3, 'isolate': 2, 'miltiorrhiza': 2, 'use': 2, 'determine': 2, 'value': 2, 'evaluate': 2, 'nitric': 2, 'oxide': 2, 'inos': 2, 'expression': 2, '8-epiblechnic': 2, 'lithospermic': 2, 'dimethyl': 2, 'inhibit': 2, 'ten': 1, '1-10': 1, 'root': 1, 'salvia': 1, 'various': 1, 'chromatographic': 1, 'method': 1, 'chemical': 1, 'structure': 1, 'spectroscopically': 1, 'elucidate': 1, 'the': 1, 'absolute': 1, 'configuration': 1, 'chiral': 1, 'center': 1, 'comparison': 1, 'report': 1, 'couple': 1, 'constant': 1, 'optical': 1, 'rotation': 1, 'technique': 1, 'anti-inflammatory': 1, 'activity': 1, 'inducible': 1, 'synthase': 1, 'cyclooxygenase': 1, 'cox': 1, 'inhibition': 1, 'assay': 1, 'heme': 1, 'oxygenase': 1, 'two': 1, 'new': 1, '9-methyl': 1, \"9'-methyl\": 1, 'eight': 1, 'know': 1, 'shimobashiric': 1, 'rosmarinic': 1, 'salvianolic': 1, 'salvianolate': 1, 'monomethyl': 1, 'lithospermate': 1, 'ethyl': 1, 'acetate': 1, 'fraction': 1, 'all': 1, 'inhibitory': 1, 'effect': 1, 'ic50': 1, '1.4': 1, '0.6': 1, 'respectively': 1, 'these': 1, 'also': 1, 'strongly': 1, 'cox-2': 1, 'addition': 1, 'induce': 1, 'ho-1': 1, 'concentration-dependent': 1, 'manner': 1, '0.1': 1, '0.3': 1, '1.0': 1})\n",
            "98.28% 확률로 연구 논문입니다.\n",
            "training vocab count 92 Counter({'acid': 8, 'cell': 6, 'gene': 5, 'caffeic': 4, 'gallic': 4, 'expression': 4, 'cancer': 3, 'concentration': 3, 'compound': 2, 'study': 2, 'possible': 2, 'effect': 2, 'apoptotic': 2, 'breast': 2, 'also': 2, 'ligand': 2, 'interaction': 2, 'inhibitory': 2, 'mcf-7': 2, 'different': 2, 'assay': 2, 'morphological': 2, 'change': 2, 'alteration': 2, 'p53': 2, 'mcl-1': 2, 'p21': 2, 'objective': 1, 'phenolic': 1, 'consider': 1, 'inhibitor': 1, 'various': 1, 'material': 1, 'method': 1, 'appraise': 1, 'line': 1, 'vitro': 1, 'evaluate': 1, 'bind': 1, 'estrogen': 1, 'receptor': 1, 'alpha': 1, 'molecular': 1, 'dock': 1, 'determine': 1, 'half': 1, 'maximal': 1, 'treat': 1, '5-dimethylthiazol-2-yl': 1, '5-diphenyltetrazolium': 1, 'bromide': 1, 'furthermore': 1, 'real-time': 1, 'rt-pcr': 1, 'protein': 1, 'network': 1, 'desire': 1, 'analyze': 1, 'use': 1, 'genemania': 1, 'database': 1, 'result': 1, 'evaluation': 1, 'survival': 1, 'mtt': 1, 'reveal': 1, 'half-maximal': 1, 'value': 1, '159': 1, 'µg/ml': 1, 'respectively': 1, 'these': 1, 'find': 1, 'affect': 1, 'probably': 1, 'occur': 1, 'along': 1, 'activation': 1, 'intrinsic': 1, 'signal': 1, 'pathway': 1, 'conclusion': 1, 'via': 1, 'apoptosis': 1, 'induction': 1, 'induce': 1, 'toxic': 1, 'suggest': 1, 'future': 1, 'application': 1, 'antitumor': 1, 'agent': 1})\n",
            "99.35% 확률로 연구 논문입니다.\n",
            "training vocab count 114 Counter({'test': 6, 'caffeic': 5, 'acid': 5, 'mouse': 4, 'rotenone': 3, 'microglia': 3, 'rotenone-induced': 3, 'motor': 3, 'highlight': 3, 'anti-inflammatory': 2, 'property': 2, 'neuroprotective': 2, 'neurodegeneration': 2, 'mg/kg': 2, 'result': 2, 'inflammatory': 2, 'immunostaining': 2, 'activity': 2, 'background': 1, 'phenethyl': 1, 'ester': 1, 'find': 1, 'honey': 1, 'bee': 1, 'propolis': 1, 'immunomodulatory': 1, 'anti-cancer': 1, 'pesticide': 1, 'commonly': 1, 'use': 1, 'induce': 1, 'experimental': 1, 'parkinson': 1, 'disease': 1, 'due': 1, 'complex': 1, 'inhibition': 1, 'activate': 1, 'the': 1, 'current': 1, 'study': 1, 'examine': 1, 'effect': 1, 'group': 1, 'seven': 1, 'method': 1, 'receive': 1, 'protective': 1, 'dose': 1, '2.5': 1, 'daily': 1, 'nine': 1, 'injection': 1, 'subcutaneously': 1, 'every': 1, 'behavioral': 1, 'evaluation': 1, 'function': 1, 'do': 1, 'battery': 1, 'include': 1, 'open-field': 1, 'cylinder': 1, 'pole': 1, 'rotarod': 1, 'show': 1, 'impairment': 1, 'assay': 1, 'striatal': 1, 'dopamine': 1, 'significant': 1, 'decrease': 1, 'increase': 1, 'marker': 1, 'addition': 1, 'histopathological': 1, 'assessment': 1, 'substantia': 1, 'nigra': 1, 'neuron': 1, 'demonstrate': 1, 'low': 1, 'tyrosine': 1, 'hydroxylase': 1, 'treat': 1, 'pcr': 1, 'analysis': 1, 'upregulation': 1, 'gene': 1, 'encode': 1, 'cd11b': 1, 'surface': 1, 'antigen': 1, 'cyclooxygenase-2': 1, 'cox-2': 1, 'inducible': 1, 'nitric': 1, 'oxide': 1, 'synthase': 1, 'inos': 1, 'nuclear': 1, 'factor-κb': 1, 'nfκb': 1, 'treatment': 1, 'amend': 1, 'deficit': 1, 'lessen': 1, 'expression': 1, 'mediator': 1, 'improve': 1, 'nigral': 1, 'conclusion': 1, 'these': 1, 'confirm': 1})\n",
            "98.74% 확률로 연구 논문입니다.\n",
            "training vocab count 69 Counter({'diabetic': 7, 'level': 6, 'kidney': 5, 'caffeic': 4, 'acid': 4, 'mir-636': 4, 'expression': 4, 'rat': 4, 'blood': 4, 'regulate': 3, 'streptozotocin-induced': 2, 'treatment': 2, 'glucose': 2, 'determine': 2, 'histological': 2, 'nephropathy': 2, 'renal': 2, 'significantly': 2, 'investigate': 1, 'action': 1, 'orally': 1, 'treat': 1, 'mg/kg/day': 1, 'week': 1, 'end': 1, 'body': 1, 'weight': 1, 'urine': 1, 'collect': 1, 'biochemical': 1, 'examination': 1, 'liver': 1, 'qrt-pcr': 1, 'induction': 1, 'streptozotocin': 1, 'evidence': 1, 'display': 1, 'elevate': 1, 'serum': 1, 'creatinine': 1, 'urea': 1, 'nitrogen': 1, 'microalbuminuria': 1, 'urinary': 1, 'albumin/creatinine': 1, 'ratio': 1, 'addition': 1, 'hypotrophy': 1, 'ameliorate': 1, 'damage': 1, 'decrease': 1, 'fast': 1, 'cholesterol': 1, 'triglyceride': 1, 'improve': 1, 'architecture': 1, 'comparison': 1, 'healthy': 1, 'group': 1, 'overall': 1, 'involve': 1, 'development': 1, 'might': 1, 'therefore': 1, 'potential': 1, 'attractive': 1, 'therapeutic': 1, 'agent': 1, 'pursue': 1})\n",
            "99.55% 확률로 연구 논문입니다.\n",
            "training vocab count 124 Counter({'the': 8, 'release': 8, 'use': 6, 'film': 6, 'emulsion': 5, 'formulation': 5, 'acid': 4, 'skin': 4, 'permeation': 4, 'high': 4, 'caffeic': 3, 'safe': 3, 'transportation': 3, 'aim': 2, 'product': 2, 'antioxidant': 2, 'activity': 2, 'collagen': 2, 'production': 2, 'due': 2, 'facile': 2, 'retention': 2, 'evaluation': 2, 'diffusion': 2, 'membrane': 2, 'active': 2, 'concentration': 2, 'this': 2, 'demonstrate': 2, 'great': 2, 'efficiency': 2, 'type': 2, 'innovative': 2, 'system': 2, 'objective': 1, 'cinnamic': 1, 'derivative': 1, 'find': 1, 'many': 1, 'vegetable': 1, 'powerful': 1, 'ability': 1, 'increase': 1, 'capacity': 1, 'prevent': 1, 'premature': 1, 'age': 1, 'classic': 1, 'widely': 1, 'consumer': 1, 'provide': 1, 'pleasant': 1, 'refresh': 1, 'sensorial': 1, 'experience': 1, 'however': 1, 'preparation': 1, 'develop': 1, 'form': 1, 'dry': 1, 'present': 1, 'technological': 1, 'alternative': 1, 'study': 1, 'evaluate': 1, 'vitro': 1, 'experiment': 1, 'material': 1, 'method': 1, 'perform': 1, 'modify': 1, 'franz': 1, 'cell': 1, 'area': 1, '1.77': 1, 'cm²': 1, 'microette': 1, 'equipment': 1, 'hanson': 1, 'research': 1, 'cellulose': 1, 'conduct': 1, 'similar': 1, 'technique': 1, 'except': 1, 'biological': 1, 'result': 1, 'compound': 1, 'reduce': 1, 'observe': 1, 'indicate': 1, 'able': 1, 'retain': 1, 'epidermis/dermis': 1, 'desire': 1, 'action': 1, 'besides': 1, 'conclusion': 1, 'test': 1, 'paper': 1, 'higuchi': 1, 'kinetic': 1, 'profile': 1, 'ingredient': 1, 'occur': 1, 'process': 1, 'exhibit': 1, 'low': 1, 'rate': 1, 'essential': 1, 'cosmetic': 1, 'also': 1, 'compare': 1, 'addition': 1, 'easy': 1, 'therefore': 1, 'possible': 1, 'suggest': 1, 'promise': 1, 'substance': 1, 'dermal': 1, 'anti-inflammatory': 1, 'antimicrobial': 1, 'stimulate': 1})\n",
            "99.80% 확률로 연구 논문입니다.\n",
            "training vocab count 83 Counter({'compound': 8, 'activity': 7, 'the': 4, 'cytotoxicity': 4, 'panamensis': 3, 'cruzi': 3, '19-22': 3, '28-30': 3, 'show': 3, 'anti-leishmanial': 2, 'anti-trypanosomal': 2, 'hybrid': 2, 'synthesize': 2, 'evaluate': 2, 'specie': 2, 'human': 2, 'eight': 2, 'active': 2, 'high': 2, 'benznidazole': 2, 'bnz': 2, 'alkyl': 2, 'chain': 2, 'synthesis': 1, 'twelve': 1, 'triclosan-caffeic': 1, 'acid': 1, 'describe': 1, 'herein': 1, 'structure': 1, 'product': 1, 'elucidate': 1, 'combination': 1, 'spectrometric': 1, 'analyse': 1, 'amastigotes': 1, 'form': 1, 'prevalent': 1, 'leishmania': 1, 'colombia': 1, 'trypanosoma': 1, 'pathogenic': 1, 'u-937': 1, 'macrophage': 1, '18-23': 1, 'ec50': 1, 'value': 1, 'low': 1, 'ester': 1, '3.82': 1, '11.65': 1, '8.25': 1, '8.69': 1, 'respectively': 1, 'most': 1, 'antiprotozoal': 1, 'exception': 1, 'remain': 1, 'toxic': 1, 'mammalian': 1, 'cell': 1, 'yet': 1, 'potential': 1, 'consider': 1, 'candidate': 1, 'drug': 1, 'development': 1, 'dependent': 1, 'length': 1, 'linker': 1, 'bear': 1, 'four-carbon': 1, 'perform': 1, 'general': 1, 'hydroxyl': 1, 'group': 1, 'increase': 1, 'presence': 1, 'double': 1, 'bond': 1, 'side': 1, 'decisive': 1, 'anti-protozoal': 1})\n",
            "84.67% 확률로 연구 논문입니다.\n",
            "training vocab count 94 Counter({'liver': 5, 'injury': 5, 'nadph': 4, 'oxidase': 4, 'i/r': 3, 'transplant': 2, 'transplantation': 2, 'graft': 2, 'rat': 2, 'hl7702': 2, 'cell': 2, 'increase': 2, 'pdia3': 2, 'activity': 2, 'the': 1, 'inevitably': 1, 'suffer': 1, 'ischemia': 1, 'reperfusion': 1, 'represent': 1, 'key': 1, 'issue': 1, 'clinical': 1, 'determine': 1, 'early': 1, 'outcome': 1, 'long-term': 1, 'survival': 1, 'solution': 1, 'need': 1, 'deal': 1, 'insult': 1, 'this': 1, 'study': 1, 'undertake': 1, 'explore': 1, 'effect': 1, 'caffeic': 1, 'acid': 1, 'naturally': 1, 'occur': 1, 'antioxidant': 1, 'mechanism': 1, 'involve': 1, 'male': 1, 'sprague-dawley': 1, 'undergo': 1, 'orthotopic': 1, 'absence': 1, 'presence': 1, 'administration': 1, 'vitro': 1, 'subject': 1, 'hypoxia/reoxygenation': 1, 'lead': 1, 'apparent': 1, 'hepatic': 1, 'manifest': 1, 'deteriorate': 1, 'function': 1, 'microcirculatory': 1, 'disturbance': 1, 'apoptosis': 1, 'along': 1, 'expression': 1, 'nicotinamide': 1, 'adenosine': 1, 'dinucleotide': 1, 'phosphate': 1, 'membrane': 1, 'translocation': 1, 'subunit': 1, 'treatment': 1, 'attenuate': 1, 'alteration': 1, 'sirna/shrna-mediated': 1, 'knockdown': 1, 'play': 1, 'role': 1, 'inhibit': 1, 'ro': 1, 'production': 1, 'also': 1, 'alleviate': 1, 'hepatocytes': 1, 'protect': 1, 'likely': 1, 'attribute': 1, 'protection': 1, 'oxidative': 1, 'damage': 1, 'interfere': 1, 'pdia3-dependent': 1, 'activation': 1})\n",
            "98.92% 확률로 연구 논문입니다.\n",
            "training vocab count 98 Counter({'renal': 7, 'cel': 4, 'rat': 3, 'role': 2, 'this': 2, 'study': 2, 'evaluate': 2, 'combination': 2, 'ir-induced': 2, 'arf': 2, 'group': 2, 'scr': 2, 'bun': 2, 'antioxidant': 2, 'enzyme': 2, 'tnf-α': 2, 'change': 2, 'kidney': 2, 'significant': 2, 'decrease': 2, 'background': 1, 'cyclooxygenase': 1, 'cox': 1, '-lipooxygenase': 1, 'lox': 1, 'pathway': 1, 'play': 1, 'key': 1, 'pathogenesis': 1, 'ischemia/reperfusion': 1, 'objective': 1, 'aim': 1, 'dietary': 1, 'phenol': 1, 'caffeic': 1, 'acid': 1, 'alone': 1, 'selective': 1, 'cox-2': 1, 'inhibitor': 1, 'celecoxib': 1, 'acute': 1, 'failure': 1, 'material': 1, 'method': 1, 'induce': 1, 'bilateral': 1, 'occlusion': 1, 'pedicel': 1, 'min': 1, 'follow': 1, 'reperfusion': 1, 'randomize': 1, 'sham': 1, 'day': 1, 'treatment': 1, 'serum': 1, 'creatinine': 1, 'blood': 1, 'urea': 1, 'nitrogen': 1, 'tumor': 1, 'necrosis': 1, 'factor': 1, 'alpha': 1, 'histopathological': 1, 'result': 1, 'cause': 1, 'derangement': 1, 'function': 1, 'histology': 1, 'increase': 1, 'lipid': 1, 'peroxidation': 1, 'defense': 1, 'activity': 1, 'observe': 1, 'pretreatment': 1, 'show': 1, 'oxidative': 1, 'stress': 1, 'marker': 1, 'correct': 1, 'histological': 1, 'conclusion': 1, 'demonstrate': 1, 'renoprotective': 1, 'potential': 1, 'the': 1, 'plausible': 1, 'mechanism': 1, 'efficacy': 1, 'could': 1, 'attribute': 1, 'ability': 1, 'modulate': 1, '-cox-lox': 1, 'system': 1})\n",
            "96.48% 확률로 연구 논문입니다.\n",
            "training vocab count 124 Counter({'threonate': 12, 'l-tams': 7, 'ability': 4, 'effect': 4, 'oral': 3, 'memory': 3, 'human': 3, 'cognitive': 3, 'synapse': 3, 'density': 3, 'the': 3, 'elevate': 3, 'administration': 2, 'magnesium': 2, 'enhance': 2, 'learn': 2, 'rat': 2, 'result': 2, 'neuronal': 2, 'intracellular': 2, 'role': 2, 'mediate': 2, 'current': 2, 'study': 2, 'unique': 2, 'directly': 2, 'csf': 2, 'treatment': 2, 'culture': 2, 'neuron': 2, 'increase': 2, 'combination': 1, 'l-threonate': 1, 'form': 1, 'l-threonic': 1, 'acid': 1, 'salt': 1, 'young': 1, 'prevent': 1, 'decline': 1, 'age': 1, 'alzheimer': 1, 'disease': 1, 'model': 1, 'mouse': 1, 'recent': 1, 'clinical': 1, 'trial': 1, 'demonstrate': 1, 'efficacy': 1, 'restore': 1, 'global': 1, 'old': 1, 'adult': 1, 'previously': 1, 'report': 1, 'serve': 1, 'critical': 1, 'signal': 1, 'molecule': 1, 'control': 1, 'key': 1, 'factor': 1, 'determine': 1, 'elevation': 1, 'brain': 1, 'intact': 1, 'animal': 1, 'play': 1, 'significant': 1, 'therapeutic': 1, 'seek': 1, 'elucidate': 1, 'aim': 1, 'understand': 1, 'act': 1, 'intraneuronal': 1, 'give': 1, 'without': 1, 'ineffective': 1, 'discover': 1, 'naturally': 1, 'present': 1, 'cerebrospinal': 1, 'fluid': 1, 'hippocampal': 1, 'induce': 1, 'concentration': 1, 'functionally': 1, 'upregulated': 1, 'expression': 1, 'nr2b-containing': 1, 'nmdar': 1, 'boost': 1, 'mitochondrial': 1, 'membrane': 1, 'potential': 1, 'δψm': 1, 'functional': 1, 'these': 1, 'common': 1, 'anion': 1, 'fail': 1, 'mechanistically': 1, 'specifically': 1, 'glucose': 1, 'transporter': 1, 'glut': 1, 'also': 1, 'evaluate': 1, 'neural': 1, 'stem': 1, 'cell-derived': 1, 'find': 1, 'equally': 1, 'effective': 1, 'upregulating': 1, 'provide': 1, 'explanation': 1, 'essential': 1, 'component': 1, 'support': 1, 'use': 1, 'promote': 1})\n",
            "93.70% 확률로 비연구 논문입니다.\n",
            "training vocab count 118 Counter({'vincristine': 5, 'induce': 5, 'tumor': 5, 'necrosis': 5, 'factor-κb': 5, 'magnesium': 4, 'factor-α/nuclear': 4, 'prevent': 4, 'neuropathic': 3, 'pain': 3, 'deficiency': 3, 'injection': 3, 'day': 3, 'nociceptive': 3, 'sensitization': 3, 'activate': 3, 'signal': 3, 'dorsal': 3, 'oral': 3, 'magnesium-l-threonate': 3, 'intracellular': 2, 'free': 2, 'reduce': 2, 'root': 2, 'ganglion': 2, 'neuron': 2, 'c-fiber': 2, 'n-methyl-d-aspartate': 2, 'receptor': 2, 'lead': 2, 'spinal': 2, 'pathologic': 2, 'plasticity': 2, 'background': 1, 'antineoplastic': 1, 'agent': 1, 'include': 1, 'often': 1, 'clinically': 1, 'causal': 1, 'link': 1, 'determine': 1, 'drug': 1, 'available': 1, 'treat': 1, 'form': 1, 'method': 1, '0.1': 1, 'intraperitoneally': 1, 'use': 1, 'access': 1, 'von': 1, 'frey': 1, 'hair': 1, 'plantar': 1, 'tester': 1, 'adult': 1, 'male': 1, 'sprague-dawley': 1, 'rat': 1, 'magnesium-l-': 1, 'threonate': 1, 'administer': 1, 'drink': 1, 'water': 1, '604': 1, 'extracellular': 1, 'measure': 1, 'calmagite': 1, 'chromometry': 1, 'flow': 1, 'cytometry': 1, 'molecular': 1, 'biologic': 1, 'electrophysiologic': 1, 'experiment': 1, 'perform': 1, 'expose': 1, 'underlie': 1, 'mechanism': 1, 'result': 1, 'allodynia': 1, 'hyperalgesia': 1, 'cerebrospinal': 1, 'fluid': 1, '21.7': 1, '6.3': 1, 'mean': 1, 'culture': 1, 'application': 1, 'attenuate': 1, 'activation': 1, 'mechanistically': 1, 'long-term': 1, 'potentiation': 1, 'synapsis': 1, 'up-regulated': 1, 'type': 1, 'subunit': 1, 'peptidergic': 1, 'sprout': 1, 'horn': 1, 'the': 1, 'vincristine-induced': 1, 'block': 1, 'intrathecal': 1, 'nuclear': 1, 'inhibitor': 1, 'mimic': 1, 'factor-α': 1, 'substantially': 1, 'conclusion': 1, 'may': 1, 'pathway': 1, 'reduction': 1, 'novel': 1, 'approach': 1, 'chemotherapy': 1})\n",
            "95.56% 확률로 연구 논문입니다.\n",
            "training vocab count 108 Counter({'mgt': 9, 'mgso4': 6, 'the': 5, 'csf': 4, 'mouse': 4, 'concentration': 3, 'mptp': 3, 'cell': 3, 'expression': 3, 'inos': 3, 'increase': 3, 'treatment': 3, 'associate': 2, 'administration': 2, 'week': 2, 'open-field': 2, 'rotarod': 2, 'test': 2, 'level': 2, 'snpc': 2, 'measure': 2, 'group': 2, 'attenuate': 2, 'loss': 2, 'th-positive': 2, 'neuron': 2, 'purpose': 1, 'epidemiology': 1, 'research': 1, 'demonstrate': 1, 'magnesium': 1, 'deficiency': 1, 'high': 1, 'incidence': 1, 'parkinson': 1, 'disease': 1, 'know': 1, 'systemic': 1, 'able': 1, 'elevate': 1, 'cerebrospinal': 1, 'fluid': 1, 'this': 1, 'study': 1, 'aim': 1, 'verify': 1, 'protective': 1, 'effect': 1, 'magnesium-l-threonate': 1, '1-methyl-4-phenyl-1': 1, '6-tetrahydropyridine': 1, 'model': 1, 'method': 1, 'c57bl/6j': 1, 'orally': 1, 'administer': 1, 'receive': 1, 'third': 1, 'after': 1, 'analysis': 1, 'last': 1, 'day': 1, 'tyrosine': 1, 'hydroxylase': 1, 'immunopositive': 1, 'protein': 1, 'quantify': 1, 'substantia': 1, 'nigra': 1, 'par': 1, 'compacta': 1, 'striatum': 1, 'inducible': 1, 'nitric': 1, 'oxide': 1, 'synthase': 1, 'evaluate': 1, 'serum': 1, 'oral': 1, 'normal': 1, 'treat': 1, 'result': 1, 'total': 1, 'distance': 1, 'mean': 1, 'speed': 1, 'time': 1, 'spend': 1, 'compare': 1, 'dose-dependently': 1, 'reduction': 1, 'also': 1, 'inhibit': 1, 'immunohistochemistry': 1, 'western': 1, 'blot': 1, 'double-immunofluorescence': 1, 'stain': 1, 'show': 1, 'inos-positive': 1, 'collocalized': 1, 'conclusion': 1, 'rather': 1, 'significantly': 1, 'mptp-induced': 1, 'motor': 1, 'deficit': 1, 'dopamine': 1})\n",
            "73.17% 확률로 비연구 논문입니다.\n",
            "training vocab count 124 Counter({'salicin': 9, 'il-1β-induced': 5, 'cell': 4, 'retinal': 3, 'endothelial': 3, 'recs': 3, 'vascular': 3, 'adhesion': 3, 'disease': 2, 'show': 2, 'agent': 2, 'protective': 2, 'indicate': 2, 'presence': 2, 'cellular': 2, 'production': 2, 'mitochondrial': 2, 'reveal': 2, 'potential': 2, 'cytokine': 2, 'molecule': 2, 'protein': 2, 'nitric': 2, 'oxide': 2, 'release': 2, 'nuclear': 2, 'nf-κb': 2, 'involve': 1, 'many': 1, 'ocular': 1, 'age-related': 1, 'macular': 1, 'degeneration': 1, 'amd': 1, 'diabetic': 1, 'retinopathy': 1, 'major': 1, 'ingredient': 1, 'willow': 1, 'bark': 1, 'extract': 1, 'potent': 1, 'anti-inflammatory': 1, 'aim': 1, 'explore': 1, 'whether': 1, 'effect': 1, 'our': 1, 'data': 1, 'culture': 1, 'medium': 1, 'ameliorate': 1, 'interleukin-1β': 1, 'il-1β': 1, '-induced': 1, 'reactive': 1, 'oxygen': 1, 'specie': 1, 'ro': 1, 'nadph': 1, 'oxidase': 1, 'nox-4': 1, 'expression': 1, 'level': 1, 'attenuate': 1, 'injury': 1, 'preservation': 1, 'membrane': 1, 'mmp': 1, 'furthermore': 1, 'inhibit': 1, 'pro-inflammatory': 1, 'tumor': 1, 'necrosis': 1, 'factor-α': 1, 'tnf-α': 1, 'interleukin-6': 1, 'il-6': 1, 'monocyte': 1, 'chemoattractant': 1, 'protein-1': 1, 'mcp-1': 1, 'intercellular': 1, 'molecule-1': 1, 'icam-1': 1, 'vcam-1': 1, 'high-mobility': 1, 'group': 1, 'hmgb-1': 1, 'hand': 1, 'recover': 1, 'reduction': 1, 'synthase': 1, 'enos': 1, 'the': 1, 'significantly': 1, 'reduce': 1, 'lactate': 1, 'dehydrogenase': 1, 'ldh': 1, 'mitigate': 1, 'cause': 1, 'cytotoxicity': 1, 'mechanistically': 1, 'suppress': 1, 'activation': 1, 'factor-kappa': 1, 'signal': 1, 'suppression': 1, 'p65': 1, 'transfected': 1, 'promoter': 1, 'collectively': 1, 'study': 1, 'demonstrate': 1, 'multiple': 1, 'facet': 1, 'mechanism': 1, 'these': 1, 'result': 1, 'imply': 1, 'use': 1, 'therapeutic': 1, 'usage': 1})\n",
            "99.78% 확률로 연구 논문입니다.\n",
            "training vocab count 98 Counter({'0.01': 7, 'ra-flss': 5, 'salicin': 5, 'arthritis': 4, 'oxidative': 4, 'reduce': 4, 'rheumatoid': 3, 'stress': 3, 'il-1β-induced': 3, 'tissue': 3, 'inflammatory': 2, 'cell': 2, 'ng/l': 2, 'expression': 2, 'ro': 2, 'nmol/g': 2, 'chronic': 1, 'disorder': 1, 'link': 1, 'fibroblast-like': 1, 'synoviocytes': 1, 'the': 1, 'effect': 1, 'potential': 1, 'mechanism': 1, 'inflammation': 1, 'examine': 1, 'mtt': 1, 'elisa': 1, 'western': 1, 'blot': 1, 'method': 1, 'significantly': 1, 'viability': 1, '82.03': 1, '7.06': 1, 'cytokine': 1, '47.70': 1, '1.48': 1, 'tnf-α': 1, '30.03': 1, '3.49': 1, 'il-6': 1, 'matrix': 1, 'metalloproteinases-1/-3': 1, 'inhibit': 1, 'generation': 1, 'p65': 1, 'phosphorylation': 1, 'compare': 1, 'treatment': 1, 'moreover': 1, 'promote': 1, 'nrf2': 1, 'nuclear': 1, 'translocation': 1, '2.15': 1, '0.21': 1, 'ho-1': 1, '1.12': 1, '0.05': 1, 'production': 1, 'collagen-induced': 1, 'clinical': 1, 'score': 1, 'infiltration': 1, 'synovial': 1, 'hyperplasia': 1, 'vivo': 1, 'also': 1, 'suppress': 1, 'damage': 1, 'index': 1, 'sod': 1, '155.40': 1, '6.53': 1, 'u/mg': 1, 'mda': 1, '152.80': 1, '5.89': 1, 'gsh': 1, '50.98': 1, '3.45': 1, 'cat': 1, '0.92': 1, '0.10': 1, 'u/g': 1, 'protein': 1, 'ankle': 1, 'joint': 1, 'conclusively': 1, 'find': 1, 'indicate': 1, 'ameliorate': 1, 'may': 1, 'associate': 1, 'nrf2-ho-1-ros': 1, 'pathway': 1})\n",
            "99.67% 확률로 연구 논문입니다.\n",
            "training vocab count 93 Counter({'cancer': 6, 'drug': 5, 'anticancer': 5, 'tumor': 4, 'salicin': 4, 'fenofibrate': 4, 'cell': 3, 'use': 3, 'activity': 3, 'level': 3, 'reduce': 3, 'addition': 2, 'possible': 2, 'two': 2, 'clinically': 2, 'antioxidant': 2, 'agent': 2, 'vivo': 2, 'line': 2, 'panc-1': 2, 'show': 2, 'content': 2, 'refer': 1, 'disorder': 1, 'proliferation': 1, 'lead': 1, 'production': 1, 'usually': 1, 'treat': 1, 'surgery': 1, 'chemotherapeutic': 1, 'radiation': 1, 'despite': 1, 'presence': 1, 'many': 1, 'still': 1, 'uncontrolled': 1, 'disease': 1, 'major': 1, 'cause': 1, 'death': 1, 'worldwide': 1, 'severe': 1, 'side': 1, 'effect': 1, 'limit': 1, 'patient': 1, 'this': 1, 'study': 1, 'aim': 1, 'investigate': 1, 'natural': 1, 'antihyperlipidemic': 1, 'breast': 1, 'model': 1, 'eac': 1, 'vitro': 1, 'mcf7': 1, 'pancreatic': 1, '.our': 1, 'result': 1, 'exert': 1, 'evidence': 1, 'decrease': 1, 'weight': 1, 'volume': 1, 'cea': 1, 'cholesterol': 1, 'mda': 1, 'increase': 1, 'gsh': 1, 'catalase': 1, 'antiinflammatory': 1, 'tnf-∝': 1, 'cytotoxic': 1, 'mcf-7': 1, 'activation': 1, 'caspase': 1, '3/7': 1, 'apoptotic': 1, 'pathway.in': 1, 'conclusion': 1, 'promise': 1, 'already': 1, 'acceptable': 1, 'safety': 1, 'profile': 1, 'incorporate': 1, 'clinical': 1, 'trial': 1, 'determine': 1, 'application': 1, 'treatment': 1})\n",
            "97.32% 확률로 연구 논문입니다.\n",
            "training vocab count 83 Counter({'age': 3, 'degradation': 3, 'type': 3, 'proinflammatory': 3, 'salicin': 3, 'osteoarthritis': 2, 'may': 2, 'collagen': 2, 'aggrecan': 2, 'matrix': 2, 'induce': 2, 'activation': 2, 'nf-κb': 2, 'pathway': 2, 'expression': 2, 'cytokine': 2, 'chondrocytes': 2, 'major': 1, 'age-related': 1, 'disease': 1, 'cause': 1, 'accumulation': 1, 'advance': 1, 'glycation': 1, 'end-products': 1, 'excessive': 1, 'metalloproteinases': 1, 'mmps': 1, 'disintegrin': 1, 'metalloproteinase': 1, 'thrombospondin': 1, 'motif': 1, 'adamts': 1, 'pivotal': 1, 'event': 1, 'pathogenesis': 1, 'addition': 1, 'nuclear': 1, 'factor-κb': 1, 'cascade': 1, 'interleukin': 1, '-1β': 1, 'tumor': 1, 'necrosis': 1, 'factor-α': 1, 'tnf-α': 1, 'present': 1, 'study': 1, 'investigate': 1, 'effect': 1, 'one': 1, 'main': 1, 'constituent': 1, 'aspirin': 1, 'derivative': 1, 'alangium': 1, 'chinense': 1, 'age-induced': 1, 'articular': 1, 'extracellular': 1, 'sw1353': 1, 'human': 1, 'our': 1, 'find': 1, 'reveal': 1, 'novel': 1, 'beneficial': 1, 'role': 1, 'rescue': 1, 'reduce': 1, 'oxidative': 1, 'stress': 1, 'attenuate': 1, 'inhibit': 1, 'signal': 1, 'stimulate': 1, 'thus': 1, 'potential': 1, 'safe': 1, 'effective': 1, 'therapy': 1, 'development': 1, 'progression': 1})\n",
            "99.77% 확률로 연구 논문입니다.\n",
            "training vocab count 63 Counter({'disease': 4, 'virus': 4, 'antiviral': 4, 'gtcs': 4, 'effect': 3, 'infectious': 2, 'cause': 2, 'health': 2, 'development': 2, 'egcg': 2, 'over': 1, 'century': 1, 'seriously': 1, 'threaten': 1, 'human': 1, 'globally': 1, 'responsible': 1, 'acute': 1, 'infection': 1, 'also': 1, 'many': 1, 'chronic': 1, 'prevent': 1, 'discovery': 1, 'effective': 1, 'drug': 1, 'addition': 1, 'vaccine': 1, 'important': 1, 'green': 1, 'tea': 1, 'catechin': 1, 'polyphenolic': 1, 'compound': 1, 'leave': 1, 'camelliasinensis': 1, 'recent': 1, 'decade': 1, 'report': 1, 'provide': 1, 'various': 1, 'benefit': 1, 'numerous': 1, 'study': 1, 'show': 1, 'especially': 1, 'epigallocatechin-3-gallate': 1, 'diverse': 1, 'the': 1, 'aim': 1, 'review': 1, 'summarize': 1, 'regard': 1, 'activity': 1, 'discus': 1, 'mechanism': 1, 'underlie': 1, 'offer': 1, 'suggestion': 1, 'future': 1, 'research': 1, 'direction': 1, 'perspective': 1})\n",
            "98.03% 확률로 연구 논문입니다.\n",
            "training vocab count 117 Counter({'effect': 6, 'treatment': 5, 'catechin': 5, 'antioxidant': 4, 'acetyl': 4, 'contact': 3, 'dermatitis': 3, 'new': 3, 'derivative': 3, 'methyl': 3, 'order': 2, 'increase': 2, 'use': 2, 'study': 2, 'examine': 2, 'anti-inflammatory': 2, '-catechin': 2, 'modify': 2, 'dnfb': 2, 'mouse': 2, 'demonstrate': 2, 'ear': 2, 'common': 1, 'skin': 1, 'disease': 1, 'various': 1, 'available': 1, 'dermatologist': 1, 'accord': 1, 'general': 1, 'guideline': 1, 'first': 1, 'line': 1, 'involve': 1, 'topical': 1, 'steroid': 1, 'however': 1, 'application-site': 1, 'restriction': 1, 'avoid': 1, 'adverse': 1, 'cutaneous': 1, 'event': 1, 'accordingly': 1, 'demand': 1, 'exist': 1, 'development': 1, 'japan': 1, 'recent': 1, 'catechin-containing': 1, 'health': 1, 'food': 1, 'beneficial': 1, 'attract': 1, 'attention': 1, 'indeed': 1, 'several': 1, 'anticancer': 1, 'anti-obesity': 1, 'synthesize': 1, 'planar': 1, 'natural': 1, 'chemically': 1, 'intent': 1, 'clarify': 1, 'methylate-pc': 1, 'acetylate-pc': 1, 'lipid': 1, 'solubility': 1, 'their': 1, 'electron': 1, 'spin': 1, 'resonance': 1, 'evaluate': 1, 'ability': 1, 'remove': 1, 'hydroxyl': 1, 'radical': 1, 'vitro': 1, 'addition': 1, '1-fluoro-2,4-dinitrobenzene': 1, '-induced': 1, 'allergic': 1, 'model': 1, 'balb/c': 1, 'our': 1, 'result': 1, 'inhibit': 1, 'swell': 1, 'induce': 1, 'great': 1, 'inhibitory': 1, 'moreover': 1, 'downregulated': 1, 'mrna': 1, 'level': 1, 'inflammatory': 1, 'cytokine': 1, 'include': 1, 'tumor': 1, 'necrosis': 1, 'factor-alpha': 1, 'interleukin': 1, '-1β': 1, 'il-4': 1, 'well': 1, 'myeloperoxidase': 1, 'activity': 1, 'tissue': 1, 'dnfb-treated': 1, 'collectively': 1, 'novel': 1, 'find': 1, 'suggest': 1, 'may': 1, 'promise': 1, 'choice': 1})\n",
            "99.21% 확률로 연구 논문입니다.\n",
            "training vocab count 69 Counter({'green': 6, 'tea': 6, 'catechin': 4, 'study': 3, 'infection': 3, 'show': 3, 'ability': 2, 'the': 2, 'antimicrobial': 2, 'property': 2, 'egc': 2, 'egcg': 2, 'one': 1, 'popular': 1, 'drink': 1, 'consume': 1, 'worldwide': 1, 'produce': 1, 'mainly': 1, 'asian': 1, 'country': 1, 'leave': 1, 'camellia': 1, 'sinensis': 1, 'plant': 1, 'potential': 1, 'health': 1, 'benefit': 1, 'widely': 1, 'recently': 1, 'researcher': 1, 'eradicate': 1, 'infectious': 1, 'agent': 1, 'actually': 1, 'prevent': 1, 'important': 1, 'component': 1, 'four': 1, 'main': 1, 'occur': 1, '-epicatechin': 1, '-epicatechin-3-gallate': 1, 'ecg': 1, '-epigallocatechin': 1, '-epigallocatechin-3-gallate': 1, 'find': 1, 'high': 1, 'amount': 1, 'subject': 1, 'these': 1, 'demonstrate': 1, 'variety': 1, 'organism': 1, 'affect': 1, 'mechanism': 1, 'use': 1, 'consumption': 1, 'distribute': 1, 'compound': 1, 'and/or': 1, 'metabolite': 1, 'throughout': 1, 'body': 1, 'allow': 1, 'possibility': 1, 'treatment': 1, 'also': 1, 'prevention': 1})\n",
            "99.10% 확률로 연구 논문입니다.\n",
            "training vocab count 84 Counter({'catechin': 7, 'activity': 7, 'tea': 6, 'cancer': 6, 'mechanism': 5, 'the': 4, 'study': 4, 'cell': 3, 'egcg': 2, 'many': 2, 'signal': 2, 'propose': 2, 'human': 2, 'preventive': 2, 'prevention': 2, 'widely': 1, 'occur': 1, 'diet': 1, 'beverage': 1, 'cancer-preventive': 1, 'extensively': 1, '-epigallocatechin-3-gallate': 1, 'principal': 1, 'green': 1, 'receive': 1, 'attention': 1, 'inhibitory': 1, 'carcinogenesis': 1, 'growth': 1, 'demonstrate': 1, 'large': 1, 'number': 1, 'laboratory': 1, 'modulate': 1, 'metabolic': 1, 'pathway': 1, 'base': 1, 'numerous': 1, 'line': 1, 'active': 1, 'nevertheless': 1, 'know': 1, 'whether': 1, 'indeed': 1, 'contribute': 1, 'anti-cancer': 1, 'animal': 1, 'provide': 1, 'result': 1, 'however': 1, 'strong': 1, 'this': 1, 'article': 1, 'review': 1, 'action': 1, 'involve': 1, 'redox': 1, 'biochemical': 1, 'property': 1, 'bind': 1, 'key': 1, 'enzyme': 1, 'transduction': 1, 'protein': 1, 'these': 1, 'lead': 1, 'suppression': 1, 'proliferation': 1, 'increase': 1, 'apoptosis': 1, 'inhibition': 1, 'angiogenesis': 1, 'relevance': 1, 'ass': 1, 'light': 1, 'situation': 1, 'vivo': 1, 'potential': 1, 'possible': 1, 'problem': 1, 'application': 1, 'tea-derived': 1, 'product': 1, 'discus': 1})\n",
            "96.85% 확률로 연구 논문입니다.\n",
            "training vocab count 88 Counter({'egcg': 8, 'metabolite': 5, 'effect': 3, 'microbial': 3, 'brain': 3, 'green': 2, 'tea': 2, 'study': 2, 'beneficial': 2, 'neuroprotective': 2, 'intestine': 2, 'result': 2, 'ring-fission': 2, 'suggest': 2, 'discus': 2, 'over': 1, 'last': 1, 'three': 1, 'decade': 1, 'include': 1, 'anti-cancer': 1, 'anti-obesity': 1, 'anti-diabetes': 1, 'anti-inflammatory': 1, 'present': 1, 'number': 1, 'employ': 1, 'animal': 1, 'human': 1, 'cell': 1, 'culture': 1, 'support': 1, 'potential': 1, 'catechin': 1, 'neurological': 1, 'disorder': 1, 'however': 1, 'concentration': 1, '-epigallocatechin': 1, 'gallate': 1, 'systemic': 1, 'circulation': 1, 'low': 1, 'disappear': 1, 'within': 1, 'several': 1, 'hour': 1, 'undergo': 1, 'degradation': 1, 'small': 1, 'late': 1, 'large': 1, 'formation': 1, 'various': 1, 'detectable': 1, 'plasma': 1, 'urine': 1, 'free': 1, 'conjugate': 1, 'form': 1, 'recently': 1, 'vitro': 1, 'experiment': 1, 'could': 1, 'reach': 1, 'parenchyma': 1, 'blood-brain': 1, 'barrier': 1, 'induce': 1, 'neuritogenesis': 1, 'these': 1, 'may': 1, 'play': 1, 'important': 1, 'role': 1, 'alongside': 1, 'activity': 1, 'reduce': 1, 'neurodegenerative': 1, 'disease': 1, 'review': 1, 'function': 1, 'suppress': 1, 'dysfunction': 1, 'other': 1, 'possible': 1, 'action': 1, 'also': 1})\n",
            "96.53% 확률로 연구 논문입니다.\n",
            "training vocab count 87 Counter({'influenza': 8, 'tea': 6, 'cold': 5, 'infection': 5, 'catechin': 5, 'study': 4, 'common': 3, 'disease': 3, 'infectious': 2, 'viral': 2, 'activity': 2, 'clinical': 2, 'acute': 1, 'respiratory': 1, 'tract': 1, 'severe': 1, 'highly': 1, 'progress': 1, 'life-threating': 1, 'pneumonia': 1, 'encephalitis': 1, 'aggravate': 1, 'due': 1, 'fact': 1, 'spread': 1, 'easily': 1, 'via': 1, 'droplet': 1, 'contact': 1, 'public': 1, 'prevention': 1, 'measure': 1, 'hand': 1, 'wash': 1, 'facial': 1, 'mask': 1, 'recommend': 1, 'prophylaxis': 1, 'experimental': 1, 'report': 1, 'inhibit': 1, 'adsorption': 1, 'suppress': 1, 'replication': 1, 'neuraminidase': 1, 'they': 1, 'also': 1, 'effective': 1, 'virus': 1, 'addition': 1, 'enhance': 1, 'immunity': 1, 'although': 1, 'antiviral': 1, 'demonstrate': 1, 'evidence': 1, 'support': 1, 'utility': 1, 'remain': 1, 'inconclusive': 1, 'since': 1, 'late': 1, '1990s': 1, 'several': 1, 'epidemiological': 1, 'suggest': 1, 'regular': 1, 'consumption': 1, 'green': 1, 'decrease': 1, 'rat': 1, 'symptom': 1, 'gargle': 1, 'may': 1, 'protect': 1, 'development': 1, 'this': 1, 'review': 1, 'briefly': 1, 'summarize': 1, 'effect': 1, 'focus': 1, 'epidemiological/clinical': 1, 'clarify': 1, 'need': 1, 'confirm': 1, 'efficacy': 1})\n",
            "92.10% 확률로 연구 논문입니다.\n",
            "training vocab count 107 Counter({'angiogenesis': 6, 'tea': 6, 'green': 5, 'cancer': 4, 'the': 3, 'also': 3, 'growth': 3, 'family': 3, 'many': 2, 'include': 2, 'vegf': 2, 'factor': 2, 'able': 2, 'inhibit': 2, 'mechanism': 2, 'mirnas': 2, 'polyphenolic': 2, 'catechin': 2, 'various': 2, 'type': 2, 'egcg': 2, 'development': 1, 'new': 1, 'blood': 1, 'vessel': 1, 'pre-existing': 1, 'vasculature': 1, 'know': 1, 'require': 1, 'physiological': 1, 'process': 1, 'embryogenesis': 1, 'post-natal': 1, 'however': 1, 'pathological': 1, 'hallmark': 1, 'ischaemic': 1, 'inflammatory': 1, 'disease': 1, 'pro-angiogenic': 1, 'member': 1, 'vascular': 1, 'endothelial': 1, 'vegf-a': 1, 'vegf-b': 1, 'vegf-c': 1, 'vegf-d': 1, 'placental': 1, 'plgf': 1, 'relate': 1, 'receptor': 1, 'vegfr-1': 1, 'vegfr-2': 1, 'vegfr-3': 1, 'central': 1, 'decisive': 1, 'role': 1, 'indeed': 1, 'target': 1, 'anti-angiogenic': 1, 'drug': 1, 'currently': 1, 'approve': 1, 'camellia': 1, 'sinensis': 1, 'plant': 1, 'one': 1, 'popular': 1, 'beverage': 1, 'world': 1, 'different': 1, 'micrornas': 1, 'substance': 1, 'like': 1, 'show': 1, 'chemo-preventive': 1, 'chemotherapeutic': 1, 'feature': 1, 'experimental': 1, 'model': 1, 'human': 1, '-epigallocatechin-3-gallate': 1, 'multiple': 1, 'effect': 1, 'cellular': 1, 'proteome': 1, 'signalome': 1, 'note': 1, 'compound': 1, 'change': 1, 'mirna': 1, 'expression': 1, 'profile': 1, 'associate': 1, 'this': 1, 'review': 1, 'focus': 1, 'ability': 1, 'constituent': 1, 'suppress': 1, 'signal': 1, 'summarize': 1, 'might': 1, 'highlight': 1, 'affect': 1, 'involve': 1, 'anti-angiogenesis': 1})\n",
            "94.62% 확률로 연구 논문입니다.\n",
            "training vocab count 73 Counter({'catechin': 4, 'muscle': 3, 'muscle-related': 2, 'disorder': 2, 'cause': 2, 'age': 2, 'disease': 2, 'delay': 2, 'review': 2, 'mechanism': 2, 'cell': 2, 'sarcopenia': 1, 'cachexia': 1, 'chronic': 1, 'lead': 1, 'loss': 1, 'mass': 1, 'strength': 1, 'different': 1, 'degree': 1, 'severely': 1, 'affect': 1, 'human': 1, 'health': 1, 'globally': 1, 'tea': 1, 'one': 1, 'three': 1, 'popular': 1, 'beverage': 1, 'major': 1, 'active': 1, 'ingredient': 1, 'report': 1, 'muscular': 1, 'atrophy': 1, 'enhance': 1, 'movement': 1, 'however': 1, 'currently': 1, 'systematic': 1, 'elaborate': 1, 'role': 1, 'associate': 1, 'this': 1, 'article': 1, 'function': 1, 'differentiation': 1, 'myogenic': 1, 'stem': 1, 'biogenesis': 1, 'mitochondrion': 1, 'synthesis': 1, 'degradation': 1, 'protein': 1, 'regulation': 1, 'glucose': 1, 'level': 1, 'metabolism': 1, 'lipid': 1, 'effect': 1, 'blood': 1, 'vessel': 1, 'bone': 1, 'nerve': 1, 'closely': 1, 'relate': 1, 'skeletal': 1, 'could': 1, 'prevent': 1, 'mitigate': 1, 'even': 1, 'treat': 1})\n",
            "99.62% 확률로 연구 논문입니다.\n",
            "training vocab count 57 Counter({'egc': 4, 'catechin': 3, 'adipocyte': 3, 'green': 2, 'tea': 2, 'effective': 2, 'obesity': 2, 'differentiation': 2, 'mature': 2, 'adipocytes': 2, 'result': 2, 'transcription': 2, 'lipase': 2, 'well-known': 1, 'reduce': 1, 'risk': 1, 'the': 1, 'purpose': 1, 'study': 1, 'elucidate': 1, 'effect': 1, 'present': 1, 'metabolism': 1, 'treatment': 1, '3t3-l1': 1, 'mouse': 1, '-epigallocatechin': 1, 'gallic': 1, 'acid': 1, 'dose-dependent': 1, 'inhibition': 1, 'adipogenesis': 1, 'specifically': 1, 'increase': 1, 'adiponectin': 1, 'uncouple': 1, 'protein': 1, 'ucp1': 1, 'level': 1, 'adipose': 1, 'triglyceride': 1, 'atgl': 1, 'hormone-sensitive': 1, 'hsl': 1, 'significantly': 1, 'impact': 1, 'either': 1, 'compound': 1, 'these': 1, 'suggest': 1, 'anti-obesity': 1, 'activity': 1, 'finally': 1, 'attractive': 1, 'candidate': 1, 'component': 1, 'remodel': 1})\n",
            "98.10% 확률로 연구 논문입니다.\n",
            "training vocab count 67 Counter({'study': 3, 'prevention': 2, 'modification': 2, 'component': 2, 'mechanism': 2, 'cause': 2, 'also': 2, 'catechin': 2, 'effect': 2, 'relate': 2, 'clinical': 2, 'alzheimer': 1, 'disease': 1, 'one': 1, 'common': 1, 'neurodegenerative': 1, 'disorder': 1, 'worldwide': 1, 'it': 1, 'incidence': 1, 'gradually': 1, 'increase': 1, 'age': 1, 'demographic': 1, 'therefore': 1, 'important': 1, 'improve': 1, 'health': 1, 'status': 1, 'old': 1, 'adult': 1, 'oxidative': 1, 'stress': 1, 'pathological': 1, 'underlie': 1, 'disruption': 1, 'balance': 1, 'reactive': 1, 'oxygen': 1, 'specie': 1, 'antioxidant': 1, 'molecule': 1, 'this': 1, 'imbalance': 1, 'neuroinflammation': 1, 'bioactive': 1, 'tea': 1, 'antioxidative': 1, 'anti-inflammatory': 1, 'moreover': 1, 'potential': 1, 'property': 1, 'report': 1, 'vitro': 1, 'vivo': 1, 'several': 1, 'conduct': 1, 'date': 1, 'the': 1, 'current': 1, 'review': 1, 'summarize': 1, 'recent': 1, 'update': 1, 'perspective': 1, 'base': 1, 'molecular': 1})\n",
            "77.96% 확률로 비연구 논문입니다.\n",
            "training vocab count 83 Counter({'deformable': 9, 'liposome': 9, 'catechin': 5, 'skin': 5, 'delivery': 5, 'conventional': 5, 'rev': 5, '-catechin': 4, 'liposomal': 4, 'system': 4, 'the': 3, 'study': 3, 'compare': 3, 'prepare': 2, 'suitable': 2, 'topical': 2, 'method': 2, 'size': 2, 'release': 2, 'porcine': 2, 'deposition': 2, 'freeze-dry': 2, 'consider': 2, 'formulation': 2, 'background': 1, 'common': 1, 'isomer': 1, 'recognize': 1, 'antioxidant': 1, 'benefit': 1, 'many': 1, 'way': 1, 'purpose': 1, 'present': 1, 'evaluate': 1, 'application': 1, 'catechin-loaded': 1, 'reverse-phase': 1, 'evaporation': 1, 'three': 1, 'characterize': 1, 'particle': 1, 'zeta-potential': 1, 'entrapment': 1, 'efficiency': 1, 'drug': 1, 'permeability': 1, 'across': 1, 'result': 1, 'reveal': 1, 'range': 1, '335.6': 1, '71.7': 1, '551.1': 1, '53.4': 1, 'respectively': 1, 'high': 1, 'aqueous': 1, 'volume': 1, 'thus': 1, 'able': 1, 'entrap': 1, 'great': 1, 'amount': 1, 'hydrophilic': 1, '50.0': 1, '5.9': 1, '30.0': 1, '3.8': 1, '36.1': 1, '4.6': 1, 'all': 1, 'exhibit': 1, 'prolong': 1, 'show': 1, 'significantly': 1, 'good': 1, 'solution': 1, 'permeate': 1, 'ear': 1, 'conclusion': 1, 'among': 1, 'favorable': 1})\n",
            "97.07% 확률로 연구 논문입니다.\n",
            "training vocab count 63 Counter({'disease': 4, 'virus': 4, 'antiviral': 4, 'gtcs': 4, 'effect': 3, 'infectious': 2, 'cause': 2, 'health': 2, 'development': 2, 'egcg': 2, 'over': 1, 'century': 1, 'seriously': 1, 'threaten': 1, 'human': 1, 'globally': 1, 'responsible': 1, 'acute': 1, 'infection': 1, 'also': 1, 'many': 1, 'chronic': 1, 'prevent': 1, 'discovery': 1, 'effective': 1, 'drug': 1, 'addition': 1, 'vaccine': 1, 'important': 1, 'green': 1, 'tea': 1, 'catechin': 1, 'polyphenolic': 1, 'compound': 1, 'leave': 1, 'camelliasinensis': 1, 'recent': 1, 'decade': 1, 'report': 1, 'provide': 1, 'various': 1, 'benefit': 1, 'numerous': 1, 'study': 1, 'show': 1, 'especially': 1, 'epigallocatechin-3-gallate': 1, 'diverse': 1, 'the': 1, 'aim': 1, 'review': 1, 'summarize': 1, 'regard': 1, 'activity': 1, 'discus': 1, 'mechanism': 1, 'underlie': 1, 'offer': 1, 'suggestion': 1, 'future': 1, 'research': 1, 'direction': 1, 'perspective': 1})\n",
            "98.03% 확률로 연구 논문입니다.\n",
            "training vocab count 117 Counter({'effect': 6, 'treatment': 5, 'catechin': 5, 'antioxidant': 4, 'acetyl': 4, 'contact': 3, 'dermatitis': 3, 'new': 3, 'derivative': 3, 'methyl': 3, 'order': 2, 'increase': 2, 'use': 2, 'study': 2, 'examine': 2, 'anti-inflammatory': 2, '-catechin': 2, 'modify': 2, 'dnfb': 2, 'mouse': 2, 'demonstrate': 2, 'ear': 2, 'common': 1, 'skin': 1, 'disease': 1, 'various': 1, 'available': 1, 'dermatologist': 1, 'accord': 1, 'general': 1, 'guideline': 1, 'first': 1, 'line': 1, 'involve': 1, 'topical': 1, 'steroid': 1, 'however': 1, 'application-site': 1, 'restriction': 1, 'avoid': 1, 'adverse': 1, 'cutaneous': 1, 'event': 1, 'accordingly': 1, 'demand': 1, 'exist': 1, 'development': 1, 'japan': 1, 'recent': 1, 'catechin-containing': 1, 'health': 1, 'food': 1, 'beneficial': 1, 'attract': 1, 'attention': 1, 'indeed': 1, 'several': 1, 'anticancer': 1, 'anti-obesity': 1, 'synthesize': 1, 'planar': 1, 'natural': 1, 'chemically': 1, 'intent': 1, 'clarify': 1, 'methylate-pc': 1, 'acetylate-pc': 1, 'lipid': 1, 'solubility': 1, 'their': 1, 'electron': 1, 'spin': 1, 'resonance': 1, 'evaluate': 1, 'ability': 1, 'remove': 1, 'hydroxyl': 1, 'radical': 1, 'vitro': 1, 'addition': 1, '1-fluoro-2,4-dinitrobenzene': 1, '-induced': 1, 'allergic': 1, 'model': 1, 'balb/c': 1, 'our': 1, 'result': 1, 'inhibit': 1, 'swell': 1, 'induce': 1, 'great': 1, 'inhibitory': 1, 'moreover': 1, 'downregulated': 1, 'mrna': 1, 'level': 1, 'inflammatory': 1, 'cytokine': 1, 'include': 1, 'tumor': 1, 'necrosis': 1, 'factor-alpha': 1, 'interleukin': 1, '-1β': 1, 'il-4': 1, 'well': 1, 'myeloperoxidase': 1, 'activity': 1, 'tissue': 1, 'dnfb-treated': 1, 'collectively': 1, 'novel': 1, 'find': 1, 'suggest': 1, 'may': 1, 'promise': 1, 'choice': 1})\n",
            "99.21% 확률로 연구 논문입니다.\n",
            "training vocab count 69 Counter({'green': 6, 'tea': 6, 'catechin': 4, 'study': 3, 'infection': 3, 'show': 3, 'ability': 2, 'the': 2, 'antimicrobial': 2, 'property': 2, 'egc': 2, 'egcg': 2, 'one': 1, 'popular': 1, 'drink': 1, 'consume': 1, 'worldwide': 1, 'produce': 1, 'mainly': 1, 'asian': 1, 'country': 1, 'leave': 1, 'camellia': 1, 'sinensis': 1, 'plant': 1, 'potential': 1, 'health': 1, 'benefit': 1, 'widely': 1, 'recently': 1, 'researcher': 1, 'eradicate': 1, 'infectious': 1, 'agent': 1, 'actually': 1, 'prevent': 1, 'important': 1, 'component': 1, 'four': 1, 'main': 1, 'occur': 1, '-epicatechin': 1, '-epicatechin-3-gallate': 1, 'ecg': 1, '-epigallocatechin': 1, '-epigallocatechin-3-gallate': 1, 'find': 1, 'high': 1, 'amount': 1, 'subject': 1, 'these': 1, 'demonstrate': 1, 'variety': 1, 'organism': 1, 'affect': 1, 'mechanism': 1, 'use': 1, 'consumption': 1, 'distribute': 1, 'compound': 1, 'and/or': 1, 'metabolite': 1, 'throughout': 1, 'body': 1, 'allow': 1, 'possibility': 1, 'treatment': 1, 'also': 1, 'prevention': 1})\n",
            "99.10% 확률로 연구 논문입니다.\n",
            "training vocab count 84 Counter({'catechin': 7, 'activity': 7, 'tea': 6, 'cancer': 6, 'mechanism': 5, 'the': 4, 'study': 4, 'cell': 3, 'egcg': 2, 'many': 2, 'signal': 2, 'propose': 2, 'human': 2, 'preventive': 2, 'prevention': 2, 'widely': 1, 'occur': 1, 'diet': 1, 'beverage': 1, 'cancer-preventive': 1, 'extensively': 1, '-epigallocatechin-3-gallate': 1, 'principal': 1, 'green': 1, 'receive': 1, 'attention': 1, 'inhibitory': 1, 'carcinogenesis': 1, 'growth': 1, 'demonstrate': 1, 'large': 1, 'number': 1, 'laboratory': 1, 'modulate': 1, 'metabolic': 1, 'pathway': 1, 'base': 1, 'numerous': 1, 'line': 1, 'active': 1, 'nevertheless': 1, 'know': 1, 'whether': 1, 'indeed': 1, 'contribute': 1, 'anti-cancer': 1, 'animal': 1, 'provide': 1, 'result': 1, 'however': 1, 'strong': 1, 'this': 1, 'article': 1, 'review': 1, 'action': 1, 'involve': 1, 'redox': 1, 'biochemical': 1, 'property': 1, 'bind': 1, 'key': 1, 'enzyme': 1, 'transduction': 1, 'protein': 1, 'these': 1, 'lead': 1, 'suppression': 1, 'proliferation': 1, 'increase': 1, 'apoptosis': 1, 'inhibition': 1, 'angiogenesis': 1, 'relevance': 1, 'ass': 1, 'light': 1, 'situation': 1, 'vivo': 1, 'potential': 1, 'possible': 1, 'problem': 1, 'application': 1, 'tea-derived': 1, 'product': 1, 'discus': 1})\n",
            "96.85% 확률로 연구 논문입니다.\n",
            "training vocab count 88 Counter({'egcg': 8, 'metabolite': 5, 'effect': 3, 'microbial': 3, 'brain': 3, 'green': 2, 'tea': 2, 'study': 2, 'beneficial': 2, 'neuroprotective': 2, 'intestine': 2, 'result': 2, 'ring-fission': 2, 'suggest': 2, 'discus': 2, 'over': 1, 'last': 1, 'three': 1, 'decade': 1, 'include': 1, 'anti-cancer': 1, 'anti-obesity': 1, 'anti-diabetes': 1, 'anti-inflammatory': 1, 'present': 1, 'number': 1, 'employ': 1, 'animal': 1, 'human': 1, 'cell': 1, 'culture': 1, 'support': 1, 'potential': 1, 'catechin': 1, 'neurological': 1, 'disorder': 1, 'however': 1, 'concentration': 1, '-epigallocatechin': 1, 'gallate': 1, 'systemic': 1, 'circulation': 1, 'low': 1, 'disappear': 1, 'within': 1, 'several': 1, 'hour': 1, 'undergo': 1, 'degradation': 1, 'small': 1, 'late': 1, 'large': 1, 'formation': 1, 'various': 1, 'detectable': 1, 'plasma': 1, 'urine': 1, 'free': 1, 'conjugate': 1, 'form': 1, 'recently': 1, 'vitro': 1, 'experiment': 1, 'could': 1, 'reach': 1, 'parenchyma': 1, 'blood-brain': 1, 'barrier': 1, 'induce': 1, 'neuritogenesis': 1, 'these': 1, 'may': 1, 'play': 1, 'important': 1, 'role': 1, 'alongside': 1, 'activity': 1, 'reduce': 1, 'neurodegenerative': 1, 'disease': 1, 'review': 1, 'function': 1, 'suppress': 1, 'dysfunction': 1, 'other': 1, 'possible': 1, 'action': 1, 'also': 1})\n",
            "96.53% 확률로 연구 논문입니다.\n",
            "training vocab count 87 Counter({'influenza': 8, 'tea': 6, 'cold': 5, 'infection': 5, 'catechin': 5, 'study': 4, 'common': 3, 'disease': 3, 'infectious': 2, 'viral': 2, 'activity': 2, 'clinical': 2, 'acute': 1, 'respiratory': 1, 'tract': 1, 'severe': 1, 'highly': 1, 'progress': 1, 'life-threating': 1, 'pneumonia': 1, 'encephalitis': 1, 'aggravate': 1, 'due': 1, 'fact': 1, 'spread': 1, 'easily': 1, 'via': 1, 'droplet': 1, 'contact': 1, 'public': 1, 'prevention': 1, 'measure': 1, 'hand': 1, 'wash': 1, 'facial': 1, 'mask': 1, 'recommend': 1, 'prophylaxis': 1, 'experimental': 1, 'report': 1, 'inhibit': 1, 'adsorption': 1, 'suppress': 1, 'replication': 1, 'neuraminidase': 1, 'they': 1, 'also': 1, 'effective': 1, 'virus': 1, 'addition': 1, 'enhance': 1, 'immunity': 1, 'although': 1, 'antiviral': 1, 'demonstrate': 1, 'evidence': 1, 'support': 1, 'utility': 1, 'remain': 1, 'inconclusive': 1, 'since': 1, 'late': 1, '1990s': 1, 'several': 1, 'epidemiological': 1, 'suggest': 1, 'regular': 1, 'consumption': 1, 'green': 1, 'decrease': 1, 'rat': 1, 'symptom': 1, 'gargle': 1, 'may': 1, 'protect': 1, 'development': 1, 'this': 1, 'review': 1, 'briefly': 1, 'summarize': 1, 'effect': 1, 'focus': 1, 'epidemiological/clinical': 1, 'clarify': 1, 'need': 1, 'confirm': 1, 'efficacy': 1})\n",
            "92.10% 확률로 연구 논문입니다.\n",
            "training vocab count 107 Counter({'angiogenesis': 6, 'tea': 6, 'green': 5, 'cancer': 4, 'the': 3, 'also': 3, 'growth': 3, 'family': 3, 'many': 2, 'include': 2, 'vegf': 2, 'factor': 2, 'able': 2, 'inhibit': 2, 'mechanism': 2, 'mirnas': 2, 'polyphenolic': 2, 'catechin': 2, 'various': 2, 'type': 2, 'egcg': 2, 'development': 1, 'new': 1, 'blood': 1, 'vessel': 1, 'pre-existing': 1, 'vasculature': 1, 'know': 1, 'require': 1, 'physiological': 1, 'process': 1, 'embryogenesis': 1, 'post-natal': 1, 'however': 1, 'pathological': 1, 'hallmark': 1, 'ischaemic': 1, 'inflammatory': 1, 'disease': 1, 'pro-angiogenic': 1, 'member': 1, 'vascular': 1, 'endothelial': 1, 'vegf-a': 1, 'vegf-b': 1, 'vegf-c': 1, 'vegf-d': 1, 'placental': 1, 'plgf': 1, 'relate': 1, 'receptor': 1, 'vegfr-1': 1, 'vegfr-2': 1, 'vegfr-3': 1, 'central': 1, 'decisive': 1, 'role': 1, 'indeed': 1, 'target': 1, 'anti-angiogenic': 1, 'drug': 1, 'currently': 1, 'approve': 1, 'camellia': 1, 'sinensis': 1, 'plant': 1, 'one': 1, 'popular': 1, 'beverage': 1, 'world': 1, 'different': 1, 'micrornas': 1, 'substance': 1, 'like': 1, 'show': 1, 'chemo-preventive': 1, 'chemotherapeutic': 1, 'feature': 1, 'experimental': 1, 'model': 1, 'human': 1, '-epigallocatechin-3-gallate': 1, 'multiple': 1, 'effect': 1, 'cellular': 1, 'proteome': 1, 'signalome': 1, 'note': 1, 'compound': 1, 'change': 1, 'mirna': 1, 'expression': 1, 'profile': 1, 'associate': 1, 'this': 1, 'review': 1, 'focus': 1, 'ability': 1, 'constituent': 1, 'suppress': 1, 'signal': 1, 'summarize': 1, 'might': 1, 'highlight': 1, 'affect': 1, 'involve': 1, 'anti-angiogenesis': 1})\n",
            "94.62% 확률로 연구 논문입니다.\n",
            "training vocab count 73 Counter({'catechin': 4, 'muscle': 3, 'muscle-related': 2, 'disorder': 2, 'cause': 2, 'age': 2, 'disease': 2, 'delay': 2, 'review': 2, 'mechanism': 2, 'cell': 2, 'sarcopenia': 1, 'cachexia': 1, 'chronic': 1, 'lead': 1, 'loss': 1, 'mass': 1, 'strength': 1, 'different': 1, 'degree': 1, 'severely': 1, 'affect': 1, 'human': 1, 'health': 1, 'globally': 1, 'tea': 1, 'one': 1, 'three': 1, 'popular': 1, 'beverage': 1, 'major': 1, 'active': 1, 'ingredient': 1, 'report': 1, 'muscular': 1, 'atrophy': 1, 'enhance': 1, 'movement': 1, 'however': 1, 'currently': 1, 'systematic': 1, 'elaborate': 1, 'role': 1, 'associate': 1, 'this': 1, 'article': 1, 'function': 1, 'differentiation': 1, 'myogenic': 1, 'stem': 1, 'biogenesis': 1, 'mitochondrion': 1, 'synthesis': 1, 'degradation': 1, 'protein': 1, 'regulation': 1, 'glucose': 1, 'level': 1, 'metabolism': 1, 'lipid': 1, 'effect': 1, 'blood': 1, 'vessel': 1, 'bone': 1, 'nerve': 1, 'closely': 1, 'relate': 1, 'skeletal': 1, 'could': 1, 'prevent': 1, 'mitigate': 1, 'even': 1, 'treat': 1})\n",
            "99.62% 확률로 연구 논문입니다.\n",
            "training vocab count 57 Counter({'egc': 4, 'catechin': 3, 'adipocyte': 3, 'green': 2, 'tea': 2, 'effective': 2, 'obesity': 2, 'differentiation': 2, 'mature': 2, 'adipocytes': 2, 'result': 2, 'transcription': 2, 'lipase': 2, 'well-known': 1, 'reduce': 1, 'risk': 1, 'the': 1, 'purpose': 1, 'study': 1, 'elucidate': 1, 'effect': 1, 'present': 1, 'metabolism': 1, 'treatment': 1, '3t3-l1': 1, 'mouse': 1, '-epigallocatechin': 1, 'gallic': 1, 'acid': 1, 'dose-dependent': 1, 'inhibition': 1, 'adipogenesis': 1, 'specifically': 1, 'increase': 1, 'adiponectin': 1, 'uncouple': 1, 'protein': 1, 'ucp1': 1, 'level': 1, 'adipose': 1, 'triglyceride': 1, 'atgl': 1, 'hormone-sensitive': 1, 'hsl': 1, 'significantly': 1, 'impact': 1, 'either': 1, 'compound': 1, 'these': 1, 'suggest': 1, 'anti-obesity': 1, 'activity': 1, 'finally': 1, 'attractive': 1, 'candidate': 1, 'component': 1, 'remodel': 1})\n",
            "98.10% 확률로 연구 논문입니다.\n",
            "training vocab count 67 Counter({'study': 3, 'prevention': 2, 'modification': 2, 'component': 2, 'mechanism': 2, 'cause': 2, 'also': 2, 'catechin': 2, 'effect': 2, 'relate': 2, 'clinical': 2, 'alzheimer': 1, 'disease': 1, 'one': 1, 'common': 1, 'neurodegenerative': 1, 'disorder': 1, 'worldwide': 1, 'it': 1, 'incidence': 1, 'gradually': 1, 'increase': 1, 'age': 1, 'demographic': 1, 'therefore': 1, 'important': 1, 'improve': 1, 'health': 1, 'status': 1, 'old': 1, 'adult': 1, 'oxidative': 1, 'stress': 1, 'pathological': 1, 'underlie': 1, 'disruption': 1, 'balance': 1, 'reactive': 1, 'oxygen': 1, 'specie': 1, 'antioxidant': 1, 'molecule': 1, 'this': 1, 'imbalance': 1, 'neuroinflammation': 1, 'bioactive': 1, 'tea': 1, 'antioxidative': 1, 'anti-inflammatory': 1, 'moreover': 1, 'potential': 1, 'property': 1, 'report': 1, 'vitro': 1, 'vivo': 1, 'several': 1, 'conduct': 1, 'date': 1, 'the': 1, 'current': 1, 'review': 1, 'summarize': 1, 'recent': 1, 'update': 1, 'perspective': 1, 'base': 1, 'molecular': 1})\n",
            "77.96% 확률로 비연구 논문입니다.\n",
            "training vocab count 83 Counter({'deformable': 9, 'liposome': 9, 'catechin': 5, 'skin': 5, 'delivery': 5, 'conventional': 5, 'rev': 5, '-catechin': 4, 'liposomal': 4, 'system': 4, 'the': 3, 'study': 3, 'compare': 3, 'prepare': 2, 'suitable': 2, 'topical': 2, 'method': 2, 'size': 2, 'release': 2, 'porcine': 2, 'deposition': 2, 'freeze-dry': 2, 'consider': 2, 'formulation': 2, 'background': 1, 'common': 1, 'isomer': 1, 'recognize': 1, 'antioxidant': 1, 'benefit': 1, 'many': 1, 'way': 1, 'purpose': 1, 'present': 1, 'evaluate': 1, 'application': 1, 'catechin-loaded': 1, 'reverse-phase': 1, 'evaporation': 1, 'three': 1, 'characterize': 1, 'particle': 1, 'zeta-potential': 1, 'entrapment': 1, 'efficiency': 1, 'drug': 1, 'permeability': 1, 'across': 1, 'result': 1, 'reveal': 1, 'range': 1, '335.6': 1, '71.7': 1, '551.1': 1, '53.4': 1, 'respectively': 1, 'high': 1, 'aqueous': 1, 'volume': 1, 'thus': 1, 'able': 1, 'entrap': 1, 'great': 1, 'amount': 1, 'hydrophilic': 1, '50.0': 1, '5.9': 1, '30.0': 1, '3.8': 1, '36.1': 1, '4.6': 1, 'all': 1, 'exhibit': 1, 'prolong': 1, 'show': 1, 'significantly': 1, 'good': 1, 'solution': 1, 'permeate': 1, 'ear': 1, 'conclusion': 1, 'among': 1, 'favorable': 1})\n",
            "97.07% 확률로 연구 논문입니다.\n",
            "training vocab count 105 Counter({'effect': 7, 'chlorogenic': 6, 'acid': 6, 'compound': 4, 'polyphenolic': 3, 'posse': 3, 'neuroprotective': 3, 'present': 2, 'beneficial': 2, 'natural': 2, 'product': 2, 'health': 2, 'know': 2, 'one': 2, 'common': 2, 'scientific': 2, 'evidence': 2, 'show': 2, 'web': 2, 'disease': 2, 'the': 2, 'vitro': 2, 'vivo': 2, 'review': 2, 'background': 1, 'much': 1, 'attention': 1, 'focus': 1, 'human': 1, 'due': 1, 'high': 1, 'efficacy': 1, 'low': 1, 'adverse': 1, 'among': 1, 'important': 1, 'class': 1, 'multiple': 1, 'range': 1, 'health-promotion': 1, 'include': 1, 'anti-inflammatory': 1, 'antioxidant': 1, 'activity': 1, 'plethora': 1, 'central': 1, 'nervous': 1, 'system': 1, 'method': 1, 'data': 1, 'collect': 1, 'science': 1, 'isi': 1, 'knowledge': 1, 'medline': 1, 'pubmed': 1, 'scopus': 1, 'embase': 1, 'biosis': 1, 'preview': 1, '1950': 1, '2015': 1, 'search': 1, 'keywords': 1, 'mental': 1, 'neuroprotection': 1, 'result': 1, 'find': 1, 'different': 1, 'type': 1, 'fruit': 1, 'vegetable': 1, 'spice': 1, 'wine': 1, 'olive': 1, 'oil': 1, 'well': 1, 'coffee': 1, 'potential': 1, 'highlight': 1, 'several': 1, 'study': 1, 'this': 1, 'critically': 1, 'analyse': 1, 'available': 1, 'regard': 1, 'neuropharmacological': 1, 'mechanism': 1, 'action': 1, 'addition': 1, 'also': 1, 'discus': 1, 'biosynthesis': 1, 'source': 1, 'bioavailability': 1, 'metabolism': 1, 'provide': 1, 'broad': 1, 'perspective': 1, 'therapeutic': 1, 'implication': 1, 'brain': 1, 'conclusion': 1, 'model': 1})\n",
            "99.22% 확률로 연구 논문입니다.\n",
            "training vocab count 85 Counter({'group': 16, 'chlorogenic': 10, 'acid': 10, 'effect': 3, 'mouse': 3, 'mapk/erk/jnk': 3, 'signal': 3, 'pathway': 3, 'dose': 3, 'erk': 3, 'inhibitor': 3, 'the': 3, 'colon': 3, 'reduce': 3, 'dss-induced': 3, 'protective': 2, 'ulcerative': 2, 'colitis': 2, 'explore': 2, 'half': 2, 'control': 2, 'model': 2, 'damage': 2, 'inflammation': 2, 'apoptosis': 2, 'tissue': 2, 'objective': 1, 'observe': 1, 'dextran': 1, 'sulfate-induced': 1, 'regulation': 1, 'method': 1, 'seventy': 1, 'c57bl/6': 1, 'male': 1, 'female': 1, 'randomly': 1, 'divide': 1, 'con': 1, 'sulfasalazine-positive': 1, 'sasp': 1, 'low': 1, 'cga-l': 1, 'medium': 1, 'cga-m': 1, 'high': 1, 'cga-h': 1, 'e+cga': 1, 'evaluate': 1, 'mucosa': 1, 'index': 1, 'cmdi': 1, 'stain': 1, 'immunohistochemistry': 1, 'elisa': 1, 'western': 1, 'blot': 1, 'relationship': 1, 'add': 1, 'result': 1, 'establish': 1, 'successfully': 1, 'drink': 1, 'ds': 1, 'water': 1, 'colonic': 1, 'mucosal': 1, 'inhibit': 1, 'oxidative': 1, 'stress': 1, 'erk1/2': 1, '-erk': 1, 'p38': 1, 'p-p38': 1, 'jnk': 1, 'p-jnk': 1, 'protein': 1, 'expression': 1, 'u0126': 1, 'reverse': 1, 'conclusion': 1, 'alleviate': 1, 'significantly': 1, 'mechanism': 1, 'relate': 1})\n",
            "99.61% 확률로 연구 논문입니다.\n",
            "training vocab count 95 Counter({'chlorogenic': 10, 'acid': 10, 'diet': 6, 'week': 5, 'liver': 4, 'rat': 4, 'high-carbohydrate': 4, 'high-fat': 4, 'reduce': 4, 'cardiovascular': 3, 'metabolic': 3, 'food': 3, 'fat': 3, 'intake': 2, 'decrease': 2, 'improve': 2, 'corn': 2, 'starch': 2, 'last': 2, 'attenuate': 2, 'leave': 2, 'deposition': 2, 'inflammation': 2, 'plasma': 2, 'change': 2, 'constituent': 1, 'coffee': 1, 'consume': 1, 'regularly': 1, 'human': 1, 'associate': 1, 'risk': 1, 'disease': 1, 'type': 1, 'diabetes': 1, 'hypothesize': 1, 'would': 1, 'response': 1, 'model': 1, 'syndrome': 1, 'induce': 1, 'male': 1, 'wistar': 1, '8-9': 1, 'old': 1, '335': 1, 'divide': 1, 'group': 1, 'feed': 1, '~100': 1, 'mg/kg/d': 1, 'diet-fed': 1, 'energy': 1, 'efficiency': 1, 'visceral': 1, 'especially': 1, 'retroperitoneal': 1, 'abdominal': 1, 'circumference': 1, 'reverse': 1, 'elevate': 1, 'systolic': 1, 'blood': 1, 'pressure': 1, 'ventricular': 1, 'diastolic': 1, 'stiffness': 1, 'collagen': 1, 'infiltration': 1, 'inflammatory': 1, 'cell': 1, 'ventricle': 1, 'along': 1, 'enzyme': 1, 'activity': 1, 'obese': 1, 'lipid': 1, 'profile': 1, 'increase': 1, 'diversity': 1, 'gut': 1, 'microbiota': 1, 'may': 1, 'overall': 1, 'metabolism': 1, 'body': 1, 'thus': 1, 'chronic': 1, 'dietary': 1, 'diet-induced': 1, 'well': 1, 'suggest': 1, 'potential': 1, 'clinical': 1, 'evaluation': 1})\n",
            "98.75% 확률로 연구 논문입니다.\n",
            "training vocab count 96 Counter({'cha': 6, 'macrophage': 6, 'tumor': 5, 'promote': 3, 'study': 2, 'acid': 2, 'molecular': 2, 'weight': 2, 'find': 2, 'increase': 2, 'expression': 2, 'marker': 2, 'induce': 2, 'reduce': 2, 'cell': 2, 'inhibit': 2, 'growth': 2, 'mouse': 2, 'glioblastoma': 1, 'aggressive': 1, 'associate': 1, 'distinctive': 1, 'infiltrate': 1, 'microglia/macrophages': 1, 'population': 1, 'previous': 1, 'demonstrate': 1, 'chlorogenic': 1, '5-caffeoylquinic': 1, 'phenolic': 1, 'compound': 1, 'low': 1, 'anti-tumor': 1, 'effect': 1, 'multiple': 1, 'malignant': 1, 'present': 1, 'focus': 1, 'polarization': 1, 'investigate': 1, 'mechanism': 1, 'behind': 1, 'anti-glioma': 1, 'response': 1, 'vitro': 1, 'vivo': 1, 'treatment': 1, 'lps/ifnγ': 1, 'include': 1, 'inos': 1, 'mhc': 1, 'i-a/i-e': 1, 'subregions': 1, 'cd11c': 1, 'arg': 1, 'cd206': 1, 'il-4': 1, 'result': 1, 'production': 1, 'apoptotic-like': 1, 'cancer': 1, 'co-culture': 1, 'experiment': 1, 'the': 1, 'activation': 1, 'stat1': 1, 'stat6': 1, 'two': 1, 'crucial': 1, 'signal': 1, 'event': 1, 'm2-polarization': 1, 'significantly': 1, 'suppress': 1, 'respectively': 1, 'furthermore': 1, 'g422': 1, 'xenograft': 1, 'proportion': 1, 'cd11c-positive': 1, 'decrease': 1, 'distribution': 1, 'cd206-positive': 1, 'tissue': 1, 'consistent': 1, 'reduction': 1, 'observe': 1, 'cha-treated': 1, 'overall': 1, 'indicate': 1, 'potential': 1, 'therapeutic': 1, 'approach': 1, 'glioma': 1, 'm1-polarized': 1, 'phenotypic': 1})\n",
            "99.32% 확률로 연구 논문입니다.\n",
            "training vocab count 92 Counter({'chlorogenic': 11, 'acid': 10, 'expression': 7, 'gene': 6, 'cell': 6, 'inhibitor': 4, 'stem': 3, 'marker': 3, 'p38': 3, 'indicate': 2, 'fruit': 2, 'vegetable': 2, 'anti-cancer': 2, 'activity': 2, 'apoptosis-related': 2, 'cancer': 2, 'the': 2, 'measure': 2, 'reduce': 2, 'bax': 2, 'annexin': 2, 'previous': 1, 'study': 1, 'compound': 1, 'present': 1, 'many': 1, 'report': 1, 'regulate': 1, 'self-renewal-related': 1, 'lung': 1, 'line': 1, 'a549': 1, 'culture': 1, 'without': 1, 'presence': 1, 'decrease': 1, 'proliferation': 1, 'mtt': 1, 'polymerase': 1, 'chain': 1, 'reaction': 1, 'pcr': 1, 'show': 1, 'treatment': 1, 'bcl2': 1, 'increase': 1, 'casp3': 1, 'enhance': 1, 'use': 1, 'fluorescently': 1, 'label': 1, 'also': 1, 'induce': 1, 'mapk': 1, 'jnk': 1, 'meanwhile': 1, 'several': 1, 'agent': 1, 'include': 1, 'sb203580': 1, 'map': 1, 'kinase': 1, 'n-acetylcysteine': 1, 'antioxidant': 1, 'dipyridamole': 1, 'phosphodiesterase': 1, 'apocynin': 1, 'nadph-oxidase': 1, 'block': 1, 'acid-induced': 1, 'level': 1, 'cell-associated': 1, 'nanog': 1, 'pou5f1': 1, 'sox2': 1, 'together': 1, 'result': 1, 'affect': 1, 'part': 1, 'oxidative': 1, 'stress': 1, 'map-dependent': 1, 'pathway': 1, 'well': 1, 'encode': 1, 'conclusion': 1, 'may': 1, 'contribute': 1, 'polyphenolic': 1, 'effect': 1, 'associate': 1, 'consumption': 1})\n",
            "98.40% 확률로 연구 논문입니다.\n",
            "training vocab count 74 Counter({'5cqa': 5, 'mechanism': 4, 'transfer': 4, 'antioxidative': 3, 'electron': 3, 'hat': 3, 'raf': 3, 'radical': 2, 'proton': 2, 'splet': 2, 'set-pt': 2, 'pathway': 2, 'although': 1, 'chlorogenic': 1, 'acid': 1, 'important': 1, 'ingredient': 1, 'various': 1, 'food': 1, 'beverage': 1, 'action': 1, 'fully': 1, 'clarify': 1, 'besides': 1, 'spin': 1, 'resonance': 1, 'experiment': 1, 'study': 1, 'include': 1, 'thermodynamic': 1, 'mechanistic': 1, 'investigation': 1, 'hydrogen': 1, 'atom': 1, 'adduct': 1, 'formation': 1, 'sequential': 1, 'loss': 1, 'single': 1, 'benzene': 1, 'ethanol': 1, 'water': 1, 'solution': 1, 'the': 1, 'calculation': 1, 'perform': 1, 'use': 1, 'm06-2x/6-311++g': 1, 'level': 1, 'theory': 1, 'cpcm': 1, 'solvation': 1, 'model': 1, 'find': 1, 'plausible': 1, 'fast': 1, 'yield': 1, 'thermodynamically': 1, 'stable': 1, 'product': 1, 'indicate': 1, 'acidic': 1, 'neutral': 1, 'medium': 1, 'take': 1, 'either': 1, 'basic': 1, 'environment': 1, 'e.g': 1, 'physiological': 1, 'likely': 1, 'extremely': 1, 'high': 1, 'rate': 1})\n",
            "98.99% 확률로 비연구 논문입니다.\n",
            "training vocab count 70 Counter({'health': 8, 'claim': 4, 'reduce': 3, 'chlorogenic': 3, 'acid': 3, 'food': 3, 'regulation': 3, 'the': 2, 'coffee': 2, 'benefit': 2, 'risk': 2, 'cardiovascular': 2, 'hypertension': 2, 'may': 2, 'need': 2, 'effective': 2, 'strategy': 2, 'canada': 2, 'use': 2, 'consumption': 1, 'associate': 1, 'number': 1, 'include': 1, 'disease': 1, 'important': 1, 'factor': 1, 'adverse': 1, 'event': 1, 'help': 1, 'blood': 1, 'pressure': 1, 'human': 1, 'might': 1, 'attributable': 1, 'polyphenolic': 1, 'compound': 1, 'high': 1, 'incidence': 1, 'among': 1, 'canadian': 1, 'underscore': 1, 'new': 1, 'dietary': 1, 'intervention': 1, 'constitute': 1, 'consumer': 1, 'inform': 1, 'regulate': 1, 'guide': 1, 'healthy': 1, 'eat': 1, 'permit': 1, 'label': 1, 'confer': 1, 'currently': 1, 'one': 1, 'additional': 1, 'assist': 1, 'therefore': 1, 'warrant': 1, 'this': 1, 'review': 1, 'provide': 1, 'background': 1, 'information': 1, 'examine': 1, 'evidence': 1, 'regard': 1, 'context': 1, 'framework': 1})\n",
            "97.56% 확률로 비연구 논문입니다.\n",
            "training vocab count 101 Counter({'cha': 11, 'virus': 11, 'influenza': 7, 'respiratory': 2, 'infection': 2, 'treatment': 2, 'reduce': 2, 'death': 2, 'mouse': 2, 'mechanism': 2, 'antiviral': 2, 'potential': 2, 'h1n1': 2, 'ec50': 2, 'h3n2': 2, 'inhibit': 2, 'neuraminidase': 2, 'activity': 2, 'lonicera': 1, 'japonica': 1, 'thunb': 1, 'rich': 1, 'chlorogenic': 1, 'acid': 1, 'use': 1, 'viral': 1, 'upper': 1, 'tract': 1, 'cause': 1, 'parainfluenza': 1, 'syncytial': 1, 'ect': 1, 'china': 1, 'report': 1, 'serum': 1, 'hepatitis': 1, 'level': 1, 'rate': 1, 'virus-infected': 1, 'however': 1, 'underlie': 1, 'fully': 1, 'elucidate': 1, 'here': 1, 'effect': 1, 'investigate': 1, 'reveal': 1, 'inhibitory': 1, 'a/puertorico/8/1934': 1, '44.87': 1, 'a/beijing/32/92': 1, '62.33': 1, 'oseltamivir-resistant': 1, 'strain': 1, 'time-course': 1, 'analysis': 1, 'show': 1, 'late': 1, 'stage': 1, 'infectious': 1, 'cycle': 1, 'indirect': 1, 'immunofluorescence': 1, 'assay': 1, 'indicate': 1, 'down-regulated': 1, 'protein': 1, 'expression': 1, 'the': 1, 'inhibition': 1, 'confirm': 1, 'block': 1, 'release': 1, 'newly': 1, 'form': 1, 'particle': 1, 'infect': 1, 'cell': 1, 'intravenous': 1, 'injection': 1, '100': 1, 'mg/kg/d': 1, 'posse': 1, 'effective': 1, 'confer': 1, 'protection': 1, 'titre': 1, 'alleviate': 1, 'inflammation': 1, 'lung': 1, 'effectively': 1, 'these': 1, 'result': 1, 'demonstrate': 1, 'act': 1, 'blocker': 1, 'cellular': 1, 'animal': 1, 'model': 1, 'thus': 1, 'utility': 1})\n",
            "97.08% 확률로 연구 논문입니다.\n",
            "training vocab count 78 Counter({'cga': 7, 'pb-induced': 5, 'lead': 2, 'exposure': 2, 'renal': 2, 'inflammation': 2, 'mechanism': 2, 'the': 2, 'reduce': 2, 'kidney': 2, 'potential': 2, 'regulate': 2, 'significantly': 2, 'increase': 2, 'global': 1, 'environmental': 1, 'problem': 1, 'serious': 1, 'damage': 1, 'disturb': 1, 'pro-oxidant/antioxidant': 1, 'balance': 1, 'facilitate': 1, 'chlorogenic': 1, 'acid': 1, 'one': 1, 'abundant': 1, 'polyphenols': 1, 'diet': 1, 'report': 1, 'many': 1, 'biological': 1, 'property': 1, 'antioxidant': 1, 'anti-inflammatory': 1, 'study': 1, 'aim': 1, 'investigate': 1, 'protective': 1, 'efficacy': 1, 'nephrotoxicity': 1, 'mouse': 1, 'result': 1, 'show': 1, 'inhibit': 1, 'bodyweight': 1, 'loss': 1, 'coefficient': 1, 'alleviate': 1, 'function': 1, 'structure': 1, 'exploration': 1, 'demonstrate': 1, 'suppress': 1, 'nf-κb': 1, 'pathway': 1, 'activation': 1, 'furthermore': 1, 'reduction': 1, 'activity': 1, 'sod': 1, 'gsh-px': 1, 'content': 1, 'mda': 1, 'expression': 1, 'bax': 1, 'bcl-2': 1, 'associate': 1, 'apoptosis': 1, 'also': 1, 'these': 1, 'data': 1, 'indicate': 1, 'may': 1, 'play': 1, 'treatment': 1, 'strategy': 1, 'toxicity': 1})\n",
            "98.94% 확률로 연구 논문입니다.\n",
            "training vocab count 157 Counter({'ncrae': 13, 'acid': 11, 'effect': 8, 'chicory': 5, 'chicoric': 5, 'rat': 5, 'glucose': 4, 'diabetic': 4, 'chlorogenic': 4, 'sccam': 4, 'use': 3, 'composition': 3, 'extract': 3, 'tolerance': 3, 'stz': 3, 'mixture': 3, 'compare': 3, 'capacity': 3, 'result': 3, 'cichorium': 2, 'intybus': 2, 'root': 2, 'traditional': 2, 'antidiabetic': 2, 'natural': 2, 'rich': 2, 'show': 2, 'perform': 2, 'vivo': 2, 'experiment': 2, 'compose': 2, 'two': 2, 'method': 2, 'lc-ms': 2, 'prepare': 2, 'solution': 2, 'vitro': 2, 'cell': 2, 'line': 2, 'protective': 2, 'h2o2': 2, 'also': 2, 'cqas': 2, 'synthetic': 2, 'improve': 2, 'day': 2, 'basal': 2, 'hyperglycemia': 2, 'ethnopharmacological': 1, 'relevance': 1, 'indigenous': 1, 'vegetable': 1, 'widely': 1, 'cultivate': 1, 'europe': 1, 'america': 1, 'asia': 1, 'ancient': 1, 'time': 1, 'leave': 1, 'flower': 1, 'seed': 1, 'wealth': 1, 'health': 1, 'benefit': 1, 'include': 1, 'tonic': 1, 'ability': 1, 'ease': 1, 'digestive': 1, 'problem': 1, 'detoxify': 1, 'liver': 1, 'indian': 1, 'therapy': 1, 'know': 1, 'posse': 1, 'medicine': 1, 'bulgaria': 1, 'italy': 1, 'hypoglycemic': 1, 'decoction': 1, 'aim': 1, 'study': 1, 'want': 1, 'obtain': 1, 'complete': 1, 'chemical': 1, 'previously': 1, 'normal': 1, 'investigate': 1, 'whole': 1, 'require': 1, 'effective': 1, 'comparative': 1, 'treat': 1, 'either': 1, 'major': 1, 'compound': 1, 'material': 1, 'analyze': 1, 'exhaustive': 1, 'determine': 1, 'represent': 1, '83.8': 1, 'name': 1, 'order': 1, 'last': 1, 'streptozotocin': 1, 'uptake': 1, 'oxidative': 1, 'stress': 1, 'evaluate': 1, 'dpph': 1, 'orac': 1, 'oxygen': 1, 'radical': 1, 'absorbance': 1, 'antioxidative': 1, 'the': 1, 'analysis': 1, 'confirm': 1, 'high': 1, 'abundance': 1, '64.2': 1, 'second': 1, 'part': 1, 'caffeoylquinic': 1, '19.6': 1, 'among': 1, 'this': 1, 'permit': 1, 'l-chicoric': 1, 'designate': 1, 'our': 1, 'able': 1, 'subchronic': 1, 'administration': 1, 'seven': 1, 'alone': 1, 'allow': 1, 'significantly': 1, 'decrease': 1, 'six': 1, 'treatment': 1, 'explain': 1, 'difference': 1, 'muscle': 1, 'insulin': 1, 'sensitize': 1, 'action': 1, 'pretreatment': 1, 'antioxidant': 1, 'conclusion': 1, 'demonstrate': 1, 'cra': 1, 'reduce': 1})\n",
            "91.67% 확률로 연구 논문입니다.\n",
            "training vocab count 107 Counter({'acid': 6, 'p-coumaric': 5, 'human': 4, 'skin': 4, 'inhibitor': 3, 'tyrosinase': 3, 'efficacy': 3, 'reduce': 2, 'reaction': 2, 'experimental': 2, 'model': 2, 'melanin': 2, 'support': 2, 'find': 2, 'study': 2, 'cosmetic': 2, 'control': 1, 'unwanted': 1, 'hyperpigmentation': 1, 'major': 1, 'challenge': 1, 'dermatology': 1, 'cosmetology': 1, 'safe': 1, 'efficacious': 1, 'antimelanogenic': 1, 'agent': 1, 'deem': 1, 'useful': 1, 'purpose': 1, 'natural': 1, 'metabolite': 1, 'contain': 1, 'many': 1, 'edible': 1, 'plant': 1, 'antioxidant': 1, 'activity': 1, 'oxidative': 1, 'stress': 1, 'inflammatory': 1, 'demonstrate': 1, 'various': 1, 'optimal': 1, 'structure': 1, 'competitive': 1, 'catalyze': 1, 'key': 1, 'biosynthetic': 1, 'pathway': 1, 'evidence': 1, 'notion': 1, 'potent': 1, 'especially': 1, 'toward': 1, 'enzyme': 1, 'well-known': 1, 'arbutin': 1, 'kojic': 1, 'inhibit': 1, 'synthesis': 1, 'murine': 1, 'melanoma': 1, 'cell': 1, 'epidermal': 1, 'melanocyte': 1, 'reconstitute': 1, 'three-dimensional': 1, 'ex-vivo': 1, 'permeation': 1, 'experiment': 1, 'in-vivo': 1, 'test': 1, 'confirm': 1, 'efficient': 1, 'transdermal': 1, 'delivery': 1, 'functional': 1, 'erythema': 1, 'development': 1, 'pigmentation': 1, 'due': 1, 'ultraviolet': 1, 'radiation': 1, 'exposure': 1, 'effectiveness': 1, 'hypopigmentation': 1, 'depigmentation': 1, 'these': 1, 'suggest': 1, 'good': 1, 'potential': 1, 'use': 1, 'skin-lightening': 1, 'active': 1, 'ingredient': 1, 'future': 1, 'need': 1, 'extensively': 1, 'examine': 1, 'safety': 1, 'develop': 1, 'optimize': 1, 'formulation': 1, 'best': 1, 'performance': 1, 'lighten': 1})\n",
            "74.93% 확률로 연구 논문입니다.\n",
            "training vocab count 93 Counter({'p-coumaric': 8, 'acid': 8, 'elegans': 6, 'stress': 4, 'effect': 3, 'condition': 3, 'result': 3, 'increase': 3, 'oxidative': 3, 'osmosis': 3, 'factor': 3, 'relate': 2, 'human': 2, 'disease': 2, 'response': 2, 'significantly': 2, 'various': 2, 'vivo': 2, 'suggest': 2, 'antioxidant': 2, 'resistance': 2, 'background': 1, 'stress-response': 1, 'pathway': 1, 'caenorhabditis': 1, 'find': 1, 'closely': 1, 'age': 1, 'research': 1, 'therefore': 1, 'facilitate': 1, 'understand': 1, 'present': 1, 'peanut': 1, 'carrot': 1, 'garlic': 1, 'exert': 1, 'many': 1, 'biological': 1, 'however': 1, 'environmental': 1, 'stressor': 1, 'remain': 1, 'unknown': 1, 'thus': 1, 'current': 1, 'study': 1, 'employ': 1, 'animal': 1, 'model': 1, 'examine': 1, 'function': 1, 'treatment': 1, 'significant': 1, 'reduction': 1, 'intercellular': 1, 'reactive': 1, 'oxygen': 1, 'specie': 1, 'level': 1, 'capacity': 1, 'moreover': 1, 'worm': 1, 'survival': 1, 'normal': 1, 'heat-stressed': 1, 'the': 1, 'induce': 1, 'mediate': 1, 'skn-1': 1, 'ortholog': 1, 'nrf2': 1, 'nuclear': 1, 'erythroid': 1, '2-related': 1, 'transcriptional': 1, 'downregulation': 1, 'regulatory': 1, 'gene': 1, 'osr-1': 1, 'might': 1, 'contribute': 1, 'high': 1, 'osmolarity': 1, 'conclusion': 1, 'take': 1, 'together': 1, 'agent': 1, 'ameliorate': 1, '2018': 1, 'society': 1, 'chemical': 1, 'industry': 1})\n",
            "99.30% 확률로 연구 논문입니다.\n",
            "training vocab count 97 Counter({'pca': 6, 'aap-induced': 4, 'find': 3, 'hepatotoxicity': 3, 'aap': 2, 'use': 2, 'therapeutic': 2, 'cause': 2, 'liver': 2, 'acid': 2, 'activity': 2, 'protective': 2, 'effect': 2, 'model': 2, 'aminotransferase': 2, 'acetaminophen': 1, 'n-acetyl-p-aminophenol': 1, 'effective': 1, 'analgesic': 1, 'antipyretic': 1, 'drug': 1, 'minimal': 1, 'toxicity': 1, 'dose': 1, 'however': 1, 'overdose': 1, 'common': 1, 'drug-induced': 1, 'acute': 1, 'failure': 1, 'one': 1, 'main': 1, 'morbidity': 1, 'mortality': 1, 'p-coumaric': 1, 'abundant': 1, 'isomer': 1, 'hydroxycinnamic': 1, 'nature': 1, 'widely': 1, 'fruit': 1, 'vegetable': 1, 'plant': 1, 'product': 1, 'strong': 1, 'antioxidant': 1, 'exhibit': 1, 'numerous': 1, 'disease': 1, 'associate': 1, 'reactive': 1, 'oxygen': 1, 'specie': 1, 'ro': 1, 'generation': 1, 'study': 1, 'investigate': 1, 'underlie': 1, 'mechanism': 1, 'vivo': 1, 'ameliorate': 1, 'well': 1, 'reduce': 1, 'serum': 1, 'alanine': 1, 'alt': 1, 'aspartate': 1, 'ast': 1, 'furthermore': 1, 'observe': 1, 'suppress': 1, 'hepatic': 1, 'apoptosis': 1, 'via': 1, 'ros-mediated': 1, 'dna': 1, 'damage': 1, 'response': 1, 'inflammation': 1, 'modulate': 1, 'mitogen-activated': 1, 'protein': 1, 'kinase': 1, 'mapk': 1, 'signal': 1, 'axis': 1, 'ros-dependent': 1, 'manner': 1, 'these': 1, 'indicate': 1, 'administration': 1, 'protect': 1, 'suggest': 1, 'could': 1, 'novel': 1, 'strategy': 1, 'injury': 1})\n",
            "98.54% 확률로 연구 논문입니다.\n",
            "training vocab count 105 Counter({'acid': 7, 'p-coumaric': 5, 'cognitive': 4, 'increase': 3, 'scopolamine': 3, 'memory': 3, 'latency': 3, 'test': 3, 'improve': 3, 'problem': 2, 'reduce': 2, 'hippocampal': 2, 'fepsp': 2, 'avoidance': 2, 'cholinergic': 2, 'due': 1, 'improvement': 1, 'medical': 1, 'level': 1, 'life': 1, 'expectancy': 1, 'but': 1, 'incidence': 1, 'disorder': 1, 'emerge': 1, 'social': 1, 'current': 1, 'drug': 1, 'dementia': 1, 'treatment': 1, 'delay': 1, 'progress': 1, 'rather': 1, 'cure': 1, 'phenylpropanoic': 1, 'derive': 1, 'aromatic': 1, 'amino': 1, 'know': 1, 'precursor': 1, 'flavonoid': 1, 'resveratrol': 1, 'naringenin': 1, 'show': 1, 'oxidative': 1, 'stress': 1, 'inhibit': 1, 'genotoxicity': 1, 'exert': 1, 'neuroprotection': 1, 'base': 1, 'find': 1, 'evaluate': 1, 'whether': 1, 'protect': 1, 'induce': 1, 'learn': 1, 'impairment': 1, 'measure': 1, 'ltp': 1, 'organotypic': 1, 'slice': 1, 'behavior': 1, 'rat': 1, 'dose-dependently': 1, 'total': 1, 'activity': 1, 'high': 1, 'frequency': 1, 'stimulation': 1, 'attenuate': 1, 'scopolamine-induced': 1, 'blockade': 1, 'ca1': 1, 'area': 1, 'addition': 1, 'shorten': 1, 'step-through': 1, 'passive': 1, 'prolong': 1, 'well': 1, 'target': 1, 'quadrant': 1, 'morris': 1, 'water': 1, 'maze': 1, 'co-treatment': 1, 'long-term': 1, 'retention': 1, 'spatial': 1, 'behavioral': 1, 'since': 1, 'electrophysiological': 1, 'functional': 1, 'deterioration': 1, 'may': 1, 'regulatory': 1, 'effect': 1, 'central': 1, 'synapsis': 1, 'expect': 1, 'cause': 1, 'abnormality': 1, 'nervous': 1, 'system': 1})\n",
            "67.15% 확률로 연구 논문입니다.\n",
            "training vocab count 128 Counter({'p-ca': 7, 'significantly': 5, 'tlr-4': 4, 'inflammatory': 3, 'kidney': 3, 'content': 3, 'reduce': 3, 'aim': 2, 'renal': 2, 'esrd': 2, 'acid': 2, 'natural': 2, 'this': 2, 'renoprotective': 2, 'effect': 2, 'mg/kg': 2, 'il-6': 2, 'tgfβ1': 2, 'also': 2, 'collagen': 2, 'ability': 2, 'diabetic': 1, 'nephropathy': 1, 'responsible': 1, 'occurrence': 1, '30-47': 1, 'incident': 1, 'case': 1, 'end-stage': 1, 'disease': 1, 'worldwide': 1, 'chronic': 1, 'disorder': 1, 'result': 1, 'hyperglycemia-induced': 1, 'alteration': 1, 'lead': 1, 'fibrosis': 1, 'toll': 1, 'like': 1, 'receptor-4': 1, 'participate': 1, 'regulation': 1, 'response': 1, 'control': 1, 'innate': 1, 'immune': 1, 'system': 1, 'p-coumaric': 1, 'hydroxycinnamic': 1, 'derivative': 1, 'widely': 1, 'present': 1, 'vegetable': 1, 'fruit': 1, 'mushroom': 1, 'cereal': 1, 'study': 1, 'explore': 1, 'anti-inflammatory': 1, 'antioxidant': 1, 'compound': 1, 'experimental': 1, 'method': 1, 'induce': 1, 'single': 1, 'intraperitoneal': 1, 'injection': 1, 'streptozotocin': 1, 'rat': 1, 'homogenate': 1, 'level': 1, 'interleukin-6': 1, 'transform': 1, 'growth': 1, 'factor': 1, 'measure': 1, 'use': 1, 'elisa': 1, 'technique': 1, 'determine': 1, 'colorimetrically': 1, 'key': 1, 'find': 1, 'oral': 1, 'administration': 1, '100': 1, 'week': 1, 'alleviate': 1, 'serum': 1, 'concentration': 1, 'glucose': 1, 'creatinine': 1, 'blood': 1, 'urea': 1, 'nitrogen': 1, 'bun': 1, 'protein': 1, 'urine': 1, 'increase': 1, 'superoxide': 1, 'dismutase': 1, 'sod': 1, 'activity': 1, 'malondialdehyde': 1, 'mda': 1, 'compare': 1, 'group': 1, 'moreover': 1, 'improve': 1, 'dn-induced': 1, 'histopathological': 1, 'abnormality': 1, 'significance': 1, 'confer': 1, 'protection': 1, 'progression': 1, 'attribute': 1, 'decrease': 1, 'generation': 1, 'fibrotic': 1, 'cytokine': 1, 'addition': 1, 'restore': 1, 'oxidant/antioxidant': 1, 'balance': 1, 'down-regulate': 1, 'activation': 1})\n",
            "96.78% 확률로 연구 논문입니다.\n",
            "training vocab count 115 Counter({'neuronal': 7, 'brain': 6, 'death': 5, 'p-coumaric': 5, 'acid': 5, 'induce': 5, 'infarction': 5, 'cerebral': 4, 'group': 4, 'receive': 4, 'ischemia': 3, 'reperfusion': 3, 'injury': 3, 'mouse': 3, 'vehicle': 3, 'pc-ir': 3, 'volume': 3, 'the': 2, 'sham': 2, 'control-ir': 2, '100': 2, 'mg/kg': 2, 'oxidative': 2, 'whole': 2, 'vulnerable': 2, 'whole-brain': 2, 'stain': 2, 'section': 2, 'increase': 2, 'mda': 2, 'level': 2, 'hippocampal': 2, 'associate': 1, 'lead': 1, 'disability': 1, 'cognitive': 1, 'decline': 1, 'pathomechanism': 1, 'occur': 1, 'exacerbate': 1, 'period': 1, 'damage': 1, 'susceptibility': 1, 'depend': 1, 'affect': 1, 'area': 1, 'duration': 1, 'prevention': 1, 'supplementation': 1, 'neuron': 1, 'may': 1, 'help': 1, 'endure': 1, 'benefit': 1, 'rehabilitation': 1, 'investigate': 1, 'protective': 1, 'effect': 1, 'randomly': 1, 'divide': 1, 'male': 1, 'icr': 1, 'orally': 1, 'administer': 1, 'week': 1, 'use': 1, 'min': 1, 'bilateral': 1, 'common': 1, 'carotid': 1, 'artery': 1, 'occlusion': 1, 'follow': 1, '45-min': 1, 'condition': 1, 'after': 1, 'induction': 1, 'sacrifice': 1, 'collect': 1, 'tissue': 1, 'evaluate': 1, 'status': 1, 'study': 1, '5-triethyltetrazoliumchloride': 1, 'perform': 1, 'histological': 1, 'investigation': 1, 'population': 1, 'dorsal': 1, 'hippocampus': 1, '0.1': 1, 'cresyl': 1, 'violet': 1, 'result': 1, 'indicate': 1, 'cause': 1, 'significant': 1, 'calcium': 1, 'malondialdehyde': 1, 'pretreatment': 1, 'significantly': 1, 'reduce': 1, 'together': 1, 'catalase': 1, 'superoxide': 1, 'dismutase': 1, 'activity': 1, 'conclude': 1, 'pretreating': 1, 'animal': 1, 'prevent': 1, 'ir-induced': 1, 'stress': 1, 'size': 1, 'vulnerability': 1})\n",
            "97.73% 확률로 연구 논문입니다.\n",
            "training vocab count 85 Counter({'reca': 10, 'resistance': 5, 'antibiotic': 4, 'p-coumaric': 4, 'acid': 4, 'dna': 3, 'mechanism': 3, 'response': 3, 'inhibitor': 3, 'activity': 3, 'monocytogenes': 3, 'also': 3, 'important': 2, 'so': 2, 'antimicrobial': 2, 'emergence': 2, 'potent': 2, 'inhibit': 2, 'bind': 2, 'protein': 2, 'ciprofloxacin': 2, 'bacteria': 2, 'bacterial': 1, 'play': 1, 'role': 1, 'evaluation': 1, 'via': 1, 'stress-induced': 1, 'repair': 1, 'accordingly': 1, 'become': 1, 'therapeutic': 1, 'target': 1, 'small': 1, 'molecule': 1, 'may': 1, 'prevent': 1, 'adaptation': 1, 'mutation': 1, 'study': 1, 'observe': 1, 'phenolic': 1, 'compound': 1, 'drive': 1, 'biochemical': 1, 'vitro': 1, 'ssdna': 1, 'strand': 1, 'exchange': 1, 'atp': 1, 'hydrolysis': 1, 'coprotease': 1, 'coli': 1, 'the': 1, 'underlie': 1, 'inhibitory': 1, 'action': 1, 'involve': 1, 'ability': 1, 'interfere': 1, 'domain': 1, 'potentiate': 1, 'drastic': 1, 'cell': 1, 'survival': 1, 'well': 1, 'filamentation': 1, 'process': 1, 'defensive': 1, 'damage': 1, 'additionally': 1, 'block': 1, 'induce': 1, 'expression': 1, 'lead': 1, 'suppression': 1, 'these': 1, 'find': 1, 'reveal': 1, 'use': 1, 'adjuvant': 1, 'exist': 1, 'enhance': 1, 'shelf-life': 1, 'slow': 1})\n",
            "91.05% 확률로 연구 논문입니다.\n",
            "training vocab count 114 Counter({'mouse': 7, 'hypoxia': 6, 'group': 6, 'content': 4, 'pulmonary': 3, 'normobaric': 3, 'lung': 3, 'plasma': 3, 'aim': 2, 'study': 2, 'effect': 2, 'rapa': 2, 'p-coumaric': 2, 'cag': 2, 'mechanism': 2, 'edema': 2, 'normoxia': 2, 'water': 2, 'chamber': 2, '9.5': 2, 'lwc': 2, 'protein': 2, 'balf': 2, 'total': 2, 'et-1': 2, 'expression': 2, 'occludin': 2, 'hypoxic': 2, 'level': 2, 'previous': 1, 'indicate': 1, 'anti-hypoxia': 1, 'tibetan': 1, 'turnip': 1, 'brassica': 1, 'ssp': 1, 'closely': 1, 'relate': 1, 'characteristic': 1, 'component': 1, 'acid': 1, 'acid‑β‑d‑glucopyranoside': 1, 'since': 1, 'would': 1, 'convert': 1, 'vivo': 1, 'examine': 1, 'efficacy': 1, 'induce': 1, 'main': 1, 'method': 1, 'male': 1, 'icr': 1, 'assign': 1, 'several': 1, 'give': 1, 'sterile': 1, 'dexamethasone': 1, 'orally': 1, 'daily': 1, 'four': 1, 'consecutive': 1, 'day': 1, 'one': 1, 'hour': 1, 'final': 1, 'gavage': 1, 'put': 1, 'remain': 1, 'outside': 1, 'after': 1, 'exposure': 1, 'vascular': 1, 'permeability': 1, 'bronchoalveolar': 1, 'lavage': 1, 'fluid': 1, 'nitrate/nitrite': 1, 'nox': 1, 'endothelin-1': 1, 'histological': 1, 'ultra-microstructure': 1, 'analyse': 1, 'perform': 1, 'assay': 1, 'immunohistochemistry': 1, 'key': 1, 'find': 1, 'environment': 1, 'treat': 1, '100': 1, 'mg/kg': 1, 'body': 1, 'significantly': 1, 'low': 1, 'vehicle': 1, 'meanwhile': 1, 'show': 1, 'intact': 1, 'blood-gas-barrier': 1, 'increase': 1, 'decrease': 1, 'upregulation': 1, 'significance': 1, 'exert': 1, 'preventive': 1, 'involve': 1, 'improve': 1, 'integrity': 1, 'barrier': 1, 'inhibit': 1, 'oxidative': 1, 'stress': 1, 'inflammation': 1})\n",
            "99.94% 확률로 연구 논문입니다.\n",
            "training vocab count 98 Counter({'rat': 7, 'ethanol': 6, 'male': 5, 'pca': 5, 'group': 5, 'treat': 5, 'reduce': 4, 'alcohol': 3, 'reproductive': 3, 'week': 3, 'increase': 3, 'mg/kg': 3, 'effect': 2, 'p‑coumaric': 2, 'acid': 2, 'induce': 2, 'toxicity': 2, 'wistar': 2, 'iii': 2, 'orally': 2, 'per': 2, 'the': 2, 'show': 2, 'abnormal': 2, 'sperm': 2, 'level': 2, 'addition': 2, 'protective': 2, 'apoptosis': 2, 'immunoreactivity': 2, 'psychoactive': 1, 'drug': 1, 'one': 1, 'lifestyle': 1, 'factor': 1, 'responsible': 1, 'infertility': 1, 'present': 1, 'study': 1, 'carry': 1, 'investigate': 1, 'ameliorative': 1, 'plant': 1, 'derive': 1, 'bioactive': 1, 'phenolic': 1, 'compound': 1, 'chronic': 1, 'thirty': 1, 'divide': 1, 'five': 1, 'six': 1, 'animal': 1, 'control': 1, 'receive': 1, 'vehicle': 1, 'distil': 1, 'water': 1, 'alone': 1, 'and': 1, 'follow': 1, 'sequentially': 1, 'dose': 1, 'v/v': 1, 'g/kg': 1, 'day': 1, '3rd': 1, '4th': 1, 'administer': 1, 'three': 1, 'different': 1, 'concentration': 1, 'low': 1, 'medium': 1, '100': 1, 'high': 1, '200': 1, 'characteristic': 1, 'anti-oxidant': 1, 'testosterone': 1, 'testicular': 1, 'histoarchitecture': 1, 'find': 1, 'parameter': 1, 'caspase-3': 1, 'caspase-7': 1, 'p21': 1, 'cdk4': 1, 'confirm': 1, 'testis': 1, 'expression': 1, 'indicate': 1, 'role': 1, 'overall': 1, 'result': 1, 'mitigate': 1, 'improve': 1, 'health': 1})\n",
            "88.13% 확률로 연구 논문입니다.\n",
            "training vocab count 88 Counter({'p-ca': 4, 'colon': 3, 'rat': 3, 'detoxification': 3, 'cancer': 2, 'chemoprevention': 2, 'outcome': 2, 'preclinical': 2, 'the': 2, '1,2-dimethylhydrazine-administered': 2, 'namely': 2, 'regulate': 2, 'cell': 2, 'gene': 2, 'apoptosis': 2, 'induction': 2, 'ratio': 2, 'improve': 2, 'factor': 2, 'suppression': 1, 'colorectal': 1, 'mean': 1, 'gain': 1, 'great': 1, 'attention': 1, 'owe': 1, 'promise': 1, 'le': 1, 'adverse': 1, 'effect': 1, 'clinical': 1, 'trial': 1, 'present': 1, 'study': 1, 'aim': 1, 'explore': 1, 'mechanism': 1, 'p-coumaric': 1, 'acid': 1, 'short-term': 1, 'model': 1, 'supplement': 1, 'show': 1, 'downregulation': 1, 'expression': 1, 'colonic': 1, 'protein': 1, 'cyclin': 1, 'cdc2': 1, 'mdm2': 1, 'cycle': 1, 'immediate': 1, 'early': 1, 'response': 1, 'c-fos': 1, 'c-jun': 1, 'c-myc': 1, 'proliferation': 1, 'also': 1, 'observe': 1, 'p-ca-supplemented': 1, 'ass': 1, 'bax/bcl-2': 1, 'immunohistochemistry': 1, 'immunoblotting': 1, 'real-time': 1, 'polymerase': 1, 'chain': 1, 'reaction': 1, 'analysis': 1, 'reveal': 1, 'supplementation': 1, 'in-vivo': 1, 'potential': 1, 'modulate': 1, 'cytoplasmic-to-nuclear': 1, 'nuclear': 1, 'erythroid': 1, '2-related': 1, 'favour': 1, 'responsible': 1, 'cytoprotection': 1, 'find': 1, 'suggest': 1, 'inhibit': 1, 'polyp': 1, 'formation': 1, 'process': 1})\n",
            "90.49% 확률로 연구 논문입니다.\n",
            "training vocab count 80 Counter({'study': 3, 'synovial': 3, 'macrophage': 3, 'ml-ca': 3, 'the': 2, 'delivery': 2, 'p-coumaric': 2, 'acid': 2, 'bone': 2, 'drug': 2, 'release': 2, 'indicate': 2, 'mannosylated': 2, 'liposome': 2, 'inhibit': 2, 'osteoclast': 2, 'differentiation': 2, 'current': 1, 'aim': 1, 'target': 1, 'dietary': 1, 'polyphenol': 1, 'aia': 1, 'rat': 1, 'via': 1, 'mannose': 1, 'incorporate': 1, 'liposomal': 1, 'system': 1, 'reference': 1, 'osteoclastogenesis': 1, 'resorption': 1, 'vivo': 1, 'image': 1, 'vitro': 1, 'efficiency': 1, 'localize': 1, 'site': 1, 'inflammation': 1, 'increase': 1, 'sustain': 1, 'respectively': 1, 'morphological': 1, 'assessment': 1, 'isolate': 1, 'respect': 1, 'cd86': 1, 'cd51': 1, 'pre-/osteoclast': 1, 'encapsulate': 1, 'treatment': 1, 'trap': 1, 'stain': 1, 'downregulated': 1, 'expression': 1, 'mmp-9': 1, 'nfatc1': 1, 'inflammatory': 1, 'cytokine': 1, 'ex-vivo': 1, 'specify': 1, 'ability': 1, 'induce': 1, 'opg': 1, 'production': 1, 'marrow': 1, 'stromal': 1, 'cell': 1, 'trigger': 1, 'macrophage-osteoclasts': 1, 'preserve': 1, 'calcium': 1, 'content': 1, 'take': 1, 'together': 1, 'result': 1, 'demonstrate': 1, 'could': 1, 'intervene': 1, 'formation': 1})\n",
            "93.12% 확률로 연구 논문입니다.\n",
            "training vocab count 95 Counter({'pca': 8, 'il-1β-induced': 5, 'inflammatory': 4, 'p-coumaric': 3, 'acid': 3, 'chondrocytes': 3, 'osteoarthritis': 2, 'disease': 2, 'cartilage': 2, 'degradation': 2, 'activity': 2, 'effect': 2, 'response': 2, 'cellular': 2, 'senescence': 2, 'rat': 2, 'matrix': 2, 'could': 2, 'also': 2, 'suppress': 2, 'treatment': 2, 'protein': 2, 'mapk': 2, 'nf-κb': 2, 'pathway': 2, 'find': 2, 'common': 1, 'chronic': 1, 'joint': 1, 'characterize': 1, 'dietary': 1, 'phenolic': 1, 'compound': 1, 'exert': 1, 'anti-inflammatory': 1, 'anti-oxidative': 1, 'various': 1, 'however': 1, 'report': 1, 'present': 1, 'study': 1, 'aim': 1, 'investigate': 1, 'interleukin-1β': 1, 'il-1β': 1, '-induced': 1, 'our': 1, 'result': 1, 'reveal': 1, 'remarkably': 1, 'downregulated': 1, 'factor': 1, 'cox2': 1, 'inos': 1, 'cartilage-degrading': 1, 'enzyme': 1, 'like': 1, 'metalloproteinases': 1, 'mmp1': 1, 'mmp3': 1, 'mmp13': 1, 'aggrecanases': 1, 'adamts4': 1, 'adamts5': 1, 'the': 1, 'collagen': 1, 'aggrecan': 1, 'besides': 1, 'effectively': 1, 'inhibit': 1, 'p16ink4a': 1, 'expression': 1, 'saβ-gal': 1, 'vitro': 1, 'mechanism': 1, 'analysis': 1, 'show': 1, 'activation': 1, 'mitogen-activated': 1, 'kinase': 1, 'nuclear': 1, 'factor-kappab': 1, 'vivo': 1, 'alleviate': 1, 'development': 1, 'model': 1, 'altogether': 1, 'implicate': 1, 'attenuate': 1, 'via': 1, 'inhibition': 1, 'signal': 1, 'may': 1, 'promise': 1, 'candidate': 1})\n",
            "99.70% 확률로 연구 논문입니다.\n",
            "training vocab count 114 Counter({'derivative': 3, 'test': 3, 'indicate': 3, 'trypanosoma': 2, 'specie': 2, 'this': 2, 'death': 2, 'present': 2, 'study': 2, 'trypanocidal': 2, 'p-coumarate': 2, 'activity': 2, 'increase': 2, 'cell': 2, 'loss': 2, 'mechanism': 2, 'compound': 2, 'enzyme': 2, 'the': 2, 'interaction': 2, 'ligand': 2, 'responsible': 1, 'chronic': 1, 'systemic': 1, 'infection': 1, 'million': 1, 'people': 1, 'around': 1, 'world': 1, 'compromise': 1, 'life': 1, 'quality': 1, 'family': 1, 'government': 1, 'budget': 1, 'group': 1, 'disease': 1, 'classify': 1, 'neglect': 1, 'cause': 1, 'thousand': 1, 'year': 1, 'effect': 1, 'set': 1, 'ester': 1, 'p-coumaric': 1, 'acid': 1, 'pentyl': 1, '5.16': 1, '1.28': 1, '61.63': 1, '28.59': 1, 'best': 1, 'respective': 1, 'epimastigote': 1, 'trypomastigote': 1, 'form': 1, 'flow': 1, 'cytometry': 1, 'analysis': 1, 'reveal': 1, 'percentage': 1, '7-aad': 1, 'label': 1, 'reactive': 1, 'oxygen': 1, 'mitochondrial': 1, 'membrane': 1, 'potential': 1, 'necrosis': 1, 'confirm': 1, 'scan': 1, 'electron': 1, 'microscopy': 1, 'note': 1, 'cellular': 1, 'integrity': 1, 'molecular': 1, 'dock': 1, 'data': 1, 'chemical': 1, 'potentially': 1, 'act': 1, 'two': 1, 'action': 1, 'whether': 1, 'link': 1, 'aldo-keto': 1, 'reductase': 1, 'akr': 1, 'comprise': 1, 'cruzain': 1, 'one': 1, 'key': 1, 'cruzi': 1, 'development': 1, 'result': 1, 'van': 1, 'd': 1, 'waals': 1, 'receptor': 1, 'favor': 1, 'bind': 1, 'hydrophobic': 1, 'phenolic': 1, 'aliphatic': 1, 'part': 1, 'demonstrate': 1, 'promise': 1, 'molecule': 1, 'develop': 1, 'new': 1, 'prototype': 1, 'antiprotozoal': 1})\n",
            "59.89% 확률로 연구 논문입니다.\n",
            "training vocab count 91 Counter({'acid': 8, 'the': 4, 'ellagic': 4, 'gallic': 4, 'punicalagin': 4, 'granatum': 3, 'anti-inflammatory': 3, 'effect': 3, 'compound': 3, 'pge-2': 3, 'il-6': 3, 'use': 2, 'treatment': 2, 'pain': 2, 'evaluate': 2, 'isolate': 2, 'etoac': 2, 'inhibitory': 2, 'prostaglandin': 2, 'cox-2': 2, 'production': 2, 'lps-induced': 2, 'kit': 2, 'result': 2, 'background': 1, 'punica': 1, 'pomegranate': 1, 'edible': 1, 'fruit': 1, 'originate': 1, 'middle': 1, 'east': 1, 'traditional': 1, 'medicine': 1, 'inflammatory': 1, 'condition': 1, 'peptic': 1, 'ulcer': 1, 'numerous': 1, 'risk': 1, 'associate': 1, 'nonsteroidal': 1, 'drug': 1, 'nsaid': 1, 'inflammation': 1, 'give': 1, 'rise': 1, 'medicinal': 1, 'herb': 1, 'alternative': 1, 'therapy': 1, 'this': 1, 'study': 1, 'aim': 1, 'ethyl': 1, 'acetate': 1, 'fraction': 1, 'determination': 1, 'lipopolysaccharide': 1, 'lp': 1, 'stimulate': 1, 'nitric': 1, 'oxide': 1, 'interleukin-6': 1, 'cyclooxxgenase-2': 1, 'release': 1, 'raw264.7': 1, 'cell': 1, 'method': 1, 'high': 1, 'performance': 1, 'liquid': 1, 'chromatography': 1, 'hplc': 1, 'identify': 1, 'mass': 1, 'spectrometry': 1, 'griess': 1, 'reagent': 1, 'immunoassay': 1, 'competitive': 1, 'elisa': 1, 'western': 1, 'blot': 1, 'potentially': 1, 'inhibit': 1, 'conclusion': 1, 'indicate': 1, 'may': 1, 'responsible': 1, 'potential': 1})\n",
            "99.73% 확률로 연구 논문입니다.\n",
            "training vocab count 87 Counter({'acid': 8, 'gallic': 7, 'cardiac': 6, 'fibrosis': 5, 'dysfunction': 4, 'reduce': 4, 'tac': 3, 'leave': 2, 'effect': 2, 'heart': 2, 'failure': 2, 'fibroblast': 2, 'growth': 2, 'factor': 2, 'decrease': 2, 'expression': 2, 'natriuretic': 2, 'peptide': 2, 'administration': 2, 'collagen': 2, 'type': 2, 'trihydroxybenzoic': 1, 'find': 1, 'tea': 1, 'plant': 1, 'here': 1, 'report': 1, 'mouse': 1, 'model': 1, 'pressure': 1, 'overload-induced': 1, 'primary': 1, 'rat': 1, 'compare': 1, 'drug': 1, 'use': 1, 'clinic': 1, 'hypertrophy': 1, 'induce': 1, 'transverse': 1, 'aortic': 1, 'constriction': 1, 'stimulus': 1, 'vivo': 1, 'transform': 1, 'tgf-β1': 1, 'vitro': 1, 'ventricular': 1, 'end-diastolic': 1, 'end-systolic': 1, 'diameter': 1, 'recover': 1, 'fractional': 1, 'shorten': 1, 'addition': 1, 'suppress': 1, 'atrial': 1, 'brain': 1, 'skeletal': 1, 'α-actin': 1, 'β-myosin': 1, 'heavy': 1, 'chain': 1, 'perivascular': 1, 'determine': 1, 'trichrome': 1, 'blue': 1, 'stain': 1, 'connective': 1, 'tissue': 1, 'however': 1, 'losartan': 1, 'carvedilol': 1, 'furosemide': 1, 'moreover': 1, 'treatment': 1, 'inhibit': 1, 'fibrosis-related': 1, 'gene': 1, 'deposition': 1, 'tgf-β1-treated': 1, 'these': 1, 'result': 1, 'suggest': 1, 'therapeutic': 1, 'agent': 1, 'chronic': 1})\n",
            "99.57% 확률로 연구 논문입니다.\n",
            "training vocab count 80 Counter({'acid': 10, 'gallic': 9, 'cm': 4, 'show': 3, 'signal': 3, 'result': 3, 'study': 2, 'antidepressant-like': 2, 'mouse': 2, 'increase': 2, 'level': 2, 'the': 2, 'effect': 2, 'bdnf': 2, 'activation': 2, 'reverse': 2, 'also': 2, 'induce': 2, '3,4,5-trihydroxybenzoic': 1, 'naturally': 1, 'occur': 1, 'polyphenolic': 1, 'compound': 1, 'previous': 1, 'posse': 1, 'significant': 1, 'activity': 1, 'partly': 1, 'mediate': 1, 'serotonin': 1, 'catecholamine': 1, 'main': 1, 'aim': 1, 'present': 1, 'investigate': 1, 'possible': 1, 'brain-derived': 1, 'neurotrophic': 1, 'factor': 1, 'expose': 1, 'chronic': 1, 'mild': 1, 'stress': 1, 'orally': 1, 'administrate': 1, 'four': 1, 'week': 1, 'behavioral': 1, 'decrease': 1, 'sucrose': 1, 'preference': 1, 'attenuate': 1, 'immobility': 1, 'time': 1, 'addition': 1, 'promote': 1, 'p-trkb': 1, 'hippocampus': 1, 'moreover': 1, 'demonstrate': 1, 'inactivate': 1, 'akt-mtor': 1, 'pathway': 1, 'well': 1, 'downstream': 1, 'effector': 1, 'activate': 1, 'last': 1, 'immunofluorescence': 1, 'detection': 1, 'indicate': 1, 'newborn': 1, 'neuron': 1, 'inhibition': 1, 'dentate': 1, 'gyrus': 1, 'conclusion': 1, 'hippocampal': 1, 'bdnf-akt-mtor': 1, 'involve': 1})\n",
            "99.09% 확률로 연구 논문입니다.\n",
            "training vocab count 123 Counter({'group': 9, 'cisplatin': 7, 'acid': 7, 'day': 6, 'gallic': 5, 'rat': 5, 'intraperitoneal': 5, 'biochemical': 4, 'receive': 4, 'ototoxicity': 3, 'histopathological': 3, 'five': 3, 'consecutive': 3, 'test': 3, 'significantly': 3, 'use': 2, 'the': 2, 'study': 2, 'protective': 2, 'functional': 2, 'single': 2, 'dose': 2, '15mg/kg': 2, '100mg/kg': 2, 'cisplatin+gallic': 2, 'control': 2, 'distortion': 2, 'product': 2, 'otoacoustic': 2, 'emission': 2, 'analyse': 2, 'result': 2, 'low': 2, 'tissue': 2, 'cell': 2, 'find': 2, 'introduction': 1, 'antineoplastic': 1, 'agent': 1, 'widely': 1, 'treatment': 1, 'variety': 1, 'cancer': 1, 'one': 1, 'main': 1, 'side-effects': 1, 'restrict': 1, 'objective': 1, 'purpose': 1, 'investigate': 1, 'efficacy': 1, 'term': 1, 'induce': 1, 'method': 1, 'twenty-eight': 1, 'female': 1, 'sprague': 1, 'dawley': 1, 'include': 1, 'randomly': 1, 'assign': 1, 'four': 1, 'seven': 1, 'animal': 1, '3rd': 1, '1ml': 1, 'saline': 1, 'solution': 1, 'prior': 1, 'drug': 1, 'administration': 1, 'expose': 1, 'repeat': 1, '6th': 1, 'all': 1, 'sacrifice': 1, 'cochlea': 1, 'remove': 1, 'set': 1, 'aside': 1, 'signal': 1, 'noise': 1, 'ratio': 1, 'value': 1, 'also': 1, 'malondialdehyde': 1, 'level': 1, 'cochlear': 1, 'high': 1, 'superoxide': 1, 'dismutase': 1, 'glutathione': 1, 'peroxidase': 1, 'activity': 1, 'compare': 1, 'histopathologic': 1, 'evaluation': 1, 'reveal': 1, 'erosion': 1, 'stria': 1, 'vascularis': 1, 'degeneration': 1, 'edema': 1, 'connective': 1, 'layer': 1, 'endothelial': 1, 'impairment': 1, 'out': 1, 'hair': 1, 'decrease': 1, 'number': 1, 'call': 1, 'change': 1, 'reverse': 1, 'conclusion': 1, 'light': 1, 'think': 1, 'may': 1, 'play': 1, 'role': 1, 'cisplatin-induced': 1, 'indicate': 1, 'immunohistochemical': 1})\n",
            "55.37% 확률로 비연구 논문입니다.\n",
            "training vocab count 112 Counter({'influenza': 10, 'virus': 8, 'h1n1': 7, 'catechin': 5, 'gallic': 5, 'acid': 5, 'the': 4, 'μg/ml': 4, 'pandemic': 3, 'study': 3, 'tsl-1': 3, 'activity': 3, 'effect': 3, 'respectively': 3, 'effective': 2, 'demonstrate': 2, 'prevent': 2, 'viral': 2, 'present': 2, 'compound': 2, 'exert': 2, 'use': 2, 'plaque': 2, 'formation': 2, 'neuraminidase': 2, 'glycoprotein': 2, 'inhibit': 2, 'concentration': 2, 'whereas': 2, '22.1': 2, 'might': 2, 'reagent': 2, 'infection': 2, 'background': 1, 'spread': 1, 'worldwide': 1, 'infect': 1, 'large': 1, 'proportion': 1, 'human': 1, 'population': 1, 'discovery': 1, 'new': 1, 'drug': 1, 'treatment': 1, 'crucial': 1, 'issue': 1, 'global': 1, 'medical': 1, 'community': 1, 'accord': 1, 'previous': 1, 'fraction': 1, 'aqueous': 1, 'extract': 1, 'tender': 1, 'leaf': 1, 'toonasinensis': 1, 'antiviral': 1, 'down-regulation': 1, 'adhesion': 1, 'molecule': 1, 'chemokine': 1, 'attachment': 1, 'method': 1, 'aim': 1, 'identify': 1, 'active': 1, 'anti-influenza': 1, 'xtt': 1, 'assay': 1, 'detect': 1, 'cell': 1, 'viability': 1, 'meanwhile': 1, 'inhibitory': 1, 'analyze': 1, 'observe': 1, 'qrt-pcr': 1, 'immunofluorescence': 1, 'stain': 1, 'a-specific': 1, 'result': 1, 'both': 1, 'find': 1, 'potent': 1, 'inhibitor': 1, 'term': 1, 'mrna': 1, 'replication': 1, 'mdck': 1, 'additionally': 1, 'inhibition': 1, 'ec50': 1, '18.4': 1, '2.6': 1, 'cytotoxic': 1, 'cc50': 1, '100': 1, 'thus': 1, 'selectivity': 1, 'index': 1, '5.6': 1, 'conclusion': 1, 'safe': 1, 'long-term': 1, 'sensitive': 1, 'conclude': 1, 'two': 1, 'phyto-chemicals': 1, 'responsible': 1, 'anti-pandemic': 1})\n",
            "87.68% 확률로 연구 논문입니다.\n",
            "training vocab count 96 Counter({'acid': 8, 'diabetic': 7, 'rat': 5, 'brain': 4, 'gallic': 4, 'p-coumaric': 4, 'group': 4, 'hippocampus': 3, 'neurodegeneration': 3, 'serum': 3, 'antioxidant': 3, 'the': 2, 'reveal': 2, 'hippocampal': 2, 'mg/kg': 2, 'b.wt./day': 2, 'level': 2, 'glucose': 2, 'significantly': 2, 'decline': 2, 'oxidative': 2, 'stress': 2, 'protein': 2, 'expression': 2, 'inhibit': 2, 'deterioration': 1, 'many': 1, 'region': 1, 'especially': 1, 'hence': 1, 'present': 1, 'study': 1, 'aim': 1, 'evaluate': 1, 'effect': 1, 'type': 1, 'adult': 1, 'male': 1, 'albino': 1, 'randomly': 1, 'allocate': 1, 'four': 1, 'serve': 1, 'control': 1, 'one': 1, 'others': 1, 'induce': 1, 'diabetes': 1, 'consider': 1, 'orally': 1, 'treat': 1, 'six': 1, 'week': 1, 'significant': 1, 'elevation': 1, 'blood': 1, 'glycosylated': 1, 'hemoglobin': 1, 'tumor': 1, 'necrosis': 1, 'factor-α': 1, 'insulin': 1, 'furthermore': 1, 'show': 1, 'mark': 1, 'increase': 1, 'decrease': 1, 'parameter': 1, 'well': 1, 'upregulation': 1, 'bax': 1, 'downregulation': 1, 'bcl-2': 1, 'treatment': 1, 'ameliorate': 1, 'tolerance': 1, 'diminish': 1, 'improve': 1, 'status': 1, 'inflammation': 1, 'apoptosis': 1, 'overall': 1, 'result': 1, 'suggest': 1, 'may': 1, 'via': 1, 'potent': 1, 'anti-inflammatory': 1, 'anti-apoptotic': 1, 'property': 1, 'therefore': 1, 'compound': 1, 'recommend': 1, 'hopeful': 1, 'adjuvant': 1, 'agent': 1})\n",
            "98.03% 확률로 연구 논문입니다.\n",
            "training vocab count 97 Counter({'asthma': 7, 'gallic': 7, 'acid': 7, 'mouse': 4, 'cell': 4, 'airway': 3, 'pro-inflammatory': 3, 'infiltration': 3, 'il-33': 3, 'expression': 3, 'hyperresponsiveness': 2, 'study': 2, 'mechanism': 2, 'ovalbumin-induced': 2, 'model': 2, 'generate': 2, 'th2': 2, 'cytokine': 2, 'release': 2, 'balf': 2, 'improve': 2, 'use': 2, 'reduce': 2, 'decrease': 2, 'inhibit': 2, 'signal': 2, 'background': 1, 'inflammatory': 1, 'disease': 1, 'characterize': 1, 'powerful': 1, 'anti-inflammatory': 1, 'agent': 1, 'aim': 1, 'investigate': 1, 'efficacy': 1, 'treatment': 1, 'method': 1, 'helper': 1, '-associated': 1, 'bronchoalveolar': 1, 'lavage': 1, 'fluid': 1, 'analyze': 1, 'reflect': 1, 'severity': 1, 'interleukin-33': 1, '-induced': 1, 'also': 1, 'could': 1, 'group': 1, 'lymphoid': 1, 'ilc2s': 1, 'identify': 1, 'flow': 1, 'cytometry': 1, 'protein': 1, 'detect': 1, 'western': 1, 'blot': 1, 'result': 1, 'ovalbumin': 1, 'significantly': 1, 'increase': 1, 'include': 1, 'eosinophil': 1, 'macrophage': 1, 'lymphocyte': 1, 'neutrophil': 1, 'accompany': 1, 'enhance': 1, 'hyperesponsiveness': 1, 'meanwhile': 1, 'il-5': 1, 'il-13': 1, 'level': 1, 'lung': 1, 'mechanistically': 1, 'myd88': 1, 'downregulated': 1, 'nuclear': 1, 'factor': 1, '-κb': 1, 'conclusion': 1, 'mollify': 1, 'possibly': 1, 'il-33-mediated': 1, 'ilc2': 1, 'activation': 1, 'subsequent': 1, 'via': 1, 'downregulation': 1, 'myd88/nf-κb': 1, 'pathway': 1, '©2018': 1, 'arsaaoa': 1, 'llc': 1})\n",
            "90.61% 확률로 연구 논문입니다.\n",
            "training vocab count 115 Counter({'gal': 9, 'lps-induced': 7, 'production': 4, 'proinflammatory': 4, 'lipid': 4, 'mediator': 4, 'mouse': 4, 'expression': 3, 'inos': 3, 'the': 2, 'sepsis': 2, 'conjugate': 2, 'effect': 2, 'macrophage': 2, 'reveal': 2, 'cox-2': 2, 'activity': 2, 'suppress': 2, 'prostaglandin': 2, 'anti-inflammatory': 2, 'level': 2, 'pathology': 1, 'endotoxin': 1, 'hallmarked': 1, 'aberrant': 1, 'nitric': 1, 'oxide': 1, 'aim': 1, 'present': 1, 'study': 1, 'determine': 1, 'whether': 1, 'new': 1, 'product': 1, 'gallic': 1, 'acid-l-leucine': 1, 'could': 1, 'ameliorate': 1, 'dysregulation': 1, 'arachidonic': 1, 'acid': 1, 'metabolism': 1, 'first': 1, 'investigate': 1, 'enzyme': 1, 'cell': 1, 'line': 1, 'raw264.7': 1, 'primary': 1, 'peritoneal': 1, 'model': 1, 'western': 1, 'blot': 1, 'analyse': 1, 'attenuate': 1, '5-lox': 1, 'concentration-dependent': 1, 'manner': 1, 'consistently': 1, 'probe': 1, 'no-mediated': 1, 'fluorescence': 1, 'antagonize': 1, 'stimulatory': 1, 'lp': 1, 'profile': 1, 'esi-ms-based': 1, 'lipidomics': 1, 'find': 1, 'overproduction': 1, 'leukotriene': 1, 'thromboxane': 1, 'discover': 1, 'might': 1, 'exhibit': 1, 'follow': 1, 'mechanism': 1, 'activation': 1, 'map': 1, 'kinase': 1, 'i.e.': 1, 'erk1/2': 1, 'jnk': 1, 'p38': 1, 'reduce': 1, 'reactive': 1, 'oxygen': 1, 'specie': 1, 'ro': 1, 'prevent': 1, 'nuclear': 1, 'translocation': 1, 'transcription': 1, 'factor': 1, 'nf-κb': 1, 'ap-1': 1, 'consequently': 1, 'significantly': 1, 'decrease': 1, 'plasma': 1, 'lps-treated': 1, 'pretreatment': 1, 'enhance': 1, 'survival': 1, 'endotoxic': 1, 'shock': 1, 'take': 1, 'together': 1, 'result': 1, 'suggest': 1, 'may': 1, 'potential': 1, 'drug': 1, 'treatment': 1, 'endotoxemia': 1})\n",
            "99.57% 확률로 연구 논문입니다.\n",
            "training vocab count 73 Counter({'gallic': 11, 'acid': 9, 'apoptosis': 7, 'egfr': 7, 'cell': 6, 'induce': 5, 'cancer': 5, 'treatment': 5, 'nsclc': 4, 'lung': 3, 'survival': 3, 'turnover': 3, 'growth': 2, 'indeed': 2, 'acid-induced': 2, 'egfr-mutant': 2, 'significant': 2, 'lead': 2, 'inhibitor': 2, 'dependent': 2, 'common': 1, 'botanic': 1, 'phenolic': 1, 'compound': 1, 'present': 1, 'plant': 1, 'food': 1, 'worldwide': 1, 'implicate': 1, 'various': 1, 'biological': 1, 'process': 1, 'show': 1, 'many': 1, 'type': 1, 'however': 1, 'molecular': 1, 'mechanism': 1, 'particularly': 1, 'still': 1, 'unclear': 1, 'here': 1, 'report': 1, 'non-small': 1, 'egfr-wt': 1, 'result': 1, 'reduction': 1, 'proliferation': 1, 'induction': 1, 'interestingly': 1, 'robust': 1, 'decrease': 1, 'level': 1, 'critical': 1, 'effect': 1, 'transcription': 1, 'proteasome': 1, 'dramatically': 1, 'reverse': 1, 'downregulation': 1, 'moreover': 1, 'egfr-tki': 1, 'tyrosine': 1, 'kinase': 1, '-resistant': 1, 'line': 1, 'signal': 1, 'thus': 1, 'study': 1, 'suggest': 1, 'egfr-dependent': 1, 'via': 1, 'acceleration': 1})\n",
            "81.84% 확률로 연구 논문입니다.\n",
            "training vocab count 98 Counter({'gallic': 10, 'acid': 10, 'load': 9, 'cationic': 7, 'ctab': 7, 'niosomes': 6, 'the': 5, 'neutral': 4, 'control': 4, 'anti-skin': 3, 'age': 3, 'activity': 3, 'niosome': 3, 'brij': 2, 'storage': 2, 'month': 2, 'high': 2, 'release': 2, 'effect': 2, 'cell': 2, 'demonstrate': 2, 'inhibition': 2, 'physicochemical': 1, 'characteristic': 1, 'vitro': 1, 'investigate': 1, '52/cholesterol': 1, '7:3': 1, '52/cholesterol/cetyltrimethylammonium': 1, 'bromide': 1, '7:3:0.65': 1, 'maximum': 1, 'capacity': 1, 'entrapment': 1, 'efficiency': 1, '3.5': 1, '4.48': 1, '2.10': 1, 'w/w': 1, '10.94': 1, '0.78': 1, 'respectively': 1, 'all': 1, 'show': 1, 'unilamellar': 1, 'structure': 1, 'transmission': 1, 'electron': 1, 'microscope': 1, 'size': 1, 'range': 1, '131.23-508.03': 1, 'initial': 1, 'remain': 1, 'percentage': 1, 'temperature': 1, 'whereas': 1, 'solution': 1, 'profile': 1, 'reveal': 1, 'gradual': 1, 'cytotoxicity': 1, 'appear': 1, 'non-cytotoxic': 1, 'b16f10': 1, 'melanoma': 1, 'human': 1, 'skin': 1, 'fibroblast': 1, 'include': 1, 'melanin': 1, 'suppression': 1, '55.92': 1, '4.92': 1, 'tyrosinase': 1, '53.18': 1, '3.67': 1, 'tyrosinase-related': 1, 'protein-2': 1, '24.61': 1, '7.92': 1, 'antioxidant': 1, '87.03': 1, '0.99': 1, 'viability': 1, 'matrix': 1, 'metalloproteinase-2': 1, '38.46': 1, '1.53': 1, 'this': 1, 'study': 1, 'superior': 1, 'stability': 1, 'potential': 1, 'utilization': 1, 'pharmaceutical': 1, 'cosmetic': 1, 'product': 1})\n",
            "59.67% 확률로 연구 논문입니다.\n",
            "training vocab count 66 Counter({'gallic': 8, 'acid': 8, 'antibacterial': 3, 'show': 3, 'assay': 3, 'activity': 2, 'mechanism': 2, 'aeromonas': 2, 'hydrophila': 2, 'sobria': 2, 'membrane': 2, 'integrity': 2, 'sem': 2, 'the': 2, 'result': 2, 'dose-dependent': 2, 'manner': 2, 'bacterial': 2, 'food': 2, 'study': 1, 'investigate': 1, 'strong': 1, 'antimicrobial': 1, 'two': 1, 'bacteria': 1, 'furthermore': 1, 'perform': 1, 'scan': 1, 'electron': 1, 'microscopy': 1, 'notably': 1, 'increase': 1, 'release': 1, 'material': 1, 'absorption': 1, 'value': 1, '260': 1, '280': 1, 'electric': 1, 'conductivity': 1, 'moreover': 1, 'induce': 1, 'severe': 1, 'shrink': 1, 'intima': 1, 'irregular': 1, 'morphology': 1, 'sds-page': 1, 'profile': 1, 'confirm': 1, 'could': 1, 'damage': 1, 'cell': 1, 'these': 1, 'indicate': 1, 'exhibit': 1, 'effect': 1, 'destroy': 1, 'hence': 1, 'great': 1, 'potential': 1, 'new': 1, 'natural': 1, 'preservative': 1, 'fresh-keeping': 1, 'storage': 1})\n",
            "95.73% 확률로 연구 논문입니다.\n",
            "training vocab count 133 Counter({'renal': 7, 'dhq': 6, 'cell': 4, 'effect': 3, 'include': 3, 'glucose': 3, 'urine': 3, 'microalbumin': 3, 'ro': 3, 'disease': 2, 'kidney': 2, 'protection': 2, 'rat': 2, 'high-fat': 2, 'mechanism': 2, 'expose': 2, 'high': 2, 'vitro': 2, 'serum': 2, 'cholesterol': 2, 'the': 2, 'proliferation': 2, 'assay': 2, 'generation': 2, 'expression': 2, 'protein': 2, 'result': 2, 'significantly': 2, 'attenuate': 2, 'excretion': 2, 'hyperglycemia': 2, 'lipid': 2, 'metabolism': 2, 'disorder': 2, 'mitigate': 2, 'histopathological': 2, 'lesion': 2, 'suppress': 2, 'nlrp3': 2, 'inflammasome': 2, 'background': 1, 'diabetic': 1, 'nephropathy': 1, 'lead': 1, 'cause': 1, 'end-stage': 1, 'acknowledge': 1, 'independent': 1, 'risk': 1, 'factor': 1, 'cardiovascular': 1, 'underline': 1, 'urgent': 1, 'need': 1, 'new': 1, 'medication': 1, 'dihydroquercetin': 1, 'important': 1, 'natural': 1, 'dihydroflavone': 1, 'exert': 1, 'significant': 1, 'antioxidant': 1, 'anti-inflammatory': 1, 'antifibrotic': 1, 'property': 1, 'investigate': 1, 'yet': 1, 'purpose': 1, 'aim': 1, 'explore': 1, 'induce': 1, 'diet/streptozotocin': 1, 'vivo': 1, 'underlie': 1, 'hbzy-1': 1, 'hk2': 1, 'method': 1, 'major': 1, 'biochemical': 1, 'index': 1, 'measure': 1, 'fast': 1, 'level': 1, 'creatinine': 1, 'total': 1, 'low': 1, 'density': 1, 'lipoprotein': 1, 'histologic': 1, 'section': 1, 'stain': 1, 'hematoxylin-eosin': 1, 'periodic': 1, 'acid-schiff': 1, 'masson': 1, 'ass': 1, 'mtt': 1, 'reactive': 1, 'oxygen': 1, 'specie': 1, 'detect': 1, 'dcfh-da': 1, 'laser': 1, 'scan': 1, 'confocal': 1, 'microscope': 1, 'examine': 1, 'western-blot': 1, 'diet/streptozotocin-induced': 1, 'dose': 1, '100': 1, 'mg/kg/day': 1, 'increase': 1, 'study': 1, 'excessive': 1, 'alleviate': 1, 'activation': 1, 'nucleotide': 1, 'bind': 1, 'oligomerization': 1, 'domain-like': 1, 'receptor': 1, 'family': 1, 'pyrin': 1, 'domain-containing': 1, 'fibrosis-associated': 1, 'conclusion': 1, 'reveal': 1, 'posse': 1, 'one': 1, 'possible': 1, 'renal-protective': 1})\n",
            "96.60% 확률로 연구 논문입니다.\n",
            "training vocab count 84 Counter({'tax': 9, 'hepg2': 4, 'cell': 4, 'expression': 4, 'lipid': 3, 'ethanol': 3, 'ampk': 3, 'inhibit': 2, 'accumulation': 2, 'alcoholic': 2, 'liver': 2, 'steatosis': 2, 'vivo': 2, 'vitro': 2, 'model': 2, 'treat': 2, 'srebp1': 2, 'acc': 2, 'suppress': 2, 'decrease': 2, 'p2x7r': 2, 'cleavage': 2, 'il-1β': 2, 'lipogenesis': 2, 'ethanol-treated': 2, 'dihydroquercetin': 1, 'abundant': 1, 'dihydroflavone': 1, 'find': 1, 'onion': 1, 'milk': 1, 'thistle': 1, 'douglas': 1, 'fir': 1, 'bark': 1, 'investigate': 1, 'whether': 1, 'could': 1, 'establish': 1, 'intragastrically': 1, 'mouse': 1, 'create': 1, 'regulate': 1, 'elevate': 1, 'lkb1': 1, 'phosphorylation': 1, 'also': 1, 'upregulated': 1, 'sirt1': 1, 'intake': 1, 'nlrp3': 1, 'caspase-1': 1, 'result': 1, 'inhibition': 1, 'production': 1, 'release': 1, 'additionally': 1, 'reduce': 1, 'promote': 1, 'oxidation': 1, 'via': 1, 'regulation': 1, 'steatotic': 1, 'downregulated': 1, 'response': 1, 'lp': 1, 'atp': 1, 'stimulation': 1, 'deficiency': 1, 'attenuate': 1, 'characterize': 1, 'increase': 1, 'activity': 1, 'our': 1, 'data': 1, 'show': 1, 'exhibit': 1, 'ability': 1, 'hepatoprotective': 1, 'capacity': 1, 'indicate': 1, 'therapeutic': 1, 'potential': 1, 'prevent': 1})\n",
            "99.42% 확률로 연구 논문입니다.\n",
            "training vocab count 63 Counter({'dihydroquercetin': 5, 'lecithin': 3, 'β-cyclodextrin': 3, 'characteristic': 3, 'spectrum': 3, 'result': 3, 'compound': 2, 'complex': 2, 'scan': 2, 'sem': 2, 'xrd': 2, 'show': 2, 'improve': 2, 'kind': 1, 'dihydroflavonol': 1, 'antioxidant': 1, 'antitumor': 1, 'antivirus': 1, 'radioresistance': 1, 'activity': 1, 'this': 1, 'study': 1, 'attempt': 1, 'produce': 1, 'research': 1, 'bioactivities': 1, 'via': 1, 'ultraviolet': 1, 'infrared': 1, 'spectroscopy': 1, 'electron': 1, 'microscope': 1, 'differential': 1, 'calorimetry': 1, 'dsc': 1, 'x-ray': 1, 'diffraction': 1, 'mtt': 1, 'assay': 1, 'could': 1, 'solubility': 1, 'dissolution': 1, 'rate': 1, 'remove': 1, 'endothermic': 1, 'peak': 1, 'prove': 1, 'interaction': 1, 'amorphous': 1, 'these': 1, 'indicate': 1, 'combine': 1, 'good': 1, 'physical': 1, 'chemical': 1, 'property': 1, 'would': 1, 'effectively': 1, 'application': 1, 'value': 1, 'food': 1, 'drug': 1, 'industry': 1})\n",
            "93.26% 확률로 비연구 논문입니다.\n",
            "training vocab count 95 Counter({'dhq': 8, 'antioxidant': 3, 'effect': 3, 'pi3k/akt': 3, 'pathway': 3, 'reduce': 3, 'expression': 3, 'protective': 2, 'miri': 2, 'oxidative': 2, 'stress-and': 2, 'ers-induced': 2, 'apoptosis': 2, 'result': 2, 'show': 2, 'increase': 2, 'the': 2, 'dihydroquercetin': 1, 'dihydroxyflavone': 1, 'posse': 1, 'potent': 1, 'property': 1, 'propose': 1, 'useful': 1, 'prevention': 1, 'treatment': 1, 'cardiovascular': 1, 'disease': 1, 'study': 1, 'aim': 1, 'investigate': 1, 'whether': 1, 'elucidate': 1, 'mechanism': 1, 'attenuation': 1, 'via': 1, 'isolate': 1, 'rat': 1, 'heart': 1, 'h9c2': 1, 'cardiomyocytes': 1, 'treat': 1, 'without': 1, 'subject': 1, 'i/r': 1, 'h/r': 1, 'respectively': 1, 'our': 1, 'pretreatment': 1, 'markedly': 1, 'alleviate': 1, 'cardiac': 1, 'dysfunction': 1, 'scavenge': 1, 'free': 1, 'radical': 1, 'lipid': 1, 'peroxidation': 1, 'activity': 1, 'enzyme': 1, 'vivo': 1, 'vitro': 1, 'western': 1, 'blot': 1, 'analysis': 1, 'inhibit': 1, 'apoptotic': 1, 'pro-apoptotic': 1, 'protein': 1, 'chop': 1, 'caspase-12': 1, 'p-jnk': 1, 'addition': 1, 'delay': 1, 'onset': 1, 'er': 1, 'grp78': 1, 'p-perk': 1, 'p-eif2α': 1, 'level': 1, 'ho-1': 1, 'nrf2': 1, 'bind': 1, 'response': 1, 'element': 1, 'these': 1, 'cardioprotective': 1, 'partially': 1, 'counteract': 1, 'inhibitor': 1, 'ly294002': 1, 'inhibition': 1, 'may': 1, 'mediate': 1, 'activate': 1})\n",
            "98.80% 확률로 연구 논문입니다.\n",
            "training vocab count 64 Counter({'capillary': 8, 'rat': 6, 'dihydroquercetin': 4, 'diameter': 4, 'shr': 4, 'network': 3, 'mean': 3, 'cerebral': 3, 'cortex': 3, 'arterial': 3, 'hypertension': 3, 'effect': 2, 'week': 2, 'density': 2, 'structure': 2, 'local': 2, 'blood': 2, 'flow': 2, 'visual': 2, 'development': 2, 'increase': 2, 'significantly': 2, 'improve': 2, 'microcirculation': 2, 'the': 1, 'mg/kg': 1, 'intragastrically': 1, 'daily': 1, 'number': 1, 'per': 1, 'mm2': 1, 'distribution': 1, '3-5': 1, '5-7': 1, '7-9': 1, 'laser': 1, 'doppler': 1, 'study': 1, '6th': 1, '12th': 1, 'life': 1, 'normally': 1, 'systolic': 1, 'diastolic': 1, 'progressively': 1, 'period': 1, 'affect': 1, 'time': 1, 'drug': 1, 'percentage': 1, '3-9': 1, 'passable': 1, 'erythrocyte': 1, 'positive': 1, 'microcirculatory': 1, 'bed': 1, 'high': 1, 'receive': 1, 'flavonoid': 1, 'close': 1, 'value': 1, 'wistar-kyoto': 1, 'microvascularization': 1, 'formation': 1})\n",
            "99.99% 확률로 비연구 논문입니다.\n",
            "training vocab count 110 Counter({'dhq': 6, 'mouse': 4, 'day': 4, 'pancreatic': 4, 'tissue': 4, 'activity': 3, 'effect': 3, 'pancreatitis': 3, 'enterovirus': 2, 'pathology': 2, 'antiviral': 2, 'course': 2, 'dose': 2, 'p.i': 2, 'compare': 2, 'ribavirin': 2, 'the': 2, 'application': 2, 'result': 2, 'high': 2, 'dhq-treated': 2, 'animal': 2, 'cell': 2, 'placebo-treated': 2, 'few': 2, 'focus': 2, 'member': 1, 'family': 1, 'picornaviridae': 1, 'particular': 1, 'represent': 1, 'serious': 1, 'threat': 1, 'human': 1, 'health': 1, 'they': 1, 'responsible': 1, 'numerous': 1, 'range': 1, 'mild': 1, 'disease': 1, 'fatal': 1, 'outcome': 1, 'due': 1, 'limit': 1, 'number': 1, 'safe': 1, 'effective': 1, 'need': 1, 'search': 1, 'development': 1, 'novel': 1, 'drug': 1, 'various': 1, 'mechanism': 1, 'enteroviruses-induced': 1, 'study': 1, 'dihydroquercetin': 1, 'flavonoid': 1, 'larch': 1, 'wood': 1, 'white': 1, 'cause': 1, 'coxsackievirus': 1, 'cvb4': 1, 'apply': 1, 'intraperitoneally': 1, '150': 1, 'mg/kg/day': 1, 'postinfection': 1, 'start': 1, 'p.i.': 1, 'reference': 1, 'compound': 1, 'dose-dependent': 1, 'decrease': 1, 'virus': 1, 'titer': 1, 'reach': 1, '2.4': 1, 'log': 1, 'also': 1, 'lead': 1, 'restoration': 1, 'antioxidant': 1, 'impair': 1, 'morphologically': 1, 'demonstrate': 1, 'le': 1, 'infiltration': 1, 'inflammatory': 1, 'sign': 1, 'destruction': 1, 'both': 1, 'ribavirin-': 1, 'develop': 1, 'inflammation': 1, 'per': 1, 'contain': 1, 'infiltrate': 1, 'comparable': 1, 'exceed': 1, 'take': 1, 'together': 1, 'suggest': 1, 'promise': 1, 'potential': 1, 'complex': 1, 'treatment': 1, 'viral': 1})\n",
            "95.05% 확률로 연구 논문입니다.\n",
            "training vocab count 103 Counter({'taxifolin': 8, 'study': 3, 'osteoclast': 3, 'rankl': 3, 'osteoporosis': 2, 'disease': 2, 'health': 2, 'consider': 2, 'flavonoid': 2, 'activity': 2, 'include': 2, 'bone': 2, 'effect': 2, 'vivo': 2, 'nuclear': 2, 'factor-κb': 2, 'c-fos': 2, 'also': 2, 'decrease': 2, 'highly': 1, 'prevalent': 1, 'major': 1, 'public': 1, 'problem': 1, 'associate': 1, 'chronic': 1, 'low-grade': 1, 'systemic': 1, 'inflammation': 1, 'oxidative': 1, 'damage': 1, 'natural': 1, 'posse': 1, 'many': 1, 'pharmacological': 1, 'antioxidant': 1, 'anti-inflammatory': 1, 'because': 1, 'confirm': 1, 'fight': 1, 'promote': 1, 'aim': 1, 'investigate': 1, 'formation': 1, 'function': 1, 'examine': 1, 'use': 1, 'vitro': 1, 'suppress': 1, 'activation': 1, 'mitogen-activated': 1, 'protein': 1, 'kinase': 1, 'osteoclast-specific': 1, 'gene': 1, 'expression': 1, 'trap': 1, 'mmp-9': 1, 'cathepsin': 1, 'nfatc1': 1, 'rank': 1, 'prevent': 1, 'reactive': 1, 'oxygen': 1, 'specie': 1, 'ro': 1, 'production': 1, 'follow': 1, 'stimulation': 1, 'addition': 1, 'alleviate': 1, 'ovariectomized-induced': 1, 'loss': 1, 'repress': 1, 'serum': 1, 'level': 1, 'tumor': 1, 'necrosis': 1, 'factor-α': 1, 'interleukin-1β': 1, 'interleukin-6': 1, 'receptor': 1, 'activator': 1, 'ligand': 1, 'our': 1, 'result': 1, 'indicate': 1, 'inhibit': 1, 'osteoclastogenesis': 1, 'via': 1, 'regulation': 1, 'modulation': 1, 'several': 1, 'signal': 1, 'pathway': 1, 'therefore': 1, 'may': 1, 'potential': 1, 'alternative': 1, 'therapeutic': 1, 'agent': 1, 'treat': 1, 'osteoclast-related': 1})\n",
            "99.89% 확률로 연구 논문입니다.\n",
            "training vocab count 89 Counter({'caa': 4, 'study': 3, 'clinical': 3, 'recent': 3, 'novel': 3, 'potential': 3, 'therapeutic': 3, 'disease': 2, 'pathogenesis': 2, 'may': 2, 'dementia': 2, 'target': 2, 'regard': 2, 'this': 2, 'significance': 2, 'predictive': 2, 'research': 2, 'cerebral': 1, 'amyloid': 1, 'angiopathy': 1, 'cerebrovascular': 1, 'directly': 1, 'implicate': 1, 'alzheimer': 1, 'amyloid-β': 1, 'deposition': 1, 'cause': 1, 'development': 1, 'progression': 1, 'despite': 1, 'extensive': 1, 'explore': 1, 'drug': 1, 'benefit': 1, 'report': 1, 'large': 1, 'trial': 1, 'patient': 1, 'presymptomatic': 1, 'individual': 1, 'risk': 1, 'however': 1, 'provide': 1, 'insight': 1, 'caa-': 1, 'ad-related': 1, 'work': 1, 'reveal': 1, 'include': 1, 'drainage': 1, 'pathway': 1, 'aggregation': 1, 'oxidative': 1, 'stress': 1, 'neuroinflammation': 1, 'the': 1, 'functional': 1, 'bioactive': 1, 'molecule': 1, 'cilostazol': 1, 'taxifolin': 1, 'also': 1, 'become': 1, 'increasingly': 1, 'evident': 1, 'furthermore': 1, 'epidemiological': 1, 'demonstrate': 1, 'serum': 1, 'level': 1, 'soluble': 1, 'form': 1, 'trigger': 1, 'receptor': 1, 'express': 1, 'myeloid': 1, 'cell': 1, 'trem2': 1, 'biomarker': 1, 'incidence': 1, 'review': 1, 'summarize': 1, 'advance': 1, 'focus': 1, 'discus': 1, 'future': 1, 'direction': 1, 'approach': 1, 'biomarkers': 1})\n",
            "71.12% 확률로 연구 논문입니다.\n",
            "training vocab count 81 Counter({'activity': 6, 'mir-132-3p': 5, 'dhq': 4, 'ali': 4, 'the': 4, 'expression': 4, 'foxo3': 3, 'detect': 3, 'lps-induced': 3, 'demonstrate': 2, 'anti-inflammation': 2, 'antioxidant': 2, 'use': 2, 'cell': 2, 'assay': 2, 'level': 2, 'apoptosis': 2, 'result': 2, 'target': 2, 'background': 1, 'dihydroquercetin': 1, 'potent': 1, 'flavonoid': 1, 'multiple': 1, 'biological': 1, 'include': 1, 'well': 1, 'anti-cancer': 1, 'etc': 1, 'recently': 1, 'many': 1, 'study': 1, 'focus': 1, 'however': 1, 'acute': 1, 'lung': 1, 'injury': 1, 'report': 1, 'method': 1, 'viability': 1, 'examine': 1, 'cck-8': 1, 'relative': 1, 'qpcr': 1, 'tnf-α': 1, 'il-6': 1, 'il-1β': 1, 'enzyme-linked': 1, 'immunosorbent': 1, 'amount': 1, 'flow': 1, 'cytometry': 1, 'protein': 1, 'bcl-2': 1, 'bax': 1, 'p-p65': 1, 'p-iκbα': 1, 'measure': 1, 'western': 1, 'blot': 1, 'find': 1, 'dhq-induced': 1, 'overexpression': 1, 'inhibition': 1, 'suppress': 1, 'foxo3-activated': 1, 'nf-κb': 1, 'pathway': 1, 'attenuate': 1, 'inflammatory': 1, 'response': 1, 'conclusion': 1, 'could': 1, 'induce': 1, 'relieve': 1, 'via': 1, 'mir-132-3p/foxo3/nf-κb': 1, 'axis': 1, 'provide': 1, 'promise': 1, 'therapeutic': 1})\n",
            "98.12% 확률로 연구 논문입니다.\n",
            "training vocab count 127 Counter({'wind': 5, 'animal': 5, 'three': 4, 'treatment': 3, 'resveratrol': 3, 'the': 3, 'day': 3, 'analysis': 3, 'purulent': 2, 'infection': 2, 'burn': 2, 'trophic': 2, 'ulcer': 2, 'antimicrobial': 2, 'polyphenols': 2, 'wound': 2, 'pathogen': 2, 'daily': 2, 'four': 2, 'microscopy': 2, 'infiltration': 2, 'stimulate': 2, 'increase': 1, 'spread': 1, 'antibiotic-resistant': 1, 'opportunistic': 1, 'microorganism': 1, 'cause': 1, 'serious': 1, 'problem': 1, 'test': 1, 'activity': 1, 'vivo': 1, 'dihydroquercetin': 1, 'taxifolin': 1, 'dihydromyricetin': 1, 'ampelopsin': 1, 'norway': 1, 'spruce': 1, 'bark': 1, 'promote': 1, 'elimination': 1, 'staphylococcus': 1, 'aureus': 1, 'pseudomonas': 1, 'aeruginosa': 1, 'candida': 1, 'albicans': 1, 'model': 1, 'rat': 1, 'infect': 1, 'suspension': 1, 'contain': 1, '109': 1, 'cfu': 1, 'colony-forming': 1, 'unit': 1, '/ml': 1, 'area': 1, 'treat': 1, 'solution': 1, 'placebo': 1, 'begin': 1, 'examine': 1, 'stage': 1, 'heal': 1, 'inflammation': 1, 'granulation': 1, 'maturation': 1, 'marginal': 1, 'epithelialisation': 1, 'document': 1, 'planimetric': 1, 'recovery': 1, 'percentage': 1, 'perform': 1, '3rd': 1, '10th': 1, '14th': 1, 'start': 1, 'cure': 1, 'then': 1, 'one': 1, 'echelon': 1, 'subgroup': 1, 'withdraw': 1, 'experiment': 1, 'cytological': 1, 'composition': 1, 'defect': 1, 'microbiological': 1, 'contamination': 1, 'our': 1, 'result': 1, 'show': 1, 'also': 1, 'able': 1, 'suppress': 1, 'mast': 1, 'cell': 1, 'lymphocyte': 1, 'macrophage': 1, 'monocyte': 1, 'replacement': 1, 'scar': 1, 'normal': 1, 'tissue': 1, 'clear': 1, 'boundary': 1, 'dermis': 1, 'epidermis': 1, 'restoration': 1, 'hair': 1, 'follicle': 1, 'turn': 1, 'significantly': 1, 'good': 1, 'commercial': 1, 'levomecol': 1, 'antifungal': 1, 'clotrimazole': 1, 'ointment': 1, 'propose': 1, 'promise': 1, 'drug': 1, 'topical': 1, 'use': 1})\n",
            "93.26% 확률로 연구 논문입니다.\n",
            "training vocab count 109 Counter({'eriodictyol': 7, 'lp': 5, 'compare': 3, 'group': 3, 'lps-induced': 2, 'neuroinflammation': 2, 'amyloidogenesis': 2, 'impairment': 2, 'potential': 2, 'memory': 2, 'trigger': 2, '100': 2, 'mg/kg': 2, 'via': 2, 'suppress': 2, 'activity': 2, 'result': 2, 'indicate': 2, 'inhibit': 2, 'nf-κb': 2, 'pathway': 2, 'disease': 2, 'natural': 1, 'flavonoid': 1, 'mainly': 1, 'distribute': 1, 'citrus': 1, 'fruit': 1, 'peanut': 1, 'well-documented': 1, 'possession': 1, 'excellent': 1, 'anti-inflammatory': 1, 'antioxidant': 1, 'anticancer': 1, 'bioactivities': 1, 'this': 1, 'work': 1, 'focus': 1, 'protective': 1, 'effect': 1, 'cognitive': 1, 'mechanism': 1, 'involve': 1, 'behavioral': 1, 'test': 1, 'histological': 1, 'examination': 1, 'show': 1, 'significantly': 1, 'prevent': 1, 'neuronal': 1, 'damage': 1, 'consistently': 1, 'reduce': 1, 'formation': 1, 'aβ1-42': 1, '28.37': 1, '16.71': 1, 'pg/ml': 1, 'addition': 1, 'high': 1, 'dose': 1, 'also': 1, 'equilibrate': 1, 'cholinergic': 1, 'system': 1, 'ache': 1, '0.1996': 1, '0.0831': 1, 'u/mgprot': 1, 'elevate': 1, 'chat': 1, '41.81': 1, '24.72': 1, 'u/g': 1, 'well': 1, 'ach': 1, 'level': 1, '5.093': 1, '3.531': 1, 'μg/mgprot': 1, 'western': 1, 'blot': 1, 'glial': 1, 'overactivation': 1, '84.29': 1, '27.21': 1, 'regulate': 1, 'inflammatory': 1, 'mediator': 1, 'cytokine': 1, 'mapk': 1, 'these': 1, 'alleviate': 1, 'tlr4': 1, 'mapks': 1, 'pi3k/akt': 1, 'activate': 1, 'sirt1': 1, 'thus': 1, 'block': 1, 'downstream': 1, 'translocation': 1, 'offer': 1, 'nutritional': 1, 'preventive': 1, 'strategy': 1, 'alzheimer': 1})\n",
            "99.70% 확률로 연구 논문입니다.\n",
            "training vocab count 136 Counter({'eriodictyol': 12, 'hepatotoxicity': 8, 'apap': 6, 'effect': 6, 'protective': 5, 'use': 4, 'administration': 4, 'glutathione': 4, 'ugt1as': 3, 'intragastric': 3, 'activity': 3, 'liver': 2, 'may': 2, 'the': 2, 'treat': 2, 'determine': 2, 'apap-induced': 2, 'mouse': 2, 'administer': 2, 'metabolite': 2, 'inhibition': 2, 'attenuate': 2, 'acetaminophen': 1, 'one': 1, 'commonly': 1, 'oral': 1, 'analgesic': 1, 'antipyretic': 1, 'include': 1, 'failure': 1, 'occur': 1, 'overdose': 1, 'therapeutic': 1, 'option': 1, 'limit': 1, 'dietary': 1, 'flavonoid': 1, 'anti-inflammatory': 1, 'antioxidant': 1, 'property': 1, 'various': 1, 'rout': 1, 'pharmacokinetics-pharmacodynamics': 1, 'pk-pd': 1, 'analyse': 1, 'observe': 1, 'intravenously': 1, 'intraperitoneally': 1, 'intragastrically': 1, 'lc-ms/ms': 1, 'analysis': 1, 'reveal': 1, 'two': 1, 'monoglucuronide': 1, 'intestine': 1, 'microsome': 1, 'recombinant': 1, 'human': 1, \"uridine-5'-diphospho\": 1, '-glucuronosyltransferase': 1, 'ugt': 1, 'isoforms': 1, 'chemical': 1, 'study': 1, 'demonstrate': 1, 'mainly': 1, 'ugt1a1': 1, 'ugt1a9': 1, 'ugt1a10': 1, 'ugt2b7': 1, 'likely': 1, 'main': 1, 'contributor': 1, 'glucuronidation': 1, 'display': 1, 'low': 1, 'parent': 1, 'high': 1, 'concentration': 1, 'plasma': 1, 'elicit': 1, 'compare': 1, 'intraperitoneal': 1, 'injection': 1, 'relative': 1, 'bioavailability': 1, 'increase': 1, '216.84': 1, 'coadministration': 1, 'glycyrrhetinic': 1, 'acid': 1, 'inhibitor': 1, 'combination': 1, 'also': 1, 'induce': 1, 'furthermore': 1, 'heterozygous': 1, 'ugt1': 1, 'ugt1+/-': 1, 'wild-type': 1, 'littermates': 1, 'thus': 1, 'ugt1a-mediated': 1, 'metabolic': 1, 'inactivation': 1, 'reduce': 1, 'via': 1, 'hepatic': 1, 'cytochrome': 1, 'p450': 1, 'cyp': 1, '2e1': 1, 'cyp3a11': 1, 'reserve': 1, 'gsh': 1, 'improvement': 1, 'peroxidase': 1, 'gsh-px': 1, 'reductase': 1, 's-transferase': 1, 'gst': 1, 'elevation': 1, 'superoxide': 1, 'dismutase': 1, 'sod': 1, 'reduction': 1, 'malondialdehyde': 1, 'mda': 1, 'level': 1, 'our': 1, 'find': 1, 'indicate': 1, 'parenterally': 1, 'efficacy': 1, 'enhance': 1, 'down-regulation': 1})\n",
            "96.97% 확률로 연구 논문입니다.\n",
            "training vocab count 100 Counter({'eriodictyol': 9, 'cell': 8, 'rat': 4, 'rgc-5': 4, 'factor': 3, 'oxidative': 2, 'stress': 2, 'inflammation': 2, 'activity': 2, 'the': 2, 'suggest': 2, 'hg-induced': 2, 'production': 2, 'apoptosis': 2, 'nuclear': 2, 'diabetic': 1, 'retinopathy': 1, 'one': 1, 'common': 1, 'microvascular': 1, 'complication': 1, 'diabetes': 1, 'mellitus': 1, 'consider': 1, 'lead': 1, 'cause': 1, 'blindness': 1, 'significant': 1, 'driver': 1, 'development': 1, 'dr.': 1, 'flavonoid': 1, 'compound': 1, 'prove': 1, 'posse': 1, 'anti-inflammatory': 1, 'antioxidative': 1, 'antidiabetic': 1, 'however': 1, 'role': 1, 'unveil': 1, 'current': 1, 'study': 1, 'explore': 1, 'protective': 1, 'effect': 1, 'high': 1, 'glucose': 1, '-induced': 1, 'retinal': 1, 'ganglial': 1, 'rgcs': 1, 'result': 1, 'improve': 1, 'viability': 1, 'dose-dependent': 1, 'manner': 1, 'reduce': 1, 'reactive': 1, 'oxygen': 1, 'specie': 1, 'increase': 1, 'superoxide': 1, 'dismutase': 1, 'glutathione': 1, 'peroxidase': 1, 'catalase': 1, 'response': 1, 'stimulation': 1, 'proinflammatory': 1, 'cytokine': 1, 'include': 1, 'tumor': 1, 'necrosis': 1, 'alpha': 1, 'interleukin-8': 1, 'diminish': 1, 'treatment': 1, 'also': 1, 'suppress': 1, 'induce': 1, 'furthermore': 1, 'enhance': 1, 'translocation': 1, 'erythroid-2': 1, '-related': 1, 'nrf2': 1, 'elevate': 1, 'expression': 1, 'antioxidant': 1, 'enzyme': 1, 'heme-oxygenase-1': 1, 'ho-1': 1, 'these': 1, 'find': 1, 'protect': 1, 'regulate': 1, 'activation': 1, 'nrf2/ho-1': 1, 'pathway': 1})\n",
            "99.86% 확률로 연구 논문입니다.\n",
            "training vocab count 111 Counter({'eriodictyol': 13, 'insulin': 10, 'glucose': 6, 'effect': 4, 'islet': 3, 'diabetic': 3, 'rat': 3, 'secretion': 3, 'enhance': 3, 'inhibitor': 3, 'pka': 3, 'secretagogue': 2, 'study': 2, 'secretory': 2, 'mouse': 2, 'min6': 2, 'cell': 2, 'stimulatory': 2, 'camp': 2, 'content': 2, 'current': 2, 'tolerance': 2, 'plasma': 2, 'non-diabetic': 2, 'show': 2, 'ibmx': 2, 'eriodictyol-induced': 2, 'also': 2, 'inhibit': 2, 'flavonoid': 1, 'isolate': 1, 'lyonia': 1, 'ovalifolia': 1, 'find': 1, 'potent': 1, 'preliminary': 1, 'here': 1, 'explore': 1, 'mechanism': 1, 'activity': 1, 'vitro': 1, 'vivo': 1, 'incubate': 1, 'basal': 1, 'contain': 1, 'without': 1, 'agonist/antagonist': 1, 'secrete': 1, 'measure': 1, 'use': 1, 'elisa': 1, 'kit': 1, 'k+-': 1, 'ca2+-channels': 1, 'record': 1, 'patch-clamp': 1, 'technique': 1, 'oral': 1, 'test': 1, 'evaluate': 1, 'stimulate': 1, 'concentration': 1, 'maximum': 1, '200μm': 1, 'pronounce': 1, 'inward': 1, 'rectify': 1, 'ca2+': 1, 'furthermore': 1, 'kcl': 1, 'depolarize': 1, 'presence': 1, 'diazoxide': 1, 'ability': 1, 'phosphodiesterase': 1, 'significantly': 1, '0.001': 1, '16.7mm': 1, 'comparison': 1, 'alone': 1, 'the': 1, 'exposure': 1, 'increase': 1, 'partially': 1, 'adenylate': 1, 'cyclase': 1, 'sq22536': 1, 'completely': 1, 'h-89': 1, 'suggest': 1, 'molecular': 1, 'dock': 1, 'best': 1, 'bind': 1, 'affinity': 1, 'improve': 1, 'lower': 1, 'blood': 1, 'upon': 1, 'chronic': 1, 'treatment': 1, 'take': 1, 'together': 1, 'conclude': 1, 'novel': 1, 'exert': 1, 'exclusive': 1, 'glucose-dependent': 1, 'insulinotropic': 1, 'camp/pka': 1, 'pathway': 1})\n",
            "96.20% 확률로 연구 논문입니다.\n",
            "training vocab count 87 Counter({'eriodictyol': 8, 'as2o3': 4, 'as2o3-induced': 4, 'hepatic': 3, 'injury': 3, 'effect': 3, 'liver': 3, 'arsenic': 2, 'report': 2, 'antioxidant': 2, 'protective': 2, 'mechanism': 2, 'result': 2, 'factor': 2, 'nrf2': 2, 'well-known': 1, 'human': 1, 'carcinogen': 1, 'induce': 1, 'oxidative': 1, 'stress': 1, 'flavonoid': 1, 'find': 1, 'citrus': 1, 'fruit': 1, 'study': 1, 'aim': 1, 'investigate': 1, 'trioxide': 1, '-induced': 1, 'clarify': 1, 'molecular': 1, 'male': 1, 'wistar': 1, 'rat': 1, 'administrate': 1, '3mg/kg': 1, 'intravenous': 1, 'injection': 1, 'day': 1, 'give': 1, 'treatment': 1, 'the': 1, 'show': 1, 'prevent': 1, 'reactive': 1, 'oxygen': 1, 'specie': 1, 'ro': 1, 'malonaldehyde': 1, 'mda': 1, 'level': 1, 'abrogate': 1, 'decrease': 1, 'enzyme': 1, 'superoxide': 1, 'dismutase': 1, 'sod': 1, 'glutathione': 1, 'peroxidase': 1, 'gpx': 1, 'catalase': 1, 'cat': 1, 'activity': 1, 'also': 1, 'attenuate': 1, 'pathological': 1, 'damage': 1, 'addition': 1, 'promote': 1, 'expression': 1, 'nuclear': 1, 'erythroid': 1, 'p45': 1, 'relate': 1, 'heme': 1, 'oxygenase-1': 1, 'ho-1': 1, 'up-regulated': 1, 'conclusion': 1, 'demonstrate': 1, 'exhibit': 1, 'possible': 1, 'involve': 1, 'activate': 1, 'signal': 1, 'pathway': 1})\n",
            "99.70% 확률로 연구 논문입니다.\n",
            "training vocab count 68 Counter({'eriodictyol': 6, 'lung': 3, 'ali': 3, 'mouse': 3, 'protective': 2, 'activity': 2, 'cox-2/nlrp3/nf-κb': 2, 'signal': 2, 'pathway': 2, 'the': 1, 'purpose': 1, 'paper': 1, 'observe': 1, 'action': 1, 'effective': 1, 'mechanism': 1, 'lipopolysaccharide': 1, 'lp': 1, '-induced': 1, 'acute': 1, 'injury': 1, 'study': 1, 'result': 1, 'indicate': 1, 'could': 1, 'dramatically': 1, 'suppress': 1, 'inflammatory': 1, 'mediator': 1, 'include': 1, 'interleukin-6': 1, 'il-6': 1, 'il-1β': 1, 'prostaglandin': 1, 'tumor': 1, 'necrosis': 1, 'factor-α': 1, 'bronchoalveolar': 1, 'lavage': 1, 'fluid': 1, 'lps-challenged': 1, 'also': 1, 'alleviate': 1, 'wet/dry': 1, 'ratio': 1, 'improve': 1, 'pathological': 1, 'change': 1, 'addition': 1, 'significantly': 1, 'decrease': 1, 'myeloperoxidase': 1, 'malondialdehyde': 1, 'content': 1, 'well': 1, 'increase': 1, 'superoxide': 1, 'dismutase': 1, 'moreover': 1, 'inhibit': 1, 'tissue': 1, 'conclusion': 1, 'observation': 1, 'validate': 1, 'process': 1, 'effect': 1, 'relate': 1, 'regulation': 1})\n",
            "99.60% 확률로 연구 논문입니다.\n",
            "training vocab count 61 Counter({'eriodictyol': 6, 'kidney': 5, 'injury': 3, 'cp-induced': 3, 'inhibit': 3, 'effect': 2, 'production': 2, 'tissue': 2, 'nf-κb': 2, 'activation': 2, 'flavonoid': 1, 'present': 1, 'citrus': 1, 'fruit': 1, 'report': 1, 'antioxidant': 1, 'anti-inflammatory': 1, 'study': 1, 'protective': 1, 'cisplatin': 1, '-induced': 1, 'detect': 1, 'model': 1, 'establish': 1, 'administration': 1, '20mg/kg': 1, 'the': 1, 'result': 1, 'show': 1, 'treatment': 1, 'blood': 1, 'urea': 1, 'nitrogen': 1, 'bun': 1, 'creatinine': 1, 'mda': 1, 'tbars': 1, 'reactive': 1, 'oxygen': 1, 'specie': 1, 'ro': 1, 'well': 1, 'tnf-α': 1, 'il-1β': 1, 'induce': 1, 'also': 1, 'up-regulated': 1, 'activity': 1, 'sod': 1, 'cat': 1, 'gsh-px': 1, 'decrease': 1, 'furthermore': 1, 'find': 1, 'up-regulate': 1, 'expression': 1, 'nrf2/ho-1': 1, 'conclusion': 1, 'protect': 1, 'activate': 1, 'nrf2': 1})\n",
            "99.47% 확률로 연구 논문입니다.\n",
            "training vocab count 108 Counter({'dhk': 10, 'sap': 4, 'pancreas': 4, 'keap1': 4, 'injury': 3, 'induce': 3, 'cer': 3, 'lp': 3, 'mouse': 3, 'model': 3, 'research': 2, 'potential': 2, 'study': 2, 'result': 2, 'reveal': 2, 'cell': 2, 'suppress': 2, 'nuclear': 2, 'nrf2': 2, 'the': 2, 'regulate': 2, 'severe': 1, 'acute': 1, 'pancreatitis': 1, 'non-bacterial': 1, 'inflammatory': 1, 'disease': 1, 'clinically': 1, 'cause': 1, 'high': 1, 'rate': 1, 'mortality': 1, 'dihydrokaempferol': 1, 'natural': 1, 'flavonoid': 1, 'extract': 1, 'bauhinia': 1, 'championii': 1, 'our': 1, 'aim': 1, 'establish': 1, 'treatment': 1, 'function': 1, 'sap-induced': 1, 'delve': 1, 'mechanism': 1, 'caerulein': 1, 'lipopolysaccharide': 1, 'administer': 1, 'orally': 1, 'different': 1, 'dose': 1, 'mg/kg': 1, 'serum': 1, 'amylase/lipase': 1, 'hematoxylin-eosin': 1, 'stain': 1, 'technique': 1, 'malondialdehyde': 1, 'mda': 1, 'glutathione': 1, 'gsh': 1, 'reactive': 1, 'oxygen': 1, 'specie': 1, 'ro': 1, 'show': 1, 'therapeutic': 1, 'effect': 1, 'mtt': 1, 'alleviate': 1, 'cytotoxicity': 1, 'dose-dependent': 1, 'manner': 1, 'pancreatic': 1, 'acinar': 1, 'next': 1, 'verify': 1, 'level': 1, 'promote': 1, 'transcriptional': 1, 'activation': 1, 'presence': 1, 'molecular': 1, 'dock': 1, 'suggest': 1, 'interaction': 1, 'look': 1, 'role': 1, 'use': 1, 'vitro': 1, 'vivo': 1, 'overexpression': 1, 'adenovirus': 1, 'ad-keap1': 1, 'perform': 1, 'ad-keap1suppressed': 1, 'translocation': 1, 'enhance': 1, 'antioxidative': 1, 'functionality': 1, 'collectively': 1, 'demonstrate': 1, 'well': 1, 'keap1/nrf2': 1, 'pathway': 1, 'oxidative': 1, 'stress': 1})\n",
            "99.66% 확률로 연구 논문입니다.\n",
            "training vocab count 120 Counter({'championii': 7, 'dihydrokaempferol': 6, 'effect': 4, 'compound': 4, 'ethyl': 4, 'acetate': 4, 'benth': 3, 'apoptosis': 3, 'extract': 3, 'the': 3, 'evaluate': 3, 'isolate': 3, 'use': 2, 'study': 2, 'find': 2, 'vitro': 2, 'result': 2, 'promote': 2, 'expression': 2, 'bauhinia': 1, 'traditional': 1, 'medicinal': 1, 'plant': 1, 'china': 1, 'treat': 1, 'rheumatoid': 1, 'arthritis': 1, 'especially': 1, 'she': 1, 'ethnic': 1, 'minority': 1, 'group': 1, 'this': 1, 'focus': 1, 'active': 1, 'constituent': 1, 'rattan': 1, 'benth.': 1, 'posse': 1, 'potential': 1, 'conventional': 1, 'phytochemical': 1, 'separation': 1, 'method': 1, 'isolation': 1, 'develop': 1, 'procedure': 1, 'involve': 1, 'extraction': 1, 'liquid-liquid': 1, 'partition': 1, 'subsequent': 1, 'purification': 1, 'respectively': 1, 'additionally': 1, 'cell': 1, 'viability': 1, 'abundantly': 1, 'mt': 1, 'antiapoptosis': 1, 'annexin': 1, 'v/pi': 1, 'stain': 1, 'flow': 1, 'cytometry': 1, 'analysis': 1, 'western': 1, 'blot': 1, 'show': 1, 'nine': 1, 'flavonoid': 1, 'five': 1, 'identify': 1, 'β-sitosterol': 1, \"5,6,7,3',4',5'-hexamethoxyflavone\": 1, \"3',4',5,7-tetrahydroxyflavone\": 1, \"5,7,3',4',5'-pentamethoxyflavone\": 1, \"4'-hydroxy-5,7,3',5'-pentamethoxyflavone\": 1, 'apigenin': 1, 'liquiritigenin': 1, '7-dihydroxylcoumarin': 1, \"3',4',5,7\": 1, '-pentamethoxyflavone': 1, 'n-octadecanoate': 1, 'lupine': 1, 'ketone': 1, 'dibutylphthalate': 1, \"5,7,3',5'-tetrahydroxy-6-methylflavanone\": 1, 'among': 1, '5-14': 1, 'first': 1, 'time': 1, 'addition': 1, 'abundant': 1, 'exhibit': 1, 'inhibitory': 1, 'proliferation': 1, 'synoviocytes': 1, 'furthermore': 1, 'bax': 1, 'bad': 1, 'well': 1, 'cleavage': 1, 'caspase-9': 1, 'caspase-3': 1, 'parp': 1, 'meanwhile': 1, 'inhibit': 1, 'bcl-2': 1, 'bcl-xl': 1, 'these': 1, 'indicate': 1, 'effectively': 1, 'important': 1, 'process': 1, 'suppression': 1, 'apoptotic': 1, 'activity': 1, 'encourage': 1, 'treatment': 1})\n",
            "84.68% 확률로 연구 논문입니다.\n"
          ],
          "name": "stdout"
        }
      ]
    },
    {
      "cell_type": "code",
      "metadata": {
        "colab": {
          "base_uri": "https://localhost:8080/"
        },
        "id": "XvDCj9_XThnW",
        "outputId": "8e4d0d48-deb2-46fd-8a1e-227b30d0522b"
      },
      "source": [
        "print(suc_cnt, no_cnt, suc_cnt/(suc_cnt+no_cnt))"
      ],
      "execution_count": null,
      "outputs": [
        {
          "output_type": "stream",
          "text": [
            "93 9 0.9117647058823529\n"
          ],
          "name": "stdout"
        }
      ]
    },
    {
      "cell_type": "code",
      "metadata": {
        "colab": {
          "base_uri": "https://localhost:8080/"
        },
        "id": "FK8vMQUWXQz4",
        "outputId": "ed4d1066-6536-4e5b-fe3d-65ce94402dda"
      },
      "source": [
        "suc_cnt, no_cnt = 0, 0\n",
        "for abstract in validation_none_df['Abstract'][70:]:\n",
        "    classes = custom_prediction(abstract)\n",
        "    if classes != [1]:\n",
        "        suc_cnt += 1\n",
        "    else:\n",
        "        no_cnt += 1"
      ],
      "execution_count": null,
      "outputs": [
        {
          "output_type": "stream",
          "text": [
            "training vocab count 106 Counter({'child': 15, 'dmtp': 7, 'concentration': 7, 'pesticide': 5, 'seattle': 5, 'farmworker': 5, 'exposure': 5, 'high': 4, 'dmap': 3, 'live': 3, 'period': 3, 'sample': 3, 'study': 2, 'group': 2, 'applicator': 2, 'metabolite': 2, 'level': 2, 'median': 2, 'μg/l': 2, 'agricultural': 2, 'community': 2, 'elevate': 2, 'respectively': 2, 'health': 2, 'worker': 2, 'time': 2, 'examine': 1, 'find': 1, 'five': 1, 'organophosphorus': 1, 'biomonitoring': 1, 'conduct': 1, 'washington': 1, 'state': 1, '1994': 1, '1999': 1, 'compare': 1, 'urinary': 1, 'dimethylthiophosphate': 1, 'composite': 1, 'dimethyl': 1, 'alkylphosphate': 1, 'select': 1, 'substantially': 1, '0.0001': 1, 'crop': 1, 'spray': 1, 'differ': 1, 'significantly': 1, '6.1': 1, '5.8': 1, '0.73': 1, 'however': 1, '117': 1, 'nmol/l': 1, '0.007': 1, 'u.s.': 1, '6–11': 1, 'year': 1, 'age': 1, '1999–2000': 1, 'national': 1, 'nutrition': 1, 'examination': 1, 'survey': 1, 'population': 1, '75th': 1, '90th': 1, '95th': 1, 'percentile': 1, 'actively': 1, 'engage': 1, 'apple': 1, 'thin': 1, 'farmworkers': 1, 'outside': 1, 'peak': 1, 'conclude': 1, 'direct': 1, 'contact': 1, 'continue': 1, 'focus': 1, 'public': 1, 'intervention': 1, 'may': 1, 'occur': 1, 'active': 1, 'crop-spraying': 1, 'collection': 1, 'critical': 1, 'proper': 1, 'interpretation': 1, 'biomarkers': 1, 'excrete': 1, 'relatively': 1, 'soon': 1, 'surmise': 1, 'difference': 1, 'dietary': 1, 'explain': 1, 'similar': 1, 'observe': 1, 'among': 1, 'metropolitan': 1, 'area': 1, 'nationally': 1})\n",
            "100.00% 확률로 비연구 논문입니다.\n",
            "training vocab count 60 Counter({'filariae': 5, 'chromosome': 3, 'volvulus': 3, 'caenorhabditis': 2, 'whether': 2, 'sex': 2, 'determination': 2, 'chromosomal': 2, 'system': 2, 'onchocercidae': 2, 'reduce': 2, 'gibsoni': 2, 'understand': 1, 'nature': 1, 'expect': 1, 'greatly': 1, 'assist': 1, 'future': 1, 'interpretation': 1, 'genome': 1, 'data': 1, 'filarial': 1, 'development': 1, 'eutelic': 1, 'seem': 1, 'fix': 1, 'number': 1, 'cell': 1, 'division': 1, 'way': 1, 'clear': 1, 'localize': 1, 'centromere': 1, 'holocentric': 1, 'balance': 1, 'fusion': 1, 'create': 1, 'neo-xy': 1, 'presume': 1, 'molecular': 1, 'basis': 1, 'similar': 1, 'the': 1, 'ancestral': 1, 'karyotype': 1, 'probably': 1, '5a+x0': 1, '4a+xy': 1, '3a+xy': 1, 'onchocerca': 1, 'supernumary': 1, 'single': 1, 'active': 1, 'nucleolus': 1, 'organise': 1, 'region': 1, 'near': 1, 'middle': 1, 'long': 1, 'autosome': 1})\n",
            "100.00% 확률로 비연구 논문입니다.\n",
            "training vocab count 113 Counter({'receptor': 8, 'p2y4': 5, 'secretion': 4, 'membrane': 4, 'p2y2': 4, 'the': 4, 'marginal': 3, 'cell': 3, 'apical': 3, 'activation': 3, 'stria': 3, 'vascularis': 3, 'utp': 3, 'consistent': 3, 'strial': 2, 'epithelium': 2, 'p2y6': 2, 'lead': 2, 'decrease': 2, 'electrogenic': 2, 'gerbil': 2, 'test': 2, 'intracellular': 2, 'ca2+': 2, 'response': 2, 'isc': 2, 'find': 2, 'uridine': 2, \"5'-triphosphate\": 2, 'atp': 2, 'cause': 2, 'channel': 2, 'suramin': 2, 'two': 2, 'regulation': 2, 'backgroundit': 1, 'previously': 1, 'show': 1, 'control': 1, 'g-protein': 1, 'couple': 1, 'p2y': 1, 'family': 1, 'uracil': 1, 'nucleotide': 1, 'present': 1, 'study': 1, 'conduct': 1, 'determine': 1, 'subtype': 1, 'functional': 1, 'purinergic': 1, 'elevation': 1, 'undergo': 1, 'desensitization.resultsthe': 1, 'transepithelial': 1, 'short': 1, 'circuit': 1, 'current': 1, 'represent': 1, 'adenosine': 1, 'diadenosine': 1, 'tetraphosphate': 1, 'ap4a': 1, \"5'-diphosphate\": 1, 'udp': 1, 'potency': 1, 'agonist': 1, 'rodent': 1, 'biphasic': 1, 'increase': 1, 'could': 1, 'partially': 1, 'block': 1, '2-aminoethoxy-diphenyl': 1, 'borate': 1, '2-apb': 1, 'inhibitor': 1, 'ip3': 1, 'store-operated': 1, '100': 1, 'inhibit': 1, 'effect': 1, 'ineffectiveness': 1, 'concentration': 1, 'use': 1, 'transcript': 1, 'sustain': 1, 'exposure': 1, 'min': 1, 'depression': 1, 'appear': 1, 'component': 1, 'apparently': 1, 'chronic': 1, 'desensitization.conclusionthe': 1, 'result': 1, 'support': 1, 'conclusion': 1, 'across': 1, 'occur': 1, 'apparent': 1, 'lack': 1, 'desensitization': 1, 'process': 1, 'rapid-onset': 1, 'phosphorylation': 1, 'kcne1': 1, 'subunit': 1, 'slower-onset': 1, 'depletion': 1, 'plasma': 1, 'pip2': 1})\n",
            "91.39% 확률로 비연구 논문입니다.\n",
            "training vocab count 17 Counter({'claim': 2, 'many': 1, 'ad': 1, 'ssri': 1, 'antidepressant': 1, 'drug': 1, 'boost': 1, 'brain': 1, 'serotonin': 1, 'level': 1, 'lacasse': 1, 'leo': 1, 'argue': 1, 'little': 1, 'scientific': 1, 'evidence': 1, 'support': 1})\n",
            "100.00% 확률로 비연구 논문입니다.\n",
            "training vocab count 152 Counter({'database': 9, 'data': 9, 'meta-data': 6, 'microarray': 5, 'maxdload2': 5, 'via': 5, 'browse': 5, 'provide': 4, 'allow': 4, 'standard': 3, 'capture': 3, 'the': 3, 'maxdbrowse': 3, 'environment': 3, 'interface': 3, 'search': 3, 'feature': 3, 'definition': 3, 'available': 3, 'relational': 2, 'application': 2, 'annotation': 2, 'use': 2, 'repository': 2, 'make': 2, 'content': 2, 'web-browser': 2, 'command-line': 2, 'web-service': 2, 'dissemination': 2, 'present': 2, 'ability': 2, 'link': 2, 'many': 2, 'tool': 2, 'access': 2, 'change': 2, 'client': 2, 'without': 2, 'also': 2, 'user': 2, 'maxd': 2, 'this': 2, 'export': 2, 'analysis': 2, 'server': 2, 'they': 2, 'backgroundmaxdload2': 1, 'schema': 1, 'java®': 1, 'experimental': 1, 'storage': 1, 'compliant': 1, 'include': 1, 'specification': 1, 'record': 1, 'extensive': 1, 'ontology': 1, 'support': 1, 'exchange': 1, 'format': 1, 'output': 1, 'form': 1, 'acceptable': 1, 'submission': 1, 'arrayexpress': 1, 'european': 1, 'bioinformatics': 1, 'institute': 1, 'php': 1, 'web-application': 1, 'accessible': 1, 'thus': 1, 'act': 1, 'data-mining': 1, 'tool.resultsmaxdload2': 1, 'easy-to-use': 1, 'underlie': 1, 'full': 1, 'complement': 1, 'facility': 1, 'edit': 1, 'there': 1, 'tree-based': 1, 'visualization': 1, 'connectivity': 1, 'explore': 1, 'pair': 1, 'element': 1, 'irrespective': 1, 'intermediate': 1, 'lie': 1, 'it': 1, 'principle': 1, 'novel': 1, 'flexibility': 1, 'import': 1, 'spreadsheet': 1, 'tabular': 1, 'representation': 1, 'automatic': 1, 'creation': 1, 'structure': 1, 'document': 1, 'web': 1, 'web-services': 1, 'interfaces.within': 1, 'straightforward': 1, 'customise': 1, 'these': 1, 'store': 1, 'within': 1, 'software': 1, 'connect': 1, 'properly': 1, 'modify': 1, 'specially': 1, 'configure': 1, 'configuration': 1, 'file': 1, 'centralize': 1, 'response': 1, 'revision': 1, 'terminology': 1, 'propagate': 1, 'intervention.maxdbrowse': 1, 'host': 1, 'web-server': 1, 'multiple': 1, 'emulate': 1, 'familiar': 1, 'soap': 1, 'enable': 1, 'script': 1, 'embed': 1, 'architectures.conclusionmaxdload2': 1, 'portable': 1, 'compatible': 1, 'common': 1, 'operate': 1, 'system': 1, 'major': 1, 'powerful': 1, 'flexible': 1, 'package': 1, 'experiment': 1, 'convenient': 1, 'download': 1, 'open': 1, 'source': 1, 'artistic': 1, 'license': 1})\n",
            "100.00% 확률로 비연구 논문입니다.\n",
            "training vocab count 131 Counter({'dehydrogenase': 7, 'growth': 6, 'flux': 6, 'pyruvate': 6, 'cerevisiae': 5, 'oxidative': 5, 'fermentative': 5, 'during': 5, 'involve': 4, 'condition': 3, 'metabolic': 3, 'carbon': 3, 'ppp': 3, 'enzyme': 3, 'mitochondrion': 3, 'acetaldehyde': 3, 'nadph': 3, 'fermentation': 2, 'high': 2, 'purely': 2, 'this': 2, 'pathway': 2, 'carboxylase': 2, 'malic': 2, 'exhibit': 2, 'by-pass': 2, 'mainly': 2, 'provide': 2, 'acetyl-coa': 2, 'transport': 2, 'limit': 2, 'capacity': 2, 'reaction': 2, 'oxaloacetate': 2, 'supply': 2, 'specific': 2, 'isocitrate': 2, 'backgroundone': 1, 'fascinate': 1, 'property': 1, 'biotechnologically': 1, 'important': 1, 'organism': 1, 'saccharomyces': 1, 'ability': 1, 'perform': 1, 'simultaneous': 1, 'respiration': 1, 'rate': 1, 'even': 1, 'fully': 1, 'aerobic': 1, 'present': 1, 'work': 1, 'crabtree': 1, 'effect': 1, 'call': 1, 'phenomenon': 1, 'investigate': 1, 'detail': 1, 'comparative': 1, '13c': 1, 'analysis': 1, 'grow': 1, 'respiro-fermentative': 1, 'predominantly': 1, 'conditions.resultsthe': 1, 'shift': 1, 'accompany': 1, 'complex': 1, 'change': 1, 'throughout': 1, 'whole': 1, 'central': 1, 'metabolism': 1, 'redirection': 1, 'pentose': 1, 'phosphate': 1, 'towards': 1, 'glycolysis': 1, 'increase': 1, 'decrease': 1, 'tca': 1, 'cycle': 1, 'partial': 1, 'relocation': 1, 'alanine': 1, 'biosynthesis': 1, 'cytosol': 1, 'physiological': 1, 'regime': 1, 'via': 1, 'decarboxylase': 1, 'synthase': 1, 'route': 1, 'however': 1, 'saturate': 1, 'due': 1, 'under': 1, 'cell': 1, 'chain': 1, 'transporter': 1, 'alone': 1, 'sufficient': 1, 'completely': 1, 'anabolism': 1, 'require': 1, 'nadph.conclusionwe': 1, 'conclude': 1, 'order': 1, 'overcome': 1, 'posse': 1, 'different': 1, 'by-passes': 1, 'channel': 1, 'conversion': 1, 'cytosolic': 1, 'either': 1, 'acetyl': 1, 'coa': 1, 'follow': 1, 'intercompartmental': 1, 'metabolite': 1, 'nad': 1, 'isoforms': 1, 'catalyze': 1, 'correspond': 1, 'whereas': 1, 'significant': 1, 'contribution': 1, 'source': 1})\n",
            "72.02% 확률로 비연구 논문입니다.\n",
            "training vocab count 113 Counter({'net': 9, 'treat': 5, 'wash': 5, 'insecticide': 4, 'use': 4, 'long-lasting': 4, 'itn': 3, 'malaria': 3, 'formulation': 3, 'conventional': 3, 'ko-tab': 3, 'bioassay': 3, 'deltamethrin': 3, '1-2-3': 3, 'remain': 2, 'africa': 2, 'be': 2, 'performance': 2, 'polyester': 2, 'standard': 2, 'permanet': 2, 'time': 2, 'who': 2, 'measure': 2, 'exposure': 2, 'level': 2, 'within': 2, 'insecticidal': 2, 'efficacy': 2, 'loss': 2, 'mg/m2': 2, 'load': 2, 'dose': 2, 'this': 2, 'introductioninsecticide-treated': 1, 'important': 1, 'method': 1, 'prevent': 1, 'effective': 1, 'need': 1, 're-treated': 1, 'pyrethroid': 1, 'approximately': 1, 'yearly': 1, 'interval': 1, 'system': 1, 're-treating': 1, 'limit': 1, 'vast': 1, 'majority': 1, 'never': 1, 'bayer': 1, 'environmental': 1, 'science': 1, 'develop': 1, \"'ko-tab\": 1, '1-2-3®': 1, 'apply': 1, 'post-manufacture': 1, 'field': 1, 'condition': 1, 'render': 1, 'wash-resistant.methodsthe': 1, 'three': 1, 'kind': 1, '2.0': 1, 'evaluate': 1, 'sample': 1, 'procedure': 1, \"'three-minute\": 1, \"'median\": 1, 'knockdown': 1, 'test': 1, 'high-pressure': 1, 'liquid': 1, 'chromatography.resultsthe': 1, 'largely': 1, 'strip': 1, '5–10': 1, 'decline': 1, 'suboptimal': 1, 'with': 1, 'much': 1, 'slow': 1, 'content': 1, 'halve': 1, 'biological': 1, 'three-minute': 1, 'cylinder': 1, 'even': 1, 'after': 1, '4.4': 1, '18.8': 1, 'permanet.conclusionko-tab': 1, 'confirm': 1, 'find': 1, 'raise': 1, 'prospect': 1, 'convert': 1, 'simple': 1, 'dip': 1, 'community': 1, 'home': 1, 'single': 1, 'development': 1, 'widely': 1, 'adopt': 1, 'could': 1, 'transform': 1, 'control': 1, 'landscape': 1, 'major': 1, 'impact': 1})\n",
            "99.99% 확률로 비연구 논문입니다.\n",
            "training vocab count 86 Counter({'receptor': 13, 'structure': 7, 'ligand': 7, 'recognition': 7, 'model': 7, 'elp': 5, 'domain': 5, 'nmr': 4, 'use': 4, 'residue': 4, 'pocket': 4, 'segment': 3, 'elps': 3, 'involve': 3, 'homology': 3, 'construct': 3, 'template': 3, 'prostacyclin': 2, 'thromboxane': 2, 'human': 2, 'constrain': 2, 'peptide': 2, 'the': 2, 'study': 2, 'propose': 2, 'crystal': 2, 'bovine': 2, 'rhodopsin': 2, 'background': 1, 'belong': 1, 'rhodopsin-type': 1, 'protein-coupling': 1, 'respectively': 1, 'bind': 1, 'derive': 1, 'arachidonic': 1, 'acid': 1, 'recently': 1, 'determine': 1, 'extracellular': 1, 'loop': 1, '2-d': 1, 'spectroscopy': 1, 'mimic': 1, 'individual': 1, 'identify': 1, 'along': 1, 'several': 1, 'important': 1, 'well': 1, 'receptor.results': 1, 'share': 1, 'similar': 1, 'primary': 1, 'forty': 1, 'percent': 1, 'second': 1, 'identical': 1, 'major': 1, 'region': 1, 'form': 1, 'base': 1, 'high': 1, 'score': 1, 'approach': 1, 'configure': 1, 'seven': 1, 'transmembrane': 1, 'iloprost': 1, 'dock': 1, 'after': 1, 'dynamic': 1, 'key': 1, 'arg173': 1, 'predict': 1, 'confirm': 1, 'site-directed': 1, 'mutagenesis.conclusion': 1, '3-d': 1, 'synthetic': 1, 'this': 1, 'strategy': 1, 'apply': 1, 'molecular': 1, 'prediction': 1, 'prostanoid': 1})\n",
            "99.99% 확률로 비연구 논문입니다.\n",
            "training vocab count 124 Counter({'chemoprophylaxis': 9, 'vaccine': 8, 'malaria': 6, 'measles': 6, 'child': 5, 'ch+': 5, '0.05': 5, 'response': 4, 'dtp': 4, 'month': 4, 'ch-': 4, 'tetanus': 3, 'diphtheria': 3, 'follow': 3, 'pertussis': 3, 'two': 3, 'associate': 2, 'decrease': 2, 'toxoid': 2, 'therapy': 2, 'the': 2, 'study': 2, 'group': 2, 'age': 2, 'receive': 2, 'seven': 2, 'dose': 2, 'seroconversion': 2, 'rat': 2, 'respectively': 2, 'seroresponse': 2, 'analysis': 2, 'gmt': 2, 'significantly': 2, 'backgroundacute': 1, 'antibody': 1, 'meningococcal': 1, 'salmonella': 1, 'hib': 1, 'interest': 1, 'give': 1, 'drug': 1, 'prevention': 1, 'time': 1, 'childhood': 1, 'immunization': 1, 'increase': 1, 'greatly': 1, 'recent': 1, 'trial': 1, 'intermittent': 1, 'preventive': 1, 'infancy': 1, 'ipti': 1, 'stimulate': 1, 're-analysis': 1, 'unpublished': 1, 'data': 1, 'effect': 1, 'administration': 1, 'diphtheria-tetanus-whole': 1, 'cell': 1, 'vaccines.methodsin': 1, '1975': 1, 'six': 1, 'village': 1, 'divide': 1, '≤74': 1, 'burkina': 1, 'faso': 1, 'assign': 1, 'amodiaquine': 1, 'hydrochloride': 1, 'every': 1, 'week': 1, 'after': 1, 'five': 1, 'either': 1, 'one': 1, 'vaccines.resultsfor': 1, 'recipient': 1, 'subset': 1, 'strictly': 1, 'adhere': 1, 'criterion': 1, 'include': 1, 'likewise': 1, 'significant': 1, 'difference': 1, 'while': 1, 'show': 1, 'analyse': 1, 'use': 1, 'logistic': 1, 'regression': 1, 'control': 1, 'sex': 1, 'weight-for-height': 1, 'z-score': 1, 'pre-vaccination': 1, 'geometric': 1, 'mean': 1, 'titer': 1, 'demonstrate': 1, 'different': 1, 'conversion': 1, 'rate': 1, 'ifa': 1, 'elisa': 1, 'group.conclusionmalaria': 1, 'prior': 1, 'vaccination': 1, 'endemic': 1, 'setting': 1, 'improve': 1, 'impair': 1, 'immunogenicity': 1, 'this': 1, 'first': 1, 'human': 1, 'look': 1, 'association': 1, 'serologic': 1, 'whole-cell': 1})\n",
            "100.00% 확률로 비연구 논문입니다.\n",
            "training vocab count 92 Counter({'gene': 10, 'splice': 7, 'isoforms': 7, 'protein': 6, 'category': 5, 'functional': 4, 'est': 4, 'alternatively': 3, 'alternative': 3, 'different': 3, 'uneven': 3, 'coverage': 3, 'number': 3, 'encode': 3, 'generate': 2, 'although': 2, 'the': 2, 'mrna': 2, 'effect': 2, 'ribosomal': 2, 'signal': 2, 'transduction': 2, 'tend': 2, 'average': 2, 'cycle': 2, 'difference': 2, 'biological': 2, 'backgroundalternative': 1, 'major': 1, 'mechanism': 1, 'diversity': 1, 'high': 1, 'eukaryote': 1, 'least': 1, 'half': 1, 'probably': 1, 'mammalian': 1, 'clear': 1, 'whether': 1, 'frequency': 1, 'problem': 1, 'obscure': 1, 'large': 1, 'artifact': 1, 'data.resultswe': 1, 'develop': 1, 'method': 1, 'possible': 1, 'human': 1, 'contain': 1, 'edas': 1, 'database': 1, 'take': 1, 'account': 1, 'nonsense-mediated': 1, 'decay': 1, 'translation': 1, 'initiation': 1, 'rule': 1, 'procedure': 1, 'offset': 1, 'then': 1, 'compute': 1, 'small': 1, 'gtpase-mediated': 1, 'few': 1, 'whereas': 1, 'dna': 1, 'replication': 1, 'chromosome': 1, 'involve': 1, 'protein-protein': 1, 'interaction': 1, 'often': 1, 'non-interacting': 1, 'significant': 1, 'genes.conclusionfiltering': 1, 'satisfy': 1, 'constraint': 1, 'accountung': 1, 'allow': 1, 'describe': 1, 'observation': 1, 'seem': 1, 'consistent': 1, 'expectation': 1, 'base': 1, 'current': 1, 'knowledge': 1, 'le': 1, 'interact': 1, 'cell': 1})\n",
            "100.00% 확률로 비연구 논문입니다.\n",
            "training vocab count 139 Counter({'mirnas': 10, 'novel': 4, 'cluster': 4, 'rna': 3, 'large': 3, 'discovery': 3, 'method': 3, 'mirna': 3, 'prediction': 3, 'specie': 3, 'gene': 2, 'hundred': 2, 'work': 2, 'number': 2, 'still': 2, 'experimental': 2, 'computational': 2, 'result': 2, 'mammalian': 2, 'genomic': 2, 'region': 2, 'around': 2, 'already': 2, 'know': 2, 'human': 2, 'mouse': 2, 'rat': 2, 'analyze': 2, 'pre-mirnas': 2, 'genome': 2, 'organization': 2, 'locus': 2, 'use': 2, 'cross-species': 2, 'comparison': 2, 'our': 2, 'predict': 2, 'consider': 2, 'many': 2, 'show': 2, 'backgroundmicrornas': 1, 'endogenous': 1, '23-nucleotide': 1, 'molecule': 1, 'regulate': 1, 'protein-coding': 1, 'expression': 1, 'plant': 1, 'animal': 1, 'via': 1, 'interference': 1, 'pathway': 1, 'identify': 1, 'last': 1, 'five': 1, 'year': 1, 'recent': 1, 'indicate': 1, 'total': 1, 'therefore': 1, 'remain': 1, 'important': 1, 'aspect': 1, 'understand': 1, 'new': 1, 'widely': 1, 'unknown': 1, 'regulation': 1, 'mechanism': 1, 'bioinformatics': 1, 'approach': 1, 'prove': 1, 'useful': 1, 'toward': 1, 'goal': 1, 'guide': 1, 'investigations.resultsin': 1, 'describe': 1, 'application': 1, 'focus': 1, 'order': 1, 'exploit': 1, 'property': 1, 'occasionally': 1, 'find': 1, 'start': 1, 'flank': 1, 'presence': 1, 'putative': 1, 'precursor': 1, 'each': 1, 'separately': 1, 'allow': 1, 'study': 1, 'species-specific': 1, 'identity': 1, 'make': 1, 'conservative': 1, 'estimate': 1, 'initio': 1, 'fifty': 1, 'support': 1, 'set': 1, 'clone': 1, 'small': 1, 'the': 1, 'validation': 1, 'rate': 1, 'among': 1, 'case': 1, 'conserve': 1, 'least': 1, 'one': 1, 'high': 1, 'detect': 1, 'fraction': 1, 'experimentally': 1, 'confirm': 1, 'correspond': 1, 'imprint': 1, 'reside': 1, 'chromosome': 1, 'tool': 1, 'access': 1, 'world-wide-web.conclusionour': 1, 'assumption': 1, 'occur': 1, 'fruitful': 1, 'additionally': 1, 'although': 1, 'overall': 1, 'content': 1, 'observe': 1, 'similar': 1, 'across': 1, 'three': 1, 'internal': 1, 'change': 1, 'evolution': 1})\n",
            "100.00% 확률로 비연구 논문입니다.\n",
            "training vocab count 125 Counter({'infant': 9, 'hiv-1': 4, 'env': 4, 'increase': 4, 'mother': 3, 'child': 3, 'subtype': 3, 'humoral': 3, 'immune': 3, 'sequence': 3, 'month': 3, 'time': 3, 'transmission': 2, 'evolution': 2, 'study': 2, 'change': 2, 'phenotype': 2, 'correlate': 2, 'diversity': 2, 'observe': 2, 'genetic': 2, 'median': 2, 'neutralize': 2, 'antibody': 2, 'response': 2, 'viral': 2, 'slow': 2, 'backgroundgiven': 1, 'high': 1, 'prevalence': 1, 'infection': 1, 'development': 1, 'good': 1, 'understand': 1, 'african': 1, 'natural': 1, 'significant': 1, 'importance': 1, 'genotypically': 1, 'phenotypically': 1, 'characterize': 1, 'virus': 1, 'isolate': 1, '67-month': 1, 'follow-up': 1, 'period': 1, 'utero-infected': 1, 'zambian': 1, 'genotype': 1, 'alteration': 1, 'host': 1, 'response.resultsa': 1, 'comparison': 1, 'baseline': 1, 'maternal': 1, 'sample': 1, 'indicate': 1, 'monophyletic': 1, 'contain': 1, 'fraction': 1, 'this': 1, 'find': 1, 'suggest': 1, 'selective': 1, 'occur': 1, 'peak': 1, 'divergence': 1, 'note': 1, 'co-receptor': 1, 'usage': 1, 'syncytium': 1, 'phylogenetic': 1, 'analyse': 1, 'reveal': 1, 'accumulation': 1, 'mutation': 1, 'well': 1, 'reappearance': 1, 'ancestral': 1, 'lineage': 1, 'c2-v4': 1, 'region': 1, 'neither': 1, 'number': 1, 'putative': 1, 'n-glycosylation': 1, 'sit': 1, 'length': 1, 'show': 1, 'consistent': 1, 'the': 1, 'posse': 1, 'birth': 1, 'decrease': 1, 'effectiveness': 1, 'quantity': 1, 'novo': 1, 'detect': 1, 'correspond': 1, 'diversity.conclusionour': 1, 'demonstrate': 1, 'correlation': 1, 'there': 1, 'diversification': 1, 'coincide': 1, 'titer': 1, 'addition': 1, 'episode': 1, 'growth': 1, 'successive': 1, 'reaction': 1, 'first': 1, '5–6': 1, 'year': 1, 'progressor': 1, 'delay': 1, 'onset': 1, 'aid': 1, 'whether': 1, 'pattern': 1, 'typical': 1, 'progress': 1, 'infect': 1, 'need': 1, 'substantiate': 1})\n",
            "100.00% 확률로 비연구 논문입니다.\n",
            "training vocab count 90 Counter({'method': 11, 'time': 8, 'series': 6, 'gene': 3, 'expression': 3, 'differentially': 3, 'express': 3, 'data-poor': 3, 'use': 3, 'data': 3, 'experimental': 3, 'two': 3, 'study': 2, 'limit': 2, 'propose': 2, 'number': 2, 'sample': 2, 'three': 2, 'synthetic': 2, 'condition': 2, 'application': 2, 'consider': 2, 'threshold': 2, 'base': 2, 'model': 2, 'error': 2, 'area': 2, 'profile': 2, 'compare': 2, 'outperform': 2, 'backgroundmicroarray': 1, 'essential': 1, 'understand': 1, 'dynamic': 1, 'molecular': 1, 'event': 1, 'order': 1, 'analysis': 1, 'change': 1, 'first': 1, 'necessary': 1, 'step': 1, 'select': 1, 'transcript': 1, 'variety': 1, 'purpose': 1, 'however': 1, 'seldom': 1, 'applicable': 1, 'practice': 1, 'since': 1, 'require': 1, 'large': 1, 'replicate': 1, 'often': 1, 'available': 1, 'context': 1, 'evaluate': 1, 'performance': 1, 'selection': 1, 'range': 1, 'real': 1, 'also': 1, 'discussed.resultsthree': 1, 'ass': 1, 'individual': 1, 'calculate': 1, 'region': 1, 'bound': 1, 'exceed': 1, 'these': 1, 'recently': 1, 'literature': 1, 'exploit': 1, 'spline': 1, 'fit': 1, 'indicate': 1, 'precision': 1, 'recall': 1, 'short': 1, 'analyze': 1, 'long': 1, 'series.conclusionthese': 1, 'result': 1, 'help': 1, 'address': 1, 'choice': 1, 'algorithm': 1, 'depend': 1, 'length': 1})\n",
            "100.00% 확률로 비연구 논문입니다.\n",
            "training vocab count 118 Counter({'gene': 9, 'different': 5, 'three': 4, 'step': 4, 'hom': 4, 'pathway': 3, 'coli': 3, 'product': 3, 'structure': 3, 'organization': 3, 'ask': 3, 'aki': 2, 'akii': 2, 'perform': 2, 'moreover': 2, 'carry': 2, 'also': 2, 'the': 2, 'single': 2, 'asdh': 2, 'copy': 2, 'trace': 2, 'extant': 2, 'scenario': 2, 'analysis': 2, 'phylogeny': 2, 'distribution': 2, 'fusion': 2, 'event': 2, 'proteobacteria': 2, 'allow': 2, 'depict': 2, 'model': 2, 'evolution': 2, 'fuse': 2, 'suggest': 2, 'microarray': 2, 'data': 2, 'experiment': 2, 'backgroundthe': 1, 'lysine': 1, 'threonine': 1, 'methionine': 1, 'biosynthetic': 1, 'share': 1, 'initial': 1, 'enzymatic': 1, 'refer': 1, 'common': 1, 'escherichia': 1, 'aspartokinases': 1, 'akiii': 1, 'thra': 1, 'metl': 1, 'lysc': 1, 'respectively': 1, 'first': 1, 'two': 1, 'bifunctional': 1, 'homoserine': 1, 'dehydrogenasic': 1, 'activity': 1, 'second': 1, 'catalyze': 1, 'aspartate': 1, 'semialdehyde': 1, 'dehydrogenase': 1, 'asd': 1, 'thus': 1, 'reaction': 1, 'metabolic': 1, 'rout': 1, 'ak': 1, 'perfom': 1, 'unique': 1, 'why': 1, 'situation': 1, 'emerge': 1, 'maintain': 1, 'how': 1, 'correlate': 1, 'regulatory': 1, 'mechanism': 1, 'act': 1, 'aim': 1, 'work': 1, 'evolutionary': 1, 'lead': 1, 'proteobacteria.resultsthe': 1, 'reveal': 1, 'presence': 1, 'multiple': 1, 'restrict': 1, 'γ-subdivision': 1, 'this': 1, 'explain': 1, 'accord': 1, 'outcome': 1, 'cascade': 1, 'duplication': 1, 'ancestor': 1, 'γ-proteobacteria': 1, 'appearance': 1, 'parallel': 1, 'assembly': 1, 'operon': 1, 'size': 1, 'strong': 1, 'correlation': 1, 'statistic': 1, 'retrieve': 1, 'pseudomonas': 1, 'aeruginosa': 1, 'performed.conclusionthe': 1, 'integration': 1, 'concern': 1, 'biological': 1, 'significance': 1})\n",
            "100.00% 확률로 비연구 논문입니다.\n",
            "training vocab count 109 Counter({'protein': 10, 'thermophilic': 8, 'archaeal': 6, 'mesophilic': 5, 'genome': 4, 'eubacterial': 4, 'amino': 4, 'acid': 4, 'difference': 3, 'sequence': 3, 'organism': 2, 'high': 2, 'temperature': 2, 'thermostability': 2, 'structure': 2, 'compare': 2, 'derive': 2, 'the': 2, 'complete': 2, 'comparison': 2, 'base': 2, 'kingdom': 2, 'different': 2, 'adaptation': 2, 'environment': 2, 'specific': 2, 'large': 2, 'number': 2, 'gln': 2, 'ile': 2, 'backgroundthermophilic': 1, 'able': 1, 'live': 1, 'range': 1, '100°c': 1, 'their': 1, 'must': 1, 'sufficiently': 1, 'stable': 1, 'function': 1, 'extreme': 1, 'condition': 1, 'however': 1, 'basis': 1, 'remain': 1, 'elusive': 1, 'subtle': 1, 'molecule': 1, 'find': 1, 'homologous': 1, 'often': 1, 'family-specific': 1, 'general': 1, 'rule': 1, 'availability': 1, 'make': 1, 'feasible': 1, 'perform': 1, 'large-scale': 1, 'latter': 1, 'primarily': 1, 'come': 1, 'although': 1, 'eubacteria': 1, 'also': 1, 'available.resultswe': 1, 'counterpart': 1, 'origin': 1, 'independently': 1, 'this': 1, 'assumption': 1, 'two': 1, 'mechanism': 1, 'may': 1, 'exploit': 1, 'composition': 1, 'seven': 1, 'align': 1, 'close': 1, 'homologues': 1, 'know': 1, 'three-dimensional': 1, 'analyse': 1, 'substitution': 1, 'lead': 1, 'either': 1, 'proteins.conclusionour': 1, 'homology-based': 1, 'structural': 1, 'prediction': 1, 'demonstrate': 1, 'thermal': 1, 'achieve': 1, 'way': 1, 'main': 1, 'concern': 1, 'usage': 1, 'positively': 1, 'charge': 1, 'particular': 1, 'appear': 1, 'acquire': 1, 'substitute': 1, 'non-charged': 1, 'polar': 1, 'glu': 1, 'lys': 1, 'non-polar': 1, 'surface': 1})\n",
            "100.00% 확률로 비연구 논문입니다.\n",
            "training vocab count 94 Counter({'medical': 6, 'informatics': 6, 'bioinformatics': 5, 'topic': 5, 'emerge': 4, 'identify': 3, 'domain': 3, 'research': 3, 'specific': 2, 'support': 2, 'field': 2, 'survey': 2, 'scientific': 2, 'literature': 2, 'analyse': 2, 'analysis': 2, 'technology': 2, 'recent': 2, 'microarray': 2, 'development': 2, 'backgroundthe': 1, 'symbiomatics': 1, 'action': 1, 'ssa': 1, 'information': 1, 'gather': 1, 'dissemination': 1, 'activity': 1, 'seek': 1, 'synergy': 1, 'improve': 1, 'collaborative': 1, 'progress': 1, 'ref': 1, 'part': 1, 'project': 1, 'expert': 1, 'approach': 1, 'provide': 1, 'input': 1, 'extract': 1, 'relevant': 1, 'bioinformatics.resultsthis': 1, 'paper': 1, 'present': 1, 'result': 1, 'systematic': 1, 'pair': 1, 'word': 1, 'bigram': 1, 'lead': 1, 'journal': 1, 'use': 1, 'indication': 1, 'exist': 1, 'period': 1, '2000–2005': 1, '1990–1990': 1, 'past': 1, 'equally': 1, 'important': 1, 'year': 1, 'experiment': 1, 'ontology': 1, 'open': 1, 'source': 1, 'text': 1, 'mine': 1, 'vector': 1, 'machine': 1, 'evolve': 1, 'system': 1, 'biology': 1, 'protein': 1, 'interaction': 1, 'network': 1, 'statistical': 1, 'method': 1, 'whereas': 1, 'grid': 1, 'tissue': 1, 'microarrays.conclusionwe': 1, 'conclude': 1, 'although': 1, 'interest': 1, 'share': 1, 'common': 1, 'technological': 1, 'tend': 1, 'initiate': 1, 'new': 1, 'biotechnology': 1, 'computer': 1, 'science': 1})\n",
            "99.99% 확률로 비연구 논문입니다.\n",
            "training vocab count 115 Counter({'database': 8, 'data': 7, 'annotation': 5, 'common': 5, 'provide': 5, 'content': 4, 'different': 4, 'coherent': 4, 'genopolis': 4, 'allow': 4, 'base': 4, 'community': 4, 'microarray': 3, 'well': 3, 'repository': 3, 'system': 3, 'support': 3, 'user': 3, 'control': 3, 'functional': 3, 'expression': 2, 'resource': 2, 'analysis': 2, 'implement': 2, 'collaborative': 2, 'environment': 2, 'define': 2, 'the': 2, 'group': 2, 'experiment': 2, 'knowledge': 2, 'analyse': 2, 'dendritic': 2, 'macrophage': 2, 'cell': 2, 'build': 2, 'definition': 2, 'public': 2, 'matrix': 2, 'characterization': 2, 'backgroundgene': 1, 'key': 1, 'management': 1, 'importance': 1, 'proper': 1, 'understood.public': 1, 'single': 1, 'laboratory': 1, 'exist': 1, 'however': 1, 'yet': 1, 'tool': 1, 'easily': 1, 'right': 1, 'access': 1, 'interact': 1, 'highly': 1, 'scope': 1, 'perform': 1, 'relate': 1, 'subject': 1, 'create': 1, 'dedicate': 1, 'scientific': 1, 'study': 1, 'function': 1, 'host-parasite': 1, 'interactions.resultsthe': 1, 'object': 1, 'miame': 1, 'compliant': 1, 'store': 1, 'image': 1, 'raw': 1, 'process': 1, 'affymetrix': 1, 'genechip®': 1, 'platform': 1, 'dynamical': 1, 'vocabulary': 1, 'automate': 1, 'supervise': 1, 'step': 1, 'coherence': 1, 'precise': 1, 'visibility': 1, 'sub': 1, 'facilitate': 1, 'export': 1, 'interactive': 1, 'interface': 1, 'visualize': 1, 'list': 1, 'sample': 1, 'navigate': 1, 'similarity': 1, 'value': 1, 'gene': 1, 'involve': 1, 'also': 1, 'share': 1, 'users.conclusionthe': 1, 'this': 1, 'fill': 1, 'gap': 1, 'local': 1, 'development': 1, 'important': 1, 'current': 1, 'implementation': 1, 'uniform': 1, 'coherently': 1, 'annotate': 1, 'dataset': 1, 'differentiation': 1})\n",
            "99.99% 확률로 비연구 논문입니다.\n",
            "training vocab count 135 Counter({'profile': 10, 'gene': 9, 'phylogenetic': 7, 'cluster': 5, 'basis': 4, 'organism': 4, 'analysis': 3, 'evolution': 3, 'element': 3, 'orfs': 3, 'bacteria': 2, 'vibrionaceae': 2, 'genome': 2, 'family': 2, 'base': 2, 'within': 2, 'hypothetical': 2, 'function': 2, 'identify': 2, 'putative': 2, 'transfer': 2, 'define': 2, 'matrix': 2, 'the': 2, 'contain': 2, 'core': 2, 'high': 2, 'similarity': 2, 'across': 2, 'several': 2, 'set': 2, 'class': 2, 'enrich': 2, 'mobile': 2, 'suggest': 2, 'backgroundvibrionaceae': 1, 'represent': 1, 'significant': 1, 'portion': 1, 'cultivable': 1, 'heterotrophic': 1, 'sea': 1, 'strongly': 1, 'affect': 1, 'nutrient': 1, 'cycle': 1, 'specie': 1, 'devastate': 1, 'pathogens.in': 1, 'work': 1, 'propose': 1, 'improve': 1, 'study': 1, 'content.the': 1, 'observation': 1, 'involve': 1, 'process': 1, 'e.g': 1, 'metabolic': 1, 'pathway': 1, 'structural': 1, 'complex': 1, 'tend': 1, 'concurrently': 1, 'present': 1, 'absent': 1, 'different': 1, 'this': 1, 'allow': 1, 'prediction': 1, 'share': 1, 'moreover': 1, 'approach': 1, 'useful': 1, 'laterally': 1, 'presence': 1, 'distantly': 1, 'phylogenetically': 1, 'relate': 1, 'bacteria.resultsvibrionaceae': 1, 'align': 1, 'available': 1, 'bacterial': 1, 'proteome': 1, 'array': 1, 'distance': 1, 'aminoacid': 1, 'substitution': 1, 'single': 1, 'orthologues': 1, 'final': 1, 'derive': 1, 'non-redundant': 1, 'list': 1, 'median': 1, 'belong': 1, 'result': 1, 'row': 1, 'columns.cluster': 1, 'group': 1, 'widespread': 1, 'homologous': 1, 'limit': 1, 'cog': 1, 'enrichment': 1, 'calculate': 1, 'reveal': 1, 'number': 1, 'others': 1, 'like': 1, 'dna': 1, 'replication': 1, 'recombination': 1, 'repair.conclusionwe': 1, 'find': 1, 'heterogeneous': 1, 'entire': 1, 'also': 1, 'confirm': 1, 'great': 1, 'influence': 1, 'even': 1, 'inside': 1, 'furthermore': 1, 'protein': 1, 'highly': 1, 'correlate': 1, 'possible': 1, 'horizontal': 1, 'mechanism': 1, 'finally': 1, 'role': 1, 'unknown': 1, 'well': 1, 'characterize': 1})\n",
            "100.00% 확률로 비연구 논문입니다.\n",
            "training vocab count 81 Counter({'similarity': 3, 'protein': 3, 'sit': 3, 'family': 3, 'bind': 3, 'one': 3, 'local': 2, 'structural': 2, 'functional': 2, 'new': 2, 'region': 2, 'residue': 2, 'order': 2, 'case': 2, 'member': 2, 'abc': 2, 'transporter': 2, 'hprk/p': 2, 'know': 2, 'also': 2, 'backgroundwe': 1, 'perform': 1, 'exhaustive': 1, 'search': 1, 'ensemble': 1, 'non-redundant': 1, 'with': 1, 'purpose': 1, 'find': 1, 'example': 1, 'convergent': 1, 'evolution': 1, 'select': 1, 'match': 1, 'compose': 1, 'whose': 1, 'invert': 1, 'relative': 1, 'sequences.resultsa': 1, 'novel': 1, 'analogy': 1, 'detect': 1, 'atp': 1, 'site': 1, 'this': 1, 'derive': 1, 'event': 1, 'circular': 1, 'permutation': 1, 'since': 1, 'pair': 1, 'locate': 1, 'reverse': 1, 'sequence': 1, 'two': 1, 'analogous': 1, 'identify': 1, 'pyrophosphate': 1, 'use': 1, 'prefer': 1, 'energy': 1, 'source': 1, 'kinase': 1, 'phosphorylase': 1, 'activity.conclusionthe': 1, 'discovery': 1, 'strike': 1, 'molecular': 1, 'associate': 1, 'may': 1, 'help': 1, 'suggest': 1, 'experiment': 1, 'aim': 1, 'deep': 1, 'understand': 1, 'involve': 1, 'many': 1, 'serious': 1, 'human': 1, 'disease': 1})\n",
            "99.82% 확률로 비연구 논문입니다.\n",
            "training vocab count 128 Counter({'peptidase': 10, 'inhibitor': 7, 'interact': 5, 'predict': 4, 'peptidase/inhibitor': 4, 'organism': 3, 'protein': 3, 'approach': 3, 'method': 3, 'pair': 3, 'possible': 3, 'decision-tree': 3, 'separately': 3, 'gene': 2, 'basic': 2, 'function': 2, 'specific': 2, 'available': 2, 'list': 2, 'accuracy': 2, 'detect': 2, 'obtain': 2, 'backgroundpeptidases': 1, 'proteolytic': 1, 'enzyme': 1, 'responsible': 1, 'fundamental': 1, 'cellular': 1, 'activity': 1, 'apparently': 1, '2–5': 1, 'encode': 1, 'irrespectively': 1, 'source': 1, 'the': 1, 'digestion': 1, 'potentially': 1, 'dangerous': 1, 'live': 1, 'strictly': 1, 'control': 1, 'genome': 1, 'annotation': 1, 'question': 1, 'here': 1, 'describe': 1, 'computational': 1, 'filter': 1, 'give': 1, 'proteome': 1, 'furthermore': 1, 'add': 1, 'value': 1, 'merops': 1, 'database': 1, 'already': 1, 'public': 1, 'domain': 1, 'whether': 1, 'eventually': 1, 'ligand': 1, 'and/or': 1, '.resultswe': 1, 'show': 1, 'adopt': 1, 'prosite': 1, 'hmmer': 1, 'four': 1, 'major': 1, 'type': 1, 'serine': 1, 'aspartic': 1, 'cysteine': 1, 'metallo-': 1, 'among': 1, 'non': 1, 'redundant': 1, 'set': 1, 'globular': 1, 'improve': 1, 'percentage': 1, 'point': 1, 'respect': 1, 'more': 1, 'importantly': 1, 'score': 1, 'joint': 1, 'global': 1, 'coverage': 1, 'positive': 1, 'case': 1, 'close': 1, '100': 1, 'correlation': 1, 'coefficient': 1, '0.91': 1, 'task': 1, 'outperform': 1, 'single': 1, 'methods.conclusionthe': 1, 'reliably': 1, 'classify': 1, 'sequence': 1, 'belong': 1, 'certain': 1, 'class': 1, 'provide': 1, 'comprehensive': 1, 'this': 1, 'information': 1, 'help': 1, 'design': 1, 'experiment': 1, 'complex': 1, 'speed': 1, 'selection': 1, 'candidate': 1, 'without': 1, 'search': 1, 'manually': 1, 'combine': 1, 'result': 1, 'web': 1, 'server': 1, 'specifically': 1, 'develop': 1, 'annotate': 1, 'hippie': 1})\n",
            "100.00% 확률로 비연구 논문입니다.\n",
            "training vocab count 147 Counter({'protein': 13, 'interaction': 9, 'cell': 6, 'complex': 6, 'lattice': 5, 'network': 4, 'dynamic': 4, 'model': 4, 'this': 3, 'discrete': 3, 'rule': 3, 'large': 2, 'interactome': 2, 'nod': 2, 'edge': 2, 'representation': 2, 'free': 2, 'nature': 2, 'fill': 2, 'represent': 2, 'sort': 2, 'molecular': 2, 'interact': 2, 'experimental': 2, 'apply': 2, 'use': 2, 'backgroundprotein': 1, 'support': 1, 'organization': 1, 'mediate': 1, 'response': 1, 'specific': 1, 'stimulus': 1, 'recent': 1, 'technological': 1, 'advance': 1, 'produce': 1, 'data-sets': 1, 'aim': 1, 'describe': 1, 'these': 1, 'data': 1, 'usually': 1, 'present': 1, 'graph': 1, 'link': 1, 'experimentally': 1, 'determine': 1, 'partner': 1, 'reveal': 1, 'protein-protein': 1, 'ppi': 1, 'like': 1, 'kind': 1, 'randomly': 1, 'organize': 1, 'display': 1, 'property': 1, 'typical': 1, 'hierarchical': 1, 'combine': 1, 'modularity': 1, 'local': 1, 'cluster': 1, 'scale': 1, 'topology': 1, 'however': 1, 'informative': 1, 'static': 1, 'provide': 1, 'clue': 1, 'inside': 1, 'cell.resultsto': 1, 'methodological': 1, 'gap': 1, 'design': 1, 'implement': 1, 'computer': 1, 'capture': 1, 'stochastic': 1, 'protnet': 1, 'simplify': 1, 'intracellular': 1, 'space': 1, 'map': 1, 'onto': 1, 'either': 1, 'two-dimensional': 1, 'three-dimensional': 1, 'site': 1, 'linear': 1, 'size': 1, 'comparable': 1, 'diameter': 1, 'average': 1, 'globular': 1, 'the': 1, 'occupancy': 1, 'e.g': 1, 'compatible': 1, 'estimate': 1, 'crowd': 1, 'cytoplasm': 1, 'translate': 1, 'rotate': 1, 'naïve': 1, 'unstructured': 1, 'devoid': 1, 'compartment': 1, 'time': 1, 'step': 1, 'entity': 1, 'happen': 1, 'neighbor': 1, 'may': 1, 'form': 1, 'dissociate': 1, 'depend': 1, 'define': 1, 'whole': 1, 'procedure': 1, 'see': 1, 'cell.we': 1, 'test': 1, 'perform': 1, 'different': 1, 'simulation': 1, 'derive': 1, 'saccharomyces': 1, 'cerevisiae': 1, '1378': 1, '2491': 1, 'compare': 1, 'formation': 1, 'two': 1, 'three': 1, 'dimensional': 1, 'model.conclusionprotnet': 1, 'cellular': 1, 'automaton': 1, 'molecule': 1, 'explicitly': 1, 'simple': 1, 'population': 1, 'particle': 1, 'tool': 1, 'simulate': 1})\n",
            "100.00% 확률로 비연구 논문입니다.\n",
            "training vocab count 109 Counter({'peptide': 7, 'protein': 7, 'surface': 5, 'region': 4, 'mimic': 4, 'problem': 3, 'map': 3, 'antibody': 3, 'the': 3, 'interact': 3, 'structure': 3, 'give': 3, 'find': 3, 'server': 3, 'epitope': 2, 'interaction': 2, 'antigen': 2, 'design': 2, 'able': 2, 'use': 2, 'sequence': 2, 'method': 2, 'implement': 2, 'available': 2, 'know': 2, 'model': 2, 'backgroundone': 1, 'interest': 1, 'molecular': 1, 'immunology': 1, 'i.e': 1, 'identification': 1, 'solution': 1, 'even': 1, 'approximate': 1, 'would': 1, 'help': 1, 'experiment': 1, 'precisely': 1, 'residue': 1, 'involve': 1, 'could': 1, 'instrumental': 1, 'understand': 1, 'immunologically': 1, 'important': 1, 'locate': 1, 'three-dimensional': 1, 'from': 1, 'experimental': 1, 'point': 1, 'view': 1, 'genetically': 1, 'encode': 1, 'chemically': 1, 'synthesise': 1, 'library': 1, 'identify': 1, 'recognize': 1, 'arise': 1, 'fold': 1, 'select': 1, 'correspond': 1, 'to.resultswe': 1, 'develop': 1, 'effectively': 1, 'maximum': 1, 'number': 1, 'side': 1, 'chain': 1, 'deem': 1, 'require': 1, 'recognition': 1, 'publicly': 1, 'also': 1, 'report': 1, 'specify': 1, 'length': 1, 'store': 1, 'database.the': 1, 'immediate': 1, 'application': 1, 'however': 1, 'system': 1, 'sufficiently': 1, 'flexible': 1, 'allow': 1, 'question': 1, 'ask': 1, 'example': 1, 'one': 1, 'compare': 1, 'represent': 1, 'two': 1, 'macromolecule': 1, 'likely': 1, 'region.conclusionwe': 1, 'believe': 1, 'meps': 1, 'useful': 1, 'tool': 1, 'immunologist': 1, 'structural': 1, 'computational': 1, 'biologist': 1, 'plan': 1, 'database': 1, 'reliably': 1, 'comparative': 1})\n",
            "100.00% 확률로 비연구 논문입니다.\n",
            "training vocab count 172 Counter({'query': 6, 'user': 6, 'search': 6, 'cluster': 6, 'document': 6, 'the': 5, 'databanks': 4, 'index': 4, 'data': 3, 'biological': 3, 'large': 3, 'set': 3, 'result': 3, 'browse': 3, 'like': 3, 'approach': 3, 'process': 3, 'several': 3, 'hit': 3, 'provide': 2, 'new': 2, 'this': 2, 'problem': 2, 'time': 2, 'since': 2, 'may': 2, 'web': 2, 'engine': 2, 'tool': 2, 'organize': 2, 'hierarchy': 2, 'label': 2, 'strategy': 2, 'make': 2, 'efficient': 2, 'sequence': 2, 'meta-data': 2, 'reference': 2, 'ontology': 2, 'keywords': 2, 'within': 2, 'return': 2, 'among': 2, 'ontology-based': 2, 'different': 2, 'view': 2, 'thus': 2, 'backgroundhigh-throughput': 1, 'molecular': 1, 'biology': 1, 'incredible': 1, 'rate': 1, 'increase': 1, 'size': 1, 'enormous': 1, 'rapid': 1, 'scenario': 1, 'generate': 1, 'severe': 1, 'suitable': 1, 'algorithmic': 1, 'technique': 1, 'retrieval': 1, 'require': 1, 'also': 1, 'produce': 1, 'understand': 1, 'become': 1, 'humanly': 1, 'impractical': 1, 'well': 1, 'know': 1, 'community': 1, 'generation': 1, 'develop': 1, 'vivisimo': 1, 'these': 1, 'on-the-fly': 1, 'folder': 1, 'ease': 1, 'knowledge': 1, 'extraction': 1, 'investigate': 1, 'propose': 1, 'call': 1, 'bioprompt-boxsoftware': 1, 'system': 1, 'deploy': 1, 'ontology-driven': 1, 'biologist': 1, 'effective.resultsthe': 1, 'bioprompt-box': 1, 'bpb': 1, 'define': 1, 'plus': 1, 'associate': 1, 'take': 1, 'underneath': 1, 'databank': 1, 'external': 1, 'plain': 1, 'text': 1, 'comment': 1, 'researcher': 1, 'title': 1, 'abstract': 1, 'even': 1, 'body': 1, 'paper': 1, 'bpboffers': 1, 'customize': 1, 'specific': 1, 'field': 1, 'schema': 1, 'execute': 1, 'blastto': 1, 'find': 1, 'relative': 1, 'homologue': 1, 'case': 1, 'task': 1, 'constitute': 1, 'answer': 1, 'number': 1, 'bpbclusters': 1, 'group': 1, 'homogenous': 1, 'content': 1, 'actually': 1, 'choose': 1, 'hierarchical': 1, 'offer': 1, 'bpbcomputes': 1, 'exploit': 1, 'present': 1, 'retrieve': 1, 'gene': 1, 'taxonomy': 1, 'lineage': 1, 'organism': 1, 'course': 1, 'flexible': 1, 'enough': 1, 'leave': 1, 'room': 1, 'future': 1, 'addition': 1, 'meta-information': 1, 'ultimate': 1, 'goal': 1, 'read': 1, 'maybe': 1, 'numerous': 1, 'show': 1, 'possible': 1, 'hide': 1, 'correlation': 1, 'improve': 1, 'understanding.conclusionbpb': 1, 'powerful': 1, 'easy': 1, 'perform': 1, 'complex': 1, 'currently': 1, 'uniprot': 1, 'consider': 1, 'effective': 1, 'could': 1, 'apply': 1, 'successfully': 1, 'genbank': 1, 'embl': 1})\n",
            "100.00% 확률로 비연구 논문입니다.\n",
            "training vocab count 127 Counter({'gene': 12, 'model': 7, 'genome': 6, 'sequence': 6, 'initio': 4, 'data-set': 4, 'candidate': 4, 'base': 3, 'species-specific': 3, 'est': 3, 'order': 3, 'define': 3, 'propose': 3, 'contigs': 3, 'procedure': 3, 'format': 3, 'structure': 2, 'annotation': 2, 'methodology': 2, 'versus': 2, 'feature': 2, 'train': 2, 'finder': 2, 'use': 2, 'require': 2, 'alignment': 2, 'genemodelest': 2, 'analysis': 2, 'contig': 2, 'support': 2, 'useful': 2, 'backgroundthe': 1, 'either': 1, 'similaritiy': 1, 'search': 1, 'molecule': 1, 'already': 1, 'annotate': 1, 'prediction': 1, 'priori': 1, 'knowledge': 1, 'the': 1, 'definition': 1, 'accomplish': 1, 'task': 1, 'common': 1, 'approach': 1, 'align': 1, 'full': 1, 'length': 1, 'cdna': 1, 'along': 1, 'genomic': 1, 'exon/intron': 1, 'mrna': 1, 'cod': 1, 'genes.resultsgenemodelest': 1, 'software': 1, 'exclusively': 1, 'evidence': 1, 'derive': 1, 'cdna/est': 1, 'sequences.genemodelest': 1, 'coordinate': 1, 'spliced-alignments': 1, 'tentative': 1, 'consensus': 1, 'generate': 1, 'clustering/assembling': 1, 'general': 1, 'gff': 1, 'standard': 1, 'file': 1, 'moreover': 1, 'protein': 1, 'database': 1, 'ncbi': 1, 'blast': 1, 'report': 1, 'file.the': 1, 'aim': 1, 'evaluate': 1, 'exon': 1, 'splice': 1, 'onto': 1, 'classify': 1, 'accord': 1, 'quality': 1, 'level': 1, 'select': 1, 'iii': 1, 'assign': 1, 'preliminary': 1, 'functional': 1, 'annotations.we': 1, 'discus': 1, 'application': 1, 'build': 1, 'solanum': 1, 'lycopersicum': 1, 'whose': 1, 'ongoing': 1, 'effort': 1, 'international': 1, 'tomato': 1, 'consortium.conclusionthe': 1, 'classification': 1, 'detection': 1, 'identification': 1, 'potential': 1, 'alternative': 1, 'transcript': 1, 'filter': 1, 'ambiguous': 1, 'information': 1, 'automate': 1, 'one': 1, 'fundamental': 1, 'large': 1, 'scale': 1, 'provide': 1, 'could': 1, 'and/or': 1, 'reference': 1, 'list': 1, 'human': 1, 'curated': 1})\n",
            "100.00% 확률로 비연구 논문입니다.\n",
            "training vocab count 147 Counter({'bind': 10, 'prp': 7, 'prpc': 5, 'mbp-prp': 5, 'prpsc': 4, 'process': 4, 'amino': 4, 'acid': 4, 'prion': 3, 'conversion': 3, 'protein': 3, 'strain': 3, 'scrapie': 3, 'determine': 3, 'well': 3, 'molecule': 3, 'sequence': 3, 'peptide': 3, 'high': 3, 'area': 3, 'the': 3, 'interaction': 3, 'protease': 2, 'dependent': 2, 'isoforms': 2, 'variation': 2, 'self-interaction': 2, 'influence': 2, 'polymorphism': 2, 'initial': 2, 'modulate': 2, 'possible': 2, 'ovine': 2, 'bovine': 2, 'peptide-arrays': 2, 'sheep': 2, 'reveal': 2, 'distinct': 2, 'region': 2, 'sheep-prp': 2, 'peptide-array': 2, 'pattern': 2, 'specific': 2, 'difference': 2, 'prp-specific': 2, 'capable': 2, 'completely': 2, 'backgroundthe': 1, 'common': 1, 'event': 1, 'transmissible': 1, 'spongiform': 1, 'encephalopathy': 1, 't': 1, 'disease': 1, 'host-encoded': 1, 'sensitive': 1, 'cellular': 1, 'associate': 1, 'resistant': 1, 'isoform': 1, 'these': 1, 'similarity': 1, 'structure': 1, 'selective': 1, 'probable': 1, 'basis': 1, 'initiation': 1, 'potentially': 1, 'chaperone': 1, 'however': 1, 'mechanism': 1, 'behind': 1, 'far': 1, 'understand': 1, 'previously': 1, 'affect': 1, 'rather': 1, 'subsequent': 1, 'step': 1, 'sit': 1, 'could': 1, 'elucidate': 1, 'contribute': 1, 'end': 1, 'consist': 1, '15-mer': 1, 'overlap': 1, 'probe': 1, 'recombinant': 1, 'fuse': 1, 'maltose': 1, '.resultsthe': 1, 'two': 1, 'low': 1, 'affinity': 1, 'result': 1, 'total': 1, 'aa': 1, 'first': 1, 'comprise': 1, '43–102': 1, '43–116': 1, 'include': 1, 'n-terminal': 1, 'octarepeats': 1, 'second': 1, '134–177': 1, '134–191': 1, 'encompass': 1, 'susceptibility-associated': 1, 'this': 1, 'concur': 1, 'previous': 1, 'study': 1, 'show': 1, 'associated-polymorphisms': 1, 'comparison': 1, 'antibody': 1, 'block': 1, 'also': 1, 'specifically': 1, 'western': 1, 'blot': 1, 'approach': 1, 'octarepeat': 1, 'seem': 1, 'primarily': 1, 'important': 1, 'proteinase': 1, 'pre-treatment': 1, 'abolish': 1, 'binding.conclusionbinding': 1, 'indicate': 1, 'several': 1, 'self-interactions': 1, 'individual': 1, 'occur': 1, 'suggest': 1, 'array': 1, 'prpc-prpc': 1, 'prpc-prpsc': 1, 'may': 1, 'ultimately': 1, 'lead': 1, 'specie': 1, 'barrier': 1})\n",
            "100.00% 확률로 비연구 논문입니다.\n",
            "training vocab count 31 Counter({'change': 2, 'principle': 2, 'this': 1, 'paper': 1, 'ethically': 1, 'analyse': 1, 'arise': 1, 'propose': 1, 'mental': 1, 'health': 1, 'act': 1, 'england': 1, 'wale': 1, 'look': 1, 'particular': 1, 'thea': 1, 'shift': 1, 'philosophy': 1, 'author': 1, 'claim': 1, 'occur': 1, 'proposal': 1, 'away': 1, 'rights-focused': 1, 'utilitarian': 1, 'outcome-focused': 1, 'give': 1, 'example': 1, 'explore': 1, 'itstheir': 1, 'consequence': 1})\n",
            "100.00% 확률로 비연구 논문입니다.\n",
            "training vocab count 100 Counter({'nuclear': 6, 'compartment': 5, 'nucleus': 3, 'order': 3, 'different': 3, 'chromatin': 3, 'phase': 3, 'separation': 3, 'component': 3, 'macromolecule': 3, 'domain': 2, 'structure': 2, 'functional': 2, 'dynamic': 2, 'property': 2, 'slow': 2, 'protein/rna': 2, 'viscoelastic': 2, 'this': 2, 'phenomenon': 2, 'formation': 2, 'interaction': 2, 'macromolecular': 2, 'crowd': 2, 'backgroundthe': 1, 'cell': 1, 'highly': 1, 'compartmentalize': 1, 'well-defined': 1, 'well': 1, 'understand': 1, 'maintain': 1, 'many': 1, 'scientist': 1, 'fascinate': 1, 'set': 1, 'observe': 1, 'attribute': 1, 'function': 1, 'distinguish': 1, 'non-functional': 1, 'aggregate': 1, 'believe': 1, 'important': 1, 'investigate': 1, 'biophysical': 1, 'nature': 1, 'organisation.resultsthe': 1, 'various': 1, 'divide': 1, 'broadly': 1, 'protein': 1, 'and/or': 1, 'rna': 1, 'base': 1, 'the': 1, 'display': 1, 'constrain': 1, 'diffusional': 1, 'motion': 1, 'hand': 1, 'physical': 1, 'system': 1, 'dynamical': 1, 'asymmetry': 1, 'lead': 1, 'long-lived': 1, 'network': 1, 'scatter': 1, 'within': 1, 'rich': 1, 'fast': 1, 'moreover': 1, 'pack': 1, '300': 1, 'mg/ml': 1, 'high': 1, 'concentration': 1, 'produce': 1, 'volume': 1, 'exclusion': 1, 'effect': 1, 'enhance': 1, 'attractive': 1, 'know': 1, 'favour': 1, 'paper': 1, 'hypothesise': 1, 'compartmentalization': 1, 'explain': 1, 'dynamically': 1, 'combination': 1, 'colloidal': 1, 'particles.conclusioni': 1, 'demonstrate': 1, 'satisfy': 1, 'prediction': 1, 'hypothesis': 1, 'discus': 1, 'implication': 1})\n",
            "99.71% 확률로 비연구 논문입니다.\n",
            "training vocab count 29 Counter({'gene': 3, 'cell': 3, 'regulate': 2, 'expression': 2, 'type': 2, 'host': 2, 'micrornas': 1, 'play': 1, 'critical': 1, 'role': 1, 'microrna': 1, 'profile': 1, 'particular': 1, 'bear': 1, 'signature': 1, 'specific': 1, 'give': 1, 'viral': 1, 'pathogen': 1, 'replicate': 1, 'evade': 1, 'defense': 1, 'research': 1, 'focus': 1, 'mirna-regulated': 1, 'critically': 1, 'hiv-1': 1, 'propagation': 1, 'human': 1})\n",
            "99.98% 확률로 비연구 논문입니다.\n",
            "training vocab count 81 Counter({'infant': 5, 'igg': 4, 'antibody': 3, 'present': 3, 'clinical': 3, 'may': 2, 'maternal': 2, 'igm': 2, 'blood': 2, 'jaundice': 2, 'haemolytic': 2, 'anaemia': 2, 'peripheral': 2, 'smear': 2, 'vivax': 2, 'mother': 2, 'level': 2, 'immunoglobulin': 2, 'low': 2, 'malaria': 2, 'backgroundmalaria': 1, 'first': 1, 'month': 1, 'life': 1, 'due': 1, 'transplacental': 1, 'transfer': 1, 'parasitized': 1, 'erythrocyte': 1, 'although': 1, 'antimalarial': 1, 'detect': 1, 'these': 1, 'delay': 1, 'modify': 1, 'onset': 1, 'manifestations.case': 1, 'presentationan': 1, 'describe': 1, 'irritability': 1, 'feed': 1, 'problem': 1, 'examination': 1, 'investigation': 1, 'reveal': 1, 'afebrile': 1, 'hepatosplenomegaly': 1, 'demonstrate': 1, 'plasmodium': 1, 'while': 1, 'significant': 1, 'find': 1, 'negative': 1, 'the': 1, 'history': 1, 'febrile': 1, 'illness': 1, 'pregnancy': 1, 'also': 1, 'positive': 1, 'both': 1, 'successfully': 1, 'treat': 1, 'chloroquine': 1, 'dose': 1, 'mg/kg/day': 1, 'three': 1, 'days.conclusionthe': 1, 'case': 1, 'emphasize': 1, 'importance': 1, 'consider': 1, 'diagnosis': 1, 'even': 1, 'transmission': 1, 'area': 1, 'typical': 1, 'symptom': 1, 'fever': 1, 'manifestation': 1, 'like': 1})\n",
            "99.99% 확률로 비연구 논문입니다.\n",
            "training vocab count 46 Counter({'lead': 4, 'african': 3, 'south': 2, 'child': 2, 'backgroundsurveys': 1, 'undertake': 1, 'africa': 1, 'show': 1, 'large': 1, 'proportion': 1, 'expose': 1, 'variety': 1, 'sources.objectivesthe': 1, 'overall': 1, 'objective': 1, 'work': 1, 'examine': 1, 'series': 1, 'small-scale': 1, 'investigation': 1, 'role': 1, 'lead-based': 1, 'paint': 1, 'blood': 1, 'distribution': 1, 'children.discussionwe': 1, 'suggest': 1, 'public': 1, 'health': 1, 'community': 1, 'strengthen': 1, 'effort': 1, 'prevent': 1, 'poison': 1, 'holistic': 1, 'approach': 1, 'include': 1, 'promulgation': 1, 'enforcement': 1, 'appropriate': 1, 'legislation': 1, 'well': 1, 'research': 1, 'identify': 1, 'source': 1, 'exposure': 1})\n",
            "100.00% 확률로 비연구 논문입니다.\n",
            "training vocab count 99 Counter({'may': 4, 'methylmercury': 4, 'study': 4, 'exposure': 4, 'bias': 4, 'result': 4, 'effect': 4, 'seafood': 3, 'provide': 3, 'nutrient': 3, 'unadjusted': 3, 'imprecision': 3, 'toxic': 2, 'therefore': 2, 'dietary': 2, 'benefit': 2, 'mercury': 2, 'confound': 2, 'explore': 2, 'extent': 2, 'fish': 2, 'increase': 2, 'compare': 2, 'the': 2, 'likely': 2, 'backgroundfish': 1, 'important': 1, 'also': 1, 'contain': 1, 'contaminant': 1, 'advisory': 1, 'pollutant': 1, 'conflict': 1, 'recommendation': 1, 'resolve': 1, 'conundrum': 1, 'epidemiologic': 1, 'little': 1, 'guidance': 1, 'address': 1, 'either': 1, 'toxicity': 1, 'both.objectivesimpact': 1, 'health': 1, 'outcome': 1, 'two': 1, 'originate': 1, 'food': 1, 'source': 1, 'classical': 1, 'example': 1, 'apply': 1, 'structural': 1, 'equation': 1, 'model': 1, 'data': 1, 'prospective': 1, 'developmental': 1, 'neurotoxicity': 1, 'faroe': 1, 'islands.resultsadjustment': 1, 'confer': 1, 'maternal': 1, 'intake': 1, 'pregnancy': 1, 'prenatal': 1, 'questionnaire': 1, 'response': 1, 'imprecise': 1, 'proxy': 1, 'transfer': 1, 'fetus': 1, 'confounder-adjusted': 1, 'estimate': 1, 'magnitude': 1, 'sensitivity': 1, 'analysis': 1, 'assume': 1, 'range': 1, 'error': 1, 'variance': 1, 'realistic': 1, 'level': 1, 'mercury-associated': 1, 'deficit': 1, '2-fold': 1, 'effects.conclusionsthese': 1, 'suggest': 1, 'uncontrolled': 1, 'beneficial': 1, 'parameter': 1, 'confounder': 1, 'cause': 1, 'substantial': 1, 'underestimation': 1, 'adverse': 1, 'underestimate': 1, 'observational': 1, 'dependent': 1})\n",
            "99.99% 확률로 비연구 논문입니다.\n",
            "training vocab count 85 Counter({'lt-b': 9, 'maize': 5, 'mouse': 5, 'feed': 5, 'transgenic': 4, 'high': 4, 'immune': 4, 'response': 4, 'dose': 3, 'specific': 3, 'serum': 3, 'prim': 3, 'antibody': 3, 'demonstrate': 3, 'animal': 2, 'define': 2, 'nonimmunogenic': 2, 'level': 2, 'orally': 2, 'administer': 2, 'result': 2, 'igg': 2, 'iga': 2, 'analyze': 2, 'lt-b–specific': 2, '0.002': 2, 'backgroundtransgenic': 1, 'produce': 1, 'nontoxic': 1, 'subunit': 1, 'escherichia': 1, 'coli': 1, 'heat-labile': 1, 'toxin': 1, 'seed': 1, 'prove': 1, 'effective': 1, 'oral': 1, 'immunogen': 1, 'currently': 1, 'considerable': 1, 'concern': 1, 'accidental': 1, 'consumption': 1, 'express': 1, 'human': 1, 'domestic': 1, 'yet': 1, 'ingested.objectivesour': 1, 'goal': 1, 'study': 1, 'determine': 1, 'measurable': 1, 'mucosal': 1, 'significantly': 1, 'great': 1, 'background': 1, 'three': 1, '0.0002–20': 1, 'induce': 1, 'intermittent': 1, 'feeding.methodswe': 1, 'pellet': 1, 'day': 1, 'collect': 1, 'fecal': 1, 'sample': 1, 'weekly': 1, 'feces': 1, 'iga.resultswe': 1, 'observe': 1, 'dose-dependent': 1, 'anti-lt-b': 1, 'concentration': 1, 'group': 1, '0.2': 1, '0.02': 1, '62.5': 1, 'show': 1, 'increase': 1, 'indicate': 1, 'tested.conclusionour': 1, 'derive': 1, 'immunogenic': 1, 'nanogram': 1})\n",
            "97.29% 확률로 비연구 논문입니다.\n",
            "training vocab count 119 Counter({'prg': 7, 'infant': 7, 'exposure': 6, 'nurse': 5, 'oswer': 4, 'rfd': 4, 'μg/l': 3, 'rsc': 3, 'perchlorate': 3, 'data': 3, 'thyroid': 2, 'goal': 2, 'pregnant': 2, 'woman': 2, 'this': 2, 'use': 2, 'analysis': 2, 'keep': 2, 'suggest': 2, 'cdc': 2, 'backgroundperchlorate': 1, 'common': 1, 'contaminant': 1, 'drink': 1, 'water': 1, 'food': 1, 'compete': 1, 'iodide': 1, 'uptake': 1, 'thus': 1, 'interfere': 1, 'hormone': 1, 'production': 1, 'the': 1, 'u.s.': 1, 'environmental': 1, 'protection': 1, 'agency': 1, 'office': 1, 'solid': 1, 'waste': 1, 'emergency': 1, 'response': 1, 'set': 1, 'groundwater': 1, 'preliminary': 1, 'remediation': 1, '24.5': 1, 'prevent': 1, 'would': 1, 'affect': 1, 'fetus': 1, 'account': 1, 'great': 1, 'possible': 1, 'relative': 1, 'source': 1, 'contribution': 1, 'factor': 1, 'normally': 1, 'low': 1, 'due': 1, 'nonwater': 1, 'exposures.objectivesour': 1, 'ass': 1, 'whether': 1, 'protect': 1, 'breast-feeding': 1, 'evaluate': 1, 'rsc.methodswe': 1, 'monte': 1, 'carlo': 1, 'simulate': 1, 'associate': 1, 'combine': 1, 'background': 1, 'perchlorate.resultsthe': 1, 'lead': 1, '7-fold': 1, 'increase': 1, 'breast': 1, 'milk': 1, 'concentration': 1, 'cause': 1, 'exceed': 1, 'reference': 1, 'dose': 1, 'average': 1, 'exceedance': 1, '2.8-fold': 1, 'drinking-water': 1, 'must': 1, '6.9': 1, 'median': 1, '1.3': 1, '90th-percentile': 1, '3.6-': 1, '19-fold': 1, 'biomonitoring': 1, '0.7': 1, '0.2': 1, 'recent': 1, 'center': 1, 'disease': 1, 'control': 1, 'prevention': 1, 'need': 1, 'reevaluate': 1, 'hormonal': 1, 'effect': 1, 'general': 1, 'population.conclusionsthe': 1, 'improve': 1, 'consider': 1, 'incorporate': 1, 'responsive': 1, 'change': 1, 'result': 1, 'new': 1})\n",
            "100.00% 확률로 비연구 논문입니다.\n",
            "training vocab count 104 Counter({'exposure': 8, 'child': 7, '2,4-d': 6, 'application': 6, 'day': 5, 'family': 4, 'urine': 4, 'g/l': 4, 'year': 4, 'age': 4, 'systemic': 3, 'dose': 3, 'member': 3, 'applicator': 3, 'concentration': 3, 'spouse': 3, 'estimate': 2, 'farm': 2, '24-hr': 2, 'predictor': 2, 'use': 2, 'the': 2, '4–11': 2, 'primarily': 2, 'contact': 2, 'process': 2, 'number': 2, 'acre': 2, 'treat': 2, 'objectivewe': 1, '2,4-dichlorophenoxyacetic': 1, 'acid': 1, 'follow': 1, 'farm.methodsfarm': 1, 'recruit': 1, 'license': 1, 'minnesota': 1, 'south': 1, 'carolina': 1, 'eligible': 1, 'collect': 1, 'five': 1, 'interval': 1, 'profile': 1, 'characterize': 1, 'relate': 1, 'potential': 1, 'collection': 1, 'third': 1, 'application.resultsmedian': 1, 'baseline': 1, '2.1': 1, '73.1': 1, 'limit': 1, 'detection': 1, '1.2': 1, '1.5': 1, '2.9': 1, 'young': 1, 'high': 1, 'median': 1, 'post-application': 1, 'old': 1, '6.5': 1, 'vs.': 1, '1.9': 1, 'geometric': 1, 'mean': 1, 'microgram': 1, 'per': 1, 'kilogram': 1, 'body': 1, 'weight': 1, '2.46': 1, '0.8': 1, '0.22': 1, '0.32': 1, '0.12': 1, 'determine': 1, 'direct': 1, 'multivariate': 1, 'model': 1, 'identify': 1, 'glove': 1, 'repair': 1, 'equipment': 1, 'applicators.conclusionswe': 1, 'observe': 1, 'considerable': 1, 'heterogeneity': 1, 'among': 1, 'attributable': 1, 'level': 1, 'awareness': 1, 'variability': 1, 'actual': 1, 'magnitude': 1, 'important': 1, 'develop': 1, 'risk': 1, 'characterization': 1, '2,4-d–exposed': 1, 'agricultural': 1, 'population': 1})\n",
            "100.00% 확률로 비연구 논문입니다.\n",
            "training vocab count 80 Counter({'imprint': 8, 'mammal': 6, 'marsupial': 5, 'peg10': 5, 'eutherian': 4, 'genomic': 4, 'gene': 3, 'origin': 3, 'therian': 3, 'region': 3, 'dmr': 3, 'tammar': 2, 'mechanism': 2, 'first': 2, 'dmr-associated': 2, 'dna': 2, 'among': 1, 'viviparous': 1, 'lead': 1, 'parent-of-origin-specific': 1, 'differential': 1, 'expression': 1, 'use': 1, 'comparative': 1, 'analysis': 1, 'investigate': 1, 'paternally': 1, 'express': 1, 'retrotransposon-derived': 1, 'essential': 1, 'role': 1, 'formation': 1, 'placenta': 1, 'mouse': 1, 'here': 1, 'show': 1, 'orthologue': 1, 'exist': 1, 'another': 1, 'wallaby': 1, 'macropus': 1, 'eugenii': 1, 'prototherian': 1, 'egg-laying': 1, 'platypus': 1, 'ornithorhynchus': 1, 'anatinus': 1, 'suggest': 1, 'close': 1, 'relationship': 1, 'placentation': 1, 'discover': 1, 'hitherto': 1, 'miss': 1, 'link': 1, 'example': 1, 'differentially': 1, 'methylated': 1, 'associate': 1, 'surprisingly': 1, 'strictly': 1, 'limit': 1, 'unlike': 1, 'cover': 1, 'promoter': 1, 'adjacent': 1, 'sgce': 1, 'these': 1, 'result': 1, 'demonstrate': 1, 'common': 1, 'provide': 1, 'demonstration': 1, 'originate': 1, 'repression': 1, 'exogenous': 1, 'sequence': 1, 'and/or': 1, 'retrotransposons': 1, 'methylation': 1})\n",
            "100.00% 확률로 비연구 논문입니다.\n",
            "training vocab count 83 Counter({'ic50': 5, 'vitro': 4, 'effect': 4, 'chloroquine': 4, 'study': 3, 'gas': 3, 'mixture': 3, 'isotopic': 3, 'plasmodium': 2, 'falciparum': 2, 'concentration': 2, 'isolate': 2, 'use': 2, 'microtest': 2, 'the': 2, 'blood': 2, '3d7': 2, 'clone': 2, 'observe': 2, '100': 2, 'assay': 2, 'objectivethe': 1, 'main': 1, 'objective': 1, 'ass': 1, 'influence': 1, 'growth': 1, 'inhibitory': 1, 'chloroquine.methodsthe': 1, 'perform': 1, 'february': 1, '2004': 1, 'december': 1, '2005': 1, '136': 1, 'evaluate': 1, 'oxygen': 1, 'asexual': 1, 'cycle': 1, 'determine': 1, 'thin': 1, 'smear': 1, 'examination': 1, 'tritiated': 1, 'hypoxanthine': 1, 'uptake.resultsfrom': 1, 'condition': 1, 'parasiticide': 1, 'parasitostatic': 1, 'exposure': 1, 'mature': 1, 'trophozoïtes': 1, 'schizonts': 1, 'increase': 1, 'length': 1, 'schizogony': 1, 'significantly': 1, 'high': 1, 'mean': 1, '173.5': 1, '121.5': 1, 'respectively': 1, '0.0001': 1, 'particular': 1, 'interest': 1, 'among': 1, 'resistant': 1, 'sensitive': 1, 'o2.conclusionbased': 1, 'result': 1, 'laboratory': 1, 'realize': 1, 'far': 1, 'comparison': 1, 'non-isotopic': 1, 'need': 1, 'establish': 1, 'standardize': 1, 'protocol': 1, 'survey': 1, 'malaria': 1, 'drug': 1, 'resistance': 1})\n",
            "99.71% 확률로 비연구 논문입니다.\n",
            "training vocab count 139 Counter({'vanillin': 12, 'use': 5, 'production': 5, 'ferulic': 5, 'acid': 5, 'cell': 5, 'obtain': 4, 'coli': 4, 'yield': 4, 'condition': 4, 'the': 4, 'high': 4, 'optimization': 3, 'gene': 3, 'rest': 3, 'strain': 3, 'flavour': 2, 'natural': 2, 'extract': 2, 'lead': 2, 'engineer': 2, 'recombinant': 2, 'literature': 2, 'number': 2, 'pseudomonas': 2, 'fluorescens': 2, 'bf13': 2, 'jm109': 2, 'bioconversion': 2, 'response': 2, 'biomass': 2, 'incubation': 2, 'final': 2, 'increase': 2, 'reuse': 2, 'time': 2, 'per': 2, 'culture': 2, 'backgroundvanillin': 1, 'one': 1, 'important': 1, 'aromatic': 1, 'compound': 1, 'food': 1, 'cosmetic': 1, 'industry': 1, 'vanilla': 1, 'bean': 1, 'relatively': 1, 'expensive': 1, 'moreover': 1, 'consumer': 1, 'demand': 1, 'highly': 1, 'exceed': 1, 'amount': 1, 'plant': 1, 'source': 1, 'this': 1, 'investigation': 1, 'rout': 1, 'biotechnological': 1, 'study': 1, 'concern': 1, 'escherichia': 1, 'biocatalyst': 1, 'describe': 1, 'biotransformation': 1, 'investigate': 1, 'details.resultseffect': 1, 'plasmid': 1, 'copy': 1, 'metabolic': 1, 'synthesis': 1, 'evaluate': 1, 'encode': 1, 'feruloyl-coa': 1, 'synthetase': 1, 'feruloyl': 1, 'hydratase/aldolase': 1, 'harbour': 1, 'low-copy': 1, 'vector': 1, 'promoter': 1, 'exhibit': 1, 'low': 1, 'activity': 1, 'drive': 1, 'expression': 1, 'catabolic': 1, 'accomplish': 1, 'surface': 1, 'methodology': 1, 'experimental': 1, 'allow': 1, 'value': 1, 'function': 1, '3.3': 1, '4.5': 1, 'g/l': 1, '70.6': 1, 'specific': 1, 'productivity': 1, '5.9': 1, 'μmoles/g': 1, 'min': 1, 'hour': 1, 'concentration': 1, 'medium': 1, '3.5': 1, '6-hour': 1, 'sequential': 1, 'spike': 1, '1.1': 1, 'could': 1, 'four': 1, 'maintain': 1, 'level': 1, 'thus': 1, 'three': 1, 'gram': 1, 'biomass.conclusionferulic': 1, 'efficiently': 1, 'convert': 1, 'without': 1, 'accumulation': 1, 'undesirable': 1, 'reduction/oxidation': 1, 'product': 1, 'express': 1, 'acid-degrader': 1, 'parameter': 1, 'together': 1, '2.52': 1, 'liter': 1, 'find': 1, 'achieve': 1, 'far': 1, 'apply': 1})\n",
            "97.57% 확률로 비연구 논문입니다.\n",
            "training vocab count 124 Counter({'method': 12, 'protein': 10, 'region': 9, 'prediction': 7, 'sequence': 7, 'propose': 6, 'representation': 6, 'structure': 5, 'flexible/rigid': 5, 'flexrp': 5, 'the': 5, 'accuracy': 5, 'high': 5, 'base': 4, 'feature': 4, 'machine': 3, 'provide': 3, 'svm': 3, 'naïve': 3, 'bay': 3, 'show': 3, 'sensitivity': 3, 'change': 2, 'structural': 2, 'learn': 2, 'selection': 2, 'process': 2, 'dataset': 2, 'experimental': 2, 'use': 2, 'vector': 2, 'k-spaced': 2, 'amino': 2, 'acid': 2, 'pair': 2, 'two': 2, 'apply': 2, 'obtain': 2, 'flexible': 2, 'rigid': 2, 'achieve': 2, 'backgroundtraditionally': 1, 'believe': 1, 'native': 1, 'correspond': 1, 'global': 1, 'minimum': 1, 'free': 1, 'energy': 1, 'however': 1, 'grow': 1, 'number': 1, 'know': 1, 'tertiary': 1, 'researcher': 1, 'discover': 1, 'alter': 1, 'response': 1, 'surround': 1, 'help': 1, 'ligand': 1, 'such': 1, 'shift': 1, 'play': 1, 'crucial': 1, 'role': 1, 'respect': 1, 'function': 1, 'end': 1, 'refer': 1, 'novel': 1, 'knowledge': 1, 'may': 1, 'insight': 1, 'fold': 1, 'prediction.resultsthe': 1, 'define': 1, 'include': 1, 'multiple': 1, 'previously': 1, 'study': 1, 'conservation': 1, 'draw': 1, 'represent': 1, 'set': 1, 'prior': 1, 'research': 1, 'psi-blast': 1, 'profile': 1, 'composition': 1, 'binary': 1, 'encode': 1, 'newly': 1, 'frequency': 1, 'these': 1, 'reduce': 1, 'dimensionality': 1, 'several': 1, 'recently': 1, 'conformational': 1, 'unstructured': 1, 'compare': 1, 'logistic': 1, 'regression': 1, 'collocation-based': 1, '79.5': 1, 'runner-up': 1, 'support': 1, 'classifier': 1, '79.2': 1, '78.4': 1, 'respectively': 1, 'remain': 1, 'consider': 1, 'characterize': 1, 'finally': 1, 'give': 1, 'regions.conclusiona': 1, 'new': 1, 'efficient': 1, 'test': 1, 'overall': 1, 'best': 1, 'quality': 1})\n",
            "100.00% 확률로 비연구 논문입니다.\n",
            "training vocab count 21 Counter({'health': 2, 'use': 1, 'example': 1, 'two': 1, 'country': 1, 'mozambique': 1, 'malawi': 1, 'fight': 1, 'full-blown': 1, 'hiv': 1, 'epidemic': 1, 'fragile': 1, 'system': 1, 'author': 1, 'discus': 1, 'crucial': 1, 'role': 1, 'global': 1, 'fund': 1, 'support': 1, 'workforce': 1})\n",
            "100.00% 확률로 비연구 논문입니다.\n",
            "training vocab count 161 Counter({'specie': 9, 'genetic': 8, 'mediterranean': 7, 'distribution': 6, 'pattern': 6, 'glacial': 4, 'biogeographical': 4, 'centre': 4, 'peninsula': 4, 'alp': 4, 'understand': 3, 'molecular': 3, 'three': 3, 'major': 3, 'alpine': 3, 'and/or': 3, 'arctic': 3, 'different': 3, 'postglacial': 3, 'expansion': 3, 'support': 3, 'use': 2, 'europe': 2, 'continental': 2, 'extra-mediterranean': 2, 'these': 2, 'lineage': 2, 'due': 2, 'group': 2, 'mostly': 2, 'pyrenees': 2, 'case': 2, 'one': 2, 'within': 2, 'structure': 2, 'strong': 2, 'several': 2, 'furthermore': 2, 'diversity': 2, 'the': 1, 'climatic': 1, 'cycle': 1, 'subsequent': 1, 'intergalcial': 1, 'period': 1, 'great': 1, 'impact': 1, 'evolution': 1, 'analytical': 1, 'tool': 1, 'considerably': 1, 'increase': 1, 'process': 1, 'review': 1, 'therefore': 1, 'give': 1, 'overview': 1, 'biogeography': 1, 'for': 1, 'mean': 1, 'simplification': 1, 'distinguish': 1, 'entity': 1, 'differentiation': 1, 'dispersal': 1, 'iii': 1, 'recent': 1, 'present': 1, 'actual': 1, 'examples.many': 1, 'differentiate': 1, 'european': 1, 'isolation': 1, 'influence': 1, 'barrier': 1, 'four': 1, 'result': 1, 'main': 1, 'range': 1, 'however': 1, 'know': 1, 'le': 1, 'per': 1, 'hand': 1, 'others': 1, 'considerable': 1, 'substructure': 1, 'asia': 1, 'minor': 1, 'maghreb': 1, 'sub-centres': 1, 'often': 1, 'rather': 1, 'even': 1, 'predate': 1, 'pleistocene.for': 1, 'could': 1, 'show': 1, 'formerly': 1, 'suppose': 1, 'spread': 1, 'eastern': 1, 'palearctic': 1, 'applicable': 1, 'quite': 1, 'contrary': 1, 'apparently': 1, 'survival': 1, 'special': 1, 'importance': 1, 'perialpine': 1, 'region': 1, 'carpathian': 1, 'basin': 1, 'part': 1, 'balkan': 1, 'find': 1, 'improve': 1, 'postulate': 1, 'base': 1, 'pollen': 1, 'record': 1, 'thus': 1, 'study': 1, 'linkage': 1, 'southwestern': 1, 'northeastern': 1, 'carpathians': 1, 'well': 1, 'southeastern': 1, 'dinaric': 1, 'mountain': 1, 'system': 1, 'hereby': 1, 'allow': 1, 'conclusion': 1, 'analyse': 1, 'arctic-alpine': 1, 'disjunct': 1, 'broad': 1, 'periglacial': 1, 'area': 1, 'least': 1, 'last': 1, 'period.the': 1, 'detail': 1, 'phylogeographical': 1, 'essential': 1, 'management': 1, 'evolutionary': 1, 'significant': 1, 'unit': 1, 'conservation': 1, 'entire': 1, 'reason': 1, 'help': 1, 'differ': 1, 'regional': 1, 'vulnerability': 1, 'extant': 1, 'population': 1})\n",
            "100.00% 확률로 비연구 논문입니다.\n",
            "training vocab count 132 Counter({'domain': 6, 'artemia': 4, 'two': 4, 'model': 4, 'interpolymer': 4, 'helix': 4, 'different': 3, 'haemoglobin': 3, 'subunit': 3, 'hbii': 3, 'this': 3, 'mass': 3, 'spectrometry': 3, 'contact': 3, 'four': 2, 'three': 2, 'computational': 2, 'polymer': 2, 'ring': 2, 'show': 2, 'interface': 2, 'use': 2, 'analysis': 2, 'result': 2, 'identify': 2, 'crosslinked': 2, 'early': 2, 'propose': 2, 'ef-contact': 2, 'allow': 2, 'cooperative': 2, 'backgroundthe': 1, 'brine': 1, 'shrimp': 1, 'express': 1, 'type': 1, 'namely': 1, 'dimerize': 1, 'combination': 1, 'produce': 1, 'isoforms': 1, 'heterodimeric': 1, 'hbi': 1, 'hbiii': 1, 'previous': 1, 'biochemical': 1, 'biophysical': 1, 'analyse': 1, 'demonstrate': 1, 'nine': 1, 'concatenate': 1, 'globin': 1, 'covalently': 1, 'join': 1, 'interdomain': 1, 'linkers': 1, 'stack': 1, 'coaxially': 1, 'give': 1, 'functional': 1, 'molecule': 1, 'research': 1, 'aim': 1, 'construct': 1, 'quaternary': 1, 'structural': 1, 'domain-domain': 1, 'alignment': 1, 'ms3d': 1, 'dimensional': 1, 'approach': 1, 'involve': 1, 'introduce': 1, 'chemical': 1, 'crosslinks': 1, 'cleave': 1, 'trypsin': 1, 'analyze': 1, 'product': 1, 'follow': 1, 'data': 1, 'program': 1, 'searchxlinks': 1, 'putatively': 1, 'peptides.resultssix': 1, 'putative': 1, 'egs': 1, 'ethylene': 1, 'glycol': 1, 'bi': 1, 'succinimidylsuccinate': 1, 'tryptic': 1, 'peptide': 1, 'all': 1, 'support': 1, 'along': 1, 'surface': 1, 't-polymer': 1, 'align': 1, 'c-polymer': 1, 'any': 1, 'adjacent': 1, 'pair': 1, 'the': 1, 'orientation': 1, 'previously': 1, 'group': 1, 'crosslinking': 1, 'gmbs': 1, 'γ-maleimidobutyryloxy': 1, 'succinimide': 1, 'ester': 1, 'also': 1, 'perform': 1, 'good': 1, 'agreement': 1, 'model.conclusionthe': 1, 'hydrophobic': 1, 'bury': 1, 'therefore': 1, 'complex': 1, 'solubilize': 1, 'readily': 1, 'facilitate': 1, 'efficient': 1, 'oxygen': 1, 'transport': 1, 'furthermore': 1, 'common': 1, 'thus': 1, 'consistent': 1, 'behaviour': 1})\n",
            "100.00% 확률로 비연구 논문입니다.\n",
            "training vocab count 124 Counter({'control': 7, 'growth': 6, 'study': 6, 'cell': 6, 'metabolic': 5, 'eukaryotic': 4, 'flux': 4, 'gene': 4, 'regulation': 3, 'comprehensive': 3, 'level': 3, 'system': 3, 'biology': 3, 'rate': 3, 'growth-rate': 3, 'many': 2, 'condition': 2, 'yeast': 2, 'significantly': 2, 'increase': 2, 'essential': 2, 'encode': 2, 'protein': 2, 'backgroundcell': 1, 'underlie': 1, 'key': 1, 'cellular': 1, 'developmental': 1, 'process': 1, 'yet': 1, 'limit': 1, 'number': 1, 'carry': 1, 'cell-growth': 1, 'transcriptional': 1, 'proteomic': 1, 'define': 1, 'currently': 1, 'lacking.resultsmetabolic': 1, 'analysis': 1, 'exploit': 1, 'use': 1, 'chemostat': 1, 'culture': 1, 'measure': 1, 'impact': 1, 'change': 1, 'transcriptome': 1, 'proteome': 1, 'endometabolome': 1, 'exometabolome': 1, 'saccharomyces': 1, 'cerevisiae': 1, 'each': 1, 'functional': 1, 'genomic': 1, 'show': 1, 'clear': 1, 'growth-rate-associated': 1, 'trend': 1, 'discriminate': 1, 'carbon-sufficient': 1, 'carbon-limited': 1, 'consistently': 1, 'upregulated': 1, 'frequently': 1, 'evolutionarily': 1, 'conserve': 1, 'know': 1, 'function': 1, 'participate': 1, 'protein-protein': 1, 'interaction': 1, 'contrast': 1, 'unknown': 1, 'few': 1, 'downregulated': 1, 'product': 1, 'rarely': 1, 'interact': 1, 'one': 1, 'another': 1, 'large': 1, 'proportion': 1, 'positive': 1, 'share': 1, 'orthologs': 1, 'eukaryote': 1, 'include': 1, 'human': 1, 'transcription': 1, 'component': 1, 'tor': 1, 'complex': 1, 'major': 1, 'controller': 1, 'subject': 1, 'moreover': 1, 'integrative': 1, 'reveal': 1, 'extent': 1, 'importance': 1, 'post-transcriptional': 1, 'pattern': 1, 'enzyme': 1, 'synthesis': 1, 'relevance': 1, 'specific': 1, 'enzymatic': 1, 'reaction': 1, 'growth.conclusionthis': 1, 'work': 1, 'constitute': 1, 'first': 1, 'the': 1, 'result': 1, 'direct': 1, 'implication': 1, 'advance': 1, 'vivo': 1, 'engineer': 1, 'design': 1, 'genome-scale': 1, 'model': 1})\n",
            "89.03% 확률로 비연구 논문입니다.\n",
            "training vocab count 110 Counter({'axis': 8, 'early': 4, 'amniote': 4, 'the': 3, 'establishment': 3, 'polarity': 3, 'specification': 3, 'pattern': 3, 'vertebrate': 3, 'amphibian': 3, 'teleost': 3, 'dorso-ventral': 3, 'blastula': 3, 'stag': 3, 'extraembryonic': 3, 'link': 2, 'embryonic': 2, 'site': 2, 'formation': 2, 'rostro-caudal': 2, 'clear': 2, 'analyse': 2, 'dogfish': 2, 'ancestral': 2, 'ectoderm': 2, 'symmetry': 2, 'late': 2, 'result': 2, 'model': 2, 'genetic': 1, 'mechanism': 1, 'control': 1, 'seem': 1, 'substantially': 1, 'diverge': 1, 'across': 1, 'determine': 1, 'orientation': 1, 'contrast': 1, 'retain': 1, 'considerable': 1, 'plasticity': 1, 'rely': 1, 'signal': 1, 'secrete': 1, 'tissue': 1, 'equivalent': 1, 'former': 1, 'rationale': 1, 'difference': 1, 'remain': 1, 'unknown': 1, 'through': 1, 'detail': 1, 'expression': 1, 'key': 1, 'development': 1, 'gene': 1, 'chondrichthyan': 1, 'scyliorhinus': 1, 'canicula': 1, 'reconstruct': 1, 'jaw': 1, 'show': 1, 'display': 1, 'compel': 1, 'similarity': 1, 'gastrula': 1, 'include': 1, 'presence': 1, 'homologs': 1, 'hypoblast': 1, 'state': 1, 'territory': 1, 'specify': 1, 'opposite': 1, 'pole': 1, 'bilateral': 1, 'homologous': 1, 'align': 1, 'form': 1, 'head': 1, 'tail': 1, 'comparison': 1, 'suggest': 1, 'dorsal': 1, 'expansion': 1, 'apparently': 1, 'radial': 1, 'take': 1, 'place': 1, 'lineage': 1, 'synthesis': 1, 'functional': 1, 'organism': 1, 'support': 1, 'evolutionary': 1, 'embryonic-extraembryonic': 1, 'organisation': 1, 'lead': 1, 'general': 1, 'gnathostome': 1, 'provide': 1, 'comparative': 1, 'framework': 1, 'reassessment': 1, 'conservation': 1, 'among': 1, 'distant': 1, 'metazoan': 1})\n",
            "100.00% 확률로 비연구 논문입니다.\n",
            "training vocab count 132 Counter({'procedure': 5, 'rate': 5, 'convergent': 5, 'evolution': 5, 'change': 4, 'molecular': 4, 'use': 4, 'million': 4, 'year': 4, 'study': 3, 'time': 3, 'placental': 3, 'abrupt': 3, 'root': 3, 'estimate': 3, 'result': 3, 'divergence': 2, 'paleontological': 2, 'data': 2, 'estimation': 2, 'correct': 2, 'mv': 2, 'account': 2, 'current': 2, 'method': 2, 'the': 2, 'mammal': 2, 'length': 2, 'ago': 2, 'morphological': 2, 'provide': 2, 'backgroundmolecular': 1, 'report': 1, 'modern': 1, 'order': 1, 'long': 1, 'cretaceous–tertiary': 1, 'boundary': 1, 'far': 1, 'old': 1, 'however': 1, 'discrepancy': 1, 'may': 1, 'real': 1, 'rather': 1, 'appear': 1, 'violation': 1, 'implicit': 1, 'assumption': 1, 'non-gradual': 1, 'evolutionary': 1, 'failure': 1, 'evolution.methodology/principal': 1, 'findingsnew': 1, 'divergence-time': 1, 'robust': 1, 'describe': 1, 'variant': 1, 'multidimensional': 1, 'vector': 1, 'space': 1, 'take': 1, 'possible': 1, 'numerical': 1, 'simulation': 1, 'show': 1, 'good': 1, 'performance': 1, 'new': 1, 'contrast': 1, 'application': 1, 'complete': 1, 'mitochondrial': 1, 'genome': 1, 'identify': 1, 'mark': 1, 'acceleration': 1, 'deceleration': 1, 'obtain': 1, '∼18': 1, 'recent': 1, 'assume': 1, 'log': 1, 'brownian': 1, 'motion': 1, 'model': 1, 'pairwise': 1, 'distance': 1, 'lower': 1, 'age': 1, 'another': 1, 'compare': 1, 'standard': 1, 'maximum': 1, 'likelihood': 1, 'tree': 1, 'branch': 1, 'these': 1, 'two': 1, 'combine': 1, 'revise': 1, 'around': 1, '122': 1, 'close': 1, 'distribution': 1, 'broadly': 1, 'consistent': 1, 'quantitative': 1, 'analysis': 1, 'north': 1, 'american': 1, 'fossil': 1, 'record': 1, 'traditional': 1, 'views.conclusions/significanceby': 1, 'include': 1, 'dual': 1, 'effect': 1, 'directly': 1, 'level': 1, 'congruence': 1, 'analyse': 1, 'expectation': 1, 'program': 1, 'develop': 1, 'along': 1, 'sample': 1, 'reproduce': 1, 'especially': 1, 'applicable': 1, 'genome-scale': 1, 'sequence': 1})\n",
            "100.00% 확률로 비연구 논문입니다.\n",
            "training vocab count 94 Counter({'overlap': 4, 'sulston': 3, 'score': 3, 'clone': 3, 'probability': 3, 'parameter': 3, 'improve': 3, 'fingerprint': 2, 'map': 2, 'order': 2, 'also': 2, 'comparison': 2, 'compute': 2, 'use': 2, 'provide': 2, 'accuracy': 2, 'correction': 2, 'range': 2, 'backgroundthe': 1, 'well-established': 1, 'though': 1, 'approximate': 1, 'metric': 1, 'probabilistically': 1, 'evaluate': 1, 'postulate': 1, 'dna': 1, 'know': 1, 'systematically': 1, 'over-predict': 1, 'match': 1, 'various': 1, 'magnitude': 1, 'depend': 1, 'upon': 1, 'project-specific': 1, 'although': 1, 'exact': 1, 'distribution': 1, 'available': 1, 'problem': 1, 'rather': 1, 'difficult': 1, 'directly': 1, 'case': 1, 'methodology': 1, 'computational': 1, 'economy': 1, 'required.resultswe': 1, 'propose': 1, 'straightforward': 1, 'algebraic': 1, 'procedure': 1, 'take': 1, 'provisional': 1, 'value': 1, 'apply': 1, 'power-law': 1, 'equation': 1, 'obtain': 1, 'result': 1, 'numerical': 1, 'indicate': 1, 'dramatically': 1, 'increase': 1, 'typical': 1, 'traditional': 1, 'agarose': 1, 'issue': 1, 'extrapolate': 1, 'method': 1, 'characteristic': 1, 'new': 1, 'capillary': 1, 'electrophoresis-based': 1, 'project': 1, 'discussed.conclusionalthough': 1, 'marginally': 1, 'expensive': 1, 'raw': 1, 'vastly': 1, 'probabilistic': 1, 'description': 1, 'hypothesize': 1, 'this': 1, 'clearly': 1, 'important': 1, 'assessment': 1, 'perhaps': 1, 'task': 1, 'well': 1, 'example': 1, 'rank': 1, 'assist': 1})\n",
            "100.00% 확률로 비연구 논문입니다.\n",
            "training vocab count 115 Counter({'malaria': 6, 'risk': 5, 'clinical': 5, 'child': 5, 'give': 4, 'the': 3, 'ass': 3, 'sit': 3, 'fever': 3, 'control': 2, 'strategy': 2, 'design': 2, 'whole': 2, 'set': 2, 'transmission': 2, 'one': 2, 'local': 2, 'village': 2, 'among': 2, 'four': 2, 'test': 2, 'parasite': 2, 'episode': 2, 'context': 2, 'backgroundmalaria': 1, 'solution': 1, 'either': 1, 'region': 1, 'country': 1, 'assume': 1, 'suit': 1, 'every': 1, 'there': 1, 'need': 1, 'shift': 1, 'assumption': 1, 'may': 1, 'different': 1, 'another': 1, 'aim': 1, 'study': 1, 'residence': 1, 'under-five': 1, 'rural': 1, 'north-western': 1, 'burkina': 1, 'faso.methods867': 1, '6–59': 1, 'month': 1, 'randomly': 1, 'select': 1, 'interviewer': 1, 'visit': 1, 'weekly': 1, 'home': 1, 'one-year': 1, 'period': 1, 'define': 1, 'axillary': 1, 'temperature': 1, '37.5°c': 1, 'density': 1, '5,000': 1, 'parasites/μl': 1, 'logistic': 1, 'regression': 1, 'use': 1, 'site': 1, 'residence.resultschildren': 1, 'accumulate': 1, '758': 1, 'person': 1, 'year': 1, 'pys': 1, 'overall': 1, '597': 1, 'observe': 1, 'incidence': 1, 'rate': 1, '0.79': 1, 'per': 1, 'vary': 1, 'amongst': 1, 'take': 1, 'reference': 1, 'odds': 1, 'ratio': 1, 'three': 1, 'range': 1, '0.66': 1, '0.44–0.98': 1, '1.49': 1, '1.10–2.01.conclusionmalaria': 1, 'fit': 1, 'heterogeneity': 1, 'district': 1, 'level': 1, 'allow': 1, 'cost-effective': 1, 'resource': 1, 'allocation': 1, 'priority': 1, 'location': 1, 'high': 1, 'functional': 1, 'routine': 1, 'health': 1, 'information': 1, 'system': 1, 'could': 1, 'provide': 1, 'necessary': 1, 'data': 1, 'specific': 1, 'assessment': 1})\n",
            "100.00% 확률로 비연구 논문입니다.\n",
            "training vocab count 124 Counter({'mips': 8, 'mip': 7, 'intrinsic': 5, 'protein': 5, 'maize': 5, 'rice': 5, 'residue': 5, 'helix-helix': 5, 'ar/r': 5, 'transport': 4, 'solute': 4, 'plant': 4, 'arabidopsis': 4, 'structure': 4, 'interface': 4, 'important': 3, 'sequence': 3, 'nip': 3, 'small': 3, 'diversity': 3, 'three': 3, 'selectivity': 3, 'filter': 3, 'member': 3, 'water': 2, 'tip': 2, 'sip': 2, 'hour-glass': 2, 'compare': 2, 'specie': 2, 'analyze': 2, 'find': 2, 'group': 2, 'the': 2, 'aromatic/arginine': 2, 'show': 2, 'constriction': 2, 'could': 2, 'conservation': 2, 'backgroundthe': 1, 'major': 1, 'facilitate': 1, 'neutral': 1, 'across': 1, 'lipid': 1, 'bilayers': 1, 'believe': 1, 'cell': 1, 'division': 1, 'expansion': 1, 'property': 1, 'response': 1, 'environmental': 1, 'condition': 1, 'more': 1, 'identify': 1, 'thaliana': 1, 'plasma': 1, 'membrane': 1, 'pip': 1, 'tonoplast': 1, 'nod26-like': 1, 'basic': 1, 'subfamily': 1, 'despite': 1, 'experimentally': 1, 'determine': 1, 'belong': 1, 'superfamily': 1, 'fold.resultswe': 1, 'structurally': 1, 'characterize': 1, 'homology': 1, 'model': 1, '105': 1, 'build': 1, 'structure-based': 1, 'alignment': 1, 'generate': 1, 'gly/ala/ser/thr': 1, 'highly': 1, 'conserve': 1, 'individual': 1, 'family': 1, 'sometimes': 1, 'prefer': 1, 'one': 1, 'another': 1, 'narrow': 1, 'provide': 1, 'permeability': 1, 'region': 1, 'seventeen': 1, 'signature': 1, 'subgroup': 1, 'four': 1, 'position': 1, 'tetrad': 1, 'result': 1, 'wide': 1, 'these': 1, 'large': 1, 'molecules.conclusionsmall': 1, 'group-conserved': 1, 'seem': 1, 'close': 1, 'interaction': 1, 'such': 1, 'might': 1, 'help': 1, 'preserve': 1, 'fold': 1, 'analysis': 1, 'comparison': 1, 'suggest': 1, 'diverse': 1, 'thus': 1, 'former': 1, 'relate': 1, 'structural': 1, 'stability': 1, 'late': 1, 'link': 1, 'functional': 1})\n",
            "100.00% 확률로 비연구 논문입니다.\n",
            "training vocab count 104 Counter({'belt': 8, 'tension': 8, 'electrode': 5, 'device': 5, 'respiratory': 4, 'function': 4, 'the': 4, 'range': 4, 'apply': 3, 'slide': 3, 'electrocardiogram': 2, 'infant': 2, 'skin': 2, 'use': 2, 'effect': 2, 'describe': 2, 'measure': 2, 'house': 2, 'tab': 2, 'connect': 2, 'normal': 2, 'mechanical': 2, 'voltage': 2, 'monitor': 2, 'backgroundmonitoring': 1, 'ecg': 1, 'premature': 1, 'conventional': 1, 'adhesive-backed': 1, 'harm': 1, 'sensitive': 1, 'prevent': 1, 'irritation': 1, 'pressure': 1, 'unknown': 1, 'strain': 1, 'gauge': 1, 'sensor': 1, 'tension.methodthe': 1, 'frame': 1, 'comprise': 1, 'aluminum': 1, 'minimize': 1, 'weight': 1, 'velcro': 1, 'opposite': 1, 'locate': 1, 'end': 1, 'leaf': 1, 'spring': 1, 'bond': 1, 'two': 1, 'piezoresistive': 1, 'transducer': 1, 'half-bridge': 1, 'circuit': 1, 'configuration': 1, 'test': 1, 'linearity': 1, 'calibrate': 1, 'constant': 1, 'g–90': 1, 'determined.resultsthe': 1, 'response': 1, 'step': 1, 'input': 1, 'second': 1, 'order': 1, '401': 1, '0.08': 1, 'relationship': 1, 'output': 1, 'linear': 1, '25–225': 1, '0.99': 1, 'sensitivity': 1, '2.18': 1, 'mv/gm': 1, 'bridge': 1, 'excitation': 1, 'when': 1, 'increase': 1, 'significant': 1, 'change': 1, 'heart': 1, 'rate': 1, 'intermediate': 1, 'level': 1, 'pulmonary': 1, 'resistance': 1, 'work': 1, 'breathe': 1, 'significantly': 1, 'decreased.conclusionthe': 1, 'electrical': 1, 'design': 1, 'within': 1, 'typical': 1, 'application': 1, 'cardiovascular': 1, 'substantially': 1, 'negatively': 1, 'affect': 1, 'force': 1})\n",
            "99.99% 확률로 비연구 논문입니다.\n",
            "training vocab count 119 Counter({'alignment': 9, 'prediction': 7, 'method': 7, 'constraint': 7, 'structure': 6, 'rna': 5, 'probability': 5, 'dynalign': 5, 'sequence': 4, 'accuracy': 4, 'nucleotide': 4, 'the': 4, 'structural': 3, 'reduce': 3, 'insertion': 3, 'posterior': 3, 'pairwise': 3, 'computational': 3, 'secondary': 2, 'two': 2, 'significantly': 2, 'improve': 2, 'computation': 2, 'pair': 2, 'position': 2, 'these': 2, 'obtain': 2, 'co-incidence': 2, 'program': 2, 'provide': 2, 'save': 2, 'comparison': 2, 'memory': 2, 'average': 2, 'length': 2, 'backgroundjoint': 1, 'address': 1, 'problem': 1, 'however': 1, 'force': 1, 'employ': 1, 'restrict': 1, 'and/or': 1, 'i.e': 1, 'fold': 1, 'permissible': 1, 'paper': 1, 'new': 1, 'methodology': 1, 'present': 1, 'purpose': 1, 'establish': 1, 'base': 1, 'use': 1, 'hide': 1, 'markov': 1, 'model': 1, 'compute': 1, 'possible': 1, 'additively': 1, 'combine': 1, 'suitable': 1, 'thresholding': 1, 'integrate': 1, 'free': 1, 'energy': 1, 'minimization': 1, 'algorithm': 1, 'joint': 1, 'result': 1, 'benchmarked': 1, 'previous': 1, 'version': 1, 'prediction.resultsthe': 1, 'propose': 1, 'technique': 1, 'eliminate': 1, 'manual': 1, 'parameter': 1, 'selection': 1, 'significant': 1, 'time': 1, 'prior': 1, 'simultaneously': 1, 'small': 1, 'improvement': 1, 'also': 1, 'realize': 1, 'experiment': 1, 'dataset': 1, 'approximately': 1, '120': 1, 'factor': 1, 'perform': 1, 'favorably': 1, 'yield': 1, 'good': 1, 'require': 1, 'le': 1, 'resources.conclusionprobabilistic': 1, 'analysis': 1, 'utilize': 1, 'order': 1, 'automate': 1, 'determination': 1, 'principled': 1, 'fashion': 1, 'requirement': 1, 'maintain': 1, 'this': 1, 'extend': 1, 'practical': 1, 'reach': 1, 'long': 1, 'revise': 1, 'code': 1, 'freely': 1, 'available': 1, 'download': 1})\n",
            "100.00% 확률로 비연구 논문입니다.\n",
            "training vocab count 66 Counter({'buia': 4, 'structure': 3, 'conformation': 3, 'ribbon': 3, 'isomer': 3, 'well-defined': 3, 'nicotinic': 2, 'acetylcholine': 2, 'receptor': 2, 'space': 2, 'cysteine': 2, 'α-conotoxins': 2, 'thus': 2, 'study': 2, 'native': 2, 'globular': 2, 'disulfide': 2, 'connectivity': 2, 'display': 2, 'multiple': 2, 'solution': 2, 'activity': 2, 'backgroundα-conotoxins': 1, 'excite': 1, 'therapeutic': 1, 'potential': 1, 'base': 1, 'high': 1, 'selectivity': 1, 'affinity': 1, 'the': 1, 'residue': 1, 'variable': 1, 'lead': 1, 'classification': 1, 'sub-families': 1, 'α-conotoxin': 1, 'contain': 1, '4/4': 1, 'significant': 1, 'interest': 1, 'examine': 1, 'conotoxin.resultsin': 1, 'current': 1, 'show': 1, 'whereas': 1, 'non-native': 1, 'single': 1, 'despite': 1, 'form': 1, 'contrast': 1, 'lack': 1, 'structurally': 1, 'isomer.conclusionthese': 1, 'find': 1, 'opposite': 1, 'general': 1, 'trend': 1, 'observe': 1, 'generally': 1, 'disorder': 1, 'this': 1, 'highlight': 1, 'influence': 1, 'dynamic': 1, 'three-dimensional': 1})\n",
            "100.00% 확률로 비연구 논문입니다.\n",
            "training vocab count 121 Counter({'stec': 8, 'gnd': 8, 'encode': 5, 'o-antigen': 4, 'gene': 4, 'locus': 4, 'o26': 4, 'strain': 4, 'sequence': 4, 'serogroup': 3, 'clinical': 3, 'cluster': 3, 'o157': 3, 'serogroups': 3, 'dna': 3, 'significant': 2, 'isolate': 2, 'determinant': 2, 'unique': 2, 'serogroup-specific': 2, 'comparative': 2, 'analyse': 2, 'additional': 2, 'allele': 2, 'o121': 2, 'o117': 2, 'classification': 1, 'base': 1, 'upon': 1, 'o-somatic': 1, 'antigen': 1, 'shiga': 1, 'toxin-producing': 1, 'escherichia': 1, 'coli': 1, 'provide': 1, 'epidemiological': 1, 'information': 1, 'each': 1, 'present': 1, 'galf': 1, 'chromosomal': 1, 'alternatively': 1, 'polymorphism': 1, 'might': 1, 'outside': 1, 'segment': 1, 'core': 1, 'bacterial': 1, 'mdh': 1, 'gcl': 1, 'ppk': 1, 'meta': 1, 'ftsz': 1, 'rela': 1, 'metg': 1, 'previously': 1, 'distinguish': 1, 'two': 1, 'screen': 1, 'trait': 1, 'within': 1, 'broad': 1, 'range': 1, 'clinically': 1, 'obtain': 1, 'observe': 1, 'examine': 1, 'correlation': 1, 'persist': 1, 'extend': 1, '144': 1, 'o-serogroups': 1, 'comprise': 1, 'h-serotypes': 1, 'these': 1, 'include': 1, 'o103': 1, 'non-motile': 1, 'o145': 1, 'o113': 1, 'h21': 1, 'o111': 1, 'furthermore': 1, 'non-toxin': 1, 'o55': 1, 'distinct': 1, 'compare': 1, '643': 1, 'region': 1, 'therefore': 1, 'sufficient': 1, 'minimally': 1, 'determine': 1, 'molecular': 1, 'mean': 1, 'location': 1, 'next': 1, 'offer': 1, 'support': 1, 'co-inheritance': 1, 'the': 1, 'sequence-based': 1, 'serogrouping': 1, 'method': 1, 'could': 1, 'improve': 1, 'type': 1, 'capability': 1, 'laboratory': 1, 'use': 1, 'successfully': 1, 'characterize': 1, 'h19': 1, 'h11': 1, 'o177': 1, 'prior': 1, 'serological': 1, 'confirmation': 1, 'outbreak': 1, 'investigation': 1})\n",
            "100.00% 확률로 비연구 논문입니다.\n",
            "training vocab count 147 Counter({'group': 11, 'gdp': 6, 'arm': 5, 'oral': 4, 'individualise': 4, 'risk': 4, 'roe': 3, 'interval': 3, 'effectiveness': 3, 'data': 3, 'intervention': 3, 'control': 3, 'use': 3, 'general': 2, 'health': 2, 'patient': 2, 'develop': 2, 'assign': 2, 'recall': 2, 'mandibular': 2, 'impact': 2, 'third': 2, 'molar': 2, 'mim': 2, 'professional': 2, 'study': 2, 'randomise': 2, 'trial': 2, 'the': 2, 'practice': 2, 'peer': 2, 'either': 2, 'act': 2, 'iqual': 2, 'consist': 2, 'meet': 2, 'receive': 2, 'one': 2, 'three': 2, 'assessment': 2, 'appropriateness': 2, 'month': 2, 'backgroundroutine': 1, 'examination': 1, 'refer': 1, 'periodic': 1, 'monitor': 1, 'status': 1, 'western': 1, 'country': 1, 'decrease': 1, 'prevalence': 1, 'disease': 1, 'underpin': 1, 'need': 1, 'approach': 1, 'regular': 1, 'attendee': 1, 'instead': 1, 'systematic': 1, 'fix': 1, 'from': 1, 'quality-of-care': 1, 'perspective': 1, 'widespread': 1, 'prophylactic': 1, 'removal': 1, 'asymptomatic': 1, 'adolescent': 1, 'adult': 1, 'also': 1, 'questionable': 1, 'appropriate': 1, 'tackle': 1, 'problem': 1, 'promote': 1, 'continue': 1, 'development': 1, 'care': 1, 'rare.methods/designthis': 1, 'cluster': 1, 'unit': 1, 'randomisation': 1, 'aim': 1, 'determine': 1, 'efficiency': 1, 'small': 1, 'quality': 1, 'improvement': 1, 'decision-making': 1, 'dental': 1, 'practitioner': 1, 'daily': 1, 'six': 1, \"'iqual-groups\": 1, 'shall': 1, 'allocate': 1, 'eight': 1, 'ten': 1, 'monthly': 1, 'structure': 1, 'session': 1, 'schedule': 1, 'discussion': 1, 'practice-related': 1, 'topic': 1, 'recently': 1, 'evidence-based': 1, 'clinical': 1, 'guideline': 1, 'cpg': 1, 'implementation': 1, 'strategy': 1, 'interactive': 1, 'two': 1, 'hour': 1, 'addition': 1, 'feedback': 1, 'personal': 1, 'characteristic': 1, 'invite': 1, 'make': 1, 'web-based': 1, 'vignette': 1, 'individual': 1, 'train': 1, 'policy': 1, 'reminder': 1, 'flow': 1, 'chart': 1, 'send': 1, 'mail': 1, 'several': 1, 'week': 1, 'meeting.the': 1, 'main': 1, 'outcome': 1, 'measure': 1, 'mim-intervention': 1, 'management': 1, 'both': 1, 'pre-intervention': 1, 'collect': 1, 'post-intervention': 1, 'collection': 1, 'perform': 1, 'nine': 1})\n",
            "100.00% 확률로 비연구 논문입니다.\n",
            "training vocab count 65 Counter({'score': 6, 'match': 6, 'mass': 5, 'model': 5, 'protein': 5, 'base': 4, 'probability': 3, 'the': 3, 'accuracy': 3, 'tandem': 2, 'spectrometry': 2, 'lc-ms/ms': 2, 'use': 2, 'algorithm': 2, 'automate': 2, 'statistical': 2, 'ass': 2, 'peptide': 2, 'database': 2, 'search': 2, 'random': 2, 'also': 2, 'true': 2, 'high': 2, 'positive': 2, 'backgroundliquid': 1, 'chromatography': 1, 'couple': 1, 'become': 1, 'one': 1, 'tool': 1, 'proteomics': 1, 'various': 1, 'since': 1, 'develop': 1, 'process': 1, 'modern': 1, 'high-throughput': 1, 'experiments.resultsa': 1, 'derive': 1, 'represent': 1, 'occurrence': 1, 'number': 1, 'total': 1, 'abundance': 1, 'product': 1, 'ion': 1, 'experimental': 1, 'spectrum': 1, 'calculate': 1, 'thus': 1, 'reflect': 1, 'significance': 1, 'differentiate': 1, 'matches.conclusionthe': 1, 'sensitive': 1, 'implicitly': 1, 'take': 1, 'account': 1, 'reduce': 1, 'false': 1, 'improve': 1, 'incorporate': 1, 'program': 1, 'massmatrix': 1})\n",
            "100.00% 확률로 비연구 논문입니다.\n",
            "training vocab count 54 Counter({'representation': 2, 'biological': 2, 'reason': 2, 'relation': 2, 'propose': 2, 'hierarchy': 2, 'problem': 2, 'ontology': 2, 'backgroundan': 1, 'adequate': 1, 'expressive': 1, 'ontological': 1, 'organism': 1, 'part': 1, 'require': 1, 'formal': 1, 'mechanism': 1, 'physical': 1, 'aggregation': 1, 'containment.resultswe': 1, 'demonstrate': 1, 'formalism': 1, 'allow': 1, 'deal': 1, 'consistently': 1, 'role': 1, 'propagation': 1, 'along': 1, 'non-taxonomic': 1, 'repeatedly': 1, 'identify': 1, 'intricate': 1, 'biomedical': 1, 'ontologies.conclusionthe': 1, 'approach': 1, 'seem': 1, 'suitable': 1, 'redesign': 1, 'compositional': 1, 'bio': 1, 'medical': 1, 'terminology': 1, 'system': 1, 'embed': 1, 'framework': 1, 'obo': 1, 'open': 1, 'use': 1, 'knowledge': 1, 'language': 1, 'develop': 1, 'semantic': 1, 'web': 1, 'community': 1})\n",
            "100.00% 확률로 비연구 논문입니다.\n",
            "training vocab count 111 Counter({'cftr': 5, 'mutation': 4, 'cbavd': 4, 'large': 4, 'rearrangement': 4, 'exon': 4, 'identify': 3, 'detect': 3, 'two': 3, 'whole': 2, 'gene': 2, 'male': 2, 'absence': 2, 'gross': 2, 'dna': 2, 'study': 2, 'one': 2, 'fluorescent': 2, 'pcr': 2, 'fragment': 2, 'backgroundby': 1, 'perform': 1, 'extensive': 1, 'scan': 1, 'cod': 1, 'flank': 1, 'sequence': 1, 'cystic': 1, 'fibrosis': 1, 'transmembrane': 1, 'conductance': 1, 'regulator': 1, 'previously': 1, 'point': 1, '167': 1, '182': 1, '91.7': 1, 'isolate': 1, 'congenital': 1, 'bilateral': 1, 'va': 1, 'deferens': 1, 'conventional': 1, 'pcr-based': 1, 'method': 1, 'analysis': 1, 'lesion': 1, 'look': 1, 'within': 1, 'locus': 1, 'patient': 1, 'mutation.methodswe': 1, 'develop': 1, 'semi-quantitative': 1, 'assay': 1, 'sqf-pcr': 1, 'rely': 1, 'comparison': 1, 'profile': 1, 'multiplex': 1, 'obtain': 1, 'different': 1, 'sample': 1, 'confirm': 1, 'alteration': 1, 'junction': 1, 'amplification': 1, 'breakpoints': 1, 'direct': 1, 'sequencing.resultswe': 1, 'genomic': 1, 'heterozygous': 1, 'deletion': 1, 'encompass': 1, 'c.54-5811_c.164+2186del8108ins182': 1, 'cftrdele2': 1, 'remove': 1, 'c.3964-3890_c.4443+3143del9454ins5': 1, 'cftrdele': 1, '22_24': 1, 'carry': 1, 'typical': 1, 'parental': 1, 'allele': 1, 'present': 1, 'first': 1, 'bioinformatic': 1, 'tool': 1, 'phase': 1, 'help': 1, 'rename': 1, 'nomenclature': 1, 'small': 1, 'accord': 1, 'international': 1, 'recommendation': 1, 'predict': 1, 'consequence': 1, 'open': 1, 'read': 1, 'frame.conclusionidentification': 1, 'expand': 1, 'mutational': 1, 'spectrum': 1, 'systematically': 1, 'investigate': 1, 'design': 1, 'simple': 1, 'test': 1, 'specifically': 1, 'presence': 1})\n",
            "100.00% 확률로 비연구 논문입니다.\n",
            "training vocab count 97 Counter({'hospital': 8, 'bfhi': 7, 'policy': 6, 'implementation': 4, 'barrier': 3, 'study': 3, 'public': 3, 'show': 2, 'implement': 2, 'breastfeed': 2, 'rat': 2, 'article': 2, 'empirical': 2, 'new': 2, 'zealand': 2, 'communicate': 2, 'staff': 2, 'provide': 2, 'interview': 2, 'theme': 2, 'development': 2, 'complex': 2, 'backgroundstudies': 1, 'baby': 1, 'friendly': 1, 'initiative': 1, 'increase': 1, 'however': 1, 'likely': 1, 'various': 1, 'this': 1, 'report': 1, 'government-directed': 1, 'system': 1, 'focus': 1, 'primarily': 1, 'encounter': 1, 'first': 1, 'two': 1, 'step': 1, 'develop': 1, 'necessary': 1, 'training.methodsqualitative': 1, 'data': 1, 'collect': 1, 'six': 1, 'lactation': 1, 'consultant': 1, 'these': 1, 'interviewee': 1, 'emerge': 1, 'via': 1, 'purposive': 1, 'sample': 1, 'represent': 1, 'full': 1, 'range': 1, 'use': 1, 'content': 1, 'analysis': 1, 'technique': 1, 'key': 1, 'draw': 1, 'transcribe': 1, 'data.resultsanalysis': 1, 'reveal': 1, 'eight': 1, 'vary': 1, 'stag': 1, 'necessarily': 1, 'base': 1, 'government': 1, 'differ': 1, 'way': 1, 'dependent': 1, 'resource': 1, 'factor': 1, 'outside': 1, 'control': 1, 'impact': 1, 'capacity': 1, 'improve': 1, 'organisational': 1, 'matter': 1, 'pose': 1, 'educate': 1, 'personnel': 1, 'involve': 1, 'birth': 1, 'process.conclusionthe': 1, 'find': 1, 'support': 1, 'prior': 1, 'process': 1, 'the': 1, 'also': 1, 'multi-faceted': 1})\n",
            "100.00% 확률로 비연구 논문입니다.\n",
            "training vocab count 97 Counter({'mortality': 4, 'air': 4, 'pollution': 4, 'general': 3, 'population': 3, 'the': 3, 'associate': 2, 'study': 2, 'may': 2, 'concentration': 2, 'daily': 2, 'result': 2, 'matter': 2, 'pm10': 2, 'ppb': 2, 'increase': 2, 'year': 2, 'elderly': 2, 'objectivethe': 1, 'estimate': 1, 'rate': 1, 'ambient': 1, 'base': 1, 'representative': 1, 'effect': 1, 'certain': 1, 'subgroup': 1, 'objective': 1, 'present': 1, 'determine': 1, 'influence': 1, 'relatively': 1, 'high': 1, 'sample': 1, 'elderly.study': 1, 'designdaily': 1, 'time-series': 1, 'analyse': 1, 'test': 1, 'association': 1, 'seven': 1, 'chilean': 1, 'urban': 1, 'center': 1, '1997–2003': 1, 'adjust': 1, 'day': 1, 'week': 1, 'humidex.resultsdaily': 1, 'average': 1, 'particulate': 1, 'aerodynamic': 1, '84.88': 1, 'μg/m3': 1, 'sulfur': 1, 'dioxide': 1, '14.08ppb': 1, 'carbon': 1, 'monoxide': 1, '1.29': 1, '1-hr': 1, 'maximum': 1, 'ozone': 1, '100.13': 1, 'percentage': 1, 'nonaccidental': 1, 'equivalent': 1, 'mean': 1, '4.53': 1, 't-ratio': 1, '1.52': 1, '14.03': 1, '3.87': 1, 'respective': 1, 'value': 1, '4.96': 1, '1.17': 1, '8.56': 1, '2.02': 1, '4.77': 1, '2.50': 1, '7.92': 1, '3.23': 1, 'so2': 1, '4.10': 1, '2.52': 1, '8.58': 1, '4.45': 1, 'co.conclusionour': 1, 'suggest': 1, 'particularly': 1, 'susceptible': 1, 'die': 1, 'deem': 1, 'acceptable': 1, 'adequately': 1, 'protect': 1})\n",
            "99.99% 확률로 비연구 논문입니다.\n",
            "training vocab count 112 Counter({'dendritic': 5, 'exposure': 4, 'growth': 4, 'pcbs': 3, 'deficit': 3, 'developmental': 3, 'pcb': 3, 'increase': 3, 'child': 2, 'neuropsychological': 2, 'alter': 2, 'neuronal': 2, 'connectivity': 2, 'hypothesis': 2, 'examine': 2, 'day': 2, 'vehicle': 2, 'analyse': 2, 'even': 2, 'observe': 2, 'demonstrate': 2, 'objectiveperinatal': 1, 'polychlorinated': 1, 'biphenyls': 1, 'associate': 1, 'decrease': 1, 'score': 1, 'impair': 1, 'learn': 1, 'memory': 1, 'psychomotor': 1, 'difficulty': 1, 'attentional': 1, 'postulate': 1, 'reflect': 1, 'pattern': 1, 'test': 1, 'effect': 1, 'growth.methodsrat': 1, 'dam': 1, 'gavaged': 1, 'gestational': 1, 'postnatal': 1, 'pnd': 1, 'corn': 1, 'oil': 1, 'commercial': 1, 'mixture': 1, 'aroclor': 1, '1254': 1, 'mg/kg/day': 1, 'molecular': 1, 'marker': 1, 'pup': 1, 'development.resultsgolgi': 1, 'ca1': 1, 'hippocampal': 1, 'pyramidal': 1, 'neuron': 1, 'cerebellar': 1, 'purkinge': 1, 'cell': 1, 'indicate': 1, 'cause': 1, 'pronounce': 1, 'age-related': 1, 'thus': 1, 'though': 1, 'length': 1, 'significantly': 1, 'attenuate': 1, 'pcb-treated': 1, 'animal': 1, 'pnd22': 1, 'rate': 1, 'accelerate': 1, 'late': 1, 'age': 1, 'pnd60': 1, 'comparable': 1, 'exceed': 1, 'control': 1, 'quantitative': 1, 'reverse': 1, 'transcriptase': 1, 'polymerase': 1, 'chain': 1, 'reaction': 1, 'pnd4': 1, 'pnd21': 1, 'generally': 1, 'expression': 1, 'spinophilin': 1, 'rc3/neurogranin': 1, 'mrna': 1, 'hippocampus': 1, 'cerebellum': 1, 'cortex': 1, 'significant': 1, 'cortex.conclusionsthis': 1, 'study': 1, 'ontogenetic': 1, 'profile': 1, 'dendritogenesis': 1, 'critical': 1, 'brain': 1, 'region': 1, 'support': 1, 'disruption': 1, 'contribute': 1, 'see': 1, 'expose': 1})\n",
            "99.96% 확률로 비연구 논문입니다.\n",
            "training vocab count 99 Counter({'group': 15, 'child': 13, 'concentration': 8, 'intelligence': 6, 'exposure': 5, 'low': 5, 'fluoride': 5, '0.05': 5, 'study': 4, 'score': 4, 'μg/l': 4, 'high-as': 4, 'control': 4, 'high': 4, 'test': 3, 'effect': 3, 'the': 3, 'expose': 3, 'medium-as': 3, 'affect': 3, 'arsenic': 2, 'drink': 2, 'water': 2, 'investigate': 2, 'rural': 2, 'china': 2, 'mg/l': 2, 'standardize': 2, 'use': 2, 'determine': 2, 'lung': 2, 'capacity': 2, 'mean': 2, '101': 2, 'high-fluoride': 2, 'growth': 2, 'backgroundrecently': 1, 'cross-sectional': 1, '201': 1, 'araihazar': 1, 'bangladesh': 1, 'show': 1, 'measure': 1, 'intellectual': 1, 'function': 1, 'adjustment': 1, 'sociodemographic': 1, 'features.objectiveswe': 1, 'growth.methodswe': 1, 'report': 1, 'result': 1, '720': 1, 'year': 1, 'age': 1, 'village': 1, 'shanyin': 1, 'county': 1, 'shanxi': 1, 'province': 1, '142': 1, '106': 1, '190': 1, '183': 1, 'compare': 1, '0.5': 1, '0.2': 1, '8.3': 1, '1.9': 1, 'also': 1, 'include': 1, 'common': 1, 'occurrence': 1, 'elevate': 1, 'groundwater': 1, 'area': 1, 'quotient': 1, 'modify': 1, 'base': 1, 'classic': 1, 'raven': 1, 'measurement': 1, 'procedure': 1, 'weight': 1, 'height': 1, 'chest': 1, 'circumference': 1, 'growth.resultsthe': 1, 'decrease': 1, '105': 1, '0.01': 1, 'significantly': 1, 'different': 1, 'tall': 1, 'weigh': 1, '.conclusionschildren': 1, 'among': 1, 'four': 1, 'significant': 1, 'indicate': 1})\n",
            "99.99% 확률로 비연구 논문입니다.\n",
            "training vocab count 83 Counter({'hnrnp': 8, 'rna': 5, 'hiv-1': 4, 'expression': 4, 'protein': 4, 'rev': 4, 'process': 3, 'end': 3, 'viral': 3, 'reduction': 3, 'splice': 2, 'export': 2, 'translation': 2, 'mrna': 2, 'require': 2, 'level': 2, 'pre-mrna': 1, 'include': 1, 'cap': 1, 'cleavage/polyadenylation': 1, 'event': 1, 'coordinate': 1, 'transcription': 1, 'influence': 1, 'subsequent': 1, 'coordination': 1, 'crucial': 1, 'retrovirus': 1, 'inefficient': 1, 'intron-containing': 1, 'full': 1, 'complement': 1, 'affect': 1, 'cellular': 1, 'study': 1, 'demonstrate': 1, 'member': 1, 'family': 1, 'modulate': 1, 'metabolism': 1, 'show': 1, 'e1/e2': 1, 'able': 1, 'interact': 1, 'ess3a': 1, 'element': 1, 'bipartite': 1, 'es': 1, 'tat/rev': 1, 'exon': 1, 'modulation': 1, 'alter': 1, 'structural': 1, 'synthesis': 1, 'overexpression': 1, 'lead': 1, 'achieve': 1, 'part': 1, 'decrease': 1, 'however': 1, 'fully': 1, 'account': 1, 'effect': 1, 'suggest': 1, 'hmrnp': 1, 'might': 1, 'also': 1, 'act': 1, 'suppress': 1, 'deletion': 1, 'mutagenesis': 1, 'determine': 1, 'c-terminal': 1, 'replace': 1, 'portion': 1, 'despite': 1, 'high': 1, 'degree': 1, 'conservation': 1, 'could': 1, 'rescue': 1, 'loss': 1, 'function': 1})\n",
            "98.96% 확률로 비연구 논문입니다.\n",
            "training vocab count 66 Counter({'use': 8, 'family': 4, 'paper': 3, 'method': 3, 'group': 3, 'bga': 3, 'different': 3, 'three': 3, 'two': 3, 'change': 2, 'identify': 2, 'residue': 2, 'test': 2, 'case': 2, 'consist': 2, 'functional': 2, 'analyse': 2, 'visualise': 2, 'number': 2, 'class': 2, 'backgroundproteins': 1, 'evolve': 1, 'common': 1, 'ancestor': 1, 'functionality': 1, 'time': 1, 'important': 1, 'able': 1, 'cause': 1, 'show': 1, 'supervise': 1, 'multivariate': 1, 'statistical': 1, 'between': 1, 'analysis': 1, 'protein': 1, 'substrate': 1, 'specifities': 1, 'multiple': 1, 'sequence': 1, 'alignments.resultswe': 1, 'demonstrate': 1, 'usefulness': 1, 'lactate/malate': 1, 'dehydrogenase': 1, 'nucleotidyl': 1, 'cyclases': 1, 'the': 1, 'serine': 1, 'protease': 1, 'encode': 1, 'scheme': 1, 'amino': 1, 'acids.conclusionthis': 1, 'overall': 1, 'combination': 1, 'powerful': 1, 'flexible': 1, 'computationally': 1, 'fast': 1, 'simple': 1, 'especially': 1, 'useful': 1, 'example': 1, 'demonstration': 1, 'purpose': 1})\n",
            "100.00% 확률로 비연구 논문입니다.\n",
            "training vocab count 96 Counter({'gene': 10, 'time': 7, 'data': 7, 'sample': 7, 'method': 7, 'algorithm': 6, 'expression': 6, 'series': 5, 'unevenly': 5, 'periodically': 4, 'express': 4, 'use': 4, 'new': 3, 'base': 3, 'periodogram': 3, 'detect': 3, 'lomb-scargle': 3, 'spectral': 3, 'estimation': 3, 'challenge': 2, 'microarray': 2, 'identify': 2, 'length': 2, 'evenly': 2, 'classical': 2, 'fourier': 2, 'apply': 2, 'periodic': 2, 'propose': 2, 'the': 2, 'signal': 2, 'space': 2, 'show': 2, 'effective': 2, 'backgroundperiodogram': 1, 'analysis': 1, 'time-series': 1, 'widespread': 1, 'biology': 1, 'analyze': 1, 'such': 1, 'occur': 1, 'due': 1, 'fact': 1, 'observe': 1, 'usually': 1, 'exhibit': 1, 'non-idealities': 1, 'noise': 1, 'short': 1, 'point': 1, 'most': 1, 'literature': 1, 'operate': 1, 'suitable': 1, 'series.resultsfor': 1, 'often': 1, 'recently': 1, 'however': 1, 'since': 1, 'assume': 1, 'single': 1, 'stationary': 1, 'sinusoid': 1, 'wave': 1, 'infinite': 1, 'support': 1, 'introduce': 1, 'spurious': 1, 'component': 1, 'finite': 1, 'paper': 1, 'reconstruction': 1, 'shift-invariant': 1, 'direct': 1, 'procedure': 1, 'develop': 1, 'b-spline': 1, 'basis': 1, 'experiment': 1, 'simulate': 1, 'noisy': 1, 'profile': 1, 'superior': 1, 'plasmodium': 1, 'falciparum': 1, 'yeast': 1, 'result': 1, 'able': 1, 'biologically': 1, 'meaningful': 1, 'genes.conclusionwe': 1, 'also': 1, 'tool': 1, 'interpolation': 1, 'resampling': 1})\n",
            "100.00% 확률로 비연구 논문입니다.\n",
            "training vocab count 17 Counter({'draw': 1, 'experience': 1, 'gain': 1, 'ongoing': 1, 'research': 1, 'mali': 1, 'paper': 1, 'describe': 1, 'practical': 1, 'ethical': 1, 'challenge': 1, 'relate': 1, 'achievement': 1, 'valid': 1, 'consent': 1, 'genomic': 1, 'epidemiology': 1})\n",
            "100.00% 확률로 비연구 논문입니다.\n",
            "training vocab count 16 Counter({'ronald': 1, 'colleague': 1, 'discus': 1, 'differential': 1, 'diagnosis': 1, 'management': 1, 'patient': 1, 'present': 1, 'recurrent': 1, 'episode': 1, 'chest': 1, 'discomfort': 1, 'palpitation': 1, 'labile': 1, 'blood': 1, 'pressure': 1})\n",
            "100.00% 확률로 비연구 논문입니다.\n",
            "training vocab count 131 Counter({'alcohol': 11, 'policy': 7, 'score': 6, 'consumption': 5, 'country': 5, 'index': 5, 'the': 4, 'estimate': 3, 'strength': 3, 'analysis': 3, 'per': 3, 'regulation': 2, 'policymakers': 2, 'control': 2, 'relationship': 2, 'reveal': 2, 'backgroundalcohol': 1, 'cause': 1, 'global': 1, 'disease': 1, 'burden': 1, 'prompt': 1, 'goverments': 1, 'impose': 1, 'mitigate': 1, 'adverse': 1, 'effect': 1, 'assist': 1, 'public': 1, 'health': 1, 'leader': 1, 'author': 1, 'develop': 1, 'composite': 1, 'indicator—the': 1, 'index—to': 1, 'gauge': 1, 'policies.methods': 1, 'findingsthe': 1, 'generate': 1, 'base': 1, 'five': 1, 'regulatory': 1, 'domains—physical': 1, 'availability': 1, 'drink': 1, 'context': 1, 'price': 1, 'advertise': 1, 'operation': 1, 'motor': 1, 'vehicle': 1, 'apply': 1, 'compose': 1, 'organization': 1, 'economic': 1, 'cooperation': 1, 'development': 1, 'regression': 1, 'use': 1, 'examine': 1, 'caput': 1, 'attain': 1, 'median': 1, '42.4': 1, 'possible': 1, '100': 1, 'point': 1, 'range': 1, '14.5': 1, 'luxembourg': 1, '67.3': 1, 'norway': 1, 'strong': 1, 'negative': 1, 'correlation': 1, '−0.57': 1, '0.001': 1, '10-point': 1, 'increase': 1, 'associate': 1, 'one-liter': 1, 'decrease': 1, 'absolute': 1, 'person': 1, 'year': 1, 'confidence': 1, 'interval': 1, '0.4–1.5': 1, 'sensitivity': 1, 'demonstrate': 1, 'robustness': 1, 'show': 1, 'rank': 1, 'remain': 1, 'relatively': 1, 'stable': 1, 'response': 1, 'variation': 1, 'methodological': 1, 'assumptions.conclusionsthe': 1, 'vary': 1, 'widely': 1, 'among': 1, 'locate': 1, 'europe': 1, 'asia': 1, 'north': 1, 'america': 1, 'australia': 1, 'study': 1, 'clear': 1, 'inverse': 1, 'provide': 1, 'straightforward': 1, 'tool': 1, 'facilitate': 1, 'international': 1, 'comparison': 1, 'addition': 1, 'help': 1, 'review': 1, 'strengthen': 1, 'exist': 1, 'aim': 1, 'minimize': 1, 'alcohol-related': 1, 'harm': 1, 'likely': 1, 'impact': 1, 'change': 1})\n",
            "100.00% 확률로 비연구 논문입니다.\n",
            "training vocab count 15 Counter({'alcohol': 2, 'policy': 2, 'alison': 1, 'ritter': 1, 'discus': 1, 'pro': 1, 'con': 1, 'new': 1, 'metric': 1, 'call': 1, 'index': 1, 'design': 1, 'allow': 1, 'comparison': 1, 'country': 1})\n",
            "100.00% 확률로 비연구 논문입니다.\n",
            "training vocab count 121 Counter({'injection': 5, 'execution': 5, 'lethal': 5, 'current': 4, 'thiopental': 4, 'death': 4, 'potassium': 3, 'chloride': 3, 'anesthesia': 3, 'cardiac': 3, 'north': 3, 'carolina': 3, 'california': 3, 'protocol': 2, 'practice': 2, 'drug': 2, 'intend': 2, 'arrest': 2, 'analyze': 2, 'effect': 2, 'suggest': 2, 'might': 2, 'induce': 2, 'indicate': 2, 'reliably': 2, 'backgroundlethal': 1, 'conceive': 1, 'comparatively': 1, 'humane': 1, 'alternative': 1, 'electrocution': 1, 'cyanide': 1, 'gas': 1, 'the': 1, 'base': 1, 'one': 1, 'improvise': 1, 'medical': 1, 'examiner': 1, 'anesthesiologist': 1, 'oklahoma': 1, 'hoc': 1, 'basis': 1, 'discretion': 1, 'prison': 1, 'personnel': 1, 'each': 1, 'use': 1, 'ultrashort-acting': 1, 'barbiturate': 1, 'neuromuscular': 1, 'blocker': 1, 'pancuronium': 1, 'bromide': 1, 'electrolyte': 1, 'expect': 1, 'alone': 1, 'combination': 1, 'produce': 1, 'due': 1, 'respiratory': 1, 'seek': 1, 'determine': 1, 'whether': 1, 'regimen': 1, 'result': 1, 'manner': 1, 'intended.methods': 1, 'findingswe': 1, 'data': 1, 'two': 1, 'state': 1, 'release': 1, 'information': 1, 'well': 1, 'publish': 1, 'clinical': 1, 'laboratory': 1, 'veterinary': 1, 'animal': 1, 'experience': 1, 'outcome': 1, 'together': 1, 'interspecies': 1, 'dosage': 1, 'scale': 1, 'fatal': 1, 'insufficient': 1, 'surgical': 1, 'duration': 1, 'furthermore': 1, 'evidence': 1, 'virginia': 1, 'arrest.conclusionswe': 1, 'able': 1, 'limit': 1, 'number': 1, 'however': 1, 'find': 1, 'may': 1, 'mechanism': 1, 'failure': 1, 'design': 1, 'implementation': 1, 'fail': 1, 'cause': 1, 'potentially': 1, 'aware': 1, 'inmate': 1, 'could': 1, 'die': 1, 'pancuronium-induced': 1, 'asphyxiation': 1, 'thus': 1, 'conventional': 1, 'view': 1, 'lead': 1, 'invariably': 1, 'peaceful': 1, 'painless': 1, 'questionable': 1})\n",
            "81.58% 확률로 비연구 논문입니다.\n",
            "training vocab count 107 Counter({'sequence': 8, 'gene': 6, 'alignment': 6, 'promoter': 5, 'regulatory': 4, 'expression': 3, 'multiple': 3, 'approach': 3, 'region': 3, 'factor': 3, 'similar': 2, 'basic': 2, 'annotate': 2, 'element': 2, 'result': 2, 'nucleotide': 2, 'transcription': 2, 'algorithm': 2, 'conservation': 2, 'tf-map': 2, 'detect': 2, 'backgroundthe': 1, 'analysis': 1, 'pattern': 1, 'tool': 1, 'common': 1, 'basis': 1, 'comparative': 1, 'the': 1, 'characterization': 1, 'co-expressed': 1, 'level': 1, 'however': 1, 'yield': 1, 'satisfactory': 1, 'many': 1, 'occasion': 1, 'share': 1, 'program': 1, 'often': 1, 'show': 1, 'conservation.resultsin': 1, 'recent': 1, 'circumvent': 1, 'limitation': 1, 'propose': 1, 'align': 1, 'map': 1, 'predict': 1, 'refer': 1, 'tf-maps': 1, 'instead': 1, 'two': 1, 'relate': 1, 'take': 1, 'account': 1, 'label': 1, 'correspond': 1, 'position': 1, 'primary': 1, 'extend': 1, 'permit': 1, 'comparison': 1, 'use': 1, 'progressive': 1, 'paradigm': 1, 'addition': 1, 'non-collinear': 1, 'block': 1, 'might': 1, 'identify': 1, 'optimize': 1, 'parameter': 1, 'small': 1, 'well-characterized': 1, 'collection': 1, 'human-mouse-chicken-zebrafish': 1, 'orthologous': 1, 'promoters.conclusionresults': 1, 'dataset': 1, 'indicate': 1, 'able': 1, 'high-level': 1, \"3'utr\": 1, 'typical': 1, 'three': 1, 'particular': 1, 'example': 1, 'introduce': 1, 'illustrate': 1, 'power': 1, 'characterize': 1, 'conserve': 1, 'absence': 1, 'similarity': 1, 'consider': 1, 'kind': 1, 'extremely': 1, 'useful': 1, 'future': 1, 'potential': 1, 'bind': 1, 'sit': 1, 'set': 1, 'co-regulated': 1, 'high-throughput': 1, 'experiment': 1})\n",
            "99.99% 확률로 비연구 논문입니다.\n",
            "training vocab count 88 Counter({'rna': 8, 'dna': 7, 'nascent': 6, 'intron': 6, 'template': 5, 'dr.': 5, 'r-loop': 3, 'benefit': 3, 'formation': 3, 'spatial': 3, 'may': 3, 'structure': 2, 'addition': 2, 'complementarity': 2, 'juxtaposition': 2, 'the': 2, 'avoid': 2, 'group': 2, 'r-loops': 2, 'gene': 2, 'nominate': 2, 'backgroundaccumulating': 1, 'evidence': 1, 'indicate': 1, 'invade': 1, 'pair': 1, 'one': 1, 'strand': 1, 'form': 1, 'threaten': 1, 'stability': 1, 'genome': 1, 'cost': 1, 'still': 1, 'debate.resultsat': 1, 'least': 1, 'three': 1, 'factor': 1, 'likely': 1, 'require': 1, 'sequence': 1, 'target': 1, 'accessibility': 1, 'removal': 1, 'pre-mrna': 1, 'reduce': 1, 'secondary': 1, 'act': 1, 'obstacle': 1, 'nearby': 1, 'exon': 1, 'genomic': 1, 'dna.conclusionorganisms': 1, 'deleterious': 1, 'potential': 1, 'contribution': 1, 'drive': 1, 'evolution': 1, 'discus': 1, 'propose': 1, 'additional': 1, 'polymerase': 1, 'inhibit': 1, 'precede': 1, 'this': 1, 'idea': 1, 'lead': 1, 'testable': 1, 'prediction': 1, 'intermittently': 1, 'transcribe': 1, 'frequently': 1, 'prolong': 1, 'transcription': 1, 'high': 1, 'density.reviewersthis': 1, 'article': 1, 'review': 1, 'eugene': 1, 'koonin': 1, 'alexei': 1, 'fedorov': 1, 'laura': 1, 'landweber': 1, 'scott': 1, 'roy': 1, 'arcady': 1, 'mushegian': 1})\n",
            "100.00% 확률로 비연구 논문입니다.\n",
            "training vocab count 37 Counter({'artery': 3, 'chest': 2, 'drain': 2, 'insertion': 2, 'coronary': 2, 'bypass': 2, 'standard': 2, 'procedure': 2, 'result': 2, 'backgroundalthough': 1, 'graft': 1, 'fairly': 1, 'however': 1, 'may': 1, 'extremely': 1, 'rare': 1, 'complications.case': 1, 'presentationthis': 1, 'first': 1, 'case': 1, 'report': 1, 'demonstrate': 1, 'pseudoaneurysm': 1, 'superior': 1, 'epigastric': 1, 'follow': 1, 'grafting.conclusionadequate': 1, 'caution': 1, 'use': 1, 'along': 1, 'good': 1, 'understand': 1, 'anatomical': 1, 'landmark': 1, 'apparently': 1, 'simple': 1, 'operative': 1})\n",
            "100.00% 확률로 비연구 논문입니다.\n",
            "training vocab count 98 Counter({'the': 6, 'beam': 5, 'accuracy': 5, 'measurement': 4, 'film': 4, 'annual': 3, 'mechanical': 3, 'needle': 3, 'profile': 3, 'deviation': 3, 'acceptance': 2, 'test': 2, 'quality': 2, 'assurance': 2, 'leksell': 2, 'gamma': 2, 'unit': 2, 'define': 2, 'specification': 2, 'within': 2, 'simple': 2, 'technique': 2, 'use': 2, 'densitometer': 2, 'model': 2, 'two': 2, 'gaussian': 2, 'function': 2, 'one': 2, 'center': 2, 'for': 1, 'distance': 1, 'radiological': 1, 'isocenters': 1, 'pose': 1, 'challenge': 1, 'medical': 1, 'physicist': 1, '0.5': 1, '4‐mm': 1, 'collimator': 1, 'helmet': 1, 'report': 1, 'introduce': 1, 'analyze': 1, 'conventional': 1, 'plus': 1, 'mathematical': 1, 'small': 1, 'piece': 1, 'place': 1, 'inside': 1, 'cassette': 1, 'contain': 1, 'sharp': 1, 'locate': 1, 'tip': 1, 'exactly': 1, 'position': 1, 'isocenter': 1, 'before': 1, 'exposure': 1, 'pierce': 1, 'density': 1, 'measure': 1, 'spatial': 1, 'resolution': 1, '0.8': 1, 'fit': 1, 'radiation': 1, 'field': 1, 'dip': 1, 'cause': 1, 'narrow': 1, 'hole': 1, 'difference': 1, 'direction': 1, '0.032': 1, '0.054': 1, '0.195': 1, 'respectively': 1, 'combine': 1, '0.20': 1, 'well': 1, 'excellent': 1, 'agreement': 1, 'result': 1, 'manufacture': 1, 'laser': 1, 'this': 1, 'provide': 1, 'accurate': 1, 'practical': 1, 'tool': 1, 'unit.pacs': 1, 'number': 1, '87.66.–a': 1, '87.53.–j': 1})\n",
            "100.00% 확률로 비연구 논문입니다.\n",
            "training vocab count 70 Counter({'strip': 4, 'insert': 4, 'shape': 3, 'electron': 3, 'field': 3, 'custom': 3, 'applicator': 3, 'placement': 3, 'lead': 2, 'block': 2, 'use': 2, 'treatment': 2, 'top': 2, 'dosimetric': 2, 'level': 2, 'many': 2, 'cerrobend': 1, 'appropriate': 1, 'available': 1, 'for': 1, 'varian': 1, '2100c': 1, 'accelerator': 1, 'structural': 1, 'support': 1, 'impede': 1, 'free': 1, 'field‐shaping': 1, 'open': 1, 'frame': 1, 'unimpeded': 1, 'investigate': 1, 'ramification': 1, 'place': 1, '15×15': 1, 'mev': 1, 'our': 1, 'result': 1, 'demonstrate': 1, 'much': 1, 'dose': 1, 'decrease': 1, 'penumbral': 1, 'increase': 1, 'do': 1, 'compare': 1, 'the': 1, 'magnitude': 1, 'error': 1, 'qualify': 1, 'therapeutic': 1, 'misadministration': 1, 'state': 1, 'depend': 1, 'deliver': 1, 'manner': 1, 'base': 1, 'find': 1, 'recommend': 1, 'routine': 1, 'discourage': 1, 'favor': 1, 'due': 1, 'potential': 1, 'inappropriate': 1, 'linear': 1, 'accelerators.pacs': 1, 'number': 1, '87.53.–j': 1, '87.52.–g': 1})\n",
            "100.00% 확률로 비연구 논문입니다.\n",
            "training vocab count 90 Counter({'dose': 9, 'lens': 5, 'gamma': 4, 'treat': 4, 'knife': 3, 'patient': 3, 'stereotactic': 2, 'radiosurgery': 2, 'use': 2, 'cgy': 2, 'prescribe': 2, 'maximum': 2, 'for': 2, 'eye': 2, 'find': 2, 'cataract': 2, 'widely': 1, 'trigeminal': 1, 'neuralgia': 1, 'single': 1, 'large': 1, 'fractional': 1, '7000': 1, '9000': 1, 'commonly': 1, 'treatment': 1, 'reason': 1, 'small': 1, 'percentage': 1, '2–3': 1, 'scatter': 1, 'could': 1, 'reach': 1, 'even': 1, 'exceed': 1, 'tolerance': 1, 'several': 1, 'case': 1, 'leksell': 1, 'plan': 1, 'system': 1, 'calculate': 1, '0.5–2': 1, 'independent': 1, 'shield': 1, 'these': 1, 'value': 1, 'significantly': 1, 'high': 1, 'motivate': 1, 'investigate': 1, 'phantom': 1, 'study': 1, 'vivo': 1, 'dosimetry': 1, 'measurement': 1, 'carry': 1, 'six': 1, 'institution': 1, 'the': 1, 'average': 1, 'ipsilateral': 1, 'nerve': 1, 'measure': 1, '7.7±0.6': 1, 'base': 1, 'biological': 1, 'model': 1, 'lyman': 1, 'emami': 1, 'int': 1, 'radiat': 1, 'oncol': 1, 'biol': 1, 'phys': 1, '109–122': 1, '1991': 1, 'probability': 1, 'complication': 1, 'determine': 1, '0.1': 1, 'our': 1, 'suggest': 1, 'would': 1, 'develop': 1, 'receive': 1, 'radiosurgery.pacs': 1, 'number': 1, '87.53.–j': 1, '87.66.–a': 1})\n",
            "100.00% 확률로 비연구 논문입니다.\n",
            "training vocab count 63 Counter({'dose': 6, 'eud': 6, 'parameter': 4, 'model': 3, 'distribution': 3, 'plan': 3, 'apply': 2, 'imrt': 2, 'large': 2, 'volume': 2, 'linear‐quadratic': 2, 'inhomogeneous': 2, 'use': 2, 'example': 2, 'patient': 2, 'concept': 1, 'equivalent': 1, 'uniform': 1, 'data': 1, 'set': 1, 'intensity': 1, 'modulate': 1, 'radiotherapy': 1, 'treatment': 1, 'method': 1, 'analyze': 1, 'inhomogeneity': 1, 'within': 1, 'tumor': 1, 'for': 1, 'nonuniformity': 1, 'find': 1, 'base': 1, 'sensitive': 1, 'make': 1, 'necessary': 1, 'consider': 1, 'function': 1, 'this': 1, 'complicate': 1, 'analysis': 1, 'provide': 1, 'biological': 1, 'estimate': 1, 'require': 1, 'interpretation': 1, 'single': 1, 'judge': 1, 'present': 1, 'heuristic': 1, 'demonstrate': 1, 'effect': 1, 'associate': 1, 'correlation': 1, 'statistical': 1, 'describe': 1, 'from': 1, 'discus': 1, 'risk': 1, 'incorrectly': 1, 'plans.pacs': 1, 'number': 1, '87.53.tf': 1})\n",
            "100.00% 확률로 비연구 논문입니다.\n",
            "training vocab count 53 Counter({'phantom': 4, 'new': 2, 'design': 2, 'accelerator': 2, 'dose': 2, 'constancy': 2, 'check': 2, 'the': 2, 'cubic': 1, 'improve': 1, 'efficiency': 1, 'measurement': 1, 'variety': 1, 'application': 1, 'depth': 1, 'verification': 1, 'symmetry': 1, 'flatness': 1, 'evaluation': 1, 'particular': 1, 'make': 1, 'much': 1, 'easy': 1, 'perform': 1, 'output': 1, 'vs.': 1, 'gantry': 1, 'angle': 1, 'cylindrical': 1, 'ion': 1, 'chamber': 1, 'position': 1, 'center': 1, 'reproducibility': 1, 'setup': 1, 'use': 1, 'investigate': 1, 'charge': 1, 'effect': 1, 'find': 1, 'insignificant': 1, 'also': 1, 'reduce': 1, 'monthly': 1, 'dosimetric': 1, 'time': 1, 'spend': 1, 'typical': 1, 'multimodality': 1, 'approximately': 1, '.pacs': 1, 'number': 1, '87.66.–a': 1})\n",
            "100.00% 확률로 비연구 논문입니다.\n",
            "training vocab count 105 Counter({'the': 5, 'beam': 4, 'gamma': 3, 'knife™': 3, 'collimator': 3, 'helmet': 3, 'irradiation': 3, 'time': 3, 'calculate': 3, 'treatment': 3, 'gammaplan®': 3, 'obtain': 3, 'tmr': 3, 'reference': 3, 'skull': 3, 'leksell': 2, 'stereotactic': 2, 'use': 2, 'radiation': 2, '201': 2, 'center': 2, 'this': 2, 'paper': 2, 'present': 2, 'plan': 2, 'shoot': 2, 'individual': 2, 'algorithm': 2, 'group': 2, 'point': 2, 'patient': 2, 'isocenter': 2, 'vector': 2, 'coordinate': 2, 'c60o': 1, 'source': 1, 'focus': 1, 'deliver': 1, 'high': 1, 'dose': 1, 'minimal': 1, 'proximal': 1, 'structure': 1, 'method': 1, 'fast': 1, 'verification': 1, 'software': 1, 'one': 1, 'must': 1, 'first': 1, 'accurately': 1, 'tissue': 1, 'maximum': 1, 'ratio': 1, 'begin': 1, 'determination': 1, 'geometrical': 1, 'relationship': 1, 'frame': 1, 'measure': 1, 'build': 1, 'head': 1, 'model': 1, 'simulate': 1, 'geometry': 1, 'during': 1, 'radiosurgery': 1, 'move': 1, 'spatial': 1, 'describe': 1, 'surface': 1, 'convert': 1, 'cartesian': 1, 'polar': 1, 'for': 1, 'three': 1, 'near': 1, 'find': 1, 'rank': 1, 'relative': 1, 'angle': 1, 'depth': 1, 'penetrate': 1, 'via': 1, 'linear': 1, 'interpolation': 1, 'compare': 1, 'calibration': 1, 'setup': 1, 'do': 1, 'spherical': 1, 'radius': 1, 'phantom': 1, 'apply': 1, 'verify': 1, 'version': 1, '5.2': 1, 'result': 1, 'show': 1, 'agree': 1, 'within': 1, '.pacs': 1, 'number': 1, '87.52.–g': 1, '87.66.–a': 1})\n",
            "100.00% 확률로 비연구 논문입니다.\n",
            "training vocab count 90 Counter({'dose': 7, 'model': 7, 'clarkson': 5, 'beam': 5, 'lung': 5, 'mg': 4, 'the': 4, 'treatment': 3, 'system': 3, 'distribution': 3, 'inhomogeneity': 3, 'phantom': 3, 'slab': 3, 'comparison': 3, 'plan': 2, 'rtp': 2, 'tissue': 2, 'photon': 2, 'compare': 2, 'benchmark': 2, 'density': 2, 'therapeutic': 1, 'evaluation': 1, 'often': 1, 'base': 1, 'examine': 1, 'radiotherapy': 1, 'target': 1, 'surround': 1, 'normal': 1, 'structure': 1, 'study': 1, 'effect': 1, 'focus': 1, 'measurement‐based': 1, 'model‐based': 1, 'multigrid': 1, 'superposition': 1, 'algorithm': 1, 'monte': 1, 'carlo': 1, 'code': 1, 'set': 1, 'heterogeneous': 1, 'mimic': 1, 'relevant': 1, 'clinical': 1, 'sit': 1, 'include': 1, 'lung‐bone': 1, 'bone‐lung': 1, 'mediastinum': 1, 'tumor': 1, 'geometry': 1, 'perform': 1, '0.20': 1, '0.31g/cm3': 1, 'bone': 1, '2.40g/cm3': 1, '5×5cm2': 1, '10×10cm2,6−': 1, '15‐mv': 1, 'result': 1, 'show': 1, 'match': 1, 'good': 1, 'accurate': 1, 'unlike': 1, 'predict': 1, 'build‐down': 1, 'build‐up': 1, 'near': 1, 'interface': 1, 'penumbra': 1, 'broaden': 1, 'associate': 1, 'high': 1, 'energy': 1, 'overestimate': 1, 'maximum': 1, 'suggest': 1, 'turning‐off': 1, 'effective': 1, 'path': 1, 'length': 1, 'correction': 1, 'treatments.pacs': 1, 'number': 1, '87.53.–j': 1, '87.53.bn': 1})\n",
            "99.97% 확률로 비연구 논문입니다.\n",
            "training vocab count 68 Counter({'use': 4, 'cm': 4, 'algorithm': 4, 'calculation': 3, 'focus': 3, 'anthropomorphic': 2, 'phantom': 2, 'data': 2, 'clarkson': 2, 'superposition': 2, 'model': 2, 'convolution': 2, 'treatment': 2, 'plan': 2, 'diode': 2, 'predict': 2, 'dose': 2, 'this': 1, 'study': 1, 'compute': 1, 'tomography': 1, 'set': 1, 'evaluate': 1, 'monitor': 1, 'unit': 1, 'multigrid': 1, 'fft': 1, 'adac': 1, 'pinnacle': 1, 'collapse': 1, 'cone': 1, 'heterogeneity': 1, 'correction': 1, 'correspond': 1, 'generate': 1, 'several': 1, 'typical': 1, 'clinical': 1, 'situation': 1, 'detector': 1, 'place': 1, 'compare': 1, 'measure': 1, 'difference': 1, 'measurement': 1, 'within': 1, 'reasonable': 1, 'level': 1, 'acceptability': 1, 'recommend': 1, 'van': 1, 'dyk': 1, 'int': 1, 'rad': 1, 'onc': 1, 'biol': 1, 'phys': 1, '261–273': 1, '1993': 1, 'except': 1, 'delivery': 1, 'intend': 1, 'chest': 1, 'wall': 1, 'fields.pacs': 1, 'number': 1, '87.53.bn': 1, '87.53.dq': 1})\n",
            "100.00% 확률로 비연구 논문입니다.\n",
            "training vocab count 32 Counter({'energy': 4, 'chamber': 2, 'response': 2, 'measurement': 2, 'device': 1, 'describe': 1, 'use': 1, 'confirm': 1, 'constancy': 1, 'clinical': 1, 'electron': 1, 'beam': 1, 'wedge': 1, 'shape': 1, 'absorber': 1, 'place': 1, 'ionization': 1, 'lead': 1, 'dependent': 1, 'filter': 1, 'divide': 1, 'air': 1, 'correct': 1, 'inherent': 1, 'dependence': 1, 'nearly': 1, 'linear': 1, 'demonstrated.pacs': 1, 'number': 1, '87.52.–g': 1, '87.53.–j': 1, '87.66.–a': 1})\n",
            "100.00% 확률로 비연구 논문입니다.\n",
            "training vocab count 55 Counter({'surface': 4, 'could': 4, 'zero': 3, 'gantry': 3, 'angle': 3, 'important': 3, 'good': 3, 'the': 3, 'actual': 2, 'degree': 2, 'mechanical': 2, 'quality': 2, 'assurance': 2, 'real': 2, 'locate': 2, 'define': 2, 'direction': 2, 'indicate': 2, 'axis': 2, 'technique': 2, 'find': 1, 'order': 1, 'perform': 1, 'linear': 1, 'accelerator': 1, 'determine': 1, 'must': 1, 'plane': 1, 'head': 1, 'perpendicular': 1, 'radiation': 1, 'vertical': 1, 'plumb': 1, 'bob': 1, 'beam': 1, 'position': 1, 'place': 1, 'central': 1, 'shadow': 1, 'from': 1, 'apply': 1, 'check': 1, 'readout': 1, 'introduce': 1, 'solve': 1, 'essential': 1, 'problem': 1, 'traditional': 1, 'well': 1, 'take': 1, 'role': 1, 'patient': 1, 'treatment.pacs': 1, 'number': 1, '87.56.–v': 1})\n",
            "100.00% 확률로 비연구 논문입니다.\n",
            "training vocab count 50 Counter({'cylinder': 3, 'method': 2, 'check': 2, 'treatment': 2, 'hdr': 2, 'the': 2, 'plan': 2, 'present': 1, 'time': 1, 'calculation': 1, 'high': 1, 'dose': 1, 'rate': 1, 'vaginal': 1, 'represent': 1, 'independent': 1, 'system': 1, 'take': 1, 'account': 1, 'nonuniform': 1, 'isodose': 1, 'line': 1, 'coverage': 1, 'around': 1, 'only': 1, 'air': 1, 'kerma': 1, 'strength': 1, 'source': 1, 'information': 1, 'available': 1, 'write': 1, 'directive': 1, 'require': 1, 'maximum': 1, 'discrepancy': 1, 'representative': 1, 'set': 1, 'do': 1, 'nucletron': 1, 'unit': 1, 'work': 1, 'html': 1, 'javascript': 1, 'program': 1, 'include': 1, 'appendix.pacs': 1, 'number': 1, '87.53.–j': 1, '87.90.+y': 1})\n",
            "100.00% 확률로 비연구 논문입니다.\n",
            "training vocab count 117 Counter({'diode': 14, 'p‐type': 6, 'high‐energy': 6, 'use': 5, 'isorad': 5, 'energy': 4, 'range': 4, 'response': 4, 'the': 3, 'treatment': 3, 'beam': 3, 'dose': 3, 'parameter': 3, 'report': 2, 'vivo': 2, 'dosimetry': 2, 'radiation': 2, 'paper': 2, 'one': 2, 'single': 2, 'buildup': 2, 'qed': 2, 'low‐': 2, 'intermediate‐': 2, 'type': 2, 'find': 2, 'read': 2, 'clinical': 2, 'detector': 2, 'field': 2, '15–25': 2, 'patient': 2, 'aapm': 1, 'task': 1, 'group': 1, 'identify': 1, 'major': 1, 'deviation': 1, 'delivery': 1, 'therapy': 1, 'investigate': 1, 'feasibility': 1, 'perform': 1, 'entire': 1, 'radiotherapeutic': 1, 'regardless': 1, 'intrinsic': 1, 'material': 1, 'requirement': 1, 'selection': 1, 'would': 1, 'choose': 1, 'adequate': 1, 'build': 1, 'measure': 1, 'high': 1, 'test': 1, 'new': 1, 'sun': 1, 'nuclear': 1, 'corporation': 1, 'call': 1, 'isorad‐p–both': 1, 'clinically': 1, 'monitor': 1, 'entrance': 1, 'general': 1, 'close': 1, 'expect': 1, 'set': 1, 'newly': 1, 'available': 1, 'respect': 1, 'certain': 1, 'source‐to‐surface': 1, 'distance': 1, 'size': 1, 'wedge': 1, 'modifier': 1, 'well': 1, 'affect': 1, 'characteristic': 1, 'temperature': 1, 'detector‐beam': 1, 'orientation': 1, 'characterize': 1, '1–4': 1, '6–12': 1, 'our': 1, 'result': 1, 'show': 1, 'total': 1, 'variation': 1, 'within': 1, 'encounter': 1, 'setup': 1, 'megavoltage': 1, 'photon': 1, 'radiotherapy': 1, 'usage': 1, 'additional': 1, 'benefit': 1, 'amplify': 1, 'case': 1, 'wrong': 1, 'light': 1, 'since': 1, 'switch': 1, 'namely': 1, 'red': 1, 'manufacturer': 1, 'designation': 1, 'institution': 1, 'satellites.pacs': 1, 'number': 1, '87.66.–a': 1, '87.53.–j': 1})\n",
            "100.00% 확률로 비연구 논문입니다.\n",
            "training vocab count 128 Counter({'care': 9, 'hcps': 9, 'health': 5, 'professional': 5, 'disease': 5, 'sars': 4, 'outbreak': 4, 'duty': 4, 'cod': 3, 'issue': 3, 'provide': 3, 'pandemic': 3, 'obligation': 3, 'right': 3, 'responsibility': 3, 'expose': 2, 'system': 2, 'aftermath': 2, 'public': 2, 'severely': 2, 'risk': 2, 'organization': 2, 'ethic': 2, 'communicable': 2, 'expect': 2, 'ought': 2, 'infectious': 2, 'press': 2, 'paper': 2, 'need': 2, 'backgroundas': 1, 'number': 1, 'commentator': 1, 'note': 1, 'vulnerability': 1, 'governance': 1, 'structure': 1, 'hospital': 1, 'bore': 1, 'brunt': 1, 'continue': 1, 'struggle': 1, 'crisis': 1, 'indeed': 1, 'clinical': 1, 'test': 1, 'unprecedented': 1, 'demand': 1, 'place': 1, 'skill': 1, 'expertise': 1, 'personal': 1, 'commitment': 1, 'profession': 1, 'try': 1, 'many': 1, 'serious': 1, 'morbidity': 1, 'mortality': 1, 'evidence': 1, 'world': 1, 'figure': 1, 'show': 1, 'approximately': 1, 'report': 1, 'case': 1, 'among': 1, 'die': 1, 'infection': 1, 'despite': 1, 'challenge': 1, 'silent': 1, 'thus': 1, 'guidance': 1, 'approach': 1, 'face': 1, 'risk.discussionin': 1, 'spectre': 1, 'avian': 1, 'influenza': 1, 'imperative': 1, 'consider': 1, 'patient': 1, 'severe': 1, 'particularly': 1, 'pose': 1, 'importance': 1, 'represent': 1, 'give': 1, 'clear': 1, 'indication': 1, 'standard': 1, 'member': 1, 'event': 1, 'address': 1, 'special': 1, 'argue': 1, 'clarify': 1, 'current': 1, 'context': 1, 'flu': 1, 'preparedness': 1, 'codify': 1, 'finally': 1, 'present': 1, 'brief': 1, 'historical': 1, 'account': 1, 'treatment': 1, 'ethics.summaryan': 1, 'honest': 1, 'critical': 1, 'examination': 1, 'role': 1, 'order': 1, 'guideline': 1, 'regard': 1, 'well': 1, 'ethical': 1, 'with': 1, 'hope': 1, 'open': 1, 'social': 1, 'dialogue': 1, 'advance': 1, 'debate': 1, 'increasingly': 1, 'urgent': 1})\n",
            "100.00% 확률로 비연구 논문입니다.\n",
            "training vocab count 94 Counter({'haplotype': 7, 'infection': 6, 'vaccine': 4, 'frequency': 4, 'allele': 4, 'msp-119': 4, 'genetic': 3, 'antigen': 3, 'determine': 3, 'mix': 3, 'use': 3, 'haplotype-estimating': 3, 'algorithm': 3, 'provide': 3, 'accurate': 3, 'estimate': 3, 'follow': 2, 'polymorphic': 2, 'method': 2, 'monitor': 2, 'diversity': 2, 'present': 2, '351': 2, 'contain': 2, 'backgroundmalaria': 1, 'efficacy': 1, 'may': 1, 'compromise': 1, 'non-target': 1, 'increase': 1, 'vaccination': 1, 'genetically': 1, 'target': 1, 'need': 1, 'variant': 1, 'infect': 1, 'individual': 1, 'complicate': 1, 'frequent': 1, 'occurrence': 1, 'infections.methodspyrosequencing': 1, 'six': 1, 'single': 1, 'nucleotide': 1, 'polymorphism': 1, 'plasmodium': 1, 'falciparum': 1, 'blood-stage': 1, 'merozoite': 1, 'surface': 1, 'protein': 1, 'kda': 1, 'field': 1, 'sample': 1, 'vaccine-testing': 1, 'site': 1, 'mali': 1, 'mixture': 1, 'clone': 1, 'create': 1, 'validate': 1, 'maximum': 1, 'likelihood': 1, 'probable': 1, 'combination': 1, 'give': 1, 'know': 1, 'circulate': 1, 'population.resultsfourteen': 1, 'unique': 1, 'identify': 1, 'among': 1, 'genotyped': 1, 'after': 1, 'adjustment': 1, 'standard': 1, 'curve': 1, 'pyrosequencing': 1, 'precise': 1, 'the': 1, 'three': 1, 'base': 1, 'locus': 1, 'approximately': 1, 'two': 1, 'few': 1, 'haplotypes.conclusionpyrosequencing': 1, 'conjunction': 1, 'parasite': 1, 'population': 1, 'prior': 1, 'introduction': 1, 'msp-1-based': 1, 'malaria': 1})\n",
            "100.00% 확률로 비연구 논문입니다.\n",
            "training vocab count 121 Counter({'data': 11, 'analysis': 11, 'expresso': 10, 'tm4': 8, 'normalization': 7, 'the': 6, 'miv': 6, 'microarray': 5, 'gene': 5, 'statistical': 5, 'result': 5, 'input': 4, 'intensity': 4, 'differentially': 4, 'express': 4, 'iiv': 4, 'use': 4, 'qrt-pcr': 4, 'two': 3, 'step': 3, 'experiment': 3, 'design': 3, 'choice': 3, 'filter': 3, 'pipeline': 3, 'value': 3, 'spot': 2, 'scanner': 2, 'software': 2, 'return': 2, 'model': 2, 'experimental': 2, 'complement': 2, 'number': 2, 'method': 2, 'compare': 2, 'identify': 2, 'correct': 2, 'systematic': 2, 'bias': 2, 'best': 2, 'agreement': 2, 'backgroundanalysis': 1, 'dna': 1, 'take': 1, 'measurement': 1, 'differential': 1, 'expression': 1, 'condition': 1, 'together': 1, 'significance': 1, 'assessment': 1, 'this': 1, 'process': 1, 'typically': 1, 'consist': 1, 'identification': 1, 'management': 1, 'system': 1, 'implement': 1, 'two-stage': 1, 'log-linear': 1, 'anova': 1, 'mix': 1, 'technique': 1, 'tailor': 1, 'individual': 1, 'tool': 1, 'hand': 1, 'base': 1, 'preset': 1, 'limit': 1, 'flexibility': 1, 'suite': 1, 'form': 1, 'compute': 1, 'integrate': 1, 'average': 1, 'pixel': 1, 'count': 1, 'contrast': 1, 'either': 1, 'median': 1, 'here': 1, 'ass': 1, 'data.resultsthe': 1, 'consistently': 1, 'typical': 1, 'intensity-specific': 1, 'per': 1, 'basis': 1, 'subsequent': 1, 't-test': 1, 'effectively': 1, 'obtain': 1, 'data.conclusionthe': 1, 'research': 1, 'practical': 1, 'biologist': 1, 'analyze': 1, 'set': 1, 'microarray-specific': 1, 'stage': 1, 'one': 1, 'good': 1, 'yield': 1, 'great': 1, 'statistically': 1, 'significant': 1, 'support': 1, 'overall': 1, 'flexible': 1, 'extensive': 1, 'achieve': 1, 'accurate': 1, 'analytical': 1, 'judge': 1, 'yardstick': 1, 'context': 1, 'modest': 1, 'complexity': 1})\n",
            "100.00% 확률로 비연구 논문입니다.\n",
            "training vocab count 77 Counter({'functional': 5, 'use': 3, 'gene': 3, 'expression': 3, 'computationally': 3, 'factor': 3, 'genomics': 3, 'data': 2, 'biological': 2, 'function': 2, 'profile': 2, 'challenge': 2, 'approach': 2, 'correlation': 2, 'analysis': 2, 'model': 2, 'algorithm': 2, 'genome-wide': 2, 'predictive': 2, 'performance': 2, 'method': 2, 'discus': 2, 'incorporate': 2, 'improve': 2, 'backgroundexpression': 1, 'array': 1, 'predict': 1, 'uncharacterized': 1, 'compare': 1, 'characterize': 1, 'while': 1, 'biologically': 1, 'plausible': 1, 'statistically': 1, 'typical': 1, 'expensive': 1, 'ignore': 1, 'among': 1, 'categories.resultswe': 1, 'propose': 1, 'fam': 1, 'give': 1, 'two-step': 1, 'yeast': 1, 'subset': 1, 'gene-ontology': 1, 'process': 1, 'annotation': 1, 'show': 1, 'comparable': 1, 'current': 1, 'best': 1, 'total': 1, 'computation': 1, 'time': 1, 'fast': 1, '4000': 1, 'unique': 1, 'evaluation': 1, 'finally': 1, 'extension': 1, 'inherent': 1, 'structure': 1, 'category': 1, 'performance.conclusionour': 1, 'efficient': 1, 'technique': 1, 'provide': 1, 'clear': 1, 'unify': 1, 'statistical': 1, 'framework': 1, 'potential': 1, 'important': 1, 'ontology': 1, 'information': 1, 'prediction': 1})\n",
            "100.00% 확률로 비연구 논문입니다.\n",
            "training vocab count 108 Counter({'gene': 11, 'motif': 7, 'expression': 6, 'set': 5, 'regulatory': 4, 'cis-elements': 3, 'promoter': 3, 'data': 3, 'significance': 3, 'identify': 3, 'work': 2, 'simultaneously': 2, 'model': 2, 'biclique': 2, 'bipartite': 2, 'graph': 2, 'genomic': 2, 'statistical': 2, 'associate': 2, 'annotate': 2, 'bicliques': 2, 'function': 2, 'new': 2, 'statistic': 2, 'sav': 2, 'backgroundmodeling': 1, 'upstream': 1, 'region': 1, 'challenge': 1, 'computational': 1, 'problem': 1, 'present': 1, 'suitably': 1, 'define': 1, 'biologically': 1, 'meaningful': 1, 'co-occurrence': 1, 'multiple': 1, 'ass': 1, 'combine': 1, 'analysis': 1, 'great': 1, 'share': 1, 'common': 1, 'exhibit': 1, 'highly': 1, 'correlate': 1, 'give': 1, 'experimental': 1, 'conditions.methodsxcisclique': 1, 'system': 1, 'develop': 1, 'comprehensive': 1, 'infrastructure': 1, 'genome': 1, 'know': 1, 'regular': 1, 'maximal': 1, 'gene-motif': 1, 'rank': 1, 'base': 1, 'compute': 1, 'probability': 1, 'occurrence': 1, 'hypergeometric': 1, 'distribution': 1, 'sum': 1, 'absolute': 1, 'value': 1, 'use': 1, 'spearman': 1, 'correlation': 1, 'vector': 1, 'well-suited': 1, 'purpose': 1, 'describe': 1, 'discussion.resultsxcisclique': 1, 'combination': 1, 'might': 1, 'indicate': 1, 'yet': 1, 'unidentified': 1, 'involvement': 1, 'biological': 1, 'process': 1, 'currently': 1, 'support': 1, 'arabidopsis': 1, 'thaliana': 1, 'adapt': 1, 'organism': 1, 'assume': 1, 'existence': 1, 'sequence': 1, 'suitable': 1, 'subset': 1, 'xcis': 1, 'clique': 1, 'functionality': 1, 'include': 1, 'visualization': 1, 'component': 1, 'motifsee': 1, 'source': 1, 'code': 1, 'supplementary': 1, 'material': 1, 'available': 1})\n",
            "100.00% 확률로 비연구 논문입니다.\n",
            "training vocab count 79 Counter({'network': 14, 'centrality': 7, 'biological': 6, 'element': 6, 'different': 5, 'measure': 4, 'centibin': 3, 'interaction': 2, 'rank': 2, 'importance': 2, 'within': 2, 'central': 2, 'example': 2, 'exploration': 2, 'compute': 2, 'direct': 2, 'support': 2, 'available': 2, 'application': 2, 'backgroundthe': 1, 'elucidation': 1, 'whole-cell': 1, 'regulatory': 1, 'metabolic': 1, 'generate': 1, 'need': 1, 'meaningful': 1, 'analysis': 1, 'accord': 1, 'structure': 1, 'focus': 1, 'concept': 1, 'find': 1, 'essential': 1, 'viability.resultscentibin': 1, 'tool': 1, 'computation': 1, 'protein-protein': 1, 'undirected': 1, 'range': 1, 'local': 1, 'consider': 1, 'neighbourhood': 1, 'global': 1, 'distribution': 1, 'visualise': 1, 'provide': 1, 'several': 1, 'layout': 1, 'mechanism': 1, 'automatic': 1, 'generation': 1, 'graphical': 1, 'representation': 1, 'input': 1, 'format': 1, 'especially': 1, 'export': 1, 'tools.conclusioncentibin': 1, 'help': 1, 'system': 1, 'biology': 1, 'researcher': 1, 'identify': 1, 'crucial': 1, 'include': 1, 'user': 1, 'guide': 1, 'data': 1, 'set': 1, 'free': 1, 'charge': 1, 'two': 1, 'version': 1, 'java': 1, 'web': 1, 'start': 1, 'installable': 1, 'window': 1})\n",
            "100.00% 확률로 비연구 논문입니다.\n",
            "training vocab count 72 Counter({'malaria': 6, 'infection': 3, 'asymptomatic': 3, 'observe': 2, 'santiago': 2, 'outbreak': 2, 'island': 2, 'investigate': 2, 'maintain': 2, 'population': 2, 'backgroundmalaria': 1, 'come': 1, 'near': 1, 'eradication': 1, 'archipelago': 1, 'cabo': 1, 'verde': 1, '1970': 1, 'occur': 1, 'consider': 1, 'international': 1, 'community': 1, 'limit': 1, 'risk': 1, 'therefore': 1, 'prophylaxis': 1, 'recommend': 1, 'since': 1, 'understand': 1, 'factor': 1, 'determine': 1, 'crucial': 1, 'control': 1, 'disease': 1, 'present': 1, 'study': 1, 'aim': 1, 'isolate': 1, 'focus': 1, 'individuals.methodsthe': 1, 'occurrence': 1, 'carrier': 1, 'village': 1, 'history': 1, 'well': 1, 'level': 1, 'exposure': 1, 'use': 1, 'pcr': 1, 'serological': 1, 'analyses.resultsresults': 1, 'indicate': 1, 'sub-patent': 1, 'majority': 1, 'circulate': 1, 'parasite': 1, 'harbour': 1, 'chloroquine-resistant': 1, 'mutations.conclusionthese': 1, 'observation': 1, 'highlight': 1, 'alarm': 1, 'prospect': 1, 'become': 1, 'serious': 1, 'public': 1, 'health': 1, 'problem': 1, 'underscore': 1, 'need': 1, 'tight': 1, 'surveillance': 1})\n",
            "100.00% 확률로 비연구 논문입니다.\n",
            "training vocab count 139 Counter({'malaria': 12, 'health': 7, 'itns': 6, 'irs': 5, 'case': 5, 'use': 4, 'roll': 3, 'back': 3, 'data': 3, 'community': 3, 'net': 3, 'management': 3, '2004': 3, 'morbidity': 3, 'public': 2, 'one': 2, 'eritrea': 2, 'study': 2, 'impact': 2, 'programme': 2, '2000–2004': 2, 'survey': 2, 'household': 2, 'coverage': 2, 'annual': 2, 'ass': 2, 'period': 2, 'approximately': 2, 'distribute': 2, 'agent': 2, 'year': 2, 'the': 2, 'rise': 2, 'increase': 2, 'amount': 2, 'ddt': 2, 'malathion': 2, 'population': 2, 'protect': 2, 'fatality': 2, 'backgroundmalaria': 1, 'huge': 1, 'problem': 1, 'africa': 1, 'responsible': 1, 'million': 1, 'death': 1, 'annually': 1, 'line': 1, 'initiative': 1, 'abuja': 1, 'declaration': 1, 'african': 1, 'country': 1, 'intensify': 1, 'fight': 1, 'this': 1, 'examine': 1, 'effect': 1, 'possible': 1, 'interaction': 1, 'intervention': 1, 'use.methodsthis': 1, 'employ': 1, 'cross-sectional': 1, 'collect': 1, 'facility': 1, 'usage': 1, 'insecticide-treated': 1, 'indoor': 1, 'residual': 1, 'spray': 1, 'larvicidal': 1, 'activity': 1, 'comparative': 1, 'obtain': 1, 'similar': 1, 'carry': 1, '2001': 1, 'information': 1, 'system': 1, 'hmis': 1, 'report': 1, 'assessment': 1, 'national': 1, 'control': 1, 'time': 1, 'series': 1, 'model': 1, 'arima': 1, 'association.resultsin': 1, '874,000': 1, '13,109': 1, 'worker': 1, 'train': 1, 'own': 1, 'least': 1, '58.6': 1, 'child': 1, '0–5': 1, 'sleep': 1, 'proportion': 1, 'manage': 1, '1999': 1, 'combine': 1, '6,444': 1, '2000': 1, '43,491': 1, '117,017': 1, '259,420': 1, 'drug': 1, 'resistance': 1, 'necessitate': 1, 'regimen': 1, 'change': 1, 'chloroquine': 1, 'plus': 1, 'sulfadoxine-pyrimethamine': 1, 'during': 1, 'steep': 1, 'decline': 1, 'respectively': 1, 'strongly': 1, 'correlate': 1, 'number': 1, '-0.125': 1, '0.005': 1, '-2.352': 1, '0.05': 1, 'correlation': 1, 'rainfall': 1, 'statistically': 1, 'significant.conclusioneritrea': 1, 'within': 1, 'attain': 1, 'key': 1, 'target': 1, 'contribute': 1, 'reduce': 1})\n",
            "99.99% 확률로 비연구 논문입니다.\n",
            "training vocab count 144 Counter({'cocktail': 8, 'gm-csf': 7, 'lineage': 6, 'population': 6, 'data': 5, 'circulate': 4, 'dc': 4, 'include': 4, 'antibody': 4, 'negative': 4, 'mhc': 4, 'class': 4, 'putative': 4, 'subset': 3, 'use': 3, 'define': 3, 'positive': 3, 'cd14': 3, 'alternate': 3, 'yield': 3, 'blood': 2, 'cell': 2, 'biological': 2, 'factor': 2, 'anti-cd14': 2, 'flow': 2, 'cytometry': 2, 'highly': 2, 'gate': 2, 'strategy': 2, 'identification': 2, 'increase': 2, 'expression': 2, 'alternative': 2, 'either': 2, 'standard': 2, 'contain': 2, 'normal': 2, 'donor': 2, 'cancer': 2, 'patient': 2, 'administration': 2, 'enumerate': 2, 'set': 2, 'post': 2, 'consistent': 2, 'result': 2, 'backgroundenumeration': 1, 'peripheral': 1, 'dendritic': 1, 'complicate': 1, 'absence': 1, 'unique': 1, 'surface': 1, 'marker': 1, 'express': 1, 'various': 1, 'adjuvant': 1, 'modulate': 1, 'compartment': 1, 'granulocyte': 1, 'macrophage': 1, 'colony': 1, 'stimulate': 1, 'common': 1, 'method': 1, 'employ': 1, 'typically': 1, 'report': 1, 'protocol': 1, 'variable': 1, 'criterion': 1, 'appreciation': 1, 'pleiomorphism': 1, 'biology': 1, 'recognition': 1, 'lead': 1, 'consider': 1, 'improve': 1, 'pool.methodsstandard': 1, 'whole': 1, 'stain': 1, 'appropriate': 1, 'fluorochrome': 1, 'conjugate': 1, 'cd66acde': 1, 'perform': 1, 'sample': 1, 'obtain': 1, 'breast': 1, 'dose-dense': 1, 'cytotoxic': 1, 'chemotherapy': 1, 'daily': 1, 'hematopoetic': 1, 'growth': 1, 'support': 1, 'difference': 1, 'evaluate': 1, 'two': 1, 'tail': 1, 'mann-whitney': 1, 'wilcoxon': 1, 'sign': 1, 'rank': 1, 'test': 1, 'cellular': 1, 'morphology': 1, 'examine': 1, 'cell-sorted': 1, 'samples.resultsuse': 1, 'comparably': 1, 'size': 1, 'baseline': 1, 'however': 1, 'selection': 1, 'level': 1, 'large': 1, 'identify': 1, 'both': 1, 'reproducible': 1, 'homogenous': 1, 'le': 1, 'variation': 1, 'across': 1, 'uniform': 1, 'concordant': 1, 'longitudinal': 1, 'establish': 1, 'activity.conclusionan': 1, 'substitute': 1, 'anti-cd66': 1, 'viable': 1, 'option': 1, 'potentially': 1, 'accurately': 1, 'pool': 1, 'immature': 1, 'thus': 1, 'may': 1, 'give': 1, 'reliable': 1, 'particularly': 1, 'sustain': 1})\n",
            "99.58% 확률로 비연구 논문입니다.\n",
            "training vocab count 89 Counter({'population': 4, 'approach': 3, 'demonstrate': 3, 'ancient': 3, 'use': 2, 'demographic': 2, 'parameter': 2, 'dna': 2, 'bottleneck': 2, 'rodent': 2, 'ctenomys': 2, 'conservation': 2, 'evolutionary': 2, 'implication': 2, 'genetic': 2, 'speciation': 2, 'female': 2, 'our': 2, 'specie': 2, 'first': 1, 'application': 1, 'approximate': 1, 'bayesian': 1, 'computation': 1, 'serial': 1, 'coalescent': 1, 'estimation': 1, 'historical': 1, 'estimate': 1, 'time': 1, 'severity': 1, 'endemic': 1, 'subterranean': 1, 'sociabilis': 1, 'last': 1, '10,000': 1, 'two': 1, 'cave': 1, 'sit': 1, 'northern': 1, 'patagonia': 1, 'argentina': 1, 'understand': 1, 'important': 1, 'biology': 1, 'include': 1, 'maintenance': 1, 'variation': 1, 'inbreeding': 1, 'fixation': 1, 'mildly': 1, 'deleterious': 1, 'allele': 1, 'loss': 1, 'adaptive': 1, 'potential': 1, 'process': 1, 'impact': 1, 'influence': 1, 'small': 1, 'founder': 1, 'effect': 1, 'find': 1, 'decrease': 1, 'effective': 1, 'size': 1, '95,231': 1, 'le': 1, '300': 1, '2,890': 1, 'present': 1, '99.7': 1, 'decline': 1, 'study': 1, 'persistence': 1, 'depauperate': 1, 'diversity': 1, 'least': 1, '2,000': 1, 'mode': 1, 'incredibly': 1, 'diverse': 1, 'genus': 1, 'show': 1, 'promise': 1, 'determine': 1, 'historic': 1, 'sample': 1, 'power': 1})\n",
            "100.00% 확률로 비연구 논문입니다.\n",
            "training vocab count 95 Counter({'mutation': 7, 'point': 6, 'structure': 5, 'single': 5, 'rna': 5, 'secondary': 4, 'use': 4, 'category': 3, 'sequence': 2, 'wild': 2, 'type': 2, 'predict': 2, 'the': 2, 'vienna': 2, 'package': 2, 'several': 2, 'base': 2, 'representation': 2, 'tree': 2, 'distance': 2, 'lead': 2, 'conformational': 2, 'rearrangement': 2, 'backgroundrnamute': 1, 'interactive': 1, 'java': 1, 'application': 1, 'calculate': 1, 'give': 1, 'organize': 1, 'accord': 1, 'similarity': 1, 'respect': 1, 'prediction': 1, 'perform': 1, 'alternative': 1, 'categorization': 1, 'rnadistance': 1, 'dot-bracket': 1, 'well': 1, 'edit': 1, 'second': 1, 'eigenvalue': 1, 'laplacian': 1, 'matrix': 1, 'shapiro': 1, 'coarse': 1, 'grain': 1, 'graph': 1, 'representation.resultsselecting': 1, 'one': 1, 'process': 1, 'table': 1, 'list': 1, 'belong': 1, 'select': 1, 'display': 1, 'graphical': 1, 'draw': 1, 'include': 1, 'basic': 1, 'information': 1, 'associate': 1, 'energy': 1, 'rnamute': 1, 'successfully': 1, 'little': 1, 'previous': 1, 'experience': 1, 'without': 1, 'choose': 1, 'parameter': 1, 'value': 1, 'alongside': 1, 'initial': 1, 'run': 1, 'linux': 1, 'operate': 1, 'system.conclusionrnamute': 1, 'user': 1, 'friendly': 1, 'tool': 1, 'case': 1, 'substantial': 1, 'interest': 1, 'notably': 1, 'virology': 1, 'may': 1, 'loss': 1, 'important': 1, 'functionality': 1, 'virus': 1, 'replication': 1, 'translation': 1, 'initiation': 1})\n",
            "100.00% 확률로 비연구 논문입니다.\n",
            "training vocab count 129 Counter({'isolate': 5, 'cqr': 4, 'haplotype': 4, 'falciparum': 3, 'africa': 3, 'pfcrt': 3, 'microsatellite': 3, 'c76/c220': 3, 'south': 2, 'east': 2, 'asia': 2, 'spread': 2, 'parasite': 2, 'ancestral': 2, 'gene': 2, 'carry': 2, 'exon': 2, 'codon': 2, 'cvmnk/a': 2, '125': 2, 'cviet/s': 2, 'type': 2, 'single': 2, 'backgroundbecause': 1, 'dramatic': 1, 'public': 1, 'health': 1, 'impact': 1, 'plasmodium': 1, 'resistance': 1, 'chloroquine': 1, 'document': 1, 'early': 1, 'chloroquine-resistance': 1, 'emerge': 1, 'late': 1, '1950': 1, 'independently': 1, 'america': 1, 'progressively': 1, 'malaria': 1, 'area': 1, 'report': 1, '1970': 1, 'since': 1, 'invade': 1, 'african': 1, 'continent': 1, 'many': 1, 'question': 1, 'remain': 1, 'actual': 1, 'selection': 1, 'process': 1, 'evolution': 1, 'mutant': 1, 'spreading.methodseleven': 1, 'clinical': 1, 'cambodia': 1, '238': 1, 'senegal': 1, 'ivory': 1, 'coast': 1, 'bukina': 1, 'faso': 1, 'mali': 1, 'guinea': 1, 'togo': 1, 'benin': 1, 'niger': 1, 'congo': 1, 'madagascar': 1, 'comoros': 1, 'island': 1, 'tanzania': 1, 'kenya': 1, 'mozambique': 1, 'cameroun': 1, 'gabon': 1, 'collect': 1, 'active': 1, 'case': 1, 'detection': 1, 'survey': 1, '1996': 1, '2001': 1, 'dna': 1, 'extract': 1, 'freeze': 1, 'blood': 1, 'aliquot': 1, 'amplification': 1, '72–76': 1, 'intron': 1, '220': 1, 'marker': 1, 'perform': 1, 'all': 1, 'fragment': 1, 'sequenced.results124': 1, 'sensitive': 1, 'resistant': 1, 'find': 1, 'the': 1, 'show': 1, 'different': 1, 'two': 1, 'namely': 1, 'taaa': 1, 'whatever': 1, 'location': 1, 'time': 1, 'collection.conclusionthose': 1, 'result': 1, 'consistent': 1, 'migration': 1, 'allele': 1, 'this': 1, 'relate': 1, 'importance': 1, 'fitness': 1, 'point': 1, 'protein': 1, 'potential': 1, 'target': 1, 'development': 1, 'new': 1, 'antimalarial': 1, 'drug': 1})\n",
            "99.98% 확률로 비연구 논문입니다.\n",
            "training vocab count 113 Counter({'gene': 6, 'locus': 6, 'rearrangement': 4, 'recombination': 3, 'lymphocyte': 3, 'cell': 3, 'information': 3, 'allow': 3, 'immune': 2, 'diversity': 2, 'specie': 2, 'receptor': 2, 'v-j': 2, 'v-d-j': 2, 'sequence': 2, 'data': 2, 'exist': 2, 'system': 2, 'provide': 2, 'two': 2, 'version': 2, 'homo': 2, 'sapiens': 2, 'mu': 2, 'musculus': 2, 'imgt/geneinfo': 2, 'new': 2, 'analysis': 2, 'available': 2, 'backgroundadaptative': 1, 'repertoire': 1, 'vertebrate': 1, 'generate': 1, 'variable': 1, 'join': 1, 'immunoglobulin': 1, 'these': 1, 'dna': 1, 'level': 1, 'involve': 1, 'signal': 1, 'r': 1, 'whereas': 1, 'many': 1, 'scatter': 1, 'non': 1, 'specialize': 1, 'resource': 1, 'different': 1, 'nomenclature': 1, 'flat': 1, 'file': 1, 'difficult': 1, 'extract.descriptionimgt/geneinfo': 1, 'online': 1, 'user-friendly': 1, 'interface': 1, 'exhaustive': 1, 'result': 1, 'complex': 1, 'mechanism': 1, 'comprise': 1, 'population': 1, 'express': 1, 'respectively': 1, 'the': 1, 'first': 1, 'deal': 1, 'tra': 1, 'trb': 1, 'whose': 1, 'synthesis': 1, 'chain': 1, 'paper': 1, 'present': 1, 'second': 1, 'complete': 1, 'database': 1, 'trg': 1, 'trd': 1, 'along': 1, 'introduction': 1, 'quality': 1, 'control': 1, 'procedure': 1, 'also': 1, 'include': 1, 'functionality': 1, 'four': 1, 'give': 1, 'date': 1, 'informative': 1, 'tool': 1, 'work': 1, 'human': 1, 'mouse': 1, '59,000': 1, 'combination': 1, 'full': 1, 'description': 1, 'freely': 1, '.conclusionimgt/geneinfo': 1, 'spot': 1, 'within': 1, 'computer-mouse': 1, 'click': 1, 'this': 1, 'useful': 1, 'biologist': 1, 'bioinformaticians': 1, 'study': 1, 'application': 1, 'response': 1})\n",
            "100.00% 확률로 비연구 논문입니다.\n",
            "training vocab count 105 Counter({'data': 10, 'color-grid': 5, 'graphical': 5, 'representation': 4, 'application': 4, 'software': 3, 'file': 3, 'find': 2, 'use': 2, 'e.g': 2, 'statistical': 2, 'package': 2, 'the': 2, 'color-grids': 2, 'program': 2, 'jcolorgrid': 2, 'java': 2, 'library': 2, 'render': 2, 'interface': 2, 'text': 2, 'backgroundtwo-dimensional': 1, 'colour': 1, 'effective': 1, 'medium': 1, 'represent': 1, 'three-dimensional': 1, 'two': 1, 'dimension': 1, 'such': 1, 'increase': 1, 'biological': 1, 'science': 1, 'microarray': 1, \"'heat\": 1, 'map': 1, 'bioactivity': 1, 'particularly': 1, 'suit': 1, 'complex': 1, 'set': 1, 'offer': 1, 'alternative': 1, 'include': 1, 'traditional': 1, 'effectiveness': 1, 'lie': 1, 'design': 1, 'introduce': 1, 'standard': 1, 'customizable': 1, 'currently': 1, 'capable': 1, 'generate': 1, 'limit': 1, 'advance': 1, 'custom': 1, 'micro-array': 1, 'analysis': 1, 'tool': 1, 'often': 1, 'associate': 1, 'steep': 1, 'learn': 1, 'curve': 1, 'require': 1, 'expert': 1, 'knowledge.resultshere': 1, 'describe': 1, 'platform': 1, 'independent': 1, 'graphic': 1, 'command-line': 1, 'parameter': 1, 'viewer': 1, 'title': 1, 'label': 1, 'input': 1, 'tab-delimited': 1, 'microsoft': 1, 'excel': 1, 'spreadsheet': 1, 'setting': 1, 'specify': 1, 'configuration': 1, 'allow': 1, 'user': 1, 'exploration': 1, 'well': 1, 'mean': 1, 'automatically': 1, 'part': 1, 'research': 1, 'pipelines.conclusionthe': 1, 'test': 1, 'window': 1, 'mac': 1, 'linux': 1, 'operate': 1, 'system': 1, 'binary': 1, 'executables': 1, 'source': 1, 'available': 1, 'download': 1})\n",
            "100.00% 확률로 비연구 논문입니다.\n",
            "training vocab count 108 Counter({'polymer': 10, 'software': 7, 'mass': 6, 'bio-': 5, 'perform': 4, 'framework': 4, 'chemistry': 4, 'spectrometry': 3, 'the': 3, 'data': 3, 'use': 3, 'tool': 3, 'different': 3, 'variety': 2, 'require': 2, 'hypothesis': 2, 'three': 2, 'this': 2, 'simulation': 2, 'spectrometric': 2, 'module': 2, 'single': 2, 'calculation': 2, 'edit': 2, 'sequence': 2, 'backgroundnowadays': 1, 'analyze': 1, 'detail': 1, 'interpretation': 1, 'spectrum': 1, 'huge': 1, 'number': 1, 'cycle': 1, 'comprise': 1, 'follow': 1, 'action': 1, 'put': 1, 'forth': 1, 'structural': 1, 'test': 1, 'validate': 1, 'time-consuming': 1, 'painstaking': 1, 'scrutiny': 1, 'alleviate': 1, 'specialize': 1, 'however': 1, 'available': 1, 'date': 1, 'chemistry-specific': 1, 'impose': 1, 'heavy': 1, 'overhead': 1, 'researcher': 1, 'type': 1, 'analyse': 1, 'develop': 1, 'address': 1, 'lack': 1, 'integrate': 1, 'able': 1, 'deal': 1, 'chemistries.resultsthe': 1, 'gnu': 1, 'polyxmass': 1, 'common': 1, 'chemical': 1, 'simulations–along': 1, 'simultaneous': 1, 'calculations–for': 1, 'kind': 1, 'linear': 1, 'bio-polymeric': 1, 'analyte': 1, 'dna': 1, 'rna': 1, 'saccharide': 1, 'protein': 1, 'organize': 1, 'accessible': 1, 'one': 1, 'binary': 1, 'program': 1, 'let': 1, 'user': 1, 'define': 1, 'brand': 1, 'new': 1, 'quick': 1, 'desktop': 1, 'calculator': 1, 'paradigm': 1, 'graphically': 1, 'chemical/mass': 1, 'any': 1, 'aspect': 1, 'reaction': 1, 'graphical': 1, 'configurable.conclusionthe': 1, 'scientist': 1, 'characterize': 1, 'polymeric': 1, 'analytes': 1, 'provide': 1, 'prediction/analysis': 1, 'need': 1, 'whatever': 1, 'involve': 1})\n",
            "100.00% 확률로 비연구 논문입니다.\n",
            "training vocab count 92 Counter({'model': 4, 'parameter': 4, 'use': 3, 'computational': 3, 'time': 3, 'numerical': 3, 'rbfn': 3, 'search': 3, 'require': 2, 'optimization': 2, 'method': 2, 'estimation': 2, 'integration': 2, 'stiff': 2, 'solution': 2, 'increase': 2, 'technique': 2, 'biochemical': 2, 'obtain': 2, 'backgroundthe': 1, 'dynamic': 1, 'system': 1, 'estimate': 1, 'kinetic': 1, 'experimentally': 1, 'measure': 1, 'time-courses': 1, 'conventional': 1, 'global': 1, 'e.g': 1, 'genetic': 1, 'algorithm': 1, 'consume': 1, 'enormous': 1, 'iterative': 1, 'differential': 1, 'equation': 1, 'when': 1, 'target': 1, 'reach': 1, 'further.resultsin': 1, 'attempt': 1, 'solve': 1, 'problem': 1, 'explore': 1, 'learn': 1, 'radial': 1, 'basis': 1, 'function': 1, 'network': 1, 'achieve': 1, 'reduce': 1, 'number': 1, 'replace': 1, 'derivative': 1, 'slop': 1, 'derive': 1, 'distribution': 1, 'point': 1, 'introduce': 1, 'slight': 1, 'bias': 1, 'implement': 1, 'additional': 1, 'data': 1, 'selection': 1, 'data-sparse': 1, 'area': 1, 'low': 1, 'cost': 1, 'addition': 1, 'adopt': 1, 'logarithmic': 1, 'transformation': 1, 'smooth': 1, 'fitness': 1, 'surface': 1, 'simply': 1, 'conduct': 1, 'experiment': 1, 'validate': 1, 'compare': 1, 'result': 1, 'ga.': 1, 'find': 1, 'calculation': 1, 'decrease': 1, 'convergence': 1, 'rate': 1, '.conclusionin': 1, 'work': 1, 'effective': 1})\n",
            "100.00% 확률로 비연구 논문입니다.\n",
            "training vocab count 83 Counter({'tree': 11, 'gene': 10, 'simplification': 7, 'tool': 4, 'specie': 3, 'simplify': 3, 'leave': 3, 'may': 2, 'large': 2, 'present': 2, 'summarize': 2, 'monophyla': 2, 'misplace': 2, 'step': 2, 'study': 2, 'backgroundin': 1, 'genomic': 1, 'age': 1, 'contain': 1, 'amount': 1, 'data': 1, 'make': 1, 'hard': 1, 'read': 1, 'understand': 1, 'therefore': 1, 'automate': 1, 'important.resultswe': 1, 'call': 1, 'treesimplifier': 1, 'base': 1, 'information': 1, 'hugo': 1, 'name': 1, 'these': 1, 'correspond': 1, 'subtrees': 1, 'evolution': 1, 'follow': 1, 'phylogeny': 1, 'single': 1, 'such': 1, 'fail': 1, 'example': 1, 'due': 1, 'way': 1, 'identify': 1, 'optionally': 1, 'gloss': 1, 'limit': 1, 'degree': 1, 'paraphyly': 1, 'group': 1, 'treat': 1, 'equivalent': 1, 'use': 1, 'derive': 1, '397': 1, '1138': 1, 'compare': 1, 'cartoon': 1, 'create': 1, 'manually': 1, 'note': 1, 'agree': 1, 'high': 1, 'degree.conclusionour': 1, 'automatic': 1, 'fast': 1, 'accurate': 1, 'effective': 1, 'yield': 1, 'result': 1, 'similar': 1, 'quality': 1, 'manual': 1, 'valuable': 1, 'phylogenetic': 1, 'protein': 1, 'family': 1, 'the': 1, 'software': 1, 'available': 1})\n",
            "100.00% 확률로 비연구 논문입니다.\n",
            "training vocab count 81 Counter({'virus': 12, 'viral': 8, 'genus': 7, 'probe': 7, 'the': 5, 'detection': 4, 'emerge': 3, 'sequence': 3, 'available': 3, 'use': 3, 'identity': 3, 'determine': 3, 'signal': 3, 'strategy': 3, 'method': 2, 'specific': 2, 'know': 2, 'infection': 2, 'identify': 2, 'conserve': 2, 'uncharacterized': 2, 'sample': 2, 'base': 2, 'hybridization': 2, 'directly': 2, 'identification': 2, 'database': 2, 'backgroundmost': 1, 'gear': 1, 'towards': 1, 'single': 1, 'target': 1, 'lack': 1, 'capability': 1, 'uncover': 1, 'novel': 1, 'cause': 1, 'address': 1, 'issue': 1, 'develop': 1, 'computational': 1, 'level': 1, 'genome': 1, 'genbank': 1, 'establish': 1, 'library': 1, 'also': 1, 'discern': 1, 'ones.resultsusing': 1, 'microarray': 1, 'approach': 1, 'test': 1, 'species-specific': 1, 'exist': 1, 'classification': 1, 'procedure': 1, 'result': 1, 'rapid': 1, 'virus.conclusionwe': 1, 'demonstrate': 1, 'validity': 1, 'feasibility': 1, 'small': 1, 'number': 1, 'design': 1, 'algorithm': 1, 'apply': 1, 'publicly': 1, 'separate': 1, 'specie': 1, 'set': 1, 'enable': 1, 'straightforward': 1, 'calculation': 1, 'our': 1, 'great': 1, 'potential': 1, 'diagnosis': 1, 'associate': 1, 'summary': 1, 'table': 1})\n",
            "100.00% 확률로 비연구 논문입니다.\n"
          ],
          "name": "stdout"
        }
      ]
    },
    {
      "cell_type": "code",
      "metadata": {
        "colab": {
          "base_uri": "https://localhost:8080/"
        },
        "id": "Y8ERvnCEm8FQ",
        "outputId": "8329e3e7-411f-4da5-b255-b32176aa233d"
      },
      "source": [
        "print(suc_cnt, no_cnt, suc_cnt/(suc_cnt+no_cnt))"
      ],
      "execution_count": null,
      "outputs": [
        {
          "output_type": "stream",
          "text": [
            "100 0 1.0\n"
          ],
          "name": "stdout"
        }
      ]
    },
    {
      "cell_type": "code",
      "metadata": {
        "id": "jNZwBYafm792"
      },
      "source": [
        ""
      ],
      "execution_count": null,
      "outputs": []
    }
  ]
}